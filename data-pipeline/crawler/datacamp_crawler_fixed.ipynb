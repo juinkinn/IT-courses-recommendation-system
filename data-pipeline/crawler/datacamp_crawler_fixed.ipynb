{
  "cells": [
    {
      "cell_type": "markdown",
      "metadata": {},
      "source": [
        "# DataCamp Course Crawler\n",
        "\n",
        "This notebook crawls course data from DataCamp, first collecting course names and URLs, then fetching detailed descriptions for each course."
      ]
    },
    {
      "cell_type": "code",
      "execution_count": 14,
      "metadata": {},
      "outputs": [],
      "source": [
        "# Install required packages\n",
        "# !pip install selenium beautifulsoup4 tqdm"
      ]
    },
    {
      "cell_type": "code",
      "execution_count": 1,
      "metadata": {},
      "outputs": [],
      "source": [
        "from selenium import webdriver\n",
        "from selenium.webdriver.chrome.service import Service\n",
        "from selenium.webdriver.common.by import By\n",
        "from selenium.webdriver.chrome.options import Options\n",
        "from bs4 import BeautifulSoup\n",
        "import time\n",
        "import csv\n",
        "import random\n",
        "from tqdm import tqdm\n",
        "from urllib.parse import urljoin\n",
        "import pandas as pd\n",
        "\n",
        "# Base URL\n",
        "base_url = \"https://www.datacamp.com/courses-all/page/{}\"\n",
        "\n",
        "# Set up Selenium WebDriver\n",
        "def setup_driver():\n",
        "    chrome_options = Options()\n",
        "    # chrome_options.add_argument(\"--headless\")  # Uncomment to run headlessly\n",
        "    chrome_options.add_argument(\"--disable-gpu\")\n",
        "    chrome_options.add_argument(\"--no-sandbox\")\n",
        "    chrome_options.add_argument(\"--disable-dev-shm-usage\")\n",
        "    chrome_options.add_argument(\"user-agent=Mozilla/5.0 (Windows NT 10.0; Win64; x64) AppleWebKit/537.36 (KHTML, like Gecko) Chrome/130.0.0.0 Safari/537.36\")\n",
        "    \n",
        "    # service = Service(port=9515)\n",
        "    service = Service()\n",
        "    driver = webdriver.Chrome(service=service, options=chrome_options)\n",
        "    return driver"
      ]
    },
    {
      "cell_type": "code",
      "execution_count": null,
      "metadata": {},
      "outputs": [],
      "source": [
        "# Step 1: Crawl course names and URLs\n",
        "def crawl_course_links(page_num, csv_writer, driver):\n",
        "    driver.execute_script(\"window.open('');\")\n",
        "    driver.switch_to.window(driver.window_handles[-1])\n",
        "    \n",
        "    url = base_url.format(page_num)\n",
        "    print(f\"\\nCrawling page {page_num}: {url}\")\n",
        "    \n",
        "    max_attempts = 3\n",
        "    attempt = 1\n",
        "    course_container = None\n",
        "    \n",
        "    while attempt <= max_attempts:\n",
        "        try:\n",
        "            driver.get(url)\n",
        "            time.sleep(3)\n",
        "            soup = BeautifulSoup(driver.page_source, 'html.parser')\n",
        "            course_container = soup.find('section', class_='css-10jrqpr')\n",
        "            if course_container:\n",
        "                break\n",
        "            else:\n",
        "                print(f\"Attempt {attempt}/{max_attempts}: No course container found on page {page_num}.\")\n",
        "                with open(f\"debug_page_{page_num}.html\", \"w\", encoding=\"utf-8\") as f:\n",
        "                    f.write(driver.page_source)\n",
        "        except Exception as e:\n",
        "            print(f\"Attempt {attempt}/{max_attempts}: Failed to load page {page_num}: {e}\")\n",
        "        \n",
        "        attempt += 1\n",
        "        if attempt <= max_attempts:\n",
        "            print(f\"Retrying page {page_num} in 5-10 seconds...\")\n",
        "            time.sleep(random.uniform(5, 10))\n",
        "    \n",
        "    if not course_container:\n",
        "        print(f\"Failed to find course container on page {page_num} after {max_attempts} attempts.\")\n",
        "        driver.quit()\n",
        "        driver = setup_driver()\n",
        "        return False, driver\n",
        "\n",
        "    course_links = course_container.find_all('a', class_='css-w9y587')\n",
        "    if not course_links:\n",
        "        print(f\"No courses found on page {page_num}.\")\n",
        "        driver.quit()\n",
        "        driver = setup_driver()\n",
        "        return False, driver\n",
        "\n",
        "    print(f\"Found {len(course_links)} courses on page {page_num}\")\n",
        "    progress_bar = tqdm(course_links, desc=f\"Page {page_num} Progress\", unit=\"course\")\n",
        "\n",
        "    for course in progress_bar:\n",
        "        course_name_tag = course.find('h2', class_='css-1k3iole')\n",
        "        course_name = course_name_tag.get_text(strip=True) if course_name_tag else \"Unknown Course\"\n",
        "        progress_bar.set_postfix({\"Course\": course_name[:30] + \"...\" if len(course_name) > 30 else course_name})\n",
        "        \n",
        "        course_url = course['href']\n",
        "        if not course_url.startswith('http'):\n",
        "            course_url = urljoin(\"https://www.datacamp.com\", course_url)\n",
        "\n",
        "        csv_writer.writerow([course_name, course_url, \"\"])\n",
        "        print(f\"\\nCourse: {course_name}\")\n",
        "        print(f\"URL: {course_url}\")\n",
        "        print(\"-\" * 50)\n",
        "\n",
        "        time.sleep(random.uniform(2, 5))\n",
        "\n",
        "    progress_bar.close()\n",
        "    driver.quit()\n",
        "    driver = setup_driver()\n",
        "    return True, driver"
      ]
    },
    {
      "cell_type": "code",
      "execution_count": 12,
      "metadata": {},
      "outputs": [],
      "source": [
        "def crawl_descriptions():\n",
        "    df = pd.read_csv(\"datacamp_courses.csv\")\n",
        "    print(f\"Loaded {len(df)} courses from CSV.\")\n",
        "\n",
        "    # File mới sẽ chứa kết quả đầy đủ\n",
        "    output_file = \"datacamp_courses_full.csv\"\n",
        "\n",
        "    # Ghi tiêu đề nếu file chưa tồn tại\n",
        "    with open(output_file, 'w', encoding='utf-8', newline='') as f:\n",
        "        writer = csv.writer(f)\n",
        "        writer.writerow([\"Course Name\", \"Course URL\", \"Detailed Description\"])\n",
        "\n",
        "    progress_bar = tqdm(range(len(df)), desc=\"Fetching Descriptions\", unit=\"course\")\n",
        "\n",
        "    for idx in progress_bar:\n",
        "        course_name = df.iloc[idx][\"Course Name\"]\n",
        "        course_url = df.iloc[idx][\"Course URL\"]\n",
        "        progress_bar.set_postfix({\"Course\": course_name[:30] + \"...\" if len(course_name) > 30 else course_name})\n",
        "\n",
        "        try:\n",
        "            driver = setup_driver()  # mở trình duyệt mới\n",
        "            driver.get(course_url)\n",
        "            time.sleep(random.uniform(4, 6))\n",
        "\n",
        "            soup = BeautifulSoup(driver.page_source, \"html.parser\")\n",
        "            description_section = soup.find(\"article\", class_=\"css-evox4w\")\n",
        "            description_text = description_section.get_text(strip=True, separator=\" | \") if description_section else \"No detailed description available\"\n",
        "            description_text = description_text.replace(\"\\n\", \" \").replace(\"\\r\", \" \").strip()  # ← thêm dòng này\n",
        "\n",
        "\n",
        "            # ✅ Ghi vào file mới\n",
        "            with open(output_file, 'a', encoding='utf-8', newline='') as f:\n",
        "                writer = csv.writer(f)\n",
        "                writer.writerow([course_name, course_url, description_text])\n",
        "\n",
        "            # ✅ In ra log\n",
        "            print(f\"\\n[✔] {course_name}:\\n{description_text[:200]}{'...' if len(description_text) > 200 else ''}\\n\")\n",
        "\n",
        "        except Exception as e:\n",
        "            print(f\"❌ Error for {course_name}: {e}\")\n",
        "            with open(output_file, 'a', encoding='utf-8', newline='') as f:\n",
        "                writer = csv.writer(f)\n",
        "                writer.writerow([course_name, course_url, \"Error fetching description\"])\n",
        "\n",
        "        finally:\n",
        "            driver.quit()\n",
        "            time.sleep(random.uniform(3, 6))\n",
        "\n",
        "    progress_bar.close()\n",
        "    print(f\"\\n🎉 Full data written to {output_file}\")\n"
      ]
    },
    {
      "cell_type": "code",
      "execution_count": 4,
      "metadata": {},
      "outputs": [
        {
          "name": "stdout",
          "output_type": "stream",
          "text": [
            "\n",
            "Crawling page 1: https://www.datacamp.com/courses-all/page/1\n",
            "Found 30 courses on page 1\n"
          ]
        },
        {
          "name": "stderr",
          "output_type": "stream",
          "text": [
            "Page 1 Progress:   0%|          | 0/30 [00:00<?, ?course/s, Course=Introduction to Python]"
          ]
        },
        {
          "name": "stdout",
          "output_type": "stream",
          "text": [
            "\n",
            "Course: Introduction to Python\n",
            "URL: https://www.datacamp.com/courses/intro-to-python-for-data-science\n",
            "--------------------------------------------------\n"
          ]
        },
        {
          "name": "stderr",
          "output_type": "stream",
          "text": [
            "Page 1 Progress:   3%|▎         | 1/30 [00:02<01:09,  2.38s/course, Course=Introduction to SQL]   "
          ]
        },
        {
          "name": "stdout",
          "output_type": "stream",
          "text": [
            "\n",
            "Course: Introduction to SQL\n",
            "URL: https://www.datacamp.com/courses/introduction-to-sql\n",
            "--------------------------------------------------\n"
          ]
        },
        {
          "name": "stderr",
          "output_type": "stream",
          "text": [
            "Page 1 Progress:   7%|▋         | 2/30 [00:06<01:42,  3.67s/course, Course=Understanding Artificial Intel...]"
          ]
        },
        {
          "name": "stdout",
          "output_type": "stream",
          "text": [
            "\n",
            "Course: Understanding Artificial Intelligence\n",
            "URL: https://www.datacamp.com/courses/understanding-artificial-intelligence\n",
            "--------------------------------------------------\n"
          ]
        },
        {
          "name": "stderr",
          "output_type": "stream",
          "text": [
            "Page 1 Progress:  10%|█         | 3/30 [00:10<01:32,  3.41s/course, Course=Introduction to Power BI]         "
          ]
        },
        {
          "name": "stdout",
          "output_type": "stream",
          "text": [
            "\n",
            "Course: Introduction to Power BI\n",
            "URL: https://www.datacamp.com/courses/introduction-to-power-bi\n",
            "--------------------------------------------------\n"
          ]
        },
        {
          "name": "stderr",
          "output_type": "stream",
          "text": [
            "Page 1 Progress:  13%|█▎        | 4/30 [00:15<01:44,  4.03s/course, Course=Introduction to R]       "
          ]
        },
        {
          "name": "stdout",
          "output_type": "stream",
          "text": [
            "\n",
            "Course: Introduction to R\n",
            "URL: https://www.datacamp.com/courses/free-introduction-to-r\n",
            "--------------------------------------------------\n"
          ]
        },
        {
          "name": "stderr",
          "output_type": "stream",
          "text": [
            "Page 1 Progress:  17%|█▋        | 5/30 [00:17<01:24,  3.40s/course, Course=Intermediate SQL] "
          ]
        },
        {
          "name": "stdout",
          "output_type": "stream",
          "text": [
            "\n",
            "Course: Intermediate SQL\n",
            "URL: https://www.datacamp.com/courses/intermediate-sql\n",
            "--------------------------------------------------\n"
          ]
        },
        {
          "name": "stderr",
          "output_type": "stream",
          "text": [
            "Page 1 Progress:  20%|██        | 6/30 [00:20<01:18,  3.28s/course, Course=Understanding Data Science]"
          ]
        },
        {
          "name": "stdout",
          "output_type": "stream",
          "text": [
            "\n",
            "Course: Understanding Data Science\n",
            "URL: https://www.datacamp.com/courses/understanding-data-science\n",
            "--------------------------------------------------\n"
          ]
        },
        {
          "name": "stderr",
          "output_type": "stream",
          "text": [
            "Page 1 Progress:  23%|██▎       | 7/30 [00:25<01:26,  3.75s/course, Course=Intermediate Python]       "
          ]
        },
        {
          "name": "stdout",
          "output_type": "stream",
          "text": [
            "\n",
            "Course: Intermediate Python\n",
            "URL: https://www.datacamp.com/courses/intermediate-python\n",
            "--------------------------------------------------\n"
          ]
        },
        {
          "name": "stderr",
          "output_type": "stream",
          "text": [
            "Page 1 Progress:  27%|██▋       | 8/30 [00:30<01:30,  4.13s/course, Course=Joining Data in SQL]"
          ]
        },
        {
          "name": "stdout",
          "output_type": "stream",
          "text": [
            "\n",
            "Course: Joining Data in SQL\n",
            "URL: https://www.datacamp.com/courses/joining-data-in-sql\n",
            "--------------------------------------------------\n"
          ]
        },
        {
          "name": "stderr",
          "output_type": "stream",
          "text": [
            "Page 1 Progress:  30%|███       | 9/30 [00:32<01:14,  3.53s/course, Course=Introduction to Excel]"
          ]
        },
        {
          "name": "stdout",
          "output_type": "stream",
          "text": [
            "\n",
            "Course: Introduction to Excel\n",
            "URL: https://www.datacamp.com/courses/introduction-to-excel\n",
            "--------------------------------------------------\n"
          ]
        },
        {
          "name": "stderr",
          "output_type": "stream",
          "text": [
            "Page 1 Progress:  33%|███▎      | 10/30 [00:36<01:13,  3.67s/course, Course=Data Manipulation with pandas]"
          ]
        },
        {
          "name": "stdout",
          "output_type": "stream",
          "text": [
            "\n",
            "Course: Data Manipulation with pandas\n",
            "URL: https://www.datacamp.com/courses/data-manipulation-with-pandas\n",
            "--------------------------------------------------\n"
          ]
        },
        {
          "name": "stderr",
          "output_type": "stream",
          "text": [
            "Page 1 Progress:  37%|███▋      | 11/30 [00:39<01:05,  3.47s/course, Course=Supervised Learning with sciki...]"
          ]
        },
        {
          "name": "stdout",
          "output_type": "stream",
          "text": [
            "\n",
            "Course: Supervised Learning with scikit-learn\n",
            "URL: https://www.datacamp.com/courses/supervised-learning-with-scikit-learn\n",
            "--------------------------------------------------\n"
          ]
        },
        {
          "name": "stderr",
          "output_type": "stream",
          "text": [
            "Page 1 Progress:  40%|████      | 12/30 [00:41<00:55,  3.09s/course, Course=Understanding Cloud Computing]    "
          ]
        },
        {
          "name": "stdout",
          "output_type": "stream",
          "text": [
            "\n",
            "Course: Understanding Cloud Computing\n",
            "URL: https://www.datacamp.com/courses/understanding-cloud-computing\n",
            "--------------------------------------------------\n"
          ]
        },
        {
          "name": "stderr",
          "output_type": "stream",
          "text": [
            "Page 1 Progress:  43%|████▎     | 13/30 [00:45<00:59,  3.52s/course, Course=Understanding ChatGPT]        "
          ]
        },
        {
          "name": "stdout",
          "output_type": "stream",
          "text": [
            "\n",
            "Course: Understanding ChatGPT\n",
            "URL: https://www.datacamp.com/courses/understanding-chatgpt\n",
            "--------------------------------------------------\n"
          ]
        },
        {
          "name": "stderr",
          "output_type": "stream",
          "text": [
            "Page 1 Progress:  47%|████▋     | 14/30 [00:48<00:53,  3.35s/course, Course=Introduction to Data Literacy]"
          ]
        },
        {
          "name": "stdout",
          "output_type": "stream",
          "text": [
            "\n",
            "Course: Introduction to Data Literacy\n",
            "URL: https://www.datacamp.com/courses/introduction-to-data-literacy\n",
            "--------------------------------------------------\n"
          ]
        },
        {
          "name": "stderr",
          "output_type": "stream",
          "text": [
            "Page 1 Progress:  50%|█████     | 15/30 [00:53<00:56,  3.77s/course, Course=Introduction to ChatGPT]      "
          ]
        },
        {
          "name": "stdout",
          "output_type": "stream",
          "text": [
            "\n",
            "Course: Introduction to ChatGPT\n",
            "URL: https://www.datacamp.com/courses/introduction-to-chatgpt\n",
            "--------------------------------------------------\n"
          ]
        },
        {
          "name": "stderr",
          "output_type": "stream",
          "text": [
            "Page 1 Progress:  53%|█████▎    | 16/30 [00:56<00:48,  3.50s/course, Course=Introduction to Python for Dev...]"
          ]
        },
        {
          "name": "stdout",
          "output_type": "stream",
          "text": [
            "\n",
            "Course: Introduction to Python for Developers\n",
            "URL: https://www.datacamp.com/courses/introduction-to-python-for-developers\n",
            "--------------------------------------------------\n"
          ]
        },
        {
          "name": "stderr",
          "output_type": "stream",
          "text": [
            "Page 1 Progress:  57%|█████▋    | 17/30 [01:00<00:46,  3.61s/course, Course=Understanding Data Engineering]   "
          ]
        },
        {
          "name": "stdout",
          "output_type": "stream",
          "text": [
            "\n",
            "Course: Understanding Data Engineering\n",
            "URL: https://www.datacamp.com/courses/understanding-data-engineering\n",
            "--------------------------------------------------\n"
          ]
        },
        {
          "name": "stderr",
          "output_type": "stream",
          "text": [
            "Page 1 Progress:  60%|██████    | 18/30 [01:04<00:46,  3.88s/course, Course=Understanding Prompt Engineeri...]"
          ]
        },
        {
          "name": "stdout",
          "output_type": "stream",
          "text": [
            "\n",
            "Course: Understanding Prompt Engineering\n",
            "URL: https://www.datacamp.com/courses/understanding-prompt-engineering\n",
            "--------------------------------------------------\n"
          ]
        },
        {
          "name": "stderr",
          "output_type": "stream",
          "text": [
            "Page 1 Progress:  63%|██████▎   | 19/30 [01:09<00:44,  4.02s/course, Course=Introduction to Data]             "
          ]
        },
        {
          "name": "stdout",
          "output_type": "stream",
          "text": [
            "\n",
            "Course: Introduction to Data\n",
            "URL: https://www.datacamp.com/courses/introduction-to-data\n",
            "--------------------------------------------------\n"
          ]
        },
        {
          "name": "stderr",
          "output_type": "stream",
          "text": [
            "Page 1 Progress:  67%|██████▋   | 20/30 [01:11<00:35,  3.54s/course, Course=Data Manipulation in SQL]"
          ]
        },
        {
          "name": "stdout",
          "output_type": "stream",
          "text": [
            "\n",
            "Course: Data Manipulation in SQL\n",
            "URL: https://www.datacamp.com/courses/data-manipulation-in-sql\n",
            "--------------------------------------------------\n"
          ]
        },
        {
          "name": "stderr",
          "output_type": "stream",
          "text": [
            "Page 1 Progress:  70%|███████   | 21/30 [01:14<00:30,  3.43s/course, Course=Introduction to DAX in Power B...]"
          ]
        },
        {
          "name": "stdout",
          "output_type": "stream",
          "text": [
            "\n",
            "Course: Introduction to DAX in Power BI\n",
            "URL: https://www.datacamp.com/courses/introduction-to-dax-in-power-bi\n",
            "--------------------------------------------------\n"
          ]
        },
        {
          "name": "stderr",
          "output_type": "stream",
          "text": [
            "Page 1 Progress:  73%|███████▎  | 22/30 [01:17<00:25,  3.18s/course, Course=Introduction to Tableau]          "
          ]
        },
        {
          "name": "stdout",
          "output_type": "stream",
          "text": [
            "\n",
            "Course: Introduction to Tableau\n",
            "URL: https://www.datacamp.com/courses/introduction-to-tableau\n",
            "--------------------------------------------------\n"
          ]
        },
        {
          "name": "stderr",
          "output_type": "stream",
          "text": [
            "Page 1 Progress:  77%|███████▋  | 23/30 [01:21<00:25,  3.59s/course, Course=Data Analysis in Excel] "
          ]
        },
        {
          "name": "stdout",
          "output_type": "stream",
          "text": [
            "\n",
            "Course: Data Analysis in Excel\n",
            "URL: https://www.datacamp.com/courses/data-analysis-in-excel\n",
            "--------------------------------------------------\n"
          ]
        },
        {
          "name": "stderr",
          "output_type": "stream",
          "text": [
            "Page 1 Progress:  80%|████████  | 24/30 [01:24<00:19,  3.28s/course, Course=Understanding Data Visualizati...]"
          ]
        },
        {
          "name": "stdout",
          "output_type": "stream",
          "text": [
            "\n",
            "Course: Understanding Data Visualization\n",
            "URL: https://www.datacamp.com/courses/understanding-data-visualization\n",
            "--------------------------------------------------\n"
          ]
        },
        {
          "name": "stderr",
          "output_type": "stream",
          "text": [
            "Page 1 Progress:  83%|████████▎ | 25/30 [01:28<00:18,  3.62s/course, Course=Data Visualization in Power BI]   "
          ]
        },
        {
          "name": "stdout",
          "output_type": "stream",
          "text": [
            "\n",
            "Course: Data Visualization in Power BI\n",
            "URL: https://www.datacamp.com/courses/data-visualization-in-power-bi\n",
            "--------------------------------------------------\n"
          ]
        },
        {
          "name": "stderr",
          "output_type": "stream",
          "text": [
            "Page 1 Progress:  87%|████████▋ | 26/30 [01:33<00:15,  3.91s/course, Course=Introduction to Statistics in ...]"
          ]
        },
        {
          "name": "stdout",
          "output_type": "stream",
          "text": [
            "\n",
            "Course: Introduction to Statistics in Python\n",
            "URL: https://www.datacamp.com/courses/introduction-to-statistics-in-python\n",
            "--------------------------------------------------\n"
          ]
        },
        {
          "name": "stderr",
          "output_type": "stream",
          "text": [
            "Page 1 Progress:  90%|█████████ | 27/30 [01:37<00:11,  3.94s/course, Course=Introduction to Git]              "
          ]
        },
        {
          "name": "stdout",
          "output_type": "stream",
          "text": [
            "\n",
            "Course: Introduction to Git\n",
            "URL: https://www.datacamp.com/courses/introduction-to-git\n",
            "--------------------------------------------------\n"
          ]
        },
        {
          "name": "stderr",
          "output_type": "stream",
          "text": [
            "Page 1 Progress:  93%|█████████▎| 28/30 [01:40<00:07,  3.65s/course, Course=Working with the OpenAI API]"
          ]
        },
        {
          "name": "stdout",
          "output_type": "stream",
          "text": [
            "\n",
            "Course: Working with the OpenAI API\n",
            "URL: https://www.datacamp.com/courses/working-with-the-openai-api\n",
            "--------------------------------------------------\n"
          ]
        },
        {
          "name": "stderr",
          "output_type": "stream",
          "text": [
            "Page 1 Progress:  97%|█████████▋| 29/30 [01:44<00:03,  3.78s/course, Course=Understanding Machine Learning]"
          ]
        },
        {
          "name": "stdout",
          "output_type": "stream",
          "text": [
            "\n",
            "Course: Understanding Machine Learning\n",
            "URL: https://www.datacamp.com/courses/understanding-machine-learning\n",
            "--------------------------------------------------\n"
          ]
        },
        {
          "name": "stderr",
          "output_type": "stream",
          "text": [
            "Page 1 Progress: 100%|██████████| 30/30 [01:48<00:00,  3.61s/course, Course=Understanding Machine Learning]\n"
          ]
        },
        {
          "name": "stdout",
          "output_type": "stream",
          "text": [
            "\n",
            "Crawling page 2: https://www.datacamp.com/courses-all/page/2\n",
            "Found 30 courses on page 2\n"
          ]
        },
        {
          "name": "stderr",
          "output_type": "stream",
          "text": [
            "Page 2 Progress:   0%|          | 0/30 [00:00<?, ?course/s, Course=Introduction to Statistics]"
          ]
        },
        {
          "name": "stdout",
          "output_type": "stream",
          "text": [
            "\n",
            "Course: Introduction to Statistics\n",
            "URL: https://www.datacamp.com/courses/introduction-to-statistics\n",
            "--------------------------------------------------\n"
          ]
        },
        {
          "name": "stderr",
          "output_type": "stream",
          "text": [
            "Page 2 Progress:   3%|▎         | 1/30 [00:02<01:16,  2.63s/course, Course=Joining Data with pandas]  "
          ]
        },
        {
          "name": "stdout",
          "output_type": "stream",
          "text": [
            "\n",
            "Course: Joining Data with pandas\n",
            "URL: https://www.datacamp.com/courses/joining-data-with-pandas\n",
            "--------------------------------------------------\n"
          ]
        },
        {
          "name": "stderr",
          "output_type": "stream",
          "text": [
            "Page 2 Progress:   7%|▋         | 2/30 [00:05<01:21,  2.92s/course, Course=Communicating Data Insights]"
          ]
        },
        {
          "name": "stdout",
          "output_type": "stream",
          "text": [
            "\n",
            "Course: Communicating Data Insights\n",
            "URL: https://www.datacamp.com/courses/communicating-data-insights\n",
            "--------------------------------------------------\n"
          ]
        },
        {
          "name": "stderr",
          "output_type": "stream",
          "text": [
            "Page 2 Progress:  10%|█         | 3/30 [00:07<01:08,  2.54s/course, Course=Exploratory Data Analysis in S...]"
          ]
        },
        {
          "name": "stdout",
          "output_type": "stream",
          "text": [
            "\n",
            "Course: Exploratory Data Analysis in SQL\n",
            "URL: https://www.datacamp.com/courses/exploratory-data-analysis-in-sql\n",
            "--------------------------------------------------\n"
          ]
        },
        {
          "name": "stderr",
          "output_type": "stream",
          "text": [
            "Page 2 Progress:  13%|█▎        | 4/30 [00:12<01:29,  3.45s/course, Course=Exploratory Data Analysis in P...]"
          ]
        },
        {
          "name": "stdout",
          "output_type": "stream",
          "text": [
            "\n",
            "Course: Exploratory Data Analysis in Python\n",
            "URL: https://www.datacamp.com/courses/exploratory-data-analysis-in-python\n",
            "--------------------------------------------------\n"
          ]
        },
        {
          "name": "stderr",
          "output_type": "stream",
          "text": [
            "Page 2 Progress:  17%|█▋        | 5/30 [00:15<01:16,  3.08s/course, Course=AI Ethics]                        "
          ]
        },
        {
          "name": "stdout",
          "output_type": "stream",
          "text": [
            "\n",
            "Course: AI Ethics\n",
            "URL: https://www.datacamp.com/courses/ai-ethics\n",
            "--------------------------------------------------\n"
          ]
        },
        {
          "name": "stderr",
          "output_type": "stream",
          "text": [
            "Page 2 Progress:  20%|██        | 6/30 [00:17<01:09,  2.90s/course, Course=Introduction to Deep Learning ...]"
          ]
        },
        {
          "name": "stdout",
          "output_type": "stream",
          "text": [
            "\n",
            "Course: Introduction to Deep Learning with PyTorch\n",
            "URL: https://www.datacamp.com/courses/introduction-to-deep-learning-with-pytorch\n",
            "--------------------------------------------------\n"
          ]
        },
        {
          "name": "stderr",
          "output_type": "stream",
          "text": [
            "Page 2 Progress:  23%|██▎       | 7/30 [00:22<01:18,  3.41s/course, Course=Database Design]                  "
          ]
        },
        {
          "name": "stdout",
          "output_type": "stream",
          "text": [
            "\n",
            "Course: Database Design\n",
            "URL: https://www.datacamp.com/courses/database-design\n",
            "--------------------------------------------------\n"
          ]
        },
        {
          "name": "stderr",
          "output_type": "stream",
          "text": [
            "Page 2 Progress:  27%|██▋       | 8/30 [00:25<01:12,  3.31s/course, Course=Case Study: Analyzing Customer...]"
          ]
        },
        {
          "name": "stdout",
          "output_type": "stream",
          "text": [
            "\n",
            "Course: Case Study: Analyzing Customer Churn in Power BI\n",
            "URL: https://www.datacamp.com/courses/case-study-analyzing-customer-churn-in-power-bi\n",
            "--------------------------------------------------\n"
          ]
        },
        {
          "name": "stderr",
          "output_type": "stream",
          "text": [
            "Page 2 Progress:  30%|███       | 9/30 [00:27<01:01,  2.95s/course, Course=Generative AI Concepts]           "
          ]
        },
        {
          "name": "stdout",
          "output_type": "stream",
          "text": [
            "\n",
            "Course: Generative AI Concepts\n",
            "URL: https://www.datacamp.com/courses/generative-ai-concepts\n",
            "--------------------------------------------------\n"
          ]
        },
        {
          "name": "stderr",
          "output_type": "stream",
          "text": [
            "Page 2 Progress:  33%|███▎      | 10/30 [00:32<01:10,  3.52s/course, Course=Large Language Models (LLMs) C...]"
          ]
        },
        {
          "name": "stdout",
          "output_type": "stream",
          "text": [
            "\n",
            "Course: Large Language Models (LLMs) Concepts\n",
            "URL: https://www.datacamp.com/courses/large-language-models-llms-concepts\n",
            "--------------------------------------------------\n"
          ]
        },
        {
          "name": "stderr",
          "output_type": "stream",
          "text": [
            "Page 2 Progress:  37%|███▋      | 11/30 [00:36<01:09,  3.66s/course, Course=Data Preparation in Excel]        "
          ]
        },
        {
          "name": "stdout",
          "output_type": "stream",
          "text": [
            "\n",
            "Course: Data Preparation in Excel\n",
            "URL: https://www.datacamp.com/courses/data-preparation-in-excel\n",
            "--------------------------------------------------\n"
          ]
        },
        {
          "name": "stderr",
          "output_type": "stream",
          "text": [
            "Page 2 Progress:  40%|████      | 12/30 [00:38<00:58,  3.27s/course, Course=Data Preparation in Power BI]"
          ]
        },
        {
          "name": "stdout",
          "output_type": "stream",
          "text": [
            "\n",
            "Course: Data Preparation in Power BI\n",
            "URL: https://www.datacamp.com/courses/data-preparation-in-power-bi\n",
            "--------------------------------------------------\n"
          ]
        },
        {
          "name": "stderr",
          "output_type": "stream",
          "text": [
            "Page 2 Progress:  43%|████▎     | 13/30 [00:40<00:50,  2.97s/course, Course=Introduction to the Tidyverse]"
          ]
        },
        {
          "name": "stdout",
          "output_type": "stream",
          "text": [
            "\n",
            "Course: Introduction to the Tidyverse\n",
            "URL: https://www.datacamp.com/courses/introduction-to-the-tidyverse\n",
            "--------------------------------------------------\n"
          ]
        },
        {
          "name": "stderr",
          "output_type": "stream",
          "text": [
            "Page 2 Progress:  47%|████▋     | 14/30 [00:43<00:46,  2.91s/course, Course=Intermediate R]               "
          ]
        },
        {
          "name": "stdout",
          "output_type": "stream",
          "text": [
            "\n",
            "Course: Intermediate R\n",
            "URL: https://www.datacamp.com/courses/intermediate-r\n",
            "--------------------------------------------------\n"
          ]
        },
        {
          "name": "stderr",
          "output_type": "stream",
          "text": [
            "Page 2 Progress:  50%|█████     | 15/30 [00:46<00:43,  2.91s/course, Course=Introduction to Data Visualiza...]"
          ]
        },
        {
          "name": "stdout",
          "output_type": "stream",
          "text": [
            "\n",
            "Course: Introduction to Data Visualization with Matplotlib\n",
            "URL: https://www.datacamp.com/courses/introduction-to-data-visualization-with-matplotlib\n",
            "--------------------------------------------------\n"
          ]
        },
        {
          "name": "stderr",
          "output_type": "stream",
          "text": [
            "Page 2 Progress:  53%|█████▎    | 16/30 [00:50<00:46,  3.35s/course, Course=Data Modeling in Power BI]        "
          ]
        },
        {
          "name": "stdout",
          "output_type": "stream",
          "text": [
            "\n",
            "Course: Data Modeling in Power BI\n",
            "URL: https://www.datacamp.com/courses/data-modeling-in-power-bi\n",
            "--------------------------------------------------\n"
          ]
        },
        {
          "name": "stderr",
          "output_type": "stream",
          "text": [
            "Page 2 Progress:  57%|█████▋    | 17/30 [00:54<00:44,  3.46s/course, Course=Introduction to Data Visualiza...]"
          ]
        },
        {
          "name": "stdout",
          "output_type": "stream",
          "text": [
            "\n",
            "Course: Introduction to Data Visualization with Seaborn\n",
            "URL: https://www.datacamp.com/courses/introduction-to-data-visualization-with-seaborn\n",
            "--------------------------------------------------\n"
          ]
        },
        {
          "name": "stderr",
          "output_type": "stream",
          "text": [
            "Page 2 Progress:  60%|██████    | 18/30 [00:56<00:37,  3.15s/course, Course=Introduction to Relational Dat...]"
          ]
        },
        {
          "name": "stdout",
          "output_type": "stream",
          "text": [
            "\n",
            "Course: Introduction to Relational Databases in SQL\n",
            "URL: https://www.datacamp.com/courses/introduction-to-relational-databases-in-sql\n",
            "--------------------------------------------------\n"
          ]
        },
        {
          "name": "stderr",
          "output_type": "stream",
          "text": [
            "Page 2 Progress:  63%|██████▎   | 19/30 [01:01<00:40,  3.69s/course, Course=PostgreSQL Summary Stats and W...]"
          ]
        },
        {
          "name": "stdout",
          "output_type": "stream",
          "text": [
            "\n",
            "Course: PostgreSQL Summary Stats and Window Functions\n",
            "URL: https://www.datacamp.com/courses/postgresql-summary-stats-and-window-functions\n",
            "--------------------------------------------------\n"
          ]
        },
        {
          "name": "stderr",
          "output_type": "stream",
          "text": [
            "Page 2 Progress:  67%|██████▋   | 20/30 [01:04<00:33,  3.32s/course, Course=Introduction to Data Visualiza...]"
          ]
        },
        {
          "name": "stdout",
          "output_type": "stream",
          "text": [
            "\n",
            "Course: Introduction to Data Visualization with ggplot2\n",
            "URL: https://www.datacamp.com/courses/introduction-to-data-visualization-with-ggplot2\n",
            "--------------------------------------------------\n"
          ]
        },
        {
          "name": "stderr",
          "output_type": "stream",
          "text": [
            "Page 2 Progress:  70%|███████   | 21/30 [01:06<00:27,  3.04s/course, Course=Introduction to Functions in P...]"
          ]
        },
        {
          "name": "stdout",
          "output_type": "stream",
          "text": [
            "\n",
            "Course: Introduction to Functions in Python\n",
            "URL: https://www.datacamp.com/courses/introduction-to-functions-in-python\n",
            "--------------------------------------------------\n"
          ]
        },
        {
          "name": "stderr",
          "output_type": "stream",
          "text": [
            "Page 2 Progress:  73%|███████▎  | 22/30 [01:10<00:24,  3.09s/course, Course=Introduction to Importing Data...]"
          ]
        },
        {
          "name": "stdout",
          "output_type": "stream",
          "text": [
            "\n",
            "Course: Introduction to Importing Data in Python\n",
            "URL: https://www.datacamp.com/courses/introduction-to-importing-data-in-python\n",
            "--------------------------------------------------\n"
          ]
        },
        {
          "name": "stderr",
          "output_type": "stream",
          "text": [
            "Page 2 Progress:  77%|███████▋  | 23/30 [01:13<00:22,  3.16s/course, Course=Cleaning Data in Python]          "
          ]
        },
        {
          "name": "stdout",
          "output_type": "stream",
          "text": [
            "\n",
            "Course: Cleaning Data in Python\n",
            "URL: https://www.datacamp.com/courses/cleaning-data-in-python\n",
            "--------------------------------------------------\n"
          ]
        },
        {
          "name": "stderr",
          "output_type": "stream",
          "text": [
            "Page 2 Progress:  80%|████████  | 24/30 [01:17<00:21,  3.61s/course, Course=Intermediate Python for Develo...]"
          ]
        },
        {
          "name": "stdout",
          "output_type": "stream",
          "text": [
            "\n",
            "Course: Intermediate Python for Developers\n",
            "URL: https://www.datacamp.com/courses/intermediate-python-for-developers\n",
            "--------------------------------------------------\n"
          ]
        },
        {
          "name": "stderr",
          "output_type": "stream",
          "text": [
            "Page 2 Progress:  83%|████████▎ | 25/30 [01:22<00:19,  3.83s/course, Course=Introduction to Snowflake]        "
          ]
        },
        {
          "name": "stdout",
          "output_type": "stream",
          "text": [
            "\n",
            "Course: Introduction to Snowflake\n",
            "URL: https://www.datacamp.com/courses/introduction-to-snowflake\n",
            "--------------------------------------------------\n"
          ]
        },
        {
          "name": "stderr",
          "output_type": "stream",
          "text": [
            "Page 2 Progress:  87%|████████▋ | 26/30 [01:26<00:16,  4.05s/course, Course=Python Toolbox]           "
          ]
        },
        {
          "name": "stdout",
          "output_type": "stream",
          "text": [
            "\n",
            "Course: Python Toolbox\n",
            "URL: https://www.datacamp.com/courses/python-toolbox\n",
            "--------------------------------------------------\n"
          ]
        },
        {
          "name": "stderr",
          "output_type": "stream",
          "text": [
            "Page 2 Progress:  90%|█████████ | 27/30 [01:30<00:11,  3.88s/course, Course=Introduction to Microsoft Copi...]"
          ]
        },
        {
          "name": "stdout",
          "output_type": "stream",
          "text": [
            "\n",
            "Course: Introduction to Microsoft Copilot\n",
            "URL: https://www.datacamp.com/courses/introduction-to-microsoft-copilot\n",
            "--------------------------------------------------\n"
          ]
        },
        {
          "name": "stderr",
          "output_type": "stream",
          "text": [
            "Page 2 Progress:  93%|█████████▎| 28/30 [01:35<00:08,  4.20s/course, Course=Introduction to PySpark]          "
          ]
        },
        {
          "name": "stdout",
          "output_type": "stream",
          "text": [
            "\n",
            "Course: Introduction to PySpark\n",
            "URL: https://www.datacamp.com/courses/introduction-to-pyspark\n",
            "--------------------------------------------------\n"
          ]
        },
        {
          "name": "stderr",
          "output_type": "stream",
          "text": [
            "Page 2 Progress:  97%|█████████▋| 29/30 [01:38<00:03,  3.86s/course, Course=Writing Efficient Python Code]"
          ]
        },
        {
          "name": "stdout",
          "output_type": "stream",
          "text": [
            "\n",
            "Course: Writing Efficient Python Code\n",
            "URL: https://www.datacamp.com/courses/writing-efficient-python-code\n",
            "--------------------------------------------------\n"
          ]
        },
        {
          "name": "stderr",
          "output_type": "stream",
          "text": [
            "Page 2 Progress: 100%|██████████| 30/30 [01:40<00:00,  3.35s/course, Course=Writing Efficient Python Code]\n"
          ]
        },
        {
          "name": "stdout",
          "output_type": "stream",
          "text": [
            "\n",
            "Crawling page 3: https://www.datacamp.com/courses-all/page/3\n",
            "Found 30 courses on page 3\n"
          ]
        },
        {
          "name": "stderr",
          "output_type": "stream",
          "text": [
            "Page 3 Progress:   0%|          | 0/30 [00:00<?, ?course/s, Course=Introduction to Statistics in ...]"
          ]
        },
        {
          "name": "stdout",
          "output_type": "stream",
          "text": [
            "\n",
            "Course: Introduction to Statistics in R\n",
            "URL: https://www.datacamp.com/courses/introduction-to-statistics-in-r\n",
            "--------------------------------------------------\n"
          ]
        },
        {
          "name": "stderr",
          "output_type": "stream",
          "text": [
            "Page 3 Progress:   3%|▎         | 1/30 [00:04<02:03,  4.27s/course, Course=Generative AI for Business]       "
          ]
        },
        {
          "name": "stdout",
          "output_type": "stream",
          "text": [
            "\n",
            "Course: Generative AI for Business\n",
            "URL: https://www.datacamp.com/courses/generative-ai-for-business\n",
            "--------------------------------------------------\n"
          ]
        },
        {
          "name": "stderr",
          "output_type": "stream",
          "text": [
            "Page 3 Progress:   7%|▋         | 2/30 [00:06<01:27,  3.11s/course, Course=Functions for Manipulating Dat...]"
          ]
        },
        {
          "name": "stdout",
          "output_type": "stream",
          "text": [
            "\n",
            "Course: Functions for Manipulating Data in PostgreSQL\n",
            "URL: https://www.datacamp.com/courses/functions-for-manipulating-data-in-postgresql\n",
            "--------------------------------------------------\n"
          ]
        },
        {
          "name": "stderr",
          "output_type": "stream",
          "text": [
            "Page 3 Progress:  10%|█         | 3/30 [00:08<01:14,  2.76s/course, Course=Data Communication Concepts]      "
          ]
        },
        {
          "name": "stdout",
          "output_type": "stream",
          "text": [
            "\n",
            "Course: Data Communication Concepts\n",
            "URL: https://www.datacamp.com/courses/data-communication-concepts\n",
            "--------------------------------------------------\n"
          ]
        },
        {
          "name": "stderr",
          "output_type": "stream",
          "text": [
            "Page 3 Progress:  13%|█▎        | 4/30 [00:12<01:21,  3.15s/course, Course=Introduction to Java]       "
          ]
        },
        {
          "name": "stdout",
          "output_type": "stream",
          "text": [
            "\n",
            "Course: Introduction to Java\n",
            "URL: https://www.datacamp.com/courses/introduction-to-java\n",
            "--------------------------------------------------\n"
          ]
        },
        {
          "name": "stderr",
          "output_type": "stream",
          "text": [
            "Page 3 Progress:  17%|█▋        | 5/30 [00:16<01:25,  3.42s/course, Course=Data Transformation in Power B...]"
          ]
        },
        {
          "name": "stdout",
          "output_type": "stream",
          "text": [
            "\n",
            "Course: Data Transformation in Power BI\n",
            "URL: https://www.datacamp.com/courses/data-transformation-in-power-bi\n",
            "--------------------------------------------------\n"
          ]
        },
        {
          "name": "stderr",
          "output_type": "stream",
          "text": [
            "Page 3 Progress:  20%|██        | 6/30 [00:19<01:18,  3.27s/course, Course=Unsupervised Learning in Pytho...]"
          ]
        },
        {
          "name": "stdout",
          "output_type": "stream",
          "text": [
            "\n",
            "Course: Unsupervised Learning in Python\n",
            "URL: https://www.datacamp.com/courses/unsupervised-learning-in-python\n",
            "--------------------------------------------------\n"
          ]
        },
        {
          "name": "stderr",
          "output_type": "stream",
          "text": [
            "Page 3 Progress:  23%|██▎       | 7/30 [00:21<01:07,  2.92s/course, Course=AWS Concepts]                     "
          ]
        },
        {
          "name": "stdout",
          "output_type": "stream",
          "text": [
            "\n",
            "Course: AWS Concepts\n",
            "URL: https://www.datacamp.com/courses/aws-concepts\n",
            "--------------------------------------------------\n"
          ]
        },
        {
          "name": "stderr",
          "output_type": "stream",
          "text": [
            "Page 3 Progress:  27%|██▋       | 8/30 [00:25<01:07,  3.07s/course, Course=Introduction to Data Culture]"
          ]
        },
        {
          "name": "stdout",
          "output_type": "stream",
          "text": [
            "\n",
            "Course: Introduction to Data Culture\n",
            "URL: https://www.datacamp.com/courses/introduction-to-data-culture\n",
            "--------------------------------------------------\n"
          ]
        },
        {
          "name": "stderr",
          "output_type": "stream",
          "text": [
            "Page 3 Progress:  30%|███       | 9/30 [00:27<00:57,  2.76s/course, Course=Introduction to Data Science i...]"
          ]
        },
        {
          "name": "stdout",
          "output_type": "stream",
          "text": [
            "\n",
            "Course: Introduction to Data Science in Python\n",
            "URL: https://www.datacamp.com/courses/introduction-to-data-science-in-python\n",
            "--------------------------------------------------\n"
          ]
        },
        {
          "name": "stderr",
          "output_type": "stream",
          "text": [
            "Page 3 Progress:  33%|███▎      | 10/30 [00:30<00:59,  2.98s/course, Course=Data Visualization in Excel]      "
          ]
        },
        {
          "name": "stdout",
          "output_type": "stream",
          "text": [
            "\n",
            "Course: Data Visualization in Excel\n",
            "URL: https://www.datacamp.com/courses/data-visualization-in-excel\n",
            "--------------------------------------------------\n"
          ]
        },
        {
          "name": "stderr",
          "output_type": "stream",
          "text": [
            "Page 3 Progress:  37%|███▋      | 11/30 [00:32<00:52,  2.74s/course, Course=DAX Functions in Power BI]  "
          ]
        },
        {
          "name": "stdout",
          "output_type": "stream",
          "text": [
            "\n",
            "Course: DAX Functions in Power BI\n",
            "URL: https://www.datacamp.com/courses/dax-functions-in-power-bi\n",
            "--------------------------------------------------\n"
          ]
        },
        {
          "name": "stderr",
          "output_type": "stream",
          "text": [
            "Page 3 Progress:  40%|████      | 12/30 [00:36<00:55,  3.10s/course, Course=Intermediate Importing Data in...]"
          ]
        },
        {
          "name": "stdout",
          "output_type": "stream",
          "text": [
            "\n",
            "Course: Intermediate Importing Data in Python\n",
            "URL: https://www.datacamp.com/courses/intermediate-importing-data-in-python\n",
            "--------------------------------------------------\n"
          ]
        },
        {
          "name": "stderr",
          "output_type": "stream",
          "text": [
            "Page 3 Progress:  43%|████▎     | 13/30 [00:39<00:49,  2.89s/course, Course=Intermediate Git]                 "
          ]
        },
        {
          "name": "stdout",
          "output_type": "stream",
          "text": [
            "\n",
            "Course: Intermediate Git\n",
            "URL: https://www.datacamp.com/courses/intermediate-git\n",
            "--------------------------------------------------\n"
          ]
        },
        {
          "name": "stderr",
          "output_type": "stream",
          "text": [
            "Page 3 Progress:  47%|████▋     | 14/30 [00:43<00:53,  3.36s/course, Course=Introduction to Databricks]"
          ]
        },
        {
          "name": "stdout",
          "output_type": "stream",
          "text": [
            "\n",
            "Course: Introduction to Databricks\n",
            "URL: https://www.datacamp.com/courses/introduction-to-databricks\n",
            "--------------------------------------------------\n"
          ]
        },
        {
          "name": "stderr",
          "output_type": "stream",
          "text": [
            "Page 3 Progress:  50%|█████     | 15/30 [00:47<00:54,  3.62s/course, Course=Data Warehousing Concepts] "
          ]
        },
        {
          "name": "stdout",
          "output_type": "stream",
          "text": [
            "\n",
            "Course: Data Warehousing Concepts\n",
            "URL: https://www.datacamp.com/courses/data-warehousing-concepts\n",
            "--------------------------------------------------\n"
          ]
        },
        {
          "name": "stderr",
          "output_type": "stream",
          "text": [
            "Page 3 Progress:  53%|█████▎    | 16/30 [00:50<00:47,  3.42s/course, Course=Developing LLM Applications wi...]"
          ]
        },
        {
          "name": "stdout",
          "output_type": "stream",
          "text": [
            "\n",
            "Course: Developing LLM Applications with LangChain\n",
            "URL: https://www.datacamp.com/courses/developing-llm-applications-with-langchain\n",
            "--------------------------------------------------\n"
          ]
        },
        {
          "name": "stderr",
          "output_type": "stream",
          "text": [
            "Page 3 Progress:  57%|█████▋    | 17/30 [00:54<00:46,  3.60s/course, Course=Intermediate Data Modeling in ...]"
          ]
        },
        {
          "name": "stdout",
          "output_type": "stream",
          "text": [
            "\n",
            "Course: Intermediate Data Modeling in Power BI\n",
            "URL: https://www.datacamp.com/courses/intermediate-data-modeling-in-power-bi\n",
            "--------------------------------------------------\n"
          ]
        },
        {
          "name": "stderr",
          "output_type": "stream",
          "text": [
            "Page 3 Progress:  60%|██████    | 18/30 [00:58<00:43,  3.58s/course, Course=Introduction to Python for Fin...]"
          ]
        },
        {
          "name": "stdout",
          "output_type": "stream",
          "text": [
            "\n",
            "Course: Introduction to Python for Finance\n",
            "URL: https://www.datacamp.com/courses/introduction-to-python-for-finance\n",
            "--------------------------------------------------\n"
          ]
        },
        {
          "name": "stderr",
          "output_type": "stream",
          "text": [
            "Page 3 Progress:  63%|██████▎   | 19/30 [01:03<00:43,  3.92s/course, Course=Object-Oriented Programming in...]"
          ]
        },
        {
          "name": "stdout",
          "output_type": "stream",
          "text": [
            "\n",
            "Course: Object-Oriented Programming in Python\n",
            "URL: https://www.datacamp.com/courses/object-oriented-programming-in-python\n",
            "--------------------------------------------------\n"
          ]
        },
        {
          "name": "stderr",
          "output_type": "stream",
          "text": [
            "Page 3 Progress:  67%|██████▋   | 20/30 [01:07<00:39,  3.98s/course, Course=Data Manipulation with dplyr]     "
          ]
        },
        {
          "name": "stdout",
          "output_type": "stream",
          "text": [
            "\n",
            "Course: Data Manipulation with dplyr\n",
            "URL: https://www.datacamp.com/courses/data-manipulation-with-dplyr\n",
            "--------------------------------------------------\n"
          ]
        },
        {
          "name": "stderr",
          "output_type": "stream",
          "text": [
            "Page 3 Progress:  70%|███████   | 21/30 [01:10<00:35,  3.89s/course, Course=Case Study: HR Analytics in Po...]"
          ]
        },
        {
          "name": "stdout",
          "output_type": "stream",
          "text": [
            "\n",
            "Course: Case Study: HR Analytics in Power BI\n",
            "URL: https://www.datacamp.com/courses/case-study-hr-analytics-in-power-bi\n",
            "--------------------------------------------------\n"
          ]
        },
        {
          "name": "stderr",
          "output_type": "stream",
          "text": [
            "Page 3 Progress:  73%|███████▎  | 22/30 [01:12<00:26,  3.33s/course, Course=Intermediate DAX in Power BI]     "
          ]
        },
        {
          "name": "stdout",
          "output_type": "stream",
          "text": [
            "\n",
            "Course: Intermediate DAX in Power BI\n",
            "URL: https://www.datacamp.com/courses/intermediate-dax-in-power-bi\n",
            "--------------------------------------------------\n"
          ]
        },
        {
          "name": "stderr",
          "output_type": "stream",
          "text": [
            "Page 3 Progress:  77%|███████▋  | 23/30 [01:17<00:26,  3.72s/course, Course=Introduction to APIs in Python]"
          ]
        },
        {
          "name": "stdout",
          "output_type": "stream",
          "text": [
            "\n",
            "Course: Introduction to APIs in Python\n",
            "URL: https://www.datacamp.com/courses/introduction-to-apis-in-python\n",
            "--------------------------------------------------\n"
          ]
        },
        {
          "name": "stderr",
          "output_type": "stream",
          "text": [
            "Page 3 Progress:  80%|████████  | 24/30 [01:20<00:21,  3.57s/course, Course=Exploratory Data Analysis in P...]"
          ]
        },
        {
          "name": "stdout",
          "output_type": "stream",
          "text": [
            "\n",
            "Course: Exploratory Data Analysis in Power BI\n",
            "URL: https://www.datacamp.com/courses/exploratory-data-analysis-in-power-bi\n",
            "--------------------------------------------------\n"
          ]
        },
        {
          "name": "stderr",
          "output_type": "stream",
          "text": [
            "Page 3 Progress:  83%|████████▎ | 25/30 [01:24<00:17,  3.60s/course, Course=Introduction to Regression in ...]"
          ]
        },
        {
          "name": "stdout",
          "output_type": "stream",
          "text": [
            "\n",
            "Course: Introduction to Regression in R\n",
            "URL: https://www.datacamp.com/courses/introduction-to-regression-in-r\n",
            "--------------------------------------------------\n"
          ]
        },
        {
          "name": "stderr",
          "output_type": "stream",
          "text": [
            "Page 3 Progress:  87%|████████▋ | 26/30 [01:27<00:13,  3.50s/course, Course=Introduction to Snowflake SQL]    "
          ]
        },
        {
          "name": "stdout",
          "output_type": "stream",
          "text": [
            "\n",
            "Course: Introduction to Snowflake SQL\n",
            "URL: https://www.datacamp.com/courses/introduction-to-snowflake-sql\n",
            "--------------------------------------------------\n"
          ]
        },
        {
          "name": "stderr",
          "output_type": "stream",
          "text": [
            "Page 3 Progress:  90%|█████████ | 27/30 [01:31<00:11,  3.70s/course, Course=Understanding Microsoft Azure]"
          ]
        },
        {
          "name": "stdout",
          "output_type": "stream",
          "text": [
            "\n",
            "Course: Understanding Microsoft Azure\n",
            "URL: https://www.datacamp.com/courses/understanding-microsoft-azure\n",
            "--------------------------------------------------\n"
          ]
        },
        {
          "name": "stderr",
          "output_type": "stream",
          "text": [
            "Page 3 Progress:  93%|█████████▎| 28/30 [01:34<00:06,  3.36s/course, Course=Introduction to Alteryx]      "
          ]
        },
        {
          "name": "stdout",
          "output_type": "stream",
          "text": [
            "\n",
            "Course: Introduction to Alteryx\n",
            "URL: https://www.datacamp.com/courses/introduction-to-alteryx\n",
            "--------------------------------------------------\n"
          ]
        },
        {
          "name": "stderr",
          "output_type": "stream",
          "text": [
            "Page 3 Progress:  97%|█████████▋| 29/30 [01:39<00:03,  3.82s/course, Course=Introduction to Power Query in...]"
          ]
        },
        {
          "name": "stdout",
          "output_type": "stream",
          "text": [
            "\n",
            "Course: Introduction to Power Query in Excel\n",
            "URL: https://www.datacamp.com/courses/introduction-to-power-query-in-excel\n",
            "--------------------------------------------------\n"
          ]
        },
        {
          "name": "stderr",
          "output_type": "stream",
          "text": [
            "Page 3 Progress: 100%|██████████| 30/30 [01:43<00:00,  3.44s/course, Course=Introduction to Power Query in...]\n"
          ]
        },
        {
          "name": "stdout",
          "output_type": "stream",
          "text": [
            "\n",
            "Crawling page 4: https://www.datacamp.com/courses-all/page/4\n",
            "Found 30 courses on page 4\n"
          ]
        },
        {
          "name": "stderr",
          "output_type": "stream",
          "text": [
            "Page 4 Progress:   0%|          | 0/30 [00:00<?, ?course/s, Course=Introduction to SQL Server]"
          ]
        },
        {
          "name": "stdout",
          "output_type": "stream",
          "text": [
            "\n",
            "Course: Introduction to SQL Server\n",
            "URL: https://www.datacamp.com/courses/introduction-to-sql-server\n",
            "--------------------------------------------------\n"
          ]
        },
        {
          "name": "stderr",
          "output_type": "stream",
          "text": [
            "Page 4 Progress:   3%|▎         | 1/30 [00:02<01:06,  2.30s/course, Course=Data Storytelling Concepts]"
          ]
        },
        {
          "name": "stdout",
          "output_type": "stream",
          "text": [
            "\n",
            "Course: Data Storytelling Concepts\n",
            "URL: https://www.datacamp.com/courses/data-storytelling-concepts\n",
            "--------------------------------------------------\n"
          ]
        },
        {
          "name": "stderr",
          "output_type": "stream",
          "text": [
            "Page 4 Progress:   7%|▋         | 2/30 [00:05<01:16,  2.71s/course, Course=Introduction to LLMs in Python]"
          ]
        },
        {
          "name": "stdout",
          "output_type": "stream",
          "text": [
            "\n",
            "Course: Introduction to LLMs in Python\n",
            "URL: https://www.datacamp.com/courses/introduction-to-llms-in-python\n",
            "--------------------------------------------------\n"
          ]
        },
        {
          "name": "stderr",
          "output_type": "stream",
          "text": [
            "Page 4 Progress:  10%|█         | 3/30 [00:09<01:35,  3.55s/course, Course=Introduction to Natural Langua...]"
          ]
        },
        {
          "name": "stdout",
          "output_type": "stream",
          "text": [
            "\n",
            "Course: Introduction to Natural Language Processing in Python\n",
            "URL: https://www.datacamp.com/courses/introduction-to-natural-language-processing-in-python\n",
            "--------------------------------------------------\n"
          ]
        },
        {
          "name": "stderr",
          "output_type": "stream",
          "text": [
            "Page 4 Progress:  13%|█▎        | 4/30 [00:12<01:19,  3.06s/course, Course=Analyzing Data in Tableau]        "
          ]
        },
        {
          "name": "stdout",
          "output_type": "stream",
          "text": [
            "\n",
            "Course: Analyzing Data in Tableau\n",
            "URL: https://www.datacamp.com/courses/analyzing-data-in-tableau\n",
            "--------------------------------------------------\n"
          ]
        },
        {
          "name": "stderr",
          "output_type": "stream",
          "text": [
            "Page 4 Progress:  17%|█▋        | 5/30 [00:14<01:14,  2.97s/course, Course=Introduction to Docker]   "
          ]
        },
        {
          "name": "stdout",
          "output_type": "stream",
          "text": [
            "\n",
            "Course: Introduction to Docker\n",
            "URL: https://www.datacamp.com/courses/introduction-to-docker\n",
            "--------------------------------------------------\n"
          ]
        },
        {
          "name": "stderr",
          "output_type": "stream",
          "text": [
            "Page 4 Progress:  20%|██        | 6/30 [00:17<01:07,  2.80s/course, Course=Introduction to Shell] "
          ]
        },
        {
          "name": "stdout",
          "output_type": "stream",
          "text": [
            "\n",
            "Course: Introduction to Shell\n",
            "URL: https://www.datacamp.com/courses/introduction-to-shell\n",
            "--------------------------------------------------\n"
          ]
        },
        {
          "name": "stderr",
          "output_type": "stream",
          "text": [
            "Page 4 Progress:  23%|██▎       | 7/30 [00:20<01:05,  2.84s/course, Course=Reports in Power BI]  "
          ]
        },
        {
          "name": "stdout",
          "output_type": "stream",
          "text": [
            "\n",
            "Course: Reports in Power BI\n",
            "URL: https://www.datacamp.com/courses/reports-in-power-bi\n",
            "--------------------------------------------------\n"
          ]
        },
        {
          "name": "stderr",
          "output_type": "stream",
          "text": [
            "Page 4 Progress:  27%|██▋       | 8/30 [00:23<01:05,  3.00s/course, Course=Introduction to Regression wit...]"
          ]
        },
        {
          "name": "stdout",
          "output_type": "stream",
          "text": [
            "\n",
            "Course: Introduction to Regression with statsmodels in Python\n",
            "URL: https://www.datacamp.com/courses/introduction-to-regression-with-statsmodels-in-python\n",
            "--------------------------------------------------\n"
          ]
        },
        {
          "name": "stderr",
          "output_type": "stream",
          "text": [
            "Page 4 Progress:  30%|███       | 9/30 [00:26<01:04,  3.06s/course, Course=Machine Learning with Tree-Bas...]"
          ]
        },
        {
          "name": "stdout",
          "output_type": "stream",
          "text": [
            "\n",
            "Course: Machine Learning with Tree-Based Models in Python\n",
            "URL: https://www.datacamp.com/courses/machine-learning-with-tree-based-models-in-python\n",
            "--------------------------------------------------\n"
          ]
        },
        {
          "name": "stderr",
          "output_type": "stream",
          "text": [
            "Page 4 Progress:  33%|███▎      | 10/30 [00:31<01:09,  3.49s/course, Course=ChatGPT Prompt Engineering for...]"
          ]
        },
        {
          "name": "stdout",
          "output_type": "stream",
          "text": [
            "\n",
            "Course: ChatGPT Prompt Engineering for Developers\n",
            "URL: https://www.datacamp.com/courses/chatgpt-prompt-engineering-for-developers\n",
            "--------------------------------------------------\n"
          ]
        },
        {
          "name": "stderr",
          "output_type": "stream",
          "text": [
            "Page 4 Progress:  37%|███▋      | 11/30 [00:36<01:14,  3.93s/course, Course=Data-Driven Decision Making in...]"
          ]
        },
        {
          "name": "stdout",
          "output_type": "stream",
          "text": [
            "\n",
            "Course: Data-Driven Decision Making in SQL\n",
            "URL: https://www.datacamp.com/courses/data-driven-decision-making-in-sql\n",
            "--------------------------------------------------\n"
          ]
        },
        {
          "name": "stderr",
          "output_type": "stream",
          "text": [
            "Page 4 Progress:  40%|████      | 12/30 [00:40<01:14,  4.15s/course, Course=ETL and ELT in Python]            "
          ]
        },
        {
          "name": "stdout",
          "output_type": "stream",
          "text": [
            "\n",
            "Course: ETL and ELT in Python\n",
            "URL: https://www.datacamp.com/courses/etl-and-elt-in-python\n",
            "--------------------------------------------------\n"
          ]
        },
        {
          "name": "stderr",
          "output_type": "stream",
          "text": [
            "Page 4 Progress:  43%|████▎     | 13/30 [00:43<01:02,  3.68s/course, Course=Introduction to Google Sheets]"
          ]
        },
        {
          "name": "stdout",
          "output_type": "stream",
          "text": [
            "\n",
            "Course: Introduction to Google Sheets\n",
            "URL: https://www.datacamp.com/courses/introduction-to-google-sheets\n",
            "--------------------------------------------------\n"
          ]
        },
        {
          "name": "stderr",
          "output_type": "stream",
          "text": [
            "Page 4 Progress:  47%|████▋     | 14/30 [00:47<01:01,  3.83s/course, Course=Introduction to Data Quality] "
          ]
        },
        {
          "name": "stdout",
          "output_type": "stream",
          "text": [
            "\n",
            "Course: Introduction to Data Quality\n",
            "URL: https://www.datacamp.com/courses/introduction-to-data-quality\n",
            "--------------------------------------------------\n"
          ]
        },
        {
          "name": "stderr",
          "output_type": "stream",
          "text": [
            "Page 4 Progress:  50%|█████     | 15/30 [00:50<00:53,  3.55s/course, Course=Data Structures and Algorithms...]"
          ]
        },
        {
          "name": "stdout",
          "output_type": "stream",
          "text": [
            "\n",
            "Course: Data Structures and Algorithms in Python\n",
            "URL: https://www.datacamp.com/courses/data-structures-and-algorithms-in-python\n",
            "--------------------------------------------------\n"
          ]
        },
        {
          "name": "stderr",
          "output_type": "stream",
          "text": [
            "Page 4 Progress:  53%|█████▎    | 16/30 [00:52<00:44,  3.16s/course, Course=Sampling in Python]               "
          ]
        },
        {
          "name": "stdout",
          "output_type": "stream",
          "text": [
            "\n",
            "Course: Sampling in Python\n",
            "URL: https://www.datacamp.com/courses/sampling-in-python\n",
            "--------------------------------------------------\n"
          ]
        },
        {
          "name": "stderr",
          "output_type": "stream",
          "text": [
            "Page 4 Progress:  57%|█████▋    | 17/30 [00:56<00:43,  3.34s/course, Course=Hypothesis Testing in Python]"
          ]
        },
        {
          "name": "stdout",
          "output_type": "stream",
          "text": [
            "\n",
            "Course: Hypothesis Testing in Python\n",
            "URL: https://www.datacamp.com/courses/hypothesis-testing-in-python\n",
            "--------------------------------------------------\n"
          ]
        },
        {
          "name": "stderr",
          "output_type": "stream",
          "text": [
            "Page 4 Progress:  60%|██████    | 18/30 [00:58<00:35,  2.95s/course, Course=Intermediate ChatGPT]        "
          ]
        },
        {
          "name": "stdout",
          "output_type": "stream",
          "text": [
            "\n",
            "Course: Intermediate ChatGPT\n",
            "URL: https://www.datacamp.com/courses/intermediate-chatgpt\n",
            "--------------------------------------------------\n"
          ]
        },
        {
          "name": "stderr",
          "output_type": "stream",
          "text": [
            "Page 4 Progress:  63%|██████▎   | 19/30 [01:02<00:35,  3.23s/course, Course=Data Connections in Power BI]"
          ]
        },
        {
          "name": "stdout",
          "output_type": "stream",
          "text": [
            "\n",
            "Course: Data Connections in Power BI\n",
            "URL: https://www.datacamp.com/courses/data-connections-in-power-bi\n",
            "--------------------------------------------------\n"
          ]
        },
        {
          "name": "stderr",
          "output_type": "stream",
          "text": [
            "Page 4 Progress:  67%|██████▋   | 20/30 [01:05<00:31,  3.19s/course, Course=Introduction to GitHub Concept...]"
          ]
        },
        {
          "name": "stdout",
          "output_type": "stream",
          "text": [
            "\n",
            "Course: Introduction to GitHub Concepts\n",
            "URL: https://www.datacamp.com/courses/introduction-to-github-concepts\n",
            "--------------------------------------------------\n"
          ]
        },
        {
          "name": "stderr",
          "output_type": "stream",
          "text": [
            "Page 4 Progress:  70%|███████   | 21/30 [01:07<00:25,  2.86s/course, Course=Writing Functions in Python]      "
          ]
        },
        {
          "name": "stdout",
          "output_type": "stream",
          "text": [
            "\n",
            "Course: Writing Functions in Python\n",
            "URL: https://www.datacamp.com/courses/writing-functions-in-python\n",
            "--------------------------------------------------\n"
          ]
        },
        {
          "name": "stderr",
          "output_type": "stream",
          "text": [
            "Page 4 Progress:  73%|███████▎  | 22/30 [01:11<00:24,  3.05s/course, Course=Trend Analysis in Power BI] "
          ]
        },
        {
          "name": "stdout",
          "output_type": "stream",
          "text": [
            "\n",
            "Course: Trend Analysis in Power BI\n",
            "URL: https://www.datacamp.com/courses/trend-analysis-in-power-bi\n",
            "--------------------------------------------------\n"
          ]
        },
        {
          "name": "stderr",
          "output_type": "stream",
          "text": [
            "Page 4 Progress:  77%|███████▋  | 23/30 [01:13<00:19,  2.82s/course, Course=Introduction to Object-Oriente...]"
          ]
        },
        {
          "name": "stdout",
          "output_type": "stream",
          "text": [
            "\n",
            "Course: Introduction to Object-Oriented Programming in Python\n",
            "URL: https://www.datacamp.com/courses/introduction-to-object-oriented-programming-in-python\n",
            "--------------------------------------------------\n"
          ]
        },
        {
          "name": "stderr",
          "output_type": "stream",
          "text": [
            "Page 4 Progress:  80%|████████  | 24/30 [01:15<00:16,  2.68s/course, Course=Forming Analytical Questions]     "
          ]
        },
        {
          "name": "stdout",
          "output_type": "stream",
          "text": [
            "\n",
            "Course: Forming Analytical Questions\n",
            "URL: https://www.datacamp.com/courses/forming-analytical-questions\n",
            "--------------------------------------------------\n"
          ]
        },
        {
          "name": "stderr",
          "output_type": "stream",
          "text": [
            "Page 4 Progress:  83%|████████▎ | 25/30 [01:20<00:15,  3.14s/course, Course=Report Design in Power BI]   "
          ]
        },
        {
          "name": "stdout",
          "output_type": "stream",
          "text": [
            "\n",
            "Course: Report Design in Power BI\n",
            "URL: https://www.datacamp.com/courses/report-design-in-power-bi\n",
            "--------------------------------------------------\n"
          ]
        },
        {
          "name": "stderr",
          "output_type": "stream",
          "text": [
            "Page 4 Progress:  87%|████████▋ | 26/30 [01:24<00:13,  3.49s/course, Course=Implementing AI Solutions in B...]"
          ]
        },
        {
          "name": "stdout",
          "output_type": "stream",
          "text": [
            "\n",
            "Course: Implementing AI Solutions in Business\n",
            "URL: https://www.datacamp.com/courses/implementing-ai-solutions-in-business\n",
            "--------------------------------------------------\n"
          ]
        },
        {
          "name": "stderr",
          "output_type": "stream",
          "text": [
            "Page 4 Progress:  90%|█████████ | 27/30 [01:28<00:10,  3.59s/course, Course=Introduction to dbt]              "
          ]
        },
        {
          "name": "stdout",
          "output_type": "stream",
          "text": [
            "\n",
            "Course: Introduction to dbt\n",
            "URL: https://www.datacamp.com/courses/introduction-to-dbt\n",
            "--------------------------------------------------\n"
          ]
        },
        {
          "name": "stderr",
          "output_type": "stream",
          "text": [
            "Page 4 Progress:  93%|█████████▎| 28/30 [01:32<00:07,  3.92s/course, Course=Introduction to Apache Airflow...]"
          ]
        },
        {
          "name": "stdout",
          "output_type": "stream",
          "text": [
            "\n",
            "Course: Introduction to Apache Airflow in Python\n",
            "URL: https://www.datacamp.com/courses/introduction-to-apache-airflow-in-python\n",
            "--------------------------------------------------\n"
          ]
        },
        {
          "name": "stderr",
          "output_type": "stream",
          "text": [
            "Page 4 Progress:  97%|█████████▋| 29/30 [01:35<00:03,  3.54s/course, Course=MLOps Concepts]                   "
          ]
        },
        {
          "name": "stdout",
          "output_type": "stream",
          "text": [
            "\n",
            "Course: MLOps Concepts\n",
            "URL: https://www.datacamp.com/courses/mlops-concepts\n",
            "--------------------------------------------------\n"
          ]
        },
        {
          "name": "stderr",
          "output_type": "stream",
          "text": [
            "Page 4 Progress: 100%|██████████| 30/30 [01:39<00:00,  3.31s/course, Course=MLOps Concepts]\n"
          ]
        },
        {
          "name": "stdout",
          "output_type": "stream",
          "text": [
            "\n",
            "Crawling page 5: https://www.datacamp.com/courses-all/page/5\n",
            "Found 30 courses on page 5\n"
          ]
        },
        {
          "name": "stderr",
          "output_type": "stream",
          "text": [
            "Page 5 Progress:   0%|          | 0/30 [00:00<?, ?course/s, Course=Working with Hugging Face]"
          ]
        },
        {
          "name": "stdout",
          "output_type": "stream",
          "text": [
            "\n",
            "Course: Working with Hugging Face\n",
            "URL: https://www.datacamp.com/courses/working-with-hugging-face\n",
            "--------------------------------------------------\n"
          ]
        },
        {
          "name": "stderr",
          "output_type": "stream",
          "text": [
            "Page 5 Progress:   3%|▎         | 1/30 [00:03<01:51,  3.86s/course, Course=Deploying and Maintaining Asse...]"
          ]
        },
        {
          "name": "stdout",
          "output_type": "stream",
          "text": [
            "\n",
            "Course: Deploying and Maintaining Assets in Power BI\n",
            "URL: https://www.datacamp.com/courses/deploying-and-maintaining-assets-in-power-bi\n",
            "--------------------------------------------------\n"
          ]
        },
        {
          "name": "stderr",
          "output_type": "stream",
          "text": [
            "Page 5 Progress:   7%|▋         | 2/30 [00:07<01:50,  3.93s/course, Course=Web Scraping in Python]           "
          ]
        },
        {
          "name": "stdout",
          "output_type": "stream",
          "text": [
            "\n",
            "Course: Web Scraping in Python\n",
            "URL: https://www.datacamp.com/courses/web-scraping-with-python\n",
            "--------------------------------------------------\n"
          ]
        },
        {
          "name": "stderr",
          "output_type": "stream",
          "text": [
            "Page 5 Progress:  10%|█         | 3/30 [00:12<01:55,  4.28s/course, Course=Case Study: Analyzing Customer...]"
          ]
        },
        {
          "name": "stdout",
          "output_type": "stream",
          "text": [
            "\n",
            "Course: Case Study: Analyzing Customer Churn in Excel\n",
            "URL: https://www.datacamp.com/courses/case-study-analyzing-customer-churn-in-excel\n",
            "--------------------------------------------------\n"
          ]
        },
        {
          "name": "stderr",
          "output_type": "stream",
          "text": [
            "Page 5 Progress:  13%|█▎        | 4/30 [00:14<01:30,  3.47s/course, Course=Introduction to Importing Data...]"
          ]
        },
        {
          "name": "stdout",
          "output_type": "stream",
          "text": [
            "\n",
            "Course: Introduction to Importing Data in R\n",
            "URL: https://www.datacamp.com/courses/introduction-to-importing-data-in-r\n",
            "--------------------------------------------------\n"
          ]
        },
        {
          "name": "stderr",
          "output_type": "stream",
          "text": [
            "Page 5 Progress:  17%|█▋        | 5/30 [00:19<01:36,  3.86s/course, Course=Financial Modeling in Excel]      "
          ]
        },
        {
          "name": "stdout",
          "output_type": "stream",
          "text": [
            "\n",
            "Course: Financial Modeling in Excel\n",
            "URL: https://www.datacamp.com/courses/financial-modeling-in-excel\n",
            "--------------------------------------------------\n"
          ]
        },
        {
          "name": "stderr",
          "output_type": "stream",
          "text": [
            "Page 5 Progress:  20%|██        | 6/30 [00:22<01:30,  3.75s/course, Course=Creating Dashboards in Tableau]"
          ]
        },
        {
          "name": "stdout",
          "output_type": "stream",
          "text": [
            "\n",
            "Course: Creating Dashboards in Tableau\n",
            "URL: https://www.datacamp.com/courses/creating-dashboards-in-tableau\n",
            "--------------------------------------------------\n"
          ]
        },
        {
          "name": "stderr",
          "output_type": "stream",
          "text": [
            "Page 5 Progress:  23%|██▎       | 7/30 [00:25<01:17,  3.35s/course, Course=Exploratory Data Analysis in R]"
          ]
        },
        {
          "name": "stdout",
          "output_type": "stream",
          "text": [
            "\n",
            "Course: Exploratory Data Analysis in R\n",
            "URL: https://www.datacamp.com/courses/exploratory-data-analysis-in-r\n",
            "--------------------------------------------------\n"
          ]
        },
        {
          "name": "stderr",
          "output_type": "stream",
          "text": [
            "Page 5 Progress:  27%|██▋       | 8/30 [00:27<01:04,  2.95s/course, Course=Intermediate Deep Learning wit...]"
          ]
        },
        {
          "name": "stdout",
          "output_type": "stream",
          "text": [
            "\n",
            "Course: Intermediate Deep Learning with PyTorch\n",
            "URL: https://www.datacamp.com/courses/intermediate-deep-learning-with-pytorch\n",
            "--------------------------------------------------\n"
          ]
        },
        {
          "name": "stderr",
          "output_type": "stream",
          "text": [
            "Page 5 Progress:  30%|███       | 9/30 [00:31<01:08,  3.28s/course, Course=Machine Learning for Business]    "
          ]
        },
        {
          "name": "stdout",
          "output_type": "stream",
          "text": [
            "\n",
            "Course: Machine Learning for Business\n",
            "URL: https://www.datacamp.com/courses/machine-learning-for-business\n",
            "--------------------------------------------------\n"
          ]
        },
        {
          "name": "stderr",
          "output_type": "stream",
          "text": [
            "Page 5 Progress:  33%|███▎      | 10/30 [00:36<01:14,  3.72s/course, Course=Preprocessing for Machine Lear...]"
          ]
        },
        {
          "name": "stdout",
          "output_type": "stream",
          "text": [
            "\n",
            "Course: Preprocessing for Machine Learning in Python\n",
            "URL: https://www.datacamp.com/courses/preprocessing-for-machine-learning-in-python\n",
            "--------------------------------------------------\n"
          ]
        },
        {
          "name": "stderr",
          "output_type": "stream",
          "text": [
            "Page 5 Progress:  37%|███▋      | 11/30 [00:38<01:04,  3.38s/course, Course=Software Engineering Principle...]"
          ]
        },
        {
          "name": "stdout",
          "output_type": "stream",
          "text": [
            "\n",
            "Course: Software Engineering Principles in Python\n",
            "URL: https://www.datacamp.com/courses/software-engineering-principles-in-python\n",
            "--------------------------------------------------\n"
          ]
        },
        {
          "name": "stderr",
          "output_type": "stream",
          "text": [
            "Page 5 Progress:  40%|████      | 12/30 [00:41<00:55,  3.08s/course, Course=Working with Dates and Times i...]"
          ]
        },
        {
          "name": "stdout",
          "output_type": "stream",
          "text": [
            "\n",
            "Course: Working with Dates and Times in Python\n",
            "URL: https://www.datacamp.com/courses/working-with-dates-and-times-in-python\n",
            "--------------------------------------------------\n"
          ]
        },
        {
          "name": "stderr",
          "output_type": "stream",
          "text": [
            "Page 5 Progress:  43%|████▎     | 13/30 [00:45<00:58,  3.42s/course, Course=Data Governance Concepts]         "
          ]
        },
        {
          "name": "stdout",
          "output_type": "stream",
          "text": [
            "\n",
            "Course: Data Governance Concepts\n",
            "URL: https://www.datacamp.com/courses/data-governance-concepts\n",
            "--------------------------------------------------\n"
          ]
        },
        {
          "name": "stderr",
          "output_type": "stream",
          "text": [
            "Page 5 Progress:  47%|████▋     | 14/30 [00:48<00:54,  3.42s/course, Course=Introduction to NumPy]   "
          ]
        },
        {
          "name": "stdout",
          "output_type": "stream",
          "text": [
            "\n",
            "Course: Introduction to NumPy\n",
            "URL: https://www.datacamp.com/courses/introduction-to-numpy\n",
            "--------------------------------------------------\n"
          ]
        },
        {
          "name": "stderr",
          "output_type": "stream",
          "text": [
            "Page 5 Progress:  50%|█████     | 15/30 [00:50<00:45,  3.03s/course, Course=Working with Categorical Data ...]"
          ]
        },
        {
          "name": "stdout",
          "output_type": "stream",
          "text": [
            "\n",
            "Course: Working with Categorical Data in Python\n",
            "URL: https://www.datacamp.com/courses/working-with-categorical-data-in-python\n",
            "--------------------------------------------------\n"
          ]
        },
        {
          "name": "stderr",
          "output_type": "stream",
          "text": [
            "Page 5 Progress:  53%|█████▎    | 16/30 [00:54<00:43,  3.09s/course, Course=Joining Data with dplyr]          "
          ]
        },
        {
          "name": "stdout",
          "output_type": "stream",
          "text": [
            "\n",
            "Course: Joining Data with dplyr\n",
            "URL: https://www.datacamp.com/courses/joining-data-with-dplyr\n",
            "--------------------------------------------------\n"
          ]
        },
        {
          "name": "stderr",
          "output_type": "stream",
          "text": [
            "Page 5 Progress:  57%|█████▋    | 17/30 [00:58<00:45,  3.53s/course, Course=Big Data Fundamentals with PyS...]"
          ]
        },
        {
          "name": "stdout",
          "output_type": "stream",
          "text": [
            "\n",
            "Course: Big Data Fundamentals with PySpark\n",
            "URL: https://www.datacamp.com/courses/big-data-fundamentals-with-pyspark\n",
            "--------------------------------------------------\n"
          ]
        },
        {
          "name": "stderr",
          "output_type": "stream",
          "text": [
            "Page 5 Progress:  60%|██████    | 18/30 [01:00<00:36,  3.07s/course, Course=Introduction to Data Privacy]     "
          ]
        },
        {
          "name": "stdout",
          "output_type": "stream",
          "text": [
            "\n",
            "Course: Introduction to Data Privacy\n",
            "URL: https://www.datacamp.com/courses/introduction-to-data-privacy\n",
            "--------------------------------------------------\n"
          ]
        },
        {
          "name": "stderr",
          "output_type": "stream",
          "text": [
            "Page 5 Progress:  63%|██████▎   | 19/30 [01:03<00:33,  3.02s/course, Course=Data Literacy Case Study: Remo...]"
          ]
        },
        {
          "name": "stdout",
          "output_type": "stream",
          "text": [
            "\n",
            "Course: Data Literacy Case Study: Remote Working Analysis\n",
            "URL: https://www.datacamp.com/courses/data-literacy-case-study-remote-working-analysis\n",
            "--------------------------------------------------\n"
          ]
        },
        {
          "name": "stderr",
          "output_type": "stream",
          "text": [
            "Page 5 Progress:  67%|██████▋   | 20/30 [01:08<00:35,  3.52s/course, Course=Data Types in Python]             "
          ]
        },
        {
          "name": "stdout",
          "output_type": "stream",
          "text": [
            "\n",
            "Course: Data Types in Python\n",
            "URL: https://www.datacamp.com/courses/data-types-in-python\n",
            "--------------------------------------------------\n"
          ]
        },
        {
          "name": "stderr",
          "output_type": "stream",
          "text": [
            "Page 5 Progress:  70%|███████   | 21/30 [01:11<00:32,  3.56s/course, Course=Containerization and Virtualiz...]"
          ]
        },
        {
          "name": "stdout",
          "output_type": "stream",
          "text": [
            "\n",
            "Course: Containerization and Virtualization Concepts\n",
            "URL: https://www.datacamp.com/courses/containerization-and-virtualization-concepts\n",
            "--------------------------------------------------\n"
          ]
        },
        {
          "name": "stderr",
          "output_type": "stream",
          "text": [
            "Page 5 Progress:  73%|███████▎  | 22/30 [01:15<00:28,  3.55s/course, Course=Understanding Excel]              "
          ]
        },
        {
          "name": "stdout",
          "output_type": "stream",
          "text": [
            "\n",
            "Course: Understanding Excel\n",
            "URL: https://www.datacamp.com/courses/understanding-excel\n",
            "--------------------------------------------------\n"
          ]
        },
        {
          "name": "stderr",
          "output_type": "stream",
          "text": [
            "Page 5 Progress:  77%|███████▋  | 23/30 [01:19<00:24,  3.54s/course, Course=AWS Cloud Technology and Servi...]"
          ]
        },
        {
          "name": "stdout",
          "output_type": "stream",
          "text": [
            "\n",
            "Course: AWS Cloud Technology and Services Concepts\n",
            "URL: https://www.datacamp.com/courses/aws-cloud-technology-and-services\n",
            "--------------------------------------------------\n"
          ]
        },
        {
          "name": "stderr",
          "output_type": "stream",
          "text": [
            "Page 5 Progress:  80%|████████  | 24/30 [01:23<00:23,  3.91s/course, Course=Manipulating Time Series Data ...]"
          ]
        },
        {
          "name": "stdout",
          "output_type": "stream",
          "text": [
            "\n",
            "Course: Manipulating Time Series Data in Python\n",
            "URL: https://www.datacamp.com/courses/manipulating-time-series-data-in-python\n",
            "--------------------------------------------------\n"
          ]
        },
        {
          "name": "stderr",
          "output_type": "stream",
          "text": [
            "Page 5 Progress:  83%|████████▎ | 25/30 [01:27<00:18,  3.76s/course, Course=Intermediate Regression in R]     "
          ]
        },
        {
          "name": "stdout",
          "output_type": "stream",
          "text": [
            "\n",
            "Course: Intermediate Regression in R\n",
            "URL: https://www.datacamp.com/courses/intermediate-regression-in-r\n",
            "--------------------------------------------------\n"
          ]
        },
        {
          "name": "stderr",
          "output_type": "stream",
          "text": [
            "Page 5 Progress:  87%|████████▋ | 26/30 [01:29<00:13,  3.33s/course, Course=Hypothesis Testing in R]     "
          ]
        },
        {
          "name": "stdout",
          "output_type": "stream",
          "text": [
            "\n",
            "Course: Hypothesis Testing in R\n",
            "URL: https://www.datacamp.com/courses/hypothesis-testing-in-r\n",
            "--------------------------------------------------\n"
          ]
        },
        {
          "name": "stderr",
          "output_type": "stream",
          "text": [
            "Page 5 Progress:  90%|█████████ | 27/30 [01:32<00:09,  3.32s/course, Course=Advanced Excel Functions]"
          ]
        },
        {
          "name": "stdout",
          "output_type": "stream",
          "text": [
            "\n",
            "Course: Advanced Excel Functions\n",
            "URL: https://www.datacamp.com/courses/advanced-excel-functions\n",
            "--------------------------------------------------\n"
          ]
        },
        {
          "name": "stderr",
          "output_type": "stream",
          "text": [
            "Page 5 Progress:  93%|█████████▎| 28/30 [01:37<00:07,  3.65s/course, Course=Retrieval Augmented Generation...]"
          ]
        },
        {
          "name": "stdout",
          "output_type": "stream",
          "text": [
            "\n",
            "Course: Retrieval Augmented Generation (RAG) with LangChain\n",
            "URL: https://www.datacamp.com/courses/retrieval-augmented-generation-rag-with-langchain\n",
            "--------------------------------------------------\n"
          ]
        },
        {
          "name": "stderr",
          "output_type": "stream",
          "text": [
            "Page 5 Progress:  97%|█████████▋| 29/30 [01:40<00:03,  3.60s/course, Course=Introduction to Deep Learning ...]"
          ]
        },
        {
          "name": "stdout",
          "output_type": "stream",
          "text": [
            "\n",
            "Course: Introduction to Deep Learning in Python\n",
            "URL: https://www.datacamp.com/courses/introduction-to-deep-learning-in-python\n",
            "--------------------------------------------------\n"
          ]
        },
        {
          "name": "stderr",
          "output_type": "stream",
          "text": [
            "Page 5 Progress: 100%|██████████| 30/30 [01:44<00:00,  3.47s/course, Course=Introduction to Deep Learning ...]\n"
          ]
        },
        {
          "name": "stdout",
          "output_type": "stream",
          "text": [
            "\n",
            "Crawling page 6: https://www.datacamp.com/courses-all/page/6\n",
            "Found 30 courses on page 6\n"
          ]
        },
        {
          "name": "stderr",
          "output_type": "stream",
          "text": [
            "Page 6 Progress:   0%|          | 0/30 [00:00<?, ?course/s, Course=Introduction to Data Ethics]"
          ]
        },
        {
          "name": "stdout",
          "output_type": "stream",
          "text": [
            "\n",
            "Course: Introduction to Data Ethics\n",
            "URL: https://www.datacamp.com/courses/introduction-to-data-ethics\n",
            "--------------------------------------------------\n"
          ]
        },
        {
          "name": "stderr",
          "output_type": "stream",
          "text": [
            "Page 6 Progress:   3%|▎         | 1/30 [00:04<02:02,  4.23s/course, Course=Understanding Modern Data Arch...]"
          ]
        },
        {
          "name": "stdout",
          "output_type": "stream",
          "text": [
            "\n",
            "Course: Understanding Modern Data Architecture\n",
            "URL: https://www.datacamp.com/courses/understanding-modern-data-architecture\n",
            "--------------------------------------------------\n"
          ]
        },
        {
          "name": "stderr",
          "output_type": "stream",
          "text": [
            "Page 6 Progress:   7%|▋         | 2/30 [00:07<01:50,  3.93s/course, Course=Cleaning Data in R]               "
          ]
        },
        {
          "name": "stdout",
          "output_type": "stream",
          "text": [
            "\n",
            "Course: Cleaning Data in R\n",
            "URL: https://www.datacamp.com/courses/cleaning-data-in-r\n",
            "--------------------------------------------------\n"
          ]
        },
        {
          "name": "stderr",
          "output_type": "stream",
          "text": [
            "Page 6 Progress:  10%|█         | 3/30 [00:12<01:53,  4.19s/course, Course=Understanding Microsoft Azure ...]"
          ]
        },
        {
          "name": "stdout",
          "output_type": "stream",
          "text": [
            "\n",
            "Course: Understanding Microsoft Azure Architecture and Services\n",
            "URL: https://www.datacamp.com/courses/understanding-microsoft-azure-architecture-and-services\n",
            "--------------------------------------------------\n"
          ]
        },
        {
          "name": "stderr",
          "output_type": "stream",
          "text": [
            "Page 6 Progress:  13%|█▎        | 4/30 [00:16<01:50,  4.26s/course, Course=Analyzing Business Data in SQL]   "
          ]
        },
        {
          "name": "stdout",
          "output_type": "stream",
          "text": [
            "\n",
            "Course: Analyzing Business Data in SQL\n",
            "URL: https://www.datacamp.com/courses/analyzing-business-data-in-sql\n",
            "--------------------------------------------------\n"
          ]
        },
        {
          "name": "stderr",
          "output_type": "stream",
          "text": [
            "Page 6 Progress:  17%|█▋        | 5/30 [00:18<01:27,  3.50s/course, Course=Dashboard Design Concepts]     "
          ]
        },
        {
          "name": "stdout",
          "output_type": "stream",
          "text": [
            "\n",
            "Course: Dashboard Design Concepts\n",
            "URL: https://www.datacamp.com/courses/dashboard-design-concepts\n",
            "--------------------------------------------------\n"
          ]
        },
        {
          "name": "stderr",
          "output_type": "stream",
          "text": [
            "Page 6 Progress:  20%|██        | 6/30 [00:22<01:27,  3.66s/course, Course=Introduction to Data Engineeri...]"
          ]
        },
        {
          "name": "stdout",
          "output_type": "stream",
          "text": [
            "\n",
            "Course: Introduction to Data Engineering\n",
            "URL: https://www.datacamp.com/courses/introduction-to-data-engineering\n",
            "--------------------------------------------------\n"
          ]
        },
        {
          "name": "stderr",
          "output_type": "stream",
          "text": [
            "Page 6 Progress:  23%|██▎       | 7/30 [00:26<01:25,  3.73s/course, Course=Math for Finance Professionals]   "
          ]
        },
        {
          "name": "stdout",
          "output_type": "stream",
          "text": [
            "\n",
            "Course: Math for Finance Professionals\n",
            "URL: https://www.datacamp.com/courses/math-for-finance-professionals\n",
            "--------------------------------------------------\n"
          ]
        },
        {
          "name": "stderr",
          "output_type": "stream",
          "text": [
            "Page 6 Progress:  27%|██▋       | 8/30 [00:29<01:13,  3.35s/course, Course=Applying SQL to Real-World Pro...]"
          ]
        },
        {
          "name": "stdout",
          "output_type": "stream",
          "text": [
            "\n",
            "Course: Applying SQL to Real-World Problems\n",
            "URL: https://www.datacamp.com/courses/applying-sql-to-real-world-problems\n",
            "--------------------------------------------------\n"
          ]
        },
        {
          "name": "stderr",
          "output_type": "stream",
          "text": [
            "Page 6 Progress:  30%|███       | 9/30 [00:31<01:04,  3.08s/course, Course=Introduction to Kubernetes]       "
          ]
        },
        {
          "name": "stdout",
          "output_type": "stream",
          "text": [
            "\n",
            "Course: Introduction to Kubernetes\n",
            "URL: https://www.datacamp.com/courses/introduction-to-kubernetes\n",
            "--------------------------------------------------\n"
          ]
        },
        {
          "name": "stderr",
          "output_type": "stream",
          "text": [
            "Page 6 Progress:  33%|███▎      | 10/30 [00:35<01:04,  3.22s/course, Course=Databricks Concepts]       "
          ]
        },
        {
          "name": "stdout",
          "output_type": "stream",
          "text": [
            "\n",
            "Course: Databricks Concepts\n",
            "URL: https://www.datacamp.com/courses/databricks-concepts\n",
            "--------------------------------------------------\n"
          ]
        },
        {
          "name": "stderr",
          "output_type": "stream",
          "text": [
            "Page 6 Progress:  37%|███▋      | 11/30 [00:39<01:03,  3.35s/course, Course=Foundations of PySpark]"
          ]
        },
        {
          "name": "stdout",
          "output_type": "stream",
          "text": [
            "\n",
            "Course: Foundations of PySpark\n",
            "URL: https://www.datacamp.com/courses/foundations-of-pyspark\n",
            "--------------------------------------------------\n"
          ]
        },
        {
          "name": "stderr",
          "output_type": "stream",
          "text": [
            "Page 6 Progress:  40%|████      | 12/30 [00:42<01:00,  3.34s/course, Course=Power Pivot in Excel]  "
          ]
        },
        {
          "name": "stdout",
          "output_type": "stream",
          "text": [
            "\n",
            "Course: Power Pivot in Excel\n",
            "URL: https://www.datacamp.com/courses/power-pivot-in-excel\n",
            "--------------------------------------------------\n"
          ]
        },
        {
          "name": "stderr",
          "output_type": "stream",
          "text": [
            "Page 6 Progress:  43%|████▎     | 13/30 [00:44<00:52,  3.07s/course, Course=Supervised Learning in R: Clas...]"
          ]
        },
        {
          "name": "stdout",
          "output_type": "stream",
          "text": [
            "\n",
            "Course: Supervised Learning in R: Classification\n",
            "URL: https://www.datacamp.com/courses/supervised-learning-in-r-classification\n",
            "--------------------------------------------------\n"
          ]
        },
        {
          "name": "stderr",
          "output_type": "stream",
          "text": [
            "Page 6 Progress:  47%|████▋     | 14/30 [00:47<00:49,  3.09s/course, Course=Intermediate Data Visualizatio...]"
          ]
        },
        {
          "name": "stdout",
          "output_type": "stream",
          "text": [
            "\n",
            "Course: Intermediate Data Visualization with ggplot2\n",
            "URL: https://www.datacamp.com/courses/intermediate-data-visualization-with-ggplot2\n",
            "--------------------------------------------------\n"
          ]
        },
        {
          "name": "stderr",
          "output_type": "stream",
          "text": [
            "Page 6 Progress:  50%|█████     | 15/30 [00:50<00:43,  2.93s/course, Course=Introduction to Microsoft Fabr...]"
          ]
        },
        {
          "name": "stdout",
          "output_type": "stream",
          "text": [
            "\n",
            "Course: Introduction to Microsoft Fabric\n",
            "URL: https://www.datacamp.com/courses/introduction-to-microsoft-fabric\n",
            "--------------------------------------------------\n"
          ]
        },
        {
          "name": "stderr",
          "output_type": "stream",
          "text": [
            "Page 6 Progress:  53%|█████▎    | 16/30 [00:53<00:42,  3.07s/course, Course=Experimental Design in Python]    "
          ]
        },
        {
          "name": "stdout",
          "output_type": "stream",
          "text": [
            "\n",
            "Course: Experimental Design in Python\n",
            "URL: https://www.datacamp.com/courses/experimental-design-in-python\n",
            "--------------------------------------------------\n"
          ]
        },
        {
          "name": "stderr",
          "output_type": "stream",
          "text": [
            "Page 6 Progress:  57%|█████▋    | 17/30 [00:56<00:37,  2.87s/course, Course=Data Analysis in Google Sheets]"
          ]
        },
        {
          "name": "stdout",
          "output_type": "stream",
          "text": [
            "\n",
            "Course: Data Analysis in Google Sheets\n",
            "URL: https://www.datacamp.com/courses/data-analysis-in-google-sheets\n",
            "--------------------------------------------------\n"
          ]
        },
        {
          "name": "stderr",
          "output_type": "stream",
          "text": [
            "Page 6 Progress:  60%|██████    | 18/30 [00:59<00:35,  2.99s/course, Course=Introduction to FastAPI]       "
          ]
        },
        {
          "name": "stdout",
          "output_type": "stream",
          "text": [
            "\n",
            "Course: Introduction to FastAPI\n",
            "URL: https://www.datacamp.com/courses/introduction-to-fastapi\n",
            "--------------------------------------------------\n"
          ]
        },
        {
          "name": "stderr",
          "output_type": "stream",
          "text": [
            "Page 6 Progress:  63%|██████▎   | 19/30 [01:02<00:34,  3.12s/course, Course=Streamlined Data Ingestion wit...]"
          ]
        },
        {
          "name": "stdout",
          "output_type": "stream",
          "text": [
            "\n",
            "Course: Streamlined Data Ingestion with pandas\n",
            "URL: https://www.datacamp.com/courses/streamlined-data-ingestion-with-pandas\n",
            "--------------------------------------------------\n"
          ]
        },
        {
          "name": "stderr",
          "output_type": "stream",
          "text": [
            "Page 6 Progress:  67%|██████▋   | 20/30 [01:06<00:32,  3.25s/course, Course=Large Language Models for Busi...]"
          ]
        },
        {
          "name": "stdout",
          "output_type": "stream",
          "text": [
            "\n",
            "Course: Large Language Models for Business\n",
            "URL: https://www.datacamp.com/courses/large-language-models-for-business\n",
            "--------------------------------------------------\n"
          ]
        },
        {
          "name": "stderr",
          "output_type": "stream",
          "text": [
            "Page 6 Progress:  70%|███████   | 21/30 [01:10<00:32,  3.58s/course, Course=Connecting Data in Tableau]       "
          ]
        },
        {
          "name": "stdout",
          "output_type": "stream",
          "text": [
            "\n",
            "Course: Connecting Data in Tableau\n",
            "URL: https://www.datacamp.com/courses/connecting-data-in-tableau\n",
            "--------------------------------------------------\n"
          ]
        },
        {
          "name": "stderr",
          "output_type": "stream",
          "text": [
            "Page 6 Progress:  73%|███████▎  | 22/30 [01:14<00:28,  3.51s/course, Course=Artificial Intelligence (AI) S...]"
          ]
        },
        {
          "name": "stdout",
          "output_type": "stream",
          "text": [
            "\n",
            "Course: Artificial Intelligence (AI) Strategy\n",
            "URL: https://www.datacamp.com/courses/artificial-intelligence-ai-strategy\n",
            "--------------------------------------------------\n"
          ]
        },
        {
          "name": "stderr",
          "output_type": "stream",
          "text": [
            "Page 6 Progress:  77%|███████▋  | 23/30 [01:17<00:24,  3.56s/course, Course=Developing AI Systems with the...]"
          ]
        },
        {
          "name": "stdout",
          "output_type": "stream",
          "text": [
            "\n",
            "Course: Developing AI Systems with the OpenAI API\n",
            "URL: https://www.datacamp.com/courses/developing-ai-systems-with-the-openai-api\n",
            "--------------------------------------------------\n"
          ]
        },
        {
          "name": "stderr",
          "output_type": "stream",
          "text": [
            "Page 6 Progress:  80%|████████  | 24/30 [01:21<00:21,  3.64s/course, Course=Intermediate Python for Financ...]"
          ]
        },
        {
          "name": "stdout",
          "output_type": "stream",
          "text": [
            "\n",
            "Course: Intermediate Python for Finance\n",
            "URL: https://www.datacamp.com/courses/intermediate-python-for-finance\n",
            "--------------------------------------------------\n"
          ]
        },
        {
          "name": "stderr",
          "output_type": "stream",
          "text": [
            "Page 6 Progress:  83%|████████▎ | 25/30 [01:25<00:18,  3.68s/course, Course=Data Visualization in Tableau]    "
          ]
        },
        {
          "name": "stdout",
          "output_type": "stream",
          "text": [
            "\n",
            "Course: Data Visualization in Tableau\n",
            "URL: https://www.datacamp.com/courses/data-visualization-in-tableau\n",
            "--------------------------------------------------\n"
          ]
        },
        {
          "name": "stderr",
          "output_type": "stream",
          "text": [
            "Page 6 Progress:  87%|████████▋ | 26/30 [01:28<00:14,  3.52s/course, Course=Cluster Analysis in Python]   "
          ]
        },
        {
          "name": "stdout",
          "output_type": "stream",
          "text": [
            "\n",
            "Course: Cluster Analysis in Python\n",
            "URL: https://www.datacamp.com/courses/cluster-analysis-in-python\n",
            "--------------------------------------------------\n"
          ]
        },
        {
          "name": "stderr",
          "output_type": "stream",
          "text": [
            "Page 6 Progress:  90%|█████████ | 27/30 [01:31<00:10,  3.42s/course, Course=Reinforcement Learning with Gy...]"
          ]
        },
        {
          "name": "stdout",
          "output_type": "stream",
          "text": [
            "\n",
            "Course: Reinforcement Learning with Gymnasium in Python\n",
            "URL: https://www.datacamp.com/courses/reinforcement-learning-with-gymnasium-in-python\n",
            "--------------------------------------------------\n"
          ]
        },
        {
          "name": "stderr",
          "output_type": "stream",
          "text": [
            "Page 6 Progress:  93%|█████████▎| 28/30 [01:35<00:06,  3.43s/course, Course=Introduction to Object-Oriente...]"
          ]
        },
        {
          "name": "stdout",
          "output_type": "stream",
          "text": [
            "\n",
            "Course: Introduction to Object-Oriented Programming in Java\n",
            "URL: https://www.datacamp.com/courses/introduction-to-object-oriented-programming-in-java\n",
            "--------------------------------------------------\n"
          ]
        },
        {
          "name": "stderr",
          "output_type": "stream",
          "text": [
            "Page 6 Progress:  97%|█████████▋| 29/30 [01:38<00:03,  3.42s/course, Course=Image Processing in Python]       "
          ]
        },
        {
          "name": "stdout",
          "output_type": "stream",
          "text": [
            "\n",
            "Course: Image Processing in Python\n",
            "URL: https://www.datacamp.com/courses/image-processing-in-python\n",
            "--------------------------------------------------\n"
          ]
        },
        {
          "name": "stderr",
          "output_type": "stream",
          "text": [
            "Page 6 Progress: 100%|██████████| 30/30 [01:42<00:00,  3.42s/course, Course=Image Processing in Python]\n"
          ]
        },
        {
          "name": "stdout",
          "output_type": "stream",
          "text": [
            "\n",
            "Crawling page 7: https://www.datacamp.com/courses-all/page/7\n",
            "Found 30 courses on page 7\n"
          ]
        },
        {
          "name": "stderr",
          "output_type": "stream",
          "text": [
            "Page 7 Progress:   0%|          | 0/30 [00:00<?, ?course/s, Course=Linear Classifiers in Python]"
          ]
        },
        {
          "name": "stdout",
          "output_type": "stream",
          "text": [
            "\n",
            "Course: Linear Classifiers in Python\n",
            "URL: https://www.datacamp.com/courses/linear-classifiers-in-python\n",
            "--------------------------------------------------\n"
          ]
        },
        {
          "name": "stderr",
          "output_type": "stream",
          "text": [
            "Page 7 Progress:   3%|▎         | 1/30 [00:02<01:07,  2.32s/course, Course=Introduction to Data Security]"
          ]
        },
        {
          "name": "stdout",
          "output_type": "stream",
          "text": [
            "\n",
            "Course: Introduction to Data Security\n",
            "URL: https://www.datacamp.com/courses/introduction-to-data-security\n",
            "--------------------------------------------------\n"
          ]
        },
        {
          "name": "stderr",
          "output_type": "stream",
          "text": [
            "Page 7 Progress:   7%|▋         | 2/30 [00:05<01:11,  2.56s/course, Course=Introduction to Testing in Pyt...]"
          ]
        },
        {
          "name": "stdout",
          "output_type": "stream",
          "text": [
            "\n",
            "Course: Introduction to Testing in Python\n",
            "URL: https://www.datacamp.com/courses/introduction-to-testing-in-python\n",
            "--------------------------------------------------\n"
          ]
        },
        {
          "name": "stderr",
          "output_type": "stream",
          "text": [
            "Page 7 Progress:  10%|█         | 3/30 [00:07<01:13,  2.72s/course, Course=Advanced Git]                     "
          ]
        },
        {
          "name": "stdout",
          "output_type": "stream",
          "text": [
            "\n",
            "Course: Advanced Git\n",
            "URL: https://www.datacamp.com/courses/advanced-git\n",
            "--------------------------------------------------\n"
          ]
        },
        {
          "name": "stderr",
          "output_type": "stream",
          "text": [
            "Page 7 Progress:  13%|█▎        | 4/30 [00:11<01:23,  3.21s/course, Course=Working with Llama 3]"
          ]
        },
        {
          "name": "stdout",
          "output_type": "stream",
          "text": [
            "\n",
            "Course: Working with Llama 3\n",
            "URL: https://www.datacamp.com/courses/working-with-llama-3\n",
            "--------------------------------------------------\n"
          ]
        },
        {
          "name": "stderr",
          "output_type": "stream",
          "text": [
            "Page 7 Progress:  17%|█▋        | 5/30 [00:16<01:28,  3.54s/course, Course=Financial Analysis in Power BI]"
          ]
        },
        {
          "name": "stdout",
          "output_type": "stream",
          "text": [
            "\n",
            "Course: Financial Analysis in Power BI\n",
            "URL: https://www.datacamp.com/courses/financial-analysis-in-power-bi\n",
            "--------------------------------------------------\n"
          ]
        },
        {
          "name": "stderr",
          "output_type": "stream",
          "text": [
            "Page 7 Progress:  20%|██        | 6/30 [00:20<01:34,  3.94s/course, Course=Data Science for Business]     "
          ]
        },
        {
          "name": "stdout",
          "output_type": "stream",
          "text": [
            "\n",
            "Course: Data Science for Business\n",
            "URL: https://www.datacamp.com/courses/data-science-for-business\n",
            "--------------------------------------------------\n"
          ]
        },
        {
          "name": "stderr",
          "output_type": "stream",
          "text": [
            "Page 7 Progress:  23%|██▎       | 7/30 [00:23<01:22,  3.60s/course, Course=Intermediate Power Query in Ex...]"
          ]
        },
        {
          "name": "stdout",
          "output_type": "stream",
          "text": [
            "\n",
            "Course: Intermediate Power Query in Excel\n",
            "URL: https://www.datacamp.com/courses/intermediate-power-query-in-excel\n",
            "--------------------------------------------------\n"
          ]
        },
        {
          "name": "stderr",
          "output_type": "stream",
          "text": [
            "Page 7 Progress:  27%|██▋       | 8/30 [00:26<01:10,  3.22s/course, Course=Intermediate GitHub Concepts]     "
          ]
        },
        {
          "name": "stdout",
          "output_type": "stream",
          "text": [
            "\n",
            "Course: Intermediate GitHub Concepts\n",
            "URL: https://www.datacamp.com/courses/intermediate-github-concepts\n",
            "--------------------------------------------------\n"
          ]
        },
        {
          "name": "stderr",
          "output_type": "stream",
          "text": [
            "Page 7 Progress:  30%|███       | 9/30 [00:28<01:04,  3.09s/course, Course=Sampling in R]               "
          ]
        },
        {
          "name": "stdout",
          "output_type": "stream",
          "text": [
            "\n",
            "Course: Sampling in R\n",
            "URL: https://www.datacamp.com/courses/sampling-in-r\n",
            "--------------------------------------------------\n"
          ]
        },
        {
          "name": "stderr",
          "output_type": "stream",
          "text": [
            "Page 7 Progress:  33%|███▎      | 10/30 [00:31<00:58,  2.91s/course, Course=Intermediate SQL Server]"
          ]
        },
        {
          "name": "stdout",
          "output_type": "stream",
          "text": [
            "\n",
            "Course: Intermediate SQL Server\n",
            "URL: https://www.datacamp.com/courses/intermediate-sql-server\n",
            "--------------------------------------------------\n"
          ]
        },
        {
          "name": "stderr",
          "output_type": "stream",
          "text": [
            "Page 7 Progress:  37%|███▋      | 11/30 [00:33<00:51,  2.71s/course, Course=Case Study: Analyzing Customer...]"
          ]
        },
        {
          "name": "stdout",
          "output_type": "stream",
          "text": [
            "\n",
            "Course: Case Study: Analyzing Customer Churn in Tableau\n",
            "URL: https://www.datacamp.com/courses/case-study-analyzing-customer-churn-in-tableau\n",
            "--------------------------------------------------\n"
          ]
        },
        {
          "name": "stderr",
          "output_type": "stream",
          "text": [
            "Page 7 Progress:  40%|████      | 12/30 [00:38<00:59,  3.32s/course, Course=Time Series Analysis in Python]   "
          ]
        },
        {
          "name": "stdout",
          "output_type": "stream",
          "text": [
            "\n",
            "Course: Time Series Analysis in Python\n",
            "URL: https://www.datacamp.com/courses/time-series-analysis-in-python\n",
            "--------------------------------------------------\n"
          ]
        },
        {
          "name": "stderr",
          "output_type": "stream",
          "text": [
            "Page 7 Progress:  43%|████▎     | 13/30 [00:43<01:04,  3.80s/course, Course=Data Management Concepts]      "
          ]
        },
        {
          "name": "stdout",
          "output_type": "stream",
          "text": [
            "\n",
            "Course: Data Management Concepts\n",
            "URL: https://www.datacamp.com/courses/data-management-concepts\n",
            "--------------------------------------------------\n"
          ]
        },
        {
          "name": "stderr",
          "output_type": "stream",
          "text": [
            "Page 7 Progress:  47%|████▋     | 14/30 [00:47<01:03,  3.94s/course, Course=Responsible AI Practices]"
          ]
        },
        {
          "name": "stdout",
          "output_type": "stream",
          "text": [
            "\n",
            "Course: Responsible AI Practices\n",
            "URL: https://www.datacamp.com/courses/responsible-ai-practices\n",
            "--------------------------------------------------\n"
          ]
        },
        {
          "name": "stderr",
          "output_type": "stream",
          "text": [
            "Page 7 Progress:  50%|█████     | 15/30 [00:50<00:54,  3.67s/course, Course=Designing Agentic Systems with...]"
          ]
        },
        {
          "name": "stdout",
          "output_type": "stream",
          "text": [
            "\n",
            "Course: Designing Agentic Systems with LangChain\n",
            "URL: https://www.datacamp.com/courses/designing-agentic-systems-with-langchain\n",
            "--------------------------------------------------\n"
          ]
        },
        {
          "name": "stderr",
          "output_type": "stream",
          "text": [
            "Page 7 Progress:  53%|█████▎    | 16/30 [00:52<00:44,  3.17s/course, Course=Introduction to Embeddings wit...]"
          ]
        },
        {
          "name": "stdout",
          "output_type": "stream",
          "text": [
            "\n",
            "Course: Introduction to Embeddings with the OpenAI API\n",
            "URL: https://www.datacamp.com/courses/introduction-to-embeddings-with-the-openai-api\n",
            "--------------------------------------------------\n"
          ]
        },
        {
          "name": "stderr",
          "output_type": "stream",
          "text": [
            "Page 7 Progress:  57%|█████▋    | 17/30 [00:55<00:39,  3.05s/course, Course=Extreme Gradient Boosting with...]"
          ]
        },
        {
          "name": "stdout",
          "output_type": "stream",
          "text": [
            "\n",
            "Course: Extreme Gradient Boosting with XGBoost\n",
            "URL: https://www.datacamp.com/courses/extreme-gradient-boosting-with-xgboost\n",
            "--------------------------------------------------\n"
          ]
        },
        {
          "name": "stderr",
          "output_type": "stream",
          "text": [
            "Page 7 Progress:  60%|██████    | 18/30 [00:57<00:34,  2.90s/course, Course=Data Strategy]                    "
          ]
        },
        {
          "name": "stdout",
          "output_type": "stream",
          "text": [
            "\n",
            "Course: Data Strategy\n",
            "URL: https://www.datacamp.com/courses/data-strategy\n",
            "--------------------------------------------------\n"
          ]
        },
        {
          "name": "stderr",
          "output_type": "stream",
          "text": [
            "Page 7 Progress:  63%|██████▎   | 19/30 [00:59<00:29,  2.65s/course, Course=Understanding Microsoft Azure ...]"
          ]
        },
        {
          "name": "stdout",
          "output_type": "stream",
          "text": [
            "\n",
            "Course: Understanding Microsoft Azure Management and Governance\n",
            "URL: https://www.datacamp.com/courses/understanding-microsoft-azure-management-and-governance\n",
            "--------------------------------------------------\n"
          ]
        },
        {
          "name": "stderr",
          "output_type": "stream",
          "text": [
            "Page 7 Progress:  67%|██████▋   | 20/30 [01:04<00:33,  3.33s/course, Course=Regular Expressions in Python]    "
          ]
        },
        {
          "name": "stdout",
          "output_type": "stream",
          "text": [
            "\n",
            "Course: Regular Expressions in Python\n",
            "URL: https://www.datacamp.com/courses/regular-expressions-in-python\n",
            "--------------------------------------------------\n"
          ]
        },
        {
          "name": "stderr",
          "output_type": "stream",
          "text": [
            "Page 7 Progress:  70%|███████   | 21/30 [01:07<00:27,  3.03s/course, Course=Introduction to Writing Functi...]"
          ]
        },
        {
          "name": "stdout",
          "output_type": "stream",
          "text": [
            "\n",
            "Course: Introduction to Writing Functions in R\n",
            "URL: https://www.datacamp.com/courses/introduction-to-writing-functions-in-r\n",
            "--------------------------------------------------\n"
          ]
        },
        {
          "name": "stderr",
          "output_type": "stream",
          "text": [
            "Page 7 Progress:  73%|███████▎  | 22/30 [01:11<00:26,  3.30s/course, Course=Introduction to BigQuery]         "
          ]
        },
        {
          "name": "stdout",
          "output_type": "stream",
          "text": [
            "\n",
            "Course: Introduction to BigQuery\n",
            "URL: https://www.datacamp.com/courses/introduction-to-bigquery\n",
            "--------------------------------------------------\n"
          ]
        },
        {
          "name": "stderr",
          "output_type": "stream",
          "text": [
            "Page 7 Progress:  77%|███████▋  | 23/30 [01:14<00:23,  3.42s/course, Course=Machine Learning for Time Seri...]"
          ]
        },
        {
          "name": "stdout",
          "output_type": "stream",
          "text": [
            "\n",
            "Course: Machine Learning for Time Series Data in Python\n",
            "URL: https://www.datacamp.com/courses/machine-learning-for-time-series-data-in-python\n",
            "--------------------------------------------------\n"
          ]
        },
        {
          "name": "stderr",
          "output_type": "stream",
          "text": [
            "Page 7 Progress:  80%|████████  | 24/30 [01:17<00:19,  3.19s/course, Course=DevOps Concepts]                  "
          ]
        },
        {
          "name": "stdout",
          "output_type": "stream",
          "text": [
            "\n",
            "Course: DevOps Concepts\n",
            "URL: https://www.datacamp.com/courses/devops-concepts\n",
            "--------------------------------------------------\n"
          ]
        },
        {
          "name": "stderr",
          "output_type": "stream",
          "text": [
            "Page 7 Progress:  83%|████████▎ | 25/30 [01:20<00:15,  3.04s/course, Course=Introduction to Apache Kafka]"
          ]
        },
        {
          "name": "stdout",
          "output_type": "stream",
          "text": [
            "\n",
            "Course: Introduction to Apache Kafka\n",
            "URL: https://www.datacamp.com/courses/introduction-to-apache-kafka\n",
            "--------------------------------------------------\n"
          ]
        },
        {
          "name": "stderr",
          "output_type": "stream",
          "text": [
            "Page 7 Progress:  87%|████████▋ | 26/30 [01:25<00:14,  3.57s/course, Course=Data-Driven Decision Making fo...]"
          ]
        },
        {
          "name": "stdout",
          "output_type": "stream",
          "text": [
            "\n",
            "Course: Data-Driven Decision Making for Business\n",
            "URL: https://www.datacamp.com/courses/data-driven-decision-making-for-business\n",
            "--------------------------------------------------\n"
          ]
        },
        {
          "name": "stderr",
          "output_type": "stream",
          "text": [
            "Page 7 Progress:  90%|█████████ | 27/30 [01:27<00:10,  3.36s/course, Course=Data Preparation in Alteryx]      "
          ]
        },
        {
          "name": "stdout",
          "output_type": "stream",
          "text": [
            "\n",
            "Course: Data Preparation in Alteryx\n",
            "URL: https://www.datacamp.com/courses/data-preparation-in-alteryx\n",
            "--------------------------------------------------\n"
          ]
        },
        {
          "name": "stderr",
          "output_type": "stream",
          "text": [
            "Page 7 Progress:  93%|█████████▎| 28/30 [01:32<00:07,  3.71s/course, Course=Introduction to MLflow]     "
          ]
        },
        {
          "name": "stdout",
          "output_type": "stream",
          "text": [
            "\n",
            "Course: Introduction to MLflow\n",
            "URL: https://www.datacamp.com/courses/introduction-to-mlflow\n",
            "--------------------------------------------------\n"
          ]
        },
        {
          "name": "stderr",
          "output_type": "stream",
          "text": [
            "Page 7 Progress:  97%|█████████▋| 29/30 [01:36<00:03,  3.94s/course, Course=Introduction to Data Modeling ...]"
          ]
        },
        {
          "name": "stdout",
          "output_type": "stream",
          "text": [
            "\n",
            "Course: Introduction to Data Modeling in Snowflake\n",
            "URL: https://www.datacamp.com/courses/introduction-to-data-modeling-in-snowflake\n",
            "--------------------------------------------------\n"
          ]
        },
        {
          "name": "stderr",
          "output_type": "stream",
          "text": [
            "Page 7 Progress: 100%|██████████| 30/30 [01:41<00:00,  3.39s/course, Course=Introduction to Data Modeling ...]\n"
          ]
        },
        {
          "name": "stdout",
          "output_type": "stream",
          "text": [
            "\n",
            "Crawling page 8: https://www.datacamp.com/courses-all/page/8\n",
            "Found 30 courses on page 8\n"
          ]
        },
        {
          "name": "stderr",
          "output_type": "stream",
          "text": [
            "Page 8 Progress:   0%|          | 0/30 [00:00<?, ?course/s, Course=Intermediate Google Sheets]"
          ]
        },
        {
          "name": "stdout",
          "output_type": "stream",
          "text": [
            "\n",
            "Course: Intermediate Google Sheets\n",
            "URL: https://www.datacamp.com/courses/intermediate-google-sheets\n",
            "--------------------------------------------------\n"
          ]
        },
        {
          "name": "stderr",
          "output_type": "stream",
          "text": [
            "Page 8 Progress:   3%|▎         | 1/30 [00:04<02:14,  4.64s/course, Course=Creating PostgreSQL Databases]"
          ]
        },
        {
          "name": "stdout",
          "output_type": "stream",
          "text": [
            "\n",
            "Course: Creating PostgreSQL Databases\n",
            "URL: https://www.datacamp.com/courses/creating-postgresql-databases\n",
            "--------------------------------------------------\n"
          ]
        },
        {
          "name": "stderr",
          "output_type": "stream",
          "text": [
            "Page 8 Progress:   7%|▋         | 2/30 [00:09<02:13,  4.75s/course, Course=Introduction to Deep Learning ...]"
          ]
        },
        {
          "name": "stdout",
          "output_type": "stream",
          "text": [
            "\n",
            "Course: Introduction to Deep Learning with Keras\n",
            "URL: https://www.datacamp.com/courses/introduction-to-deep-learning-with-keras\n",
            "--------------------------------------------------\n"
          ]
        },
        {
          "name": "stderr",
          "output_type": "stream",
          "text": [
            "Page 8 Progress:  10%|█         | 3/30 [00:13<02:04,  4.63s/course, Course=End-to-End Machine Learning]      "
          ]
        },
        {
          "name": "stdout",
          "output_type": "stream",
          "text": [
            "\n",
            "Course: End-to-End Machine Learning\n",
            "URL: https://www.datacamp.com/courses/end-to-end-machine-learning\n",
            "--------------------------------------------------\n"
          ]
        },
        {
          "name": "stderr",
          "output_type": "stream",
          "text": [
            "Page 8 Progress:  13%|█▎        | 4/30 [00:16<01:34,  3.65s/course, Course=Reporting with R Markdown]  "
          ]
        },
        {
          "name": "stdout",
          "output_type": "stream",
          "text": [
            "\n",
            "Course: Reporting with R Markdown\n",
            "URL: https://www.datacamp.com/courses/reporting-with-rmarkdown\n",
            "--------------------------------------------------\n"
          ]
        },
        {
          "name": "stderr",
          "output_type": "stream",
          "text": [
            "Page 8 Progress:  17%|█▋        | 5/30 [00:19<01:30,  3.63s/course, Course=Introduction to Polars]   "
          ]
        },
        {
          "name": "stdout",
          "output_type": "stream",
          "text": [
            "\n",
            "Course: Introduction to Polars\n",
            "URL: https://www.datacamp.com/courses/introduction-to-polars\n",
            "--------------------------------------------------\n"
          ]
        },
        {
          "name": "stderr",
          "output_type": "stream",
          "text": [
            "Page 8 Progress:  20%|██        | 6/30 [00:24<01:36,  4.01s/course, Course=Reporting in SQL]      "
          ]
        },
        {
          "name": "stdout",
          "output_type": "stream",
          "text": [
            "\n",
            "Course: Reporting in SQL\n",
            "URL: https://www.datacamp.com/courses/reporting-in-sql\n",
            "--------------------------------------------------\n"
          ]
        },
        {
          "name": "stderr",
          "output_type": "stream",
          "text": [
            "Page 8 Progress:  23%|██▎       | 7/30 [00:28<01:30,  3.92s/course, Course=Feature Engineering for Machin...]"
          ]
        },
        {
          "name": "stdout",
          "output_type": "stream",
          "text": [
            "\n",
            "Course: Feature Engineering for Machine Learning in Python\n",
            "URL: https://www.datacamp.com/courses/feature-engineering-for-machine-learning-in-python\n",
            "--------------------------------------------------\n"
          ]
        },
        {
          "name": "stderr",
          "output_type": "stream",
          "text": [
            "Page 8 Progress:  27%|██▋       | 8/30 [00:31<01:25,  3.87s/course, Course=Reshaping Data with tidyr]        "
          ]
        },
        {
          "name": "stdout",
          "output_type": "stream",
          "text": [
            "\n",
            "Course: Reshaping Data with tidyr\n",
            "URL: https://www.datacamp.com/courses/reshaping-data-with-tidyr\n",
            "--------------------------------------------------\n"
          ]
        },
        {
          "name": "stderr",
          "output_type": "stream",
          "text": [
            "Page 8 Progress:  30%|███       | 9/30 [00:36<01:23,  3.99s/course, Course=Monetizing Artificial Intellig...]"
          ]
        },
        {
          "name": "stdout",
          "output_type": "stream",
          "text": [
            "\n",
            "Course: Monetizing Artificial Intelligence\n",
            "URL: https://www.datacamp.com/courses/monetizing-artificial-intelligence\n",
            "--------------------------------------------------\n"
          ]
        },
        {
          "name": "stderr",
          "output_type": "stream",
          "text": [
            "Page 8 Progress:  33%|███▎      | 10/30 [00:40<01:22,  4.15s/course, Course=Data Management in Databricks]    "
          ]
        },
        {
          "name": "stdout",
          "output_type": "stream",
          "text": [
            "\n",
            "Course: Data Management in Databricks\n",
            "URL: https://www.datacamp.com/courses/data-management-in-databricks\n",
            "--------------------------------------------------\n"
          ]
        },
        {
          "name": "stderr",
          "output_type": "stream",
          "text": [
            "Page 8 Progress:  37%|███▋      | 11/30 [00:43<01:12,  3.81s/course, Course=Developing Python Packages]   "
          ]
        },
        {
          "name": "stdout",
          "output_type": "stream",
          "text": [
            "\n",
            "Course: Developing Python Packages\n",
            "URL: https://www.datacamp.com/courses/developing-python-packages\n",
            "--------------------------------------------------\n"
          ]
        },
        {
          "name": "stderr",
          "output_type": "stream",
          "text": [
            "Page 8 Progress:  40%|████      | 12/30 [00:47<01:07,  3.77s/course, Course=Machine Learning with PySpark]"
          ]
        },
        {
          "name": "stdout",
          "output_type": "stream",
          "text": [
            "\n",
            "Course: Machine Learning with PySpark\n",
            "URL: https://www.datacamp.com/courses/machine-learning-with-pyspark\n",
            "--------------------------------------------------\n"
          ]
        },
        {
          "name": "stderr",
          "output_type": "stream",
          "text": [
            "Page 8 Progress:  43%|████▎     | 13/30 [00:51<01:05,  3.83s/course, Course=Explainable AI in Python]     "
          ]
        },
        {
          "name": "stdout",
          "output_type": "stream",
          "text": [
            "\n",
            "Course: Explainable AI in Python\n",
            "URL: https://www.datacamp.com/courses/explainable-ai-in-python\n",
            "--------------------------------------------------\n"
          ]
        },
        {
          "name": "stderr",
          "output_type": "stream",
          "text": [
            "Page 8 Progress:  47%|████▋     | 14/30 [00:55<01:01,  3.87s/course, Course=Introduction to Bash Scripting]"
          ]
        },
        {
          "name": "stdout",
          "output_type": "stream",
          "text": [
            "\n",
            "Course: Introduction to Bash Scripting\n",
            "URL: https://www.datacamp.com/courses/introduction-to-bash-scripting\n",
            "--------------------------------------------------\n"
          ]
        },
        {
          "name": "stderr",
          "output_type": "stream",
          "text": [
            "Page 8 Progress:  50%|█████     | 15/30 [00:58<00:54,  3.65s/course, Course=A/B Testing in Python]         "
          ]
        },
        {
          "name": "stdout",
          "output_type": "stream",
          "text": [
            "\n",
            "Course: A/B Testing in Python\n",
            "URL: https://www.datacamp.com/courses/ab-testing-in-python\n",
            "--------------------------------------------------\n"
          ]
        },
        {
          "name": "stderr",
          "output_type": "stream",
          "text": [
            "Page 8 Progress:  53%|█████▎    | 16/30 [01:00<00:45,  3.27s/course, Course=AWS Security and Cost Manageme...]"
          ]
        },
        {
          "name": "stdout",
          "output_type": "stream",
          "text": [
            "\n",
            "Course: AWS Security and Cost Management Concepts\n",
            "URL: https://www.datacamp.com/courses/aws-security-and-cost-management\n",
            "--------------------------------------------------\n"
          ]
        },
        {
          "name": "stderr",
          "output_type": "stream",
          "text": [
            "Page 8 Progress:  57%|█████▋    | 17/30 [01:04<00:44,  3.40s/course, Course=Introduction to Statistics in ...]"
          ]
        },
        {
          "name": "stdout",
          "output_type": "stream",
          "text": [
            "\n",
            "Course: Introduction to Statistics in Google Sheets\n",
            "URL: https://www.datacamp.com/courses/introduction-to-statistics-in-google-sheets\n",
            "--------------------------------------------------\n"
          ]
        },
        {
          "name": "stderr",
          "output_type": "stream",
          "text": [
            "Page 8 Progress:  60%|██████    | 18/30 [01:08<00:41,  3.48s/course, Course=Introduction to KNIME]            "
          ]
        },
        {
          "name": "stdout",
          "output_type": "stream",
          "text": [
            "\n",
            "Course: Introduction to KNIME\n",
            "URL: https://www.datacamp.com/courses/introduction-to-knime\n",
            "--------------------------------------------------\n"
          ]
        },
        {
          "name": "stderr",
          "output_type": "stream",
          "text": [
            "Page 8 Progress:  63%|██████▎   | 19/30 [01:11<00:37,  3.42s/course, Course=Transformer Models with PyTorc...]"
          ]
        },
        {
          "name": "stdout",
          "output_type": "stream",
          "text": [
            "\n",
            "Course: Transformer Models with PyTorch\n",
            "URL: https://www.datacamp.com/courses/transformer-models-with-pytorch\n",
            "--------------------------------------------------\n"
          ]
        },
        {
          "name": "stderr",
          "output_type": "stream",
          "text": [
            "Page 8 Progress:  67%|██████▋   | 20/30 [01:13<00:30,  3.10s/course, Course=Analyzing Marketing Campaigns ...]"
          ]
        },
        {
          "name": "stdout",
          "output_type": "stream",
          "text": [
            "\n",
            "Course: Analyzing Marketing Campaigns with pandas\n",
            "URL: https://www.datacamp.com/courses/analyzing-marketing-campaigns-with-pandas\n",
            "--------------------------------------------------\n"
          ]
        },
        {
          "name": "stderr",
          "output_type": "stream",
          "text": [
            "Page 8 Progress:  70%|███████   | 21/30 [01:16<00:26,  2.89s/course, Course=LLMOps Concepts]                  "
          ]
        },
        {
          "name": "stdout",
          "output_type": "stream",
          "text": [
            "\n",
            "Course: LLMOps Concepts\n",
            "URL: https://www.datacamp.com/courses/llmops-concepts\n",
            "--------------------------------------------------\n"
          ]
        },
        {
          "name": "stderr",
          "output_type": "stream",
          "text": [
            "Page 8 Progress:  73%|███████▎  | 22/30 [01:19<00:25,  3.13s/course, Course=MLOps Deployment and Life Cycl...]"
          ]
        },
        {
          "name": "stdout",
          "output_type": "stream",
          "text": [
            "\n",
            "Course: MLOps Deployment and Life Cycling\n",
            "URL: https://www.datacamp.com/courses/mlops-deployment-and-life-cycling\n",
            "--------------------------------------------------\n"
          ]
        },
        {
          "name": "stderr",
          "output_type": "stream",
          "text": [
            "Page 8 Progress:  77%|███████▋  | 23/30 [01:24<00:24,  3.54s/course, Course=Manipulating Time Series Data ...]"
          ]
        },
        {
          "name": "stdout",
          "output_type": "stream",
          "text": [
            "\n",
            "Course: Manipulating Time Series Data in R\n",
            "URL: https://www.datacamp.com/courses/manipulating-time-series-data-in-r\n",
            "--------------------------------------------------\n"
          ]
        },
        {
          "name": "stderr",
          "output_type": "stream",
          "text": [
            "Page 8 Progress:  80%|████████  | 24/30 [01:28<00:21,  3.57s/course, Course=Pivot Tables in Google Sheets]    "
          ]
        },
        {
          "name": "stdout",
          "output_type": "stream",
          "text": [
            "\n",
            "Course: Pivot Tables in Google Sheets\n",
            "URL: https://www.datacamp.com/courses/pivot-tables-in-google-sheets\n",
            "--------------------------------------------------\n"
          ]
        },
        {
          "name": "stderr",
          "output_type": "stream",
          "text": [
            "Page 8 Progress:  83%|████████▎ | 25/30 [01:30<00:15,  3.13s/course, Course=Dimensionality Reduction in Py...]"
          ]
        },
        {
          "name": "stdout",
          "output_type": "stream",
          "text": [
            "\n",
            "Course: Dimensionality Reduction in Python\n",
            "URL: https://www.datacamp.com/courses/dimensionality-reduction-in-python\n",
            "--------------------------------------------------\n"
          ]
        },
        {
          "name": "stderr",
          "output_type": "stream",
          "text": [
            "Page 8 Progress:  87%|████████▋ | 26/30 [01:32<00:11,  2.95s/course, Course=Deep Learning for Images with ...]"
          ]
        },
        {
          "name": "stdout",
          "output_type": "stream",
          "text": [
            "\n",
            "Course: Deep Learning for Images with PyTorch\n",
            "URL: https://www.datacamp.com/courses/deep-learning-for-images-with-pytorch\n",
            "--------------------------------------------------\n"
          ]
        },
        {
          "name": "stderr",
          "output_type": "stream",
          "text": [
            "Page 8 Progress:  90%|█████████ | 27/30 [01:35<00:08,  3.00s/course, Course=Introduction to TensorFlow in ...]"
          ]
        },
        {
          "name": "stdout",
          "output_type": "stream",
          "text": [
            "\n",
            "Course: Introduction to TensorFlow in Python\n",
            "URL: https://www.datacamp.com/courses/introduction-to-tensorflow-in-python\n",
            "--------------------------------------------------\n"
          ]
        },
        {
          "name": "stderr",
          "output_type": "stream",
          "text": [
            "Page 8 Progress:  93%|█████████▎| 28/30 [01:38<00:06,  3.05s/course, Course=Data Visualization in Databric...]"
          ]
        },
        {
          "name": "stdout",
          "output_type": "stream",
          "text": [
            "\n",
            "Course: Data Visualization in Databricks\n",
            "URL: https://www.datacamp.com/courses/data-visualization-in-databricks\n",
            "--------------------------------------------------\n"
          ]
        },
        {
          "name": "stderr",
          "output_type": "stream",
          "text": [
            "Page 8 Progress:  97%|█████████▋| 29/30 [01:41<00:03,  3.03s/course, Course=Writing Efficient R Code]         "
          ]
        },
        {
          "name": "stdout",
          "output_type": "stream",
          "text": [
            "\n",
            "Course: Writing Efficient R Code\n",
            "URL: https://www.datacamp.com/courses/writing-efficient-r-code\n",
            "--------------------------------------------------\n"
          ]
        },
        {
          "name": "stderr",
          "output_type": "stream",
          "text": [
            "Page 8 Progress: 100%|██████████| 30/30 [01:46<00:00,  3.54s/course, Course=Writing Efficient R Code]\n"
          ]
        },
        {
          "name": "stdout",
          "output_type": "stream",
          "text": [
            "\n",
            "Crawling page 9: https://www.datacamp.com/courses-all/page/9\n",
            "Found 30 courses on page 9\n"
          ]
        },
        {
          "name": "stderr",
          "output_type": "stream",
          "text": [
            "Page 9 Progress:   0%|          | 0/30 [00:00<?, ?course/s, Course=Cleaning Data with PySpark]"
          ]
        },
        {
          "name": "stdout",
          "output_type": "stream",
          "text": [
            "\n",
            "Course: Cleaning Data with PySpark\n",
            "URL: https://www.datacamp.com/courses/cleaning-data-with-pyspark\n",
            "--------------------------------------------------\n"
          ]
        },
        {
          "name": "stderr",
          "output_type": "stream",
          "text": [
            "Page 9 Progress:   3%|▎         | 1/30 [00:04<01:59,  4.11s/course, Course=Intermediate Object-Oriented P...]"
          ]
        },
        {
          "name": "stdout",
          "output_type": "stream",
          "text": [
            "\n",
            "Course: Intermediate Object-Oriented Programming in Python\n",
            "URL: https://www.datacamp.com/courses/intermediate-object-oriented-programming-in-python\n",
            "--------------------------------------------------\n"
          ]
        },
        {
          "name": "stderr",
          "output_type": "stream",
          "text": [
            "Page 9 Progress:   7%|▋         | 2/30 [00:06<01:27,  3.13s/course, Course=Introduction to R for Finance]    "
          ]
        },
        {
          "name": "stdout",
          "output_type": "stream",
          "text": [
            "\n",
            "Course: Introduction to R for Finance\n",
            "URL: https://www.datacamp.com/courses/introduction-to-r-for-finance\n",
            "--------------------------------------------------\n"
          ]
        },
        {
          "name": "stderr",
          "output_type": "stream",
          "text": [
            "Page 9 Progress:  10%|█         | 3/30 [00:09<01:21,  3.01s/course, Course=Calculations in Tableau]      "
          ]
        },
        {
          "name": "stdout",
          "output_type": "stream",
          "text": [
            "\n",
            "Course: Calculations in Tableau\n",
            "URL: https://www.datacamp.com/courses/calculations-in-tableau\n",
            "--------------------------------------------------\n"
          ]
        },
        {
          "name": "stderr",
          "output_type": "stream",
          "text": [
            "Page 9 Progress:  13%|█▎        | 4/30 [00:12<01:14,  2.87s/course, Course=Credit Risk Modeling in Python]"
          ]
        },
        {
          "name": "stdout",
          "output_type": "stream",
          "text": [
            "\n",
            "Course: Credit Risk Modeling in Python\n",
            "URL: https://www.datacamp.com/courses/credit-risk-modeling-in-python\n",
            "--------------------------------------------------\n"
          ]
        },
        {
          "name": "stderr",
          "output_type": "stream",
          "text": [
            "Page 9 Progress:  17%|█▋        | 5/30 [00:15<01:15,  3.04s/course, Course=Intermediate Regression with s...]"
          ]
        },
        {
          "name": "stdout",
          "output_type": "stream",
          "text": [
            "\n",
            "Course: Intermediate Regression with statsmodels in Python\n",
            "URL: https://www.datacamp.com/courses/intermediate-regression-with-statsmodels-in-python\n",
            "--------------------------------------------------\n"
          ]
        },
        {
          "name": "stderr",
          "output_type": "stream",
          "text": [
            "Page 9 Progress:  20%|██        | 6/30 [00:17<01:05,  2.71s/course, Course=Reshaping Data with pandas]       "
          ]
        },
        {
          "name": "stdout",
          "output_type": "stream",
          "text": [
            "\n",
            "Course: Reshaping Data with pandas\n",
            "URL: https://www.datacamp.com/courses/reshaping-data-with-pandas\n",
            "--------------------------------------------------\n"
          ]
        },
        {
          "name": "stderr",
          "output_type": "stream",
          "text": [
            "Page 9 Progress:  23%|██▎       | 7/30 [00:20<01:03,  2.76s/course, Course=Unsupervised Learning in R]"
          ]
        },
        {
          "name": "stdout",
          "output_type": "stream",
          "text": [
            "\n",
            "Course: Unsupervised Learning in R\n",
            "URL: https://www.datacamp.com/courses/unsupervised-learning-in-r\n",
            "--------------------------------------------------\n"
          ]
        },
        {
          "name": "stderr",
          "output_type": "stream",
          "text": [
            "Page 9 Progress:  27%|██▋       | 8/30 [00:22<00:57,  2.60s/course, Course=Introduction to NoSQL]     "
          ]
        },
        {
          "name": "stdout",
          "output_type": "stream",
          "text": [
            "\n",
            "Course: Introduction to NoSQL\n",
            "URL: https://www.datacamp.com/courses/introduction-to-nosql\n",
            "--------------------------------------------------\n"
          ]
        },
        {
          "name": "stderr",
          "output_type": "stream",
          "text": [
            "Page 9 Progress:  30%|███       | 9/30 [00:25<00:57,  2.74s/course, Course=Hyperparameter Tuning in Pytho...]"
          ]
        },
        {
          "name": "stdout",
          "output_type": "stream",
          "text": [
            "\n",
            "Course: Hyperparameter Tuning in Python\n",
            "URL: https://www.datacamp.com/courses/hyperparameter-tuning-in-python\n",
            "--------------------------------------------------\n"
          ]
        },
        {
          "name": "stderr",
          "output_type": "stream",
          "text": [
            "Page 9 Progress:  33%|███▎      | 10/30 [00:29<01:02,  3.12s/course, Course=Intermediate Docker]              "
          ]
        },
        {
          "name": "stdout",
          "output_type": "stream",
          "text": [
            "\n",
            "Course: Intermediate Docker\n",
            "URL: https://www.datacamp.com/courses/intermediate-docker\n",
            "--------------------------------------------------\n"
          ]
        },
        {
          "name": "stderr",
          "output_type": "stream",
          "text": [
            "Page 9 Progress:  37%|███▋      | 11/30 [00:33<01:01,  3.25s/course, Course=Marketing Analytics for Busine...]"
          ]
        },
        {
          "name": "stdout",
          "output_type": "stream",
          "text": [
            "\n",
            "Course: Marketing Analytics for Business\n",
            "URL: https://www.datacamp.com/courses/marketing-analytics-for-business\n",
            "--------------------------------------------------\n"
          ]
        },
        {
          "name": "stderr",
          "output_type": "stream",
          "text": [
            "Page 9 Progress:  40%|████      | 12/30 [00:36<00:58,  3.24s/course, Course=Explainable Artificial Intelli...]"
          ]
        },
        {
          "name": "stdout",
          "output_type": "stream",
          "text": [
            "\n",
            "Course: Explainable Artificial Intelligence (XAI) Concepts\n",
            "URL: https://www.datacamp.com/courses/explainable-artificial-intelligence-xai-concepts\n",
            "--------------------------------------------------\n"
          ]
        },
        {
          "name": "stderr",
          "output_type": "stream",
          "text": [
            "Page 9 Progress:  43%|████▎     | 13/30 [00:39<00:53,  3.12s/course, Course=Model Validation in Python]       "
          ]
        },
        {
          "name": "stdout",
          "output_type": "stream",
          "text": [
            "\n",
            "Course: Model Validation in Python\n",
            "URL: https://www.datacamp.com/courses/model-validation-in-python\n",
            "--------------------------------------------------\n"
          ]
        },
        {
          "name": "stderr",
          "output_type": "stream",
          "text": [
            "Page 9 Progress:  47%|████▋     | 14/30 [00:42<00:51,  3.22s/course, Course=Time Series Analysis in R] "
          ]
        },
        {
          "name": "stdout",
          "output_type": "stream",
          "text": [
            "\n",
            "Course: Time Series Analysis in R\n",
            "URL: https://www.datacamp.com/courses/time-series-analysis-in-r\n",
            "--------------------------------------------------\n"
          ]
        },
        {
          "name": "stderr",
          "output_type": "stream",
          "text": [
            "Page 9 Progress:  50%|█████     | 15/30 [00:47<00:55,  3.71s/course, Course=Introduction to Azure]    "
          ]
        },
        {
          "name": "stdout",
          "output_type": "stream",
          "text": [
            "\n",
            "Course: Introduction to Azure\n",
            "URL: https://www.datacamp.com/courses/introduction-to-azure\n",
            "--------------------------------------------------\n"
          ]
        },
        {
          "name": "stderr",
          "output_type": "stream",
          "text": [
            "Page 9 Progress:  53%|█████▎    | 16/30 [00:51<00:53,  3.81s/course, Course=Statistical Thinking in Python...]"
          ]
        },
        {
          "name": "stdout",
          "output_type": "stream",
          "text": [
            "\n",
            "Course: Statistical Thinking in Python (Part 1)\n",
            "URL: https://www.datacamp.com/courses/statistical-thinking-in-python-part-1\n",
            "--------------------------------------------------\n"
          ]
        },
        {
          "name": "stderr",
          "output_type": "stream",
          "text": [
            "Page 9 Progress:  57%|█████▋    | 17/30 [00:56<00:52,  4.04s/course, Course=Statistical Techniques in Tabl...]"
          ]
        },
        {
          "name": "stdout",
          "output_type": "stream",
          "text": [
            "\n",
            "Course: Statistical Techniques in Tableau\n",
            "URL: https://www.datacamp.com/courses/statistical-techniques-in-tableau\n",
            "--------------------------------------------------\n"
          ]
        },
        {
          "name": "stderr",
          "output_type": "stream",
          "text": [
            "Page 9 Progress:  60%|██████    | 18/30 [00:59<00:45,  3.81s/course, Course=NoSQL Concepts]                   "
          ]
        },
        {
          "name": "stdout",
          "output_type": "stream",
          "text": [
            "\n",
            "Course: NoSQL Concepts\n",
            "URL: https://www.datacamp.com/courses/nosql-concepts\n",
            "--------------------------------------------------\n"
          ]
        },
        {
          "name": "stderr",
          "output_type": "stream",
          "text": [
            "Page 9 Progress:  63%|██████▎   | 19/30 [01:01<00:36,  3.30s/course, Course=Introduction to Portfolio Risk...]"
          ]
        },
        {
          "name": "stdout",
          "output_type": "stream",
          "text": [
            "\n",
            "Course: Introduction to Portfolio Risk Management in Python\n",
            "URL: https://www.datacamp.com/courses/introduction-to-portfolio-risk-management-in-python\n",
            "--------------------------------------------------\n"
          ]
        },
        {
          "name": "stderr",
          "output_type": "stream",
          "text": [
            "Page 9 Progress:  67%|██████▋   | 20/30 [01:04<00:30,  3.05s/course, Course=Financial Trading in Python]      "
          ]
        },
        {
          "name": "stdout",
          "output_type": "stream",
          "text": [
            "\n",
            "Course: Financial Trading in Python\n",
            "URL: https://www.datacamp.com/courses/financial-trading-in-python\n",
            "--------------------------------------------------\n"
          ]
        },
        {
          "name": "stderr",
          "output_type": "stream",
          "text": [
            "Page 9 Progress:  70%|███████   | 21/30 [01:08<00:31,  3.46s/course, Course=Deep Learning for Text with Py...]"
          ]
        },
        {
          "name": "stdout",
          "output_type": "stream",
          "text": [
            "\n",
            "Course: Deep Learning for Text with PyTorch\n",
            "URL: https://www.datacamp.com/courses/deep-learning-for-text-with-pytorch\n",
            "--------------------------------------------------\n"
          ]
        },
        {
          "name": "stderr",
          "output_type": "stream",
          "text": [
            "Page 9 Progress:  73%|███████▎  | 22/30 [01:12<00:28,  3.55s/course, Course=Practicing Coding Interview Qu...]"
          ]
        },
        {
          "name": "stdout",
          "output_type": "stream",
          "text": [
            "\n",
            "Course: Practicing Coding Interview Questions in Python\n",
            "URL: https://www.datacamp.com/courses/practicing-coding-interview-questions-in-python\n",
            "--------------------------------------------------\n"
          ]
        },
        {
          "name": "stderr",
          "output_type": "stream",
          "text": [
            "Page 9 Progress:  77%|███████▋  | 23/30 [01:16<00:27,  3.91s/course, Course=Building Web Applications with...]"
          ]
        },
        {
          "name": "stdout",
          "output_type": "stream",
          "text": [
            "\n",
            "Course: Building Web Applications with Shiny in R\n",
            "URL: https://www.datacamp.com/courses/building-web-applications-with-shiny-in-r\n",
            "--------------------------------------------------\n"
          ]
        },
        {
          "name": "stderr",
          "output_type": "stream",
          "text": [
            "Page 9 Progress:  80%|████████  | 24/30 [01:19<00:20,  3.37s/course, Course=Understanding the EU AI Act]      "
          ]
        },
        {
          "name": "stdout",
          "output_type": "stream",
          "text": [
            "\n",
            "Course: Understanding the EU AI Act\n",
            "URL: https://www.datacamp.com/courses/understanding-the-eu-ai-act\n",
            "--------------------------------------------------\n"
          ]
        },
        {
          "name": "stderr",
          "output_type": "stream",
          "text": [
            "Page 9 Progress:  83%|████████▎ | 25/30 [01:23<00:17,  3.57s/course, Course=AI Security and Risk Managemen...]"
          ]
        },
        {
          "name": "stdout",
          "output_type": "stream",
          "text": [
            "\n",
            "Course: AI Security and Risk Management\n",
            "URL: https://www.datacamp.com/courses/ai-security-and-risk-management\n",
            "--------------------------------------------------\n"
          ]
        },
        {
          "name": "stderr",
          "output_type": "stream",
          "text": [
            "Page 9 Progress:  87%|████████▋ | 26/30 [01:26<00:14,  3.51s/course, Course=Building Dashboards with Dash ...]"
          ]
        },
        {
          "name": "stdout",
          "output_type": "stream",
          "text": [
            "\n",
            "Course: Building Dashboards with Dash and Plotly\n",
            "URL: https://www.datacamp.com/courses/building-dashboards-with-dash-and-plotly\n",
            "--------------------------------------------------\n"
          ]
        },
        {
          "name": "stderr",
          "output_type": "stream",
          "text": [
            "Page 9 Progress:  90%|█████████ | 27/30 [01:28<00:09,  3.08s/course, Course=Modeling with Data in the Tidy...]"
          ]
        },
        {
          "name": "stdout",
          "output_type": "stream",
          "text": [
            "\n",
            "Course: Modeling with Data in the Tidyverse\n",
            "URL: https://www.datacamp.com/courses/modeling-with-data-in-the-tidyverse\n",
            "--------------------------------------------------\n"
          ]
        },
        {
          "name": "stderr",
          "output_type": "stream",
          "text": [
            "Page 9 Progress:  93%|█████████▎| 28/30 [01:31<00:06,  3.04s/course, Course=Intermediate dbt]                 "
          ]
        },
        {
          "name": "stdout",
          "output_type": "stream",
          "text": [
            "\n",
            "Course: Intermediate dbt\n",
            "URL: https://www.datacamp.com/courses/intermediate-dbt\n",
            "--------------------------------------------------\n"
          ]
        },
        {
          "name": "stderr",
          "output_type": "stream",
          "text": [
            "Page 9 Progress:  97%|█████████▋| 29/30 [01:36<00:03,  3.51s/course, Course=Supervised Learning in R: Regr...]"
          ]
        },
        {
          "name": "stdout",
          "output_type": "stream",
          "text": [
            "\n",
            "Course: Supervised Learning in R: Regression\n",
            "URL: https://www.datacamp.com/courses/supervised-learning-in-r-regression\n",
            "--------------------------------------------------\n"
          ]
        },
        {
          "name": "stderr",
          "output_type": "stream",
          "text": [
            "Page 9 Progress: 100%|██████████| 30/30 [01:38<00:00,  3.27s/course, Course=Supervised Learning in R: Regr...]\n"
          ]
        },
        {
          "name": "stdout",
          "output_type": "stream",
          "text": [
            "\n",
            "Crawling page 10: https://www.datacamp.com/courses-all/page/10\n",
            "Found 30 courses on page 10\n"
          ]
        },
        {
          "name": "stderr",
          "output_type": "stream",
          "text": [
            "Page 10 Progress:   0%|          | 0/30 [00:00<?, ?course/s, Course=ARIMA Models in R]"
          ]
        },
        {
          "name": "stdout",
          "output_type": "stream",
          "text": [
            "\n",
            "Course: ARIMA Models in R\n",
            "URL: https://www.datacamp.com/courses/arima-models-in-r\n",
            "--------------------------------------------------\n"
          ]
        },
        {
          "name": "stderr",
          "output_type": "stream",
          "text": [
            "Page 10 Progress:   3%|▎         | 1/30 [00:03<01:38,  3.39s/course, Course=Introduction to Oracle SQL]"
          ]
        },
        {
          "name": "stdout",
          "output_type": "stream",
          "text": [
            "\n",
            "Course: Introduction to Oracle SQL\n",
            "URL: https://www.datacamp.com/courses/introduction-to-oracle-sql\n",
            "--------------------------------------------------\n"
          ]
        },
        {
          "name": "stderr",
          "output_type": "stream",
          "text": [
            "Page 10 Progress:   7%|▋         | 2/30 [00:06<01:25,  3.04s/course, Course=Forecasting in R]          "
          ]
        },
        {
          "name": "stdout",
          "output_type": "stream",
          "text": [
            "\n",
            "Course: Forecasting in R\n",
            "URL: https://www.datacamp.com/courses/forecasting-in-r\n",
            "--------------------------------------------------\n"
          ]
        },
        {
          "name": "stderr",
          "output_type": "stream",
          "text": [
            "Page 10 Progress:  10%|█         | 3/30 [00:11<01:45,  3.89s/course, Course=Introduction to Data Visualiza...]"
          ]
        },
        {
          "name": "stdout",
          "output_type": "stream",
          "text": [
            "\n",
            "Course: Introduction to Data Visualization with Plotly in Python\n",
            "URL: https://www.datacamp.com/courses/introduction-to-data-visualization-with-plotly-in-python\n",
            "--------------------------------------------------\n"
          ]
        },
        {
          "name": "stderr",
          "output_type": "stream",
          "text": [
            "Page 10 Progress:  13%|█▎        | 4/30 [00:13<01:25,  3.30s/course, Course=ARIMA Models in Python]           "
          ]
        },
        {
          "name": "stdout",
          "output_type": "stream",
          "text": [
            "\n",
            "Course: ARIMA Models in Python\n",
            "URL: https://www.datacamp.com/courses/arima-models-in-python\n",
            "--------------------------------------------------\n"
          ]
        },
        {
          "name": "stderr",
          "output_type": "stream",
          "text": [
            "Page 10 Progress:  17%|█▋        | 5/30 [00:17<01:29,  3.58s/course, Course=Working with Geospatial Data i...]"
          ]
        },
        {
          "name": "stdout",
          "output_type": "stream",
          "text": [
            "\n",
            "Course: Working with Geospatial Data in Python\n",
            "URL: https://www.datacamp.com/courses/working-with-geospatial-data-in-python\n",
            "--------------------------------------------------\n"
          ]
        },
        {
          "name": "stderr",
          "output_type": "stream",
          "text": [
            "Page 10 Progress:  20%|██        | 6/30 [00:21<01:27,  3.65s/course, Course=User-Oriented Design in Power ...]"
          ]
        },
        {
          "name": "stdout",
          "output_type": "stream",
          "text": [
            "\n",
            "Course: User-Oriented Design in Power BI\n",
            "URL: https://www.datacamp.com/courses/user-oriented-design-in-power-bi\n",
            "--------------------------------------------------\n"
          ]
        },
        {
          "name": "stderr",
          "output_type": "stream",
          "text": [
            "Page 10 Progress:  23%|██▎       | 7/30 [00:23<01:16,  3.31s/course, Course=Generalized Linear Models in R]   "
          ]
        },
        {
          "name": "stdout",
          "output_type": "stream",
          "text": [
            "\n",
            "Course: Generalized Linear Models in R\n",
            "URL: https://www.datacamp.com/courses/generalized-linear-models-in-r\n",
            "--------------------------------------------------\n"
          ]
        },
        {
          "name": "stderr",
          "output_type": "stream",
          "text": [
            "Page 10 Progress:  27%|██▋       | 8/30 [00:28<01:20,  3.64s/course, Course=Feature Engineering for NLP in...]"
          ]
        },
        {
          "name": "stdout",
          "output_type": "stream",
          "text": [
            "\n",
            "Course: Feature Engineering for NLP in Python\n",
            "URL: https://www.datacamp.com/courses/feature-engineering-for-nlp-in-python\n",
            "--------------------------------------------------\n"
          ]
        },
        {
          "name": "stderr",
          "output_type": "stream",
          "text": [
            "Page 10 Progress:  30%|███       | 9/30 [00:32<01:19,  3.79s/course, Course=Introduction to Financial Conc...]"
          ]
        },
        {
          "name": "stdout",
          "output_type": "stream",
          "text": [
            "\n",
            "Course: Introduction to Financial Concepts in Python\n",
            "URL: https://www.datacamp.com/courses/introduction-to-financial-concepts-in-python\n",
            "--------------------------------------------------\n"
          ]
        },
        {
          "name": "stderr",
          "output_type": "stream",
          "text": [
            "Page 10 Progress:  33%|███▎      | 10/30 [00:37<01:21,  4.06s/course, Course=Data Storytelling Case Study: ...]"
          ]
        },
        {
          "name": "stdout",
          "output_type": "stream",
          "text": [
            "\n",
            "Course: Data Storytelling Case Study: College Majors\n",
            "URL: https://www.datacamp.com/courses/data-storytelling-case-study-college-majors\n",
            "--------------------------------------------------\n"
          ]
        },
        {
          "name": "stderr",
          "output_type": "stream",
          "text": [
            "Page 10 Progress:  37%|███▋      | 11/30 [00:40<01:16,  4.00s/course, Course=CI/CD for Machine Learning]       "
          ]
        },
        {
          "name": "stdout",
          "output_type": "stream",
          "text": [
            "\n",
            "Course: CI/CD for Machine Learning\n",
            "URL: https://www.datacamp.com/courses/cicd-for-machine-learning\n",
            "--------------------------------------------------\n"
          ]
        },
        {
          "name": "stderr",
          "output_type": "stream",
          "text": [
            "Page 10 Progress:  40%|████      | 12/30 [00:44<01:06,  3.72s/course, Course=Case Study: Analyzing Job Mark...]"
          ]
        },
        {
          "name": "stdout",
          "output_type": "stream",
          "text": [
            "\n",
            "Course: Case Study: Analyzing Job Market Data in Tableau\n",
            "URL: https://www.datacamp.com/courses/case-study-analyzing-job-market-data-in-tableau\n",
            "--------------------------------------------------\n"
          ]
        },
        {
          "name": "stderr",
          "output_type": "stream",
          "text": [
            "Page 10 Progress:  43%|████▎     | 13/30 [00:46<00:55,  3.27s/course, Course=Understanding GDPR]               "
          ]
        },
        {
          "name": "stdout",
          "output_type": "stream",
          "text": [
            "\n",
            "Course: Understanding GDPR\n",
            "URL: https://www.datacamp.com/courses/understanding-gdpr\n",
            "--------------------------------------------------\n"
          ]
        },
        {
          "name": "stderr",
          "output_type": "stream",
          "text": [
            "Page 10 Progress:  47%|████▋     | 14/30 [00:49<00:53,  3.37s/course, Course=Data Visualization in Google S...]"
          ]
        },
        {
          "name": "stdout",
          "output_type": "stream",
          "text": [
            "\n",
            "Course: Data Visualization in Google Sheets\n",
            "URL: https://www.datacamp.com/courses/data-visualization-in-google-sheets\n",
            "--------------------------------------------------\n"
          ]
        },
        {
          "name": "stderr",
          "output_type": "stream",
          "text": [
            "Page 10 Progress:  50%|█████     | 15/30 [00:53<00:51,  3.43s/course, Course=Cleaning Data with Generative ...]"
          ]
        },
        {
          "name": "stdout",
          "output_type": "stream",
          "text": [
            "\n",
            "Course: Cleaning Data with Generative AI\n",
            "URL: https://www.datacamp.com/courses/cleaning-data-with-generative-ai\n",
            "--------------------------------------------------\n"
          ]
        },
        {
          "name": "stderr",
          "output_type": "stream",
          "text": [
            "Page 10 Progress:  53%|█████▎    | 16/30 [00:56<00:46,  3.29s/course, Course=Case Study: Analyzing Healthca...]"
          ]
        },
        {
          "name": "stdout",
          "output_type": "stream",
          "text": [
            "\n",
            "Course: Case Study: Analyzing Healthcare Data in Power BI\n",
            "URL: https://www.datacamp.com/courses/case-study-analyzing-healthcare-data-in-power-bi\n",
            "--------------------------------------------------\n"
          ]
        },
        {
          "name": "stderr",
          "output_type": "stream",
          "text": [
            "Page 10 Progress:  57%|█████▋    | 17/30 [01:00<00:45,  3.48s/course, Course=Introduction to Databases in P...]"
          ]
        },
        {
          "name": "stdout",
          "output_type": "stream",
          "text": [
            "\n",
            "Course: Introduction to Databases in Python\n",
            "URL: https://www.datacamp.com/courses/introduction-to-relational-databases-in-python\n",
            "--------------------------------------------------\n"
          ]
        },
        {
          "name": "stderr",
          "output_type": "stream",
          "text": [
            "Page 10 Progress:  60%|██████    | 18/30 [01:03<00:40,  3.36s/course, Course=Experimental Design in R]         "
          ]
        },
        {
          "name": "stdout",
          "output_type": "stream",
          "text": [
            "\n",
            "Course: Experimental Design in R\n",
            "URL: https://www.datacamp.com/courses/experimental-design-in-r\n",
            "--------------------------------------------------\n"
          ]
        },
        {
          "name": "stderr",
          "output_type": "stream",
          "text": [
            "Page 10 Progress:  63%|██████▎   | 19/30 [01:07<00:38,  3.53s/course, Course=Introduction to GCP]     "
          ]
        },
        {
          "name": "stdout",
          "output_type": "stream",
          "text": [
            "\n",
            "Course: Introduction to GCP\n",
            "URL: https://www.datacamp.com/courses/introduction-to-gcp\n",
            "--------------------------------------------------\n"
          ]
        },
        {
          "name": "stderr",
          "output_type": "stream",
          "text": [
            "Page 10 Progress:  67%|██████▋   | 20/30 [01:10<00:32,  3.28s/course, Course=Data Transformation in Alteryx]"
          ]
        },
        {
          "name": "stdout",
          "output_type": "stream",
          "text": [
            "\n",
            "Course: Data Transformation in Alteryx\n",
            "URL: https://www.datacamp.com/courses/data-transformation-in-alteryx\n",
            "--------------------------------------------------\n"
          ]
        },
        {
          "name": "stderr",
          "output_type": "stream",
          "text": [
            "Page 10 Progress:  70%|███████   | 21/30 [01:14<00:32,  3.59s/course, Course=Image Modeling with Keras]     "
          ]
        },
        {
          "name": "stdout",
          "output_type": "stream",
          "text": [
            "\n",
            "Course: Image Modeling with Keras\n",
            "URL: https://www.datacamp.com/courses/image-modeling-with-keras\n",
            "--------------------------------------------------\n"
          ]
        },
        {
          "name": "stderr",
          "output_type": "stream",
          "text": [
            "Page 10 Progress:  73%|███████▎  | 22/30 [01:18<00:30,  3.76s/course, Course=Machine Learning for Finance i...]"
          ]
        },
        {
          "name": "stdout",
          "output_type": "stream",
          "text": [
            "\n",
            "Course: Machine Learning for Finance in Python\n",
            "URL: https://www.datacamp.com/courses/machine-learning-for-finance-in-python\n",
            "--------------------------------------------------\n"
          ]
        },
        {
          "name": "stderr",
          "output_type": "stream",
          "text": [
            "Page 10 Progress:  77%|███████▋  | 23/30 [01:20<00:23,  3.33s/course, Course=Bayesian Data Analysis in Pyth...]"
          ]
        },
        {
          "name": "stdout",
          "output_type": "stream",
          "text": [
            "\n",
            "Course: Bayesian Data Analysis in Python\n",
            "URL: https://www.datacamp.com/courses/bayesian-data-analysis-in-python\n",
            "--------------------------------------------------\n"
          ]
        },
        {
          "name": "stderr",
          "output_type": "stream",
          "text": [
            "Page 10 Progress:  80%|████████  | 24/30 [01:24<00:20,  3.42s/course, Course=Deep Reinforcement Learning in...]"
          ]
        },
        {
          "name": "stdout",
          "output_type": "stream",
          "text": [
            "\n",
            "Course: Deep Reinforcement Learning in Python\n",
            "URL: https://www.datacamp.com/courses/deep-reinforcement-learning-in-python\n",
            "--------------------------------------------------\n"
          ]
        },
        {
          "name": "stderr",
          "output_type": "stream",
          "text": [
            "Page 10 Progress:  83%|████████▎ | 25/30 [01:27<00:16,  3.22s/course, Course=Writing Functions and Stored P...]"
          ]
        },
        {
          "name": "stdout",
          "output_type": "stream",
          "text": [
            "\n",
            "Course: Writing Functions and Stored Procedures in SQL Server\n",
            "URL: https://www.datacamp.com/courses/writing-functions-and-stored-procedures-in-sql-server\n",
            "--------------------------------------------------\n"
          ]
        },
        {
          "name": "stderr",
          "output_type": "stream",
          "text": [
            "Page 10 Progress:  87%|████████▋ | 26/30 [01:29<00:12,  3.02s/course, Course=Introduction to Text Analysis ...]"
          ]
        },
        {
          "name": "stdout",
          "output_type": "stream",
          "text": [
            "\n",
            "Course: Introduction to Text Analysis in R\n",
            "URL: https://www.datacamp.com/courses/introduction-to-text-analysis-in-r\n",
            "--------------------------------------------------\n"
          ]
        },
        {
          "name": "stderr",
          "output_type": "stream",
          "text": [
            "Page 10 Progress:  90%|█████████ | 27/30 [01:34<00:10,  3.45s/course, Course=Foundations of Probability in ...]"
          ]
        },
        {
          "name": "stdout",
          "output_type": "stream",
          "text": [
            "\n",
            "Course: Foundations of Probability in R\n",
            "URL: https://www.datacamp.com/courses/foundations-of-probability-in-r\n",
            "--------------------------------------------------\n"
          ]
        },
        {
          "name": "stderr",
          "output_type": "stream",
          "text": [
            "Page 10 Progress:  93%|█████████▎| 28/30 [01:38<00:07,  3.68s/course, Course=Building Chatbots in Python]      "
          ]
        },
        {
          "name": "stdout",
          "output_type": "stream",
          "text": [
            "\n",
            "Course: Building Chatbots in Python\n",
            "URL: https://www.datacamp.com/courses/building-chatbots-in-python\n",
            "--------------------------------------------------\n"
          ]
        },
        {
          "name": "stderr",
          "output_type": "stream",
          "text": [
            "Page 10 Progress:  97%|█████████▋| 29/30 [01:41<00:03,  3.55s/course, Course=Sentiment Analysis in Python]"
          ]
        },
        {
          "name": "stdout",
          "output_type": "stream",
          "text": [
            "\n",
            "Course: Sentiment Analysis in Python\n",
            "URL: https://www.datacamp.com/courses/sentiment-analysis-in-python\n",
            "--------------------------------------------------\n"
          ]
        },
        {
          "name": "stderr",
          "output_type": "stream",
          "text": [
            "Page 10 Progress: 100%|██████████| 30/30 [01:45<00:00,  3.53s/course, Course=Sentiment Analysis in Python]\n"
          ]
        },
        {
          "name": "stdout",
          "output_type": "stream",
          "text": [
            "\n",
            "Crawling page 11: https://www.datacamp.com/courses-all/page/11\n",
            "Found 30 courses on page 11\n"
          ]
        },
        {
          "name": "stderr",
          "output_type": "stream",
          "text": [
            "Page 11 Progress:   0%|          | 0/30 [00:00<?, ?course/s, Course=Foundations of Inference in R]"
          ]
        },
        {
          "name": "stdout",
          "output_type": "stream",
          "text": [
            "\n",
            "Course: Foundations of Inference in R\n",
            "URL: https://www.datacamp.com/courses/foundations-of-inference-in-r\n",
            "--------------------------------------------------\n"
          ]
        },
        {
          "name": "stderr",
          "output_type": "stream",
          "text": [
            "Page 11 Progress:   3%|▎         | 1/30 [00:02<01:17,  2.67s/course, Course=Quantitative Risk Management i...]"
          ]
        },
        {
          "name": "stdout",
          "output_type": "stream",
          "text": [
            "\n",
            "Course: Quantitative Risk Management in Python\n",
            "URL: https://www.datacamp.com/courses/quantitative-risk-management-in-python\n",
            "--------------------------------------------------\n"
          ]
        },
        {
          "name": "stderr",
          "output_type": "stream",
          "text": [
            "Page 11 Progress:   7%|▋         | 2/30 [00:05<01:18,  2.80s/course, Course=Fraud Detection in Python]        "
          ]
        },
        {
          "name": "stdout",
          "output_type": "stream",
          "text": [
            "\n",
            "Course: Fraud Detection in Python\n",
            "URL: https://www.datacamp.com/courses/fraud-detection-in-python\n",
            "--------------------------------------------------\n"
          ]
        },
        {
          "name": "stderr",
          "output_type": "stream",
          "text": [
            "Page 11 Progress:  10%|█         | 3/30 [00:09<01:33,  3.45s/course, Course=Natural Language Processing wi...]"
          ]
        },
        {
          "name": "stdout",
          "output_type": "stream",
          "text": [
            "\n",
            "Course: Natural Language Processing with spaCy\n",
            "URL: https://www.datacamp.com/courses/natural-language-processing-with-spacy\n",
            "--------------------------------------------------\n"
          ]
        },
        {
          "name": "stderr",
          "output_type": "stream",
          "text": [
            "Page 11 Progress:  13%|█▎        | 4/30 [00:12<01:19,  3.05s/course, Course=Working with Dates and Times i...]"
          ]
        },
        {
          "name": "stdout",
          "output_type": "stream",
          "text": [
            "\n",
            "Course: Working with Dates and Times in R\n",
            "URL: https://www.datacamp.com/courses/working-with-dates-and-times-in-r\n",
            "--------------------------------------------------\n"
          ]
        },
        {
          "name": "stderr",
          "output_type": "stream",
          "text": [
            "Page 11 Progress:  17%|█▋        | 5/30 [00:16<01:30,  3.62s/course, Course=Vector Databases for Embedding...]"
          ]
        },
        {
          "name": "stdout",
          "output_type": "stream",
          "text": [
            "\n",
            "Course: Vector Databases for Embeddings with Pinecone\n",
            "URL: https://www.datacamp.com/courses/vector-databases-for-embeddings-with-pinecone\n",
            "--------------------------------------------------\n"
          ]
        },
        {
          "name": "stderr",
          "output_type": "stream",
          "text": [
            "Page 11 Progress:  20%|██        | 6/30 [00:20<01:28,  3.67s/course, Course=Visualization Best Practices i...]"
          ]
        },
        {
          "name": "stdout",
          "output_type": "stream",
          "text": [
            "\n",
            "Course: Visualization Best Practices in R\n",
            "URL: https://www.datacamp.com/courses/visualization-best-practices-in-r\n",
            "--------------------------------------------------\n"
          ]
        },
        {
          "name": "stderr",
          "output_type": "stream",
          "text": [
            "Page 11 Progress:  23%|██▎       | 7/30 [00:22<01:12,  3.17s/course, Course=Intermediate Data Visualizatio...]"
          ]
        },
        {
          "name": "stdout",
          "output_type": "stream",
          "text": [
            "\n",
            "Course: Intermediate Data Visualization with Seaborn\n",
            "URL: https://www.datacamp.com/courses/intermediate-data-visualization-with-seaborn\n",
            "--------------------------------------------------\n"
          ]
        },
        {
          "name": "stderr",
          "output_type": "stream",
          "text": [
            "Page 11 Progress:  27%|██▋       | 8/30 [00:25<01:09,  3.18s/course, Course=Case Study: Analyzing Job Mark...]"
          ]
        },
        {
          "name": "stdout",
          "output_type": "stream",
          "text": [
            "\n",
            "Course: Case Study: Analyzing Job Market Data in Power BI\n",
            "URL: https://www.datacamp.com/courses/case-study-analyzing-job-market-data-in-power-bi\n",
            "--------------------------------------------------\n"
          ]
        },
        {
          "name": "stderr",
          "output_type": "stream",
          "text": [
            "Page 11 Progress:  30%|███       | 9/30 [00:29<01:10,  3.38s/course, Course=Cleaning Data in PostgreSQL Da...]"
          ]
        },
        {
          "name": "stdout",
          "output_type": "stream",
          "text": [
            "\n",
            "Course: Cleaning Data in PostgreSQL Databases\n",
            "URL: https://www.datacamp.com/courses/cleaning-data-in-postgresql-databases\n",
            "--------------------------------------------------\n"
          ]
        },
        {
          "name": "stderr",
          "output_type": "stream",
          "text": [
            "Page 11 Progress:  33%|███▎      | 10/30 [00:32<01:03,  3.16s/course, Course=Developing Machine Learning Mo...]"
          ]
        },
        {
          "name": "stdout",
          "output_type": "stream",
          "text": [
            "\n",
            "Course: Developing Machine Learning Models for Production\n",
            "URL: https://www.datacamp.com/courses/developing-machine-learning-models-for-production\n",
            "--------------------------------------------------\n"
          ]
        },
        {
          "name": "stderr",
          "output_type": "stream",
          "text": [
            "Page 11 Progress:  37%|███▋      | 11/30 [00:36<01:05,  3.45s/course, Course=Streaming Concepts]               "
          ]
        },
        {
          "name": "stdout",
          "output_type": "stream",
          "text": [
            "\n",
            "Course: Streaming Concepts\n",
            "URL: https://www.datacamp.com/courses/streaming-concepts\n",
            "--------------------------------------------------\n"
          ]
        },
        {
          "name": "stderr",
          "output_type": "stream",
          "text": [
            "Page 11 Progress:  40%|████      | 12/30 [00:41<01:07,  3.76s/course, Course=Data Manipulation in Alteryx]"
          ]
        },
        {
          "name": "stdout",
          "output_type": "stream",
          "text": [
            "\n",
            "Course: Data Manipulation in Alteryx\n",
            "URL: https://www.datacamp.com/courses/data-manipulation-in-alteryx\n",
            "--------------------------------------------------\n"
          ]
        },
        {
          "name": "stderr",
          "output_type": "stream",
          "text": [
            "Page 11 Progress:  43%|████▎     | 13/30 [00:44<01:01,  3.64s/course, Course=Data Ingestion and Semantic Mo...]"
          ]
        },
        {
          "name": "stdout",
          "output_type": "stream",
          "text": [
            "\n",
            "Course: Data Ingestion and Semantic Models with Microsoft Fabric\n",
            "URL: https://www.datacamp.com/courses/data-ingestion-and-semantic-models-with-microsoft-fabric\n",
            "--------------------------------------------------\n"
          ]
        },
        {
          "name": "stderr",
          "output_type": "stream",
          "text": [
            "Page 11 Progress:  47%|████▋     | 14/30 [00:47<00:54,  3.42s/course, Course=Visualizing Geospatial Data in...]"
          ]
        },
        {
          "name": "stdout",
          "output_type": "stream",
          "text": [
            "\n",
            "Course: Visualizing Geospatial Data in Python\n",
            "URL: https://www.datacamp.com/courses/visualizing-geospatial-data-in-python\n",
            "--------------------------------------------------\n"
          ]
        },
        {
          "name": "stderr",
          "output_type": "stream",
          "text": [
            "Page 11 Progress:  50%|█████     | 15/30 [00:51<00:55,  3.73s/course, Course=Responsible AI Data Management]   "
          ]
        },
        {
          "name": "stdout",
          "output_type": "stream",
          "text": [
            "\n",
            "Course: Responsible AI Data Management\n",
            "URL: https://www.datacamp.com/courses/responsible-ai-data-management\n",
            "--------------------------------------------------\n"
          ]
        },
        {
          "name": "stderr",
          "output_type": "stream",
          "text": [
            "Page 11 Progress:  53%|█████▎    | 16/30 [00:55<00:50,  3.60s/course, Course=Introduction to Portfolio Anal...]"
          ]
        },
        {
          "name": "stdout",
          "output_type": "stream",
          "text": [
            "\n",
            "Course: Introduction to Portfolio Analysis in Python\n",
            "URL: https://www.datacamp.com/courses/introduction-to-portfolio-analysis-in-python\n",
            "--------------------------------------------------\n"
          ]
        },
        {
          "name": "stderr",
          "output_type": "stream",
          "text": [
            "Page 11 Progress:  57%|█████▋    | 17/30 [00:57<00:42,  3.30s/course, Course=Fine-Tuning with Llama 3]         "
          ]
        },
        {
          "name": "stdout",
          "output_type": "stream",
          "text": [
            "\n",
            "Course: Fine-Tuning with Llama 3\n",
            "URL: https://www.datacamp.com/courses/fine-tuning-with-llama-3\n",
            "--------------------------------------------------\n"
          ]
        },
        {
          "name": "stderr",
          "output_type": "stream",
          "text": [
            "Page 11 Progress:  60%|██████    | 18/30 [01:02<00:43,  3.64s/course, Course=Introduction to Network Analys...]"
          ]
        },
        {
          "name": "stdout",
          "output_type": "stream",
          "text": [
            "\n",
            "Course: Introduction to Network Analysis in Python\n",
            "URL: https://www.datacamp.com/courses/introduction-to-network-analysis-in-python\n",
            "--------------------------------------------------\n"
          ]
        },
        {
          "name": "stderr",
          "output_type": "stream",
          "text": [
            "Page 11 Progress:  63%|██████▎   | 19/30 [01:05<00:40,  3.66s/course, Course=Intermediate Importing Data in...]"
          ]
        },
        {
          "name": "stdout",
          "output_type": "stream",
          "text": [
            "\n",
            "Course: Intermediate Importing Data in R\n",
            "URL: https://www.datacamp.com/courses/intermediate-importing-data-in-r\n",
            "--------------------------------------------------\n"
          ]
        },
        {
          "name": "stderr",
          "output_type": "stream",
          "text": [
            "Page 11 Progress:  67%|██████▋   | 20/30 [01:08<00:33,  3.36s/course, Course=Data Processing in Shell]         "
          ]
        },
        {
          "name": "stdout",
          "output_type": "stream",
          "text": [
            "\n",
            "Course: Data Processing in Shell\n",
            "URL: https://www.datacamp.com/courses/data-processing-in-shell\n",
            "--------------------------------------------------\n"
          ]
        },
        {
          "name": "stderr",
          "output_type": "stream",
          "text": [
            "Page 11 Progress:  70%|███████   | 21/30 [01:11<00:30,  3.35s/course, Course=Feature Engineering with PySpa...]"
          ]
        },
        {
          "name": "stdout",
          "output_type": "stream",
          "text": [
            "\n",
            "Course: Feature Engineering with PySpark\n",
            "URL: https://www.datacamp.com/courses/feature-engineering-with-pyspark\n",
            "--------------------------------------------------\n"
          ]
        },
        {
          "name": "stderr",
          "output_type": "stream",
          "text": [
            "Page 11 Progress:  73%|███████▎  | 22/30 [01:16<00:29,  3.73s/course, Course=Intermediate Java]                "
          ]
        },
        {
          "name": "stdout",
          "output_type": "stream",
          "text": [
            "\n",
            "Course: Intermediate Java\n",
            "URL: https://www.datacamp.com/courses/intermediate-java\n",
            "--------------------------------------------------\n"
          ]
        },
        {
          "name": "stderr",
          "output_type": "stream",
          "text": [
            "Page 11 Progress:  77%|███████▋  | 23/30 [01:18<00:23,  3.34s/course, Course=Machine Learning with caret in...]"
          ]
        },
        {
          "name": "stdout",
          "output_type": "stream",
          "text": [
            "\n",
            "Course: Machine Learning with caret in R\n",
            "URL: https://www.datacamp.com/courses/machine-learning-with-caret-in-r\n",
            "--------------------------------------------------\n"
          ]
        },
        {
          "name": "stderr",
          "output_type": "stream",
          "text": [
            "Page 11 Progress:  80%|████████  | 24/30 [01:21<00:19,  3.29s/course, Course=Dealing With Missing Data in R]   "
          ]
        },
        {
          "name": "stdout",
          "output_type": "stream",
          "text": [
            "\n",
            "Course: Dealing With Missing Data in R\n",
            "URL: https://www.datacamp.com/courses/dealing-with-missing-data-in-r\n",
            "--------------------------------------------------\n"
          ]
        },
        {
          "name": "stderr",
          "output_type": "stream",
          "text": [
            "Page 11 Progress:  83%|████████▎ | 25/30 [01:24<00:15,  3.16s/course, Course=Case Study: Net Revenue Manage...]"
          ]
        },
        {
          "name": "stdout",
          "output_type": "stream",
          "text": [
            "\n",
            "Course: Case Study: Net Revenue Management in Excel\n",
            "URL: https://www.datacamp.com/courses/case-study-net-revenue-management-in-excel\n",
            "--------------------------------------------------\n"
          ]
        },
        {
          "name": "stderr",
          "output_type": "stream",
          "text": [
            "Page 11 Progress:  87%|████████▋ | 26/30 [01:29<00:14,  3.52s/course, Course=Introduction to Spark SQL in P...]"
          ]
        },
        {
          "name": "stdout",
          "output_type": "stream",
          "text": [
            "\n",
            "Course: Introduction to Spark SQL in Python\n",
            "URL: https://www.datacamp.com/courses/introduction-to-spark-sql-in-python\n",
            "--------------------------------------------------\n"
          ]
        },
        {
          "name": "stderr",
          "output_type": "stream",
          "text": [
            "Page 11 Progress:  90%|█████████ | 27/30 [01:33<00:10,  3.63s/course, Course=Introduction to MongoDB in Pyt...]"
          ]
        },
        {
          "name": "stdout",
          "output_type": "stream",
          "text": [
            "\n",
            "Course: Introduction to MongoDB in Python\n",
            "URL: https://www.datacamp.com/courses/introduction-to-using-mongodb-for-data-science-with-python\n",
            "--------------------------------------------------\n"
          ]
        },
        {
          "name": "stderr",
          "output_type": "stream",
          "text": [
            "Page 11 Progress:  93%|█████████▎| 28/30 [01:35<00:06,  3.19s/course, Course=Hierarchical and Mixed Effects...]"
          ]
        },
        {
          "name": "stdout",
          "output_type": "stream",
          "text": [
            "\n",
            "Course: Hierarchical and Mixed Effects Models in R\n",
            "URL: https://www.datacamp.com/courses/hierarchical-and-mixed-effects-models-in-r\n",
            "--------------------------------------------------\n"
          ]
        },
        {
          "name": "stderr",
          "output_type": "stream",
          "text": [
            "Page 11 Progress:  97%|█████████▋| 29/30 [01:38<00:03,  3.33s/course, Course=Data Storytelling Case Study: ...]"
          ]
        },
        {
          "name": "stdout",
          "output_type": "stream",
          "text": [
            "\n",
            "Course: Data Storytelling Case Study: Green Businesses\n",
            "URL: https://www.datacamp.com/courses/data-storytelling-case-study-green-businesses\n",
            "--------------------------------------------------\n"
          ]
        },
        {
          "name": "stderr",
          "output_type": "stream",
          "text": [
            "Page 11 Progress: 100%|██████████| 30/30 [01:41<00:00,  3.38s/course, Course=Data Storytelling Case Study: ...]\n"
          ]
        },
        {
          "name": "stdout",
          "output_type": "stream",
          "text": [
            "\n",
            "Crawling page 12: https://www.datacamp.com/courses-all/page/12\n",
            "Found 30 courses on page 12\n"
          ]
        },
        {
          "name": "stderr",
          "output_type": "stream",
          "text": [
            "Page 12 Progress:   0%|          | 0/30 [00:00<?, ?course/s, Course=Improving Query Performance in...]"
          ]
        },
        {
          "name": "stdout",
          "output_type": "stream",
          "text": [
            "\n",
            "Course: Improving Query Performance in SQL Server\n",
            "URL: https://www.datacamp.com/courses/improving-query-performance-in-sql-server\n",
            "--------------------------------------------------\n"
          ]
        },
        {
          "name": "stderr",
          "output_type": "stream",
          "text": [
            "Page 12 Progress:   3%|▎         | 1/30 [00:02<01:03,  2.19s/course, Course=Time Series Analysis in SQL Se...]"
          ]
        },
        {
          "name": "stdout",
          "output_type": "stream",
          "text": [
            "\n",
            "Course: Time Series Analysis in SQL Server\n",
            "URL: https://www.datacamp.com/courses/time-series-analysis-in-sql-server\n",
            "--------------------------------------------------\n"
          ]
        },
        {
          "name": "stderr",
          "output_type": "stream",
          "text": [
            "Page 12 Progress:   7%|▋         | 2/30 [00:06<01:37,  3.50s/course, Course=Cluster Analysis in R]            "
          ]
        },
        {
          "name": "stdout",
          "output_type": "stream",
          "text": [
            "\n",
            "Course: Cluster Analysis in R\n",
            "URL: https://www.datacamp.com/courses/cluster-analysis-in-r\n",
            "--------------------------------------------------\n"
          ]
        },
        {
          "name": "stderr",
          "output_type": "stream",
          "text": [
            "Page 12 Progress:  10%|█         | 3/30 [00:10<01:44,  3.88s/course, Course=Visualizing Time Series Data i...]"
          ]
        },
        {
          "name": "stdout",
          "output_type": "stream",
          "text": [
            "\n",
            "Course: Visualizing Time Series Data in Python\n",
            "URL: https://www.datacamp.com/courses/visualizing-time-series-data-in-python\n",
            "--------------------------------------------------\n"
          ]
        },
        {
          "name": "stderr",
          "output_type": "stream",
          "text": [
            "Page 12 Progress:  13%|█▎        | 4/30 [00:14<01:36,  3.70s/course, Course=Importing and Managing Financi...]"
          ]
        },
        {
          "name": "stdout",
          "output_type": "stream",
          "text": [
            "\n",
            "Course: Importing and Managing Financial Data in Python\n",
            "URL: https://www.datacamp.com/courses/importing-and-managing-financial-data-in-python\n",
            "--------------------------------------------------\n"
          ]
        },
        {
          "name": "stderr",
          "output_type": "stream",
          "text": [
            "Page 12 Progress:  17%|█▋        | 5/30 [00:16<01:18,  3.15s/course, Course=Web Scraping in R]                "
          ]
        },
        {
          "name": "stdout",
          "output_type": "stream",
          "text": [
            "\n",
            "Course: Web Scraping in R\n",
            "URL: https://www.datacamp.com/courses/web-scraping-in-r\n",
            "--------------------------------------------------\n"
          ]
        },
        {
          "name": "stderr",
          "output_type": "stream",
          "text": [
            "Page 12 Progress:  20%|██        | 6/30 [00:20<01:19,  3.29s/course, Course=Communicating with Data in the...]"
          ]
        },
        {
          "name": "stdout",
          "output_type": "stream",
          "text": [
            "\n",
            "Course: Communicating with Data in the Tidyverse\n",
            "URL: https://www.datacamp.com/courses/communicating-with-data-in-the-tidyverse\n",
            "--------------------------------------------------\n"
          ]
        },
        {
          "name": "stderr",
          "output_type": "stream",
          "text": [
            "Page 12 Progress:  23%|██▎       | 7/30 [00:23<01:19,  3.46s/course, Course=Introduction to GPTs]             "
          ]
        },
        {
          "name": "stdout",
          "output_type": "stream",
          "text": [
            "\n",
            "Course: Introduction to GPTs\n",
            "URL: https://www.datacamp.com/courses/introduction-to-gpts\n",
            "--------------------------------------------------\n"
          ]
        },
        {
          "name": "stderr",
          "output_type": "stream",
          "text": [
            "Page 12 Progress:  27%|██▋       | 8/30 [00:28<01:22,  3.74s/course, Course=Introduction to Linear Modelin...]"
          ]
        },
        {
          "name": "stdout",
          "output_type": "stream",
          "text": [
            "\n",
            "Course: Introduction to Linear Modeling in Python\n",
            "URL: https://www.datacamp.com/courses/introduction-to-linear-modeling-in-python\n",
            "--------------------------------------------------\n"
          ]
        },
        {
          "name": "stderr",
          "output_type": "stream",
          "text": [
            "Page 12 Progress:  30%|███       | 9/30 [00:33<01:26,  4.10s/course, Course=Case Study: Supply Chain Analy...]"
          ]
        },
        {
          "name": "stdout",
          "output_type": "stream",
          "text": [
            "\n",
            "Course: Case Study: Supply Chain Analytics in Power BI\n",
            "URL: https://www.datacamp.com/courses/case-study-supply-chain-analytics-in-power-bi\n",
            "--------------------------------------------------\n"
          ]
        },
        {
          "name": "stderr",
          "output_type": "stream",
          "text": [
            "Page 12 Progress:  33%|███▎      | 10/30 [00:36<01:17,  3.86s/course, Course=RNA-Seq with Bioconductor in R]   "
          ]
        },
        {
          "name": "stdout",
          "output_type": "stream",
          "text": [
            "\n",
            "Course: RNA-Seq with Bioconductor in R\n",
            "URL: https://www.datacamp.com/courses/rna-seq-with-bioconductor-in-r\n",
            "--------------------------------------------------\n"
          ]
        },
        {
          "name": "stderr",
          "output_type": "stream",
          "text": [
            "Page 12 Progress:  37%|███▋      | 11/30 [00:40<01:16,  4.03s/course, Course=Ensemble Methods in Python]    "
          ]
        },
        {
          "name": "stdout",
          "output_type": "stream",
          "text": [
            "\n",
            "Course: Ensemble Methods in Python\n",
            "URL: https://www.datacamp.com/courses/ensemble-methods-in-python\n",
            "--------------------------------------------------\n"
          ]
        },
        {
          "name": "stderr",
          "output_type": "stream",
          "text": [
            "Page 12 Progress:  40%|████      | 12/30 [00:43<01:04,  3.56s/course, Course=Introduction to Julia]     "
          ]
        },
        {
          "name": "stdout",
          "output_type": "stream",
          "text": [
            "\n",
            "Course: Introduction to Julia\n",
            "URL: https://www.datacamp.com/courses/introduction-to-julia\n",
            "--------------------------------------------------\n"
          ]
        },
        {
          "name": "stderr",
          "output_type": "stream",
          "text": [
            "Page 12 Progress:  43%|████▎     | 13/30 [00:46<00:57,  3.37s/course, Course=Introduction to Bioconductor i...]"
          ]
        },
        {
          "name": "stdout",
          "output_type": "stream",
          "text": [
            "\n",
            "Course: Introduction to Bioconductor in R\n",
            "URL: https://www.datacamp.com/courses/introduction-to-bioconductor-in-r\n",
            "--------------------------------------------------\n"
          ]
        },
        {
          "name": "stderr",
          "output_type": "stream",
          "text": [
            "Page 12 Progress:  47%|████▋     | 14/30 [00:51<01:00,  3.78s/course, Course=Winning a Kaggle Competition i...]"
          ]
        },
        {
          "name": "stdout",
          "output_type": "stream",
          "text": [
            "\n",
            "Course: Winning a Kaggle Competition in Python\n",
            "URL: https://www.datacamp.com/courses/winning-a-kaggle-competition-in-python\n",
            "--------------------------------------------------\n"
          ]
        },
        {
          "name": "stderr",
          "output_type": "stream",
          "text": [
            "Page 12 Progress:  50%|█████     | 15/30 [00:53<00:50,  3.34s/course, Course=Anomaly Detection in Python]      "
          ]
        },
        {
          "name": "stdout",
          "output_type": "stream",
          "text": [
            "\n",
            "Course: Anomaly Detection in Python\n",
            "URL: https://www.datacamp.com/courses/anomaly-detection-in-python\n",
            "--------------------------------------------------\n"
          ]
        },
        {
          "name": "stderr",
          "output_type": "stream",
          "text": [
            "Page 12 Progress:  53%|█████▎    | 16/30 [00:57<00:48,  3.48s/course, Course=Biomedical Image Analysis in P...]"
          ]
        },
        {
          "name": "stdout",
          "output_type": "stream",
          "text": [
            "\n",
            "Course: Biomedical Image Analysis in Python\n",
            "URL: https://www.datacamp.com/courses/biomedical-image-analysis-in-python\n",
            "--------------------------------------------------\n"
          ]
        },
        {
          "name": "stderr",
          "output_type": "stream",
          "text": [
            "Page 12 Progress:  57%|█████▋    | 17/30 [01:00<00:44,  3.40s/course, Course=Improving Query Performance in...]"
          ]
        },
        {
          "name": "stdout",
          "output_type": "stream",
          "text": [
            "\n",
            "Course: Improving Query Performance in PostgreSQL\n",
            "URL: https://www.datacamp.com/courses/improving-query-performance-in-postgresql\n",
            "--------------------------------------------------\n"
          ]
        },
        {
          "name": "stderr",
          "output_type": "stream",
          "text": [
            "Page 12 Progress:  60%|██████    | 18/30 [01:03<00:38,  3.21s/course, Course=Foundations of Probability in ...]"
          ]
        },
        {
          "name": "stdout",
          "output_type": "stream",
          "text": [
            "\n",
            "Course: Foundations of Probability in Python\n",
            "URL: https://www.datacamp.com/courses/foundations-of-probability-in-python\n",
            "--------------------------------------------------\n"
          ]
        },
        {
          "name": "stderr",
          "output_type": "stream",
          "text": [
            "Page 12 Progress:  63%|██████▎   | 19/30 [01:07<00:37,  3.41s/course, Course=String Manipulation with strin...]"
          ]
        },
        {
          "name": "stdout",
          "output_type": "stream",
          "text": [
            "\n",
            "Course: String Manipulation with stringr in R\n",
            "URL: https://www.datacamp.com/courses/string-manipulation-with-stringr-in-r\n",
            "--------------------------------------------------\n"
          ]
        },
        {
          "name": "stderr",
          "output_type": "stream",
          "text": [
            "Page 12 Progress:  67%|██████▋   | 20/30 [01:11<00:36,  3.60s/course, Course=Introduction to Predictive Ana...]"
          ]
        },
        {
          "name": "stdout",
          "output_type": "stream",
          "text": [
            "\n",
            "Course: Introduction to Predictive Analytics in Python\n",
            "URL: https://www.datacamp.com/courses/introduction-to-predictive-analytics-in-python\n",
            "--------------------------------------------------\n"
          ]
        },
        {
          "name": "stderr",
          "output_type": "stream",
          "text": [
            "Page 12 Progress:  70%|███████   | 21/30 [01:14<00:30,  3.41s/course, Course=Building Recommendation Engine...]"
          ]
        },
        {
          "name": "stdout",
          "output_type": "stream",
          "text": [
            "\n",
            "Course: Building Recommendation Engines in Python\n",
            "URL: https://www.datacamp.com/courses/building-recommendation-engines-in-python\n",
            "--------------------------------------------------\n"
          ]
        },
        {
          "name": "stderr",
          "output_type": "stream",
          "text": [
            "Page 12 Progress:  73%|███████▎  | 22/30 [01:16<00:25,  3.24s/course, Course=Machine Learning with Tree-Bas...]"
          ]
        },
        {
          "name": "stdout",
          "output_type": "stream",
          "text": [
            "\n",
            "Course: Machine Learning with Tree-Based Models in R\n",
            "URL: https://www.datacamp.com/courses/machine-learning-with-tree-based-models-in-r\n",
            "--------------------------------------------------\n"
          ]
        },
        {
          "name": "stderr",
          "output_type": "stream",
          "text": [
            "Page 12 Progress:  77%|███████▋  | 23/30 [01:21<00:26,  3.74s/course, Course=Introduction to Data Quality w...]"
          ]
        },
        {
          "name": "stdout",
          "output_type": "stream",
          "text": [
            "\n",
            "Course: Introduction to Data Quality with Great Expectations\n",
            "URL: https://www.datacamp.com/courses/introduction-to-data-quality-with-great-expectations\n",
            "--------------------------------------------------\n"
          ]
        },
        {
          "name": "stderr",
          "output_type": "stream",
          "text": [
            "Page 12 Progress:  80%|████████  | 24/30 [01:23<00:19,  3.24s/course, Course=Modeling with tidymodels in R]    "
          ]
        },
        {
          "name": "stdout",
          "output_type": "stream",
          "text": [
            "\n",
            "Course: Modeling with tidymodels in R\n",
            "URL: https://www.datacamp.com/courses/modeling-with-tidymodels-in-r\n",
            "--------------------------------------------------\n"
          ]
        },
        {
          "name": "stderr",
          "output_type": "stream",
          "text": [
            "Page 12 Progress:  83%|████████▎ | 25/30 [01:27<00:16,  3.37s/course, Course=Reinforcement Learning from Hu...]"
          ]
        },
        {
          "name": "stdout",
          "output_type": "stream",
          "text": [
            "\n",
            "Course: Reinforcement Learning from Human Feedback (RLHF)\n",
            "URL: https://www.datacamp.com/courses/reinforcement-learning-from-human-feedback-rlhf\n",
            "--------------------------------------------------\n"
          ]
        },
        {
          "name": "stderr",
          "output_type": "stream",
          "text": [
            "Page 12 Progress:  87%|████████▋ | 26/30 [01:31<00:14,  3.60s/course, Course=Introduction to Optimization i...]"
          ]
        },
        {
          "name": "stdout",
          "output_type": "stream",
          "text": [
            "\n",
            "Course: Introduction to Optimization in Python\n",
            "URL: https://www.datacamp.com/courses/introduction-to-optimization-in-python\n",
            "--------------------------------------------------\n"
          ]
        },
        {
          "name": "stderr",
          "output_type": "stream",
          "text": [
            "Page 12 Progress:  90%|█████████ | 27/30 [01:36<00:11,  3.84s/course, Course=Introduction to Python in Powe...]"
          ]
        },
        {
          "name": "stdout",
          "output_type": "stream",
          "text": [
            "\n",
            "Course: Introduction to Python in Power BI\n",
            "URL: https://www.datacamp.com/courses/introduction-to-python-in-power-bi\n",
            "--------------------------------------------------\n"
          ]
        },
        {
          "name": "stderr",
          "output_type": "stream",
          "text": [
            "Page 12 Progress:  93%|█████████▎| 28/30 [01:40<00:07,  3.90s/course, Course=Dealing with Missing Data in P...]"
          ]
        },
        {
          "name": "stdout",
          "output_type": "stream",
          "text": [
            "\n",
            "Course: Dealing with Missing Data in Python\n",
            "URL: https://www.datacamp.com/courses/dealing-with-missing-data-in-python\n",
            "--------------------------------------------------\n"
          ]
        },
        {
          "name": "stderr",
          "output_type": "stream",
          "text": [
            "Page 12 Progress:  97%|█████████▋| 29/30 [01:43<00:03,  3.75s/course, Course=Transform and Analyze Data wit...]"
          ]
        },
        {
          "name": "stdout",
          "output_type": "stream",
          "text": [
            "\n",
            "Course: Transform and Analyze Data with Microsoft Fabric\n",
            "URL: https://www.datacamp.com/courses/transform-and-analyze-data-with-microsoft-fabric\n",
            "--------------------------------------------------\n"
          ]
        },
        {
          "name": "stderr",
          "output_type": "stream",
          "text": [
            "Page 12 Progress: 100%|██████████| 30/30 [01:47<00:00,  3.60s/course, Course=Transform and Analyze Data wit...]\n"
          ]
        },
        {
          "name": "stdout",
          "output_type": "stream",
          "text": [
            "\n",
            "Crawling page 13: https://www.datacamp.com/courses-all/page/13\n",
            "Found 30 courses on page 13\n"
          ]
        },
        {
          "name": "stderr",
          "output_type": "stream",
          "text": [
            "Page 13 Progress:   0%|          | 0/30 [00:00<?, ?course/s, Course=Data Types and Exceptions in J...]"
          ]
        },
        {
          "name": "stdout",
          "output_type": "stream",
          "text": [
            "\n",
            "Course: Data Types and Exceptions in Java\n",
            "URL: https://www.datacamp.com/courses/data-types-and-exceptions-in-java\n",
            "--------------------------------------------------\n"
          ]
        },
        {
          "name": "stderr",
          "output_type": "stream",
          "text": [
            "Page 13 Progress:   3%|▎         | 1/30 [00:03<01:37,  3.36s/course, Course=Analyzing Survey Data in R]       "
          ]
        },
        {
          "name": "stdout",
          "output_type": "stream",
          "text": [
            "\n",
            "Course: Analyzing Survey Data in R\n",
            "URL: https://www.datacamp.com/courses/analyzing-survey-data-in-r\n",
            "--------------------------------------------------\n"
          ]
        },
        {
          "name": "stderr",
          "output_type": "stream",
          "text": [
            "Page 13 Progress:   7%|▋         | 2/30 [00:06<01:32,  3.30s/course, Course=Intermediate R for Finance]"
          ]
        },
        {
          "name": "stdout",
          "output_type": "stream",
          "text": [
            "\n",
            "Course: Intermediate R for Finance\n",
            "URL: https://www.datacamp.com/courses/intermediate-r-for-finance\n",
            "--------------------------------------------------\n"
          ]
        },
        {
          "name": "stderr",
          "output_type": "stream",
          "text": [
            "Page 13 Progress:  10%|█         | 3/30 [00:10<01:32,  3.44s/course, Course=Introduction to Redshift]  "
          ]
        },
        {
          "name": "stdout",
          "output_type": "stream",
          "text": [
            "\n",
            "Course: Introduction to Redshift\n",
            "URL: https://www.datacamp.com/courses/introduction-to-redshift\n",
            "--------------------------------------------------\n"
          ]
        },
        {
          "name": "stderr",
          "output_type": "stream",
          "text": [
            "Page 13 Progress:  13%|█▎        | 4/30 [00:13<01:29,  3.45s/course, Course=Time Series Analysis in Power ...]"
          ]
        },
        {
          "name": "stdout",
          "output_type": "stream",
          "text": [
            "\n",
            "Course: Time Series Analysis in Power BI\n",
            "URL: https://www.datacamp.com/courses/time-series-analysis-in-power-bi\n",
            "--------------------------------------------------\n"
          ]
        },
        {
          "name": "stderr",
          "output_type": "stream",
          "text": [
            "Page 13 Progress:  17%|█▋        | 5/30 [00:18<01:38,  3.92s/course, Course=Financial Modeling in Google S...]"
          ]
        },
        {
          "name": "stdout",
          "output_type": "stream",
          "text": [
            "\n",
            "Course: Financial Modeling in Google Sheets\n",
            "URL: https://www.datacamp.com/courses/financial-modeling-in-google-sheets\n",
            "--------------------------------------------------\n"
          ]
        },
        {
          "name": "stderr",
          "output_type": "stream",
          "text": [
            "Page 13 Progress:  20%|██        | 6/30 [00:22<01:33,  3.89s/course, Course=Power BI for End Users]           "
          ]
        },
        {
          "name": "stdout",
          "output_type": "stream",
          "text": [
            "\n",
            "Course: Power BI for End Users\n",
            "URL: https://www.datacamp.com/courses/power-bi-for-end-users\n",
            "--------------------------------------------------\n"
          ]
        },
        {
          "name": "stderr",
          "output_type": "stream",
          "text": [
            "Page 13 Progress:  23%|██▎       | 7/30 [00:25<01:22,  3.59s/course, Course=Monitoring Machine Learning Co...]"
          ]
        },
        {
          "name": "stdout",
          "output_type": "stream",
          "text": [
            "\n",
            "Course: Monitoring Machine Learning Concepts\n",
            "URL: https://www.datacamp.com/courses/monitoring-machine-learning-concepts\n",
            "--------------------------------------------------\n"
          ]
        },
        {
          "name": "stderr",
          "output_type": "stream",
          "text": [
            "Page 13 Progress:  27%|██▋       | 8/30 [00:28<01:14,  3.40s/course, Course=Customer Segmentation in Pytho...]"
          ]
        },
        {
          "name": "stdout",
          "output_type": "stream",
          "text": [
            "\n",
            "Course: Customer Segmentation in Python\n",
            "URL: https://www.datacamp.com/courses/customer-segmentation-in-python\n",
            "--------------------------------------------------\n"
          ]
        },
        {
          "name": "stderr",
          "output_type": "stream",
          "text": [
            "Page 13 Progress:  30%|███       | 9/30 [00:31<01:09,  3.29s/course, Course=Functions for Manipulating Dat...]"
          ]
        },
        {
          "name": "stdout",
          "output_type": "stream",
          "text": [
            "\n",
            "Course: Functions for Manipulating Data in SQL Server\n",
            "URL: https://www.datacamp.com/courses/functions-for-manipulating-data-in-sql-server\n",
            "--------------------------------------------------\n"
          ]
        },
        {
          "name": "stderr",
          "output_type": "stream",
          "text": [
            "Page 13 Progress:  33%|███▎      | 10/30 [00:35<01:09,  3.47s/course, Course=Visualizing Time Series Data i...]"
          ]
        },
        {
          "name": "stdout",
          "output_type": "stream",
          "text": [
            "\n",
            "Course: Visualizing Time Series Data in R\n",
            "URL: https://www.datacamp.com/courses/visualizing-time-series-data-in-r\n",
            "--------------------------------------------------\n"
          ]
        },
        {
          "name": "stderr",
          "output_type": "stream",
          "text": [
            "Page 13 Progress:  37%|███▋      | 11/30 [00:38<01:07,  3.56s/course, Course=Market Basket Analysis in Pyth...]"
          ]
        },
        {
          "name": "stdout",
          "output_type": "stream",
          "text": [
            "\n",
            "Course: Market Basket Analysis in Python\n",
            "URL: https://www.datacamp.com/courses/market-basket-analysis-in-python\n",
            "--------------------------------------------------\n"
          ]
        },
        {
          "name": "stderr",
          "output_type": "stream",
          "text": [
            "Page 13 Progress:  40%|████      | 12/30 [00:42<01:02,  3.46s/course, Course=Introduction to AWS Boto in Py...]"
          ]
        },
        {
          "name": "stdout",
          "output_type": "stream",
          "text": [
            "\n",
            "Course: Introduction to AWS Boto in Python\n",
            "URL: https://www.datacamp.com/courses/introduction-to-aws-boto-in-python\n",
            "--------------------------------------------------\n"
          ]
        },
        {
          "name": "stderr",
          "output_type": "stream",
          "text": [
            "Page 13 Progress:  43%|████▎     | 13/30 [00:45<01:00,  3.55s/course, Course=Introduction to Scala]            "
          ]
        },
        {
          "name": "stdout",
          "output_type": "stream",
          "text": [
            "\n",
            "Course: Introduction to Scala\n",
            "URL: https://www.datacamp.com/courses/introduction-to-scala\n",
            "--------------------------------------------------\n"
          ]
        },
        {
          "name": "stderr",
          "output_type": "stream",
          "text": [
            "Page 13 Progress:  47%|████▋     | 14/30 [00:50<01:01,  3.82s/course, Course=Case Study: Exploratory Data A...]"
          ]
        },
        {
          "name": "stdout",
          "output_type": "stream",
          "text": [
            "\n",
            "Course: Case Study: Exploratory Data Analysis in R\n",
            "URL: https://www.datacamp.com/courses/case-study-exploratory-data-analysis-in-r\n",
            "--------------------------------------------------\n"
          ]
        },
        {
          "name": "stderr",
          "output_type": "stream",
          "text": [
            "Page 13 Progress:  50%|█████     | 15/30 [00:54<00:59,  3.95s/course, Course=Fully Automated MLOps]            "
          ]
        },
        {
          "name": "stdout",
          "output_type": "stream",
          "text": [
            "\n",
            "Course: Fully Automated MLOps\n",
            "URL: https://www.datacamp.com/courses/fully-automated-mlops\n",
            "--------------------------------------------------\n"
          ]
        },
        {
          "name": "stderr",
          "output_type": "stream",
          "text": [
            "Page 13 Progress:  53%|█████▎    | 16/30 [00:58<00:56,  4.07s/course, Course=Data Manipulation with data.ta...]"
          ]
        },
        {
          "name": "stdout",
          "output_type": "stream",
          "text": [
            "\n",
            "Course: Data Manipulation with data.table in R\n",
            "URL: https://www.datacamp.com/courses/data-manipulation-with-datatable-in-r\n",
            "--------------------------------------------------\n"
          ]
        },
        {
          "name": "stderr",
          "output_type": "stream",
          "text": [
            "Page 13 Progress:  57%|█████▋    | 17/30 [01:03<00:55,  4.26s/course, Course=Monte Carlo Simulations in Pyt...]"
          ]
        },
        {
          "name": "stdout",
          "output_type": "stream",
          "text": [
            "\n",
            "Course: Monte Carlo Simulations in Python\n",
            "URL: https://www.datacamp.com/courses/monte-carlo-simulations-in-python\n",
            "--------------------------------------------------\n"
          ]
        },
        {
          "name": "stderr",
          "output_type": "stream",
          "text": [
            "Page 13 Progress:  60%|██████    | 18/30 [01:08<00:53,  4.43s/course, Course=Understanding Digital Transfor...]"
          ]
        },
        {
          "name": "stdout",
          "output_type": "stream",
          "text": [
            "\n",
            "Course: Understanding Digital Transformation\n",
            "URL: https://www.datacamp.com/courses/understanding-digital-transformation\n",
            "--------------------------------------------------\n"
          ]
        },
        {
          "name": "stderr",
          "output_type": "stream",
          "text": [
            "Page 13 Progress:  63%|██████▎   | 19/30 [01:11<00:43,  3.96s/course, Course=Case Study: Analyzing Sales Da...]"
          ]
        },
        {
          "name": "stdout",
          "output_type": "stream",
          "text": [
            "\n",
            "Course: Case Study: Analyzing Sales Data in Alteryx\n",
            "URL: https://www.datacamp.com/courses/case-study-analyzing-sales-data-in-alteryx\n",
            "--------------------------------------------------\n"
          ]
        },
        {
          "name": "stderr",
          "output_type": "stream",
          "text": [
            "Page 13 Progress:  67%|██████▋   | 20/30 [01:16<00:42,  4.20s/course, Course=Statistical Thinking in Python...]"
          ]
        },
        {
          "name": "stdout",
          "output_type": "stream",
          "text": [
            "\n",
            "Course: Statistical Thinking in Python (Part 2)\n",
            "URL: https://www.datacamp.com/courses/statistical-thinking-in-python-part-2\n",
            "--------------------------------------------------\n"
          ]
        },
        {
          "name": "stderr",
          "output_type": "stream",
          "text": [
            "Page 13 Progress:  70%|███████   | 21/30 [01:18<00:31,  3.55s/course, Course=Improving Your Data Visualizat...]"
          ]
        },
        {
          "name": "stdout",
          "output_type": "stream",
          "text": [
            "\n",
            "Course: Improving Your Data Visualizations in Python\n",
            "URL: https://www.datacamp.com/courses/improving-your-data-visualizations-in-python\n",
            "--------------------------------------------------\n"
          ]
        },
        {
          "name": "stderr",
          "output_type": "stream",
          "text": [
            "Page 13 Progress:  73%|███████▎  | 22/30 [01:21<00:28,  3.56s/course, Course=Supply Chain Analytics in Pyth...]"
          ]
        },
        {
          "name": "stdout",
          "output_type": "stream",
          "text": [
            "\n",
            "Course: Supply Chain Analytics in Python\n",
            "URL: https://www.datacamp.com/courses/supply-chain-analytics-in-python\n",
            "--------------------------------------------------\n"
          ]
        },
        {
          "name": "stderr",
          "output_type": "stream",
          "text": [
            "Page 13 Progress:  77%|███████▋  | 23/30 [01:26<00:27,  3.96s/course, Course=Streaming Data with AWS Kinesi...]"
          ]
        },
        {
          "name": "stdout",
          "output_type": "stream",
          "text": [
            "\n",
            "Course: Streaming Data with AWS Kinesis and Lambda\n",
            "URL: https://www.datacamp.com/courses/streaming-data-with-aws-kinesis-and-lambda\n",
            "--------------------------------------------------\n"
          ]
        },
        {
          "name": "stderr",
          "output_type": "stream",
          "text": [
            "Page 13 Progress:  80%|████████  | 24/30 [01:30<00:24,  4.04s/course, Course=Data Fluency]                     "
          ]
        },
        {
          "name": "stdout",
          "output_type": "stream",
          "text": [
            "\n",
            "Course: Data Fluency\n",
            "URL: https://www.datacamp.com/courses/data-fluency\n",
            "--------------------------------------------------\n"
          ]
        },
        {
          "name": "stderr",
          "output_type": "stream",
          "text": [
            "Page 13 Progress:  83%|████████▎ | 25/30 [01:33<00:18,  3.63s/course, Course=Generalized Linear Models in P...]"
          ]
        },
        {
          "name": "stdout",
          "output_type": "stream",
          "text": [
            "\n",
            "Course: Generalized Linear Models in Python\n",
            "URL: https://www.datacamp.com/courses/generalized-linear-models-in-python\n",
            "--------------------------------------------------\n"
          ]
        },
        {
          "name": "stderr",
          "output_type": "stream",
          "text": [
            "Page 13 Progress:  87%|████████▋ | 26/30 [01:36<00:13,  3.43s/course, Course=Customer Analytics and A/B Tes...]"
          ]
        },
        {
          "name": "stdout",
          "output_type": "stream",
          "text": [
            "\n",
            "Course: Customer Analytics and A/B Testing in Python\n",
            "URL: https://www.datacamp.com/courses/customer-analytics-and-ab-testing-in-python\n",
            "--------------------------------------------------\n"
          ]
        },
        {
          "name": "stderr",
          "output_type": "stream",
          "text": [
            "Page 13 Progress:  90%|█████████ | 27/30 [01:39<00:09,  3.21s/course, Course=Introduction to Data Versionin...]"
          ]
        },
        {
          "name": "stdout",
          "output_type": "stream",
          "text": [
            "\n",
            "Course: Introduction to Data Versioning with DVC\n",
            "URL: https://www.datacamp.com/courses/introduction-to-data-versioning-with-dvc\n",
            "--------------------------------------------------\n"
          ]
        },
        {
          "name": "stderr",
          "output_type": "stream",
          "text": [
            "Page 13 Progress:  93%|█████████▎| 28/30 [01:43<00:06,  3.49s/course, Course=Linear Algebra for Data Scienc...]"
          ]
        },
        {
          "name": "stdout",
          "output_type": "stream",
          "text": [
            "\n",
            "Course: Linear Algebra for Data Science in R\n",
            "URL: https://www.datacamp.com/courses/linear-algebra-for-data-science-in-r\n",
            "--------------------------------------------------\n"
          ]
        },
        {
          "name": "stderr",
          "output_type": "stream",
          "text": [
            "Page 13 Progress:  97%|█████████▋| 29/30 [01:46<00:03,  3.35s/course, Course=Introduction to Portfolio Anal...]"
          ]
        },
        {
          "name": "stdout",
          "output_type": "stream",
          "text": [
            "\n",
            "Course: Introduction to Portfolio Analysis in R\n",
            "URL: https://www.datacamp.com/courses/introduction-to-portfolio-analysis-in-r\n",
            "--------------------------------------------------\n"
          ]
        },
        {
          "name": "stderr",
          "output_type": "stream",
          "text": [
            "Page 13 Progress: 100%|██████████| 30/30 [01:48<00:00,  3.63s/course, Course=Introduction to Portfolio Anal...]\n"
          ]
        },
        {
          "name": "stdout",
          "output_type": "stream",
          "text": [
            "\n",
            "Crawling page 14: https://www.datacamp.com/courses-all/page/14\n",
            "Found 30 courses on page 14\n"
          ]
        },
        {
          "name": "stderr",
          "output_type": "stream",
          "text": [
            "Page 14 Progress:   0%|          | 0/30 [00:00<?, ?course/s, Course=Corporate Finance Fundamentals]"
          ]
        },
        {
          "name": "stdout",
          "output_type": "stream",
          "text": [
            "\n",
            "Course: Corporate Finance Fundamentals\n",
            "URL: https://www.datacamp.com/courses/corporate-finance-fundamentals\n",
            "--------------------------------------------------\n"
          ]
        },
        {
          "name": "stderr",
          "output_type": "stream",
          "text": [
            "Page 14 Progress:   3%|▎         | 1/30 [00:02<01:08,  2.35s/course, Course=Advanced Probability: Uncertai...]"
          ]
        },
        {
          "name": "stdout",
          "output_type": "stream",
          "text": [
            "\n",
            "Course: Advanced Probability: Uncertainty in Data\n",
            "URL: https://www.datacamp.com/courses/advanced-probability-uncertainty-in-data\n",
            "--------------------------------------------------\n"
          ]
        },
        {
          "name": "stderr",
          "output_type": "stream",
          "text": [
            "Page 14 Progress:   7%|▋         | 2/30 [00:04<01:02,  2.24s/course, Course=Fundamentals of Bayesian Data ...]"
          ]
        },
        {
          "name": "stdout",
          "output_type": "stream",
          "text": [
            "\n",
            "Course: Fundamentals of Bayesian Data Analysis in R\n",
            "URL: https://www.datacamp.com/courses/fundamentals-of-bayesian-data-analysis-in-r\n",
            "--------------------------------------------------\n"
          ]
        },
        {
          "name": "stderr",
          "output_type": "stream",
          "text": [
            "Page 14 Progress:  10%|█         | 3/30 [00:08<01:17,  2.89s/course, Course=Case Study: Inventory Analysis...]"
          ]
        },
        {
          "name": "stdout",
          "output_type": "stream",
          "text": [
            "\n",
            "Course: Case Study: Inventory Analysis in Power BI\n",
            "URL: https://www.datacamp.com/courses/case-study-inventory-analysis-in-power-bi\n",
            "--------------------------------------------------\n"
          ]
        },
        {
          "name": "stderr",
          "output_type": "stream",
          "text": [
            "Page 14 Progress:  13%|█▎        | 4/30 [00:12<01:28,  3.39s/course, Course=Deploying AI into Production w...]"
          ]
        },
        {
          "name": "stdout",
          "output_type": "stream",
          "text": [
            "\n",
            "Course: Deploying AI into Production with FastAPI\n",
            "URL: https://www.datacamp.com/courses/deploying-ai-into-production-with-fastapi\n",
            "--------------------------------------------------\n"
          ]
        },
        {
          "name": "stderr",
          "output_type": "stream",
          "text": [
            "Page 14 Progress:  17%|█▋        | 5/30 [00:14<01:12,  2.91s/course, Course=Visualizing Geospatial Data in...]"
          ]
        },
        {
          "name": "stdout",
          "output_type": "stream",
          "text": [
            "\n",
            "Course: Visualizing Geospatial Data in R\n",
            "URL: https://www.datacamp.com/courses/visualizing-geospatial-data-in-r\n",
            "--------------------------------------------------\n"
          ]
        },
        {
          "name": "stderr",
          "output_type": "stream",
          "text": [
            "Page 14 Progress:  20%|██        | 6/30 [00:17<01:08,  2.85s/course, Course=Case Study: Building E-Commerc...]"
          ]
        },
        {
          "name": "stdout",
          "output_type": "stream",
          "text": [
            "\n",
            "Course: Case Study: Building E-Commerce Data Models with dbt\n",
            "URL: https://www.datacamp.com/courses/case-study-building-e-commerce-data-models-with-dbt\n",
            "--------------------------------------------------\n"
          ]
        },
        {
          "name": "stderr",
          "output_type": "stream",
          "text": [
            "Page 14 Progress:  23%|██▎       | 7/30 [00:21<01:19,  3.47s/course, Course=Monitoring Machine Learning in...]"
          ]
        },
        {
          "name": "stdout",
          "output_type": "stream",
          "text": [
            "\n",
            "Course: Monitoring Machine Learning in Python\n",
            "URL: https://www.datacamp.com/courses/monitoring-machine-learning-in-python\n",
            "--------------------------------------------------\n"
          ]
        },
        {
          "name": "stderr",
          "output_type": "stream",
          "text": [
            "Page 14 Progress:  27%|██▋       | 8/30 [00:24<01:08,  3.11s/course, Course=Transactions and Error Handlin...]"
          ]
        },
        {
          "name": "stdout",
          "output_type": "stream",
          "text": [
            "\n",
            "Course: Transactions and Error Handling in SQL Server\n",
            "URL: https://www.datacamp.com/courses/transactions-and-error-handling-in-sql-server\n",
            "--------------------------------------------------\n"
          ]
        },
        {
          "name": "stderr",
          "output_type": "stream",
          "text": [
            "Page 14 Progress:  30%|███       | 9/30 [00:26<00:59,  2.83s/course, Course=GARCH Models in Python]           "
          ]
        },
        {
          "name": "stdout",
          "output_type": "stream",
          "text": [
            "\n",
            "Course: GARCH Models in Python\n",
            "URL: https://www.datacamp.com/courses/garch-models-in-python\n",
            "--------------------------------------------------\n"
          ]
        },
        {
          "name": "stderr",
          "output_type": "stream",
          "text": [
            "Page 14 Progress:  33%|███▎      | 10/30 [00:31<01:09,  3.46s/course, Course=Categorical Data in the Tidyve...]"
          ]
        },
        {
          "name": "stdout",
          "output_type": "stream",
          "text": [
            "\n",
            "Course: Categorical Data in the Tidyverse\n",
            "URL: https://www.datacamp.com/courses/categorical-data-in-the-tidyverse\n",
            "--------------------------------------------------\n"
          ]
        },
        {
          "name": "stderr",
          "output_type": "stream",
          "text": [
            "Page 14 Progress:  37%|███▋      | 11/30 [00:35<01:10,  3.70s/course, Course=Introduction to Financial Stat...]"
          ]
        },
        {
          "name": "stdout",
          "output_type": "stream",
          "text": [
            "\n",
            "Course: Introduction to Financial Statements in Power BI\n",
            "URL: https://www.datacamp.com/courses/introduction-to-financial-statements-in-power-bi\n",
            "--------------------------------------------------\n"
          ]
        },
        {
          "name": "stderr",
          "output_type": "stream",
          "text": [
            "Page 14 Progress:  40%|████      | 12/30 [00:39<01:09,  3.84s/course, Course=Case Study: Ecommerce Analysis...]"
          ]
        },
        {
          "name": "stdout",
          "output_type": "stream",
          "text": [
            "\n",
            "Course: Case Study: Ecommerce Analysis in Power BI\n",
            "URL: https://www.datacamp.com/courses/case-study-ecommerce-analysis-in-power-bi\n",
            "--------------------------------------------------\n"
          ]
        },
        {
          "name": "stderr",
          "output_type": "stream",
          "text": [
            "Page 14 Progress:  43%|████▎     | 13/30 [00:44<01:09,  4.11s/course, Course=Building a Go-To-Market Strate...]"
          ]
        },
        {
          "name": "stdout",
          "output_type": "stream",
          "text": [
            "\n",
            "Course: Building a Go-To-Market Strategy\n",
            "URL: https://www.datacamp.com/courses/building-a-go-to-market-strategy\n",
            "--------------------------------------------------\n"
          ]
        },
        {
          "name": "stderr",
          "output_type": "stream",
          "text": [
            "Page 14 Progress:  47%|████▋     | 14/30 [00:47<01:01,  3.84s/course, Course=Case Study: Analyzing City Tim...]"
          ]
        },
        {
          "name": "stdout",
          "output_type": "stream",
          "text": [
            "\n",
            "Course: Case Study: Analyzing City Time Series Data in R\n",
            "URL: https://www.datacamp.com/courses/case-study-analyzing-time-series-data-in-r\n",
            "--------------------------------------------------\n"
          ]
        },
        {
          "name": "stderr",
          "output_type": "stream",
          "text": [
            "Page 14 Progress:  50%|█████     | 15/30 [00:49<00:50,  3.37s/course, Course=Practicing Machine Learning In...]"
          ]
        },
        {
          "name": "stdout",
          "output_type": "stream",
          "text": [
            "\n",
            "Course: Practicing Machine Learning Interview Questions in Python\n",
            "URL: https://www.datacamp.com/courses/practicing-machine-learning-interview-questions-in-python\n",
            "--------------------------------------------------\n"
          ]
        },
        {
          "name": "stderr",
          "output_type": "stream",
          "text": [
            "Page 14 Progress:  53%|█████▎    | 16/30 [00:52<00:42,  3.06s/course, Course=AI-Assisted Product Launch]       "
          ]
        },
        {
          "name": "stdout",
          "output_type": "stream",
          "text": [
            "\n",
            "Course: AI-Assisted Product Launch\n",
            "URL: https://www.datacamp.com/courses/ai-assisted-product-launch\n",
            "--------------------------------------------------\n"
          ]
        },
        {
          "name": "stderr",
          "output_type": "stream",
          "text": [
            "Page 14 Progress:  57%|█████▋    | 17/30 [00:56<00:43,  3.35s/course, Course=Time Series Analysis in Tablea...]"
          ]
        },
        {
          "name": "stdout",
          "output_type": "stream",
          "text": [
            "\n",
            "Course: Time Series Analysis in Tableau\n",
            "URL: https://www.datacamp.com/courses/time-series-analysis-in-tableau\n",
            "--------------------------------------------------\n"
          ]
        },
        {
          "name": "stderr",
          "output_type": "stream",
          "text": [
            "Page 14 Progress:  60%|██████    | 18/30 [01:00<00:43,  3.62s/course, Course=Interactive Maps with leaflet ...]"
          ]
        },
        {
          "name": "stdout",
          "output_type": "stream",
          "text": [
            "\n",
            "Course: Interactive Maps with leaflet in R\n",
            "URL: https://www.datacamp.com/courses/interactive-maps-with-leaflet-in-r\n",
            "--------------------------------------------------\n"
          ]
        },
        {
          "name": "stderr",
          "output_type": "stream",
          "text": [
            "Page 14 Progress:  63%|██████▎   | 19/30 [01:03<00:38,  3.50s/course, Course=Case Study: Competitor Sales A...]"
          ]
        },
        {
          "name": "stdout",
          "output_type": "stream",
          "text": [
            "\n",
            "Course: Case Study: Competitor Sales Analysis in Power BI\n",
            "URL: https://www.datacamp.com/courses/case-study-competitor-sales-analysis-in-power-bi\n",
            "--------------------------------------------------\n"
          ]
        },
        {
          "name": "stderr",
          "output_type": "stream",
          "text": [
            "Page 14 Progress:  67%|██████▋   | 20/30 [01:08<00:38,  3.89s/course, Course=Inference for Linear Regressio...]"
          ]
        },
        {
          "name": "stdout",
          "output_type": "stream",
          "text": [
            "\n",
            "Course: Inference for Linear Regression in R\n",
            "URL: https://www.datacamp.com/courses/inference-for-linear-regression-in-r\n",
            "--------------------------------------------------\n"
          ]
        },
        {
          "name": "stderr",
          "output_type": "stream",
          "text": [
            "Page 14 Progress:  70%|███████   | 21/30 [01:12<00:33,  3.77s/course, Course=Building and Optimizing Trigge...]"
          ]
        },
        {
          "name": "stdout",
          "output_type": "stream",
          "text": [
            "\n",
            "Course: Building and Optimizing Triggers in SQL Server\n",
            "URL: https://www.datacamp.com/courses/building-and-optimizing-triggers-in-sql-server\n",
            "--------------------------------------------------\n"
          ]
        },
        {
          "name": "stderr",
          "output_type": "stream",
          "text": [
            "Page 14 Progress:  73%|███████▎  | 22/30 [01:15<00:29,  3.75s/course, Course=Practicing Statistics Intervie...]"
          ]
        },
        {
          "name": "stdout",
          "output_type": "stream",
          "text": [
            "\n",
            "Course: Practicing Statistics Interview Questions in Python\n",
            "URL: https://www.datacamp.com/courses/practicing-statistics-interview-questions-in-python\n",
            "--------------------------------------------------\n"
          ]
        },
        {
          "name": "stderr",
          "output_type": "stream",
          "text": [
            "Page 14 Progress:  77%|███████▋  | 23/30 [01:19<00:25,  3.66s/course, Course=Marketing Analytics in Tableau]   "
          ]
        },
        {
          "name": "stdout",
          "output_type": "stream",
          "text": [
            "\n",
            "Course: Marketing Analytics in Tableau\n",
            "URL: https://www.datacamp.com/courses/marketing-analytics-in-tableau\n",
            "--------------------------------------------------\n"
          ]
        },
        {
          "name": "stderr",
          "output_type": "stream",
          "text": [
            "Page 14 Progress:  80%|████████  | 24/30 [01:23<00:23,  3.96s/course, Course=Case Study: Building Software ...]"
          ]
        },
        {
          "name": "stdout",
          "output_type": "stream",
          "text": [
            "\n",
            "Course: Case Study: Building Software in Python\n",
            "URL: https://www.datacamp.com/courses/case-study-building-software-in-python\n",
            "--------------------------------------------------\n"
          ]
        },
        {
          "name": "stderr",
          "output_type": "stream",
          "text": [
            "Page 14 Progress:  83%|████████▎ | 25/30 [01:28<00:20,  4.03s/course, Course=Object-Oriented Programming wi...]"
          ]
        },
        {
          "name": "stdout",
          "output_type": "stream",
          "text": [
            "\n",
            "Course: Object-Oriented Programming with S3 and R6 in R\n",
            "URL: https://www.datacamp.com/courses/object-oriented-programming-with-s3-and-r6-in-r\n",
            "--------------------------------------------------\n"
          ]
        },
        {
          "name": "stderr",
          "output_type": "stream",
          "text": [
            "Page 14 Progress:  87%|████████▋ | 26/30 [01:31<00:15,  3.79s/course, Course=Building Recommendation Engine...]"
          ]
        },
        {
          "name": "stdout",
          "output_type": "stream",
          "text": [
            "\n",
            "Course: Building Recommendation Engines with PySpark\n",
            "URL: https://www.datacamp.com/courses/recommendation-engines-in-pyspark\n",
            "--------------------------------------------------\n"
          ]
        },
        {
          "name": "stderr",
          "output_type": "stream",
          "text": [
            "Page 14 Progress:  90%|█████████ | 27/30 [01:35<00:11,  3.98s/course, Course=Marketing Analytics in Google ...]"
          ]
        },
        {
          "name": "stdout",
          "output_type": "stream",
          "text": [
            "\n",
            "Course: Marketing Analytics in Google Sheets\n",
            "URL: https://www.datacamp.com/courses/marketing-analytics-in-google-sheets\n",
            "--------------------------------------------------\n"
          ]
        },
        {
          "name": "stderr",
          "output_type": "stream",
          "text": [
            "Page 14 Progress:  93%|█████████▎| 28/30 [01:37<00:06,  3.45s/course, Course=Advanced Deep Learning with Ke...]"
          ]
        },
        {
          "name": "stdout",
          "output_type": "stream",
          "text": [
            "\n",
            "Course: Advanced Deep Learning with Keras\n",
            "URL: https://www.datacamp.com/courses/advanced-deep-learning-with-keras\n",
            "--------------------------------------------------\n"
          ]
        },
        {
          "name": "stderr",
          "output_type": "stream",
          "text": [
            "Page 14 Progress:  97%|█████████▋| 29/30 [01:42<00:03,  3.65s/course, Course=Marketing Analytics: Predictin...]"
          ]
        },
        {
          "name": "stdout",
          "output_type": "stream",
          "text": [
            "\n",
            "Course: Marketing Analytics: Predicting Customer Churn in Python\n",
            "URL: https://www.datacamp.com/courses/marketing-analytics-predicting-customer-churn-in-python\n",
            "--------------------------------------------------\n"
          ]
        },
        {
          "name": "stderr",
          "output_type": "stream",
          "text": [
            "Page 14 Progress: 100%|██████████| 30/30 [01:46<00:00,  3.55s/course, Course=Marketing Analytics: Predictin...]\n"
          ]
        },
        {
          "name": "stdout",
          "output_type": "stream",
          "text": [
            "\n",
            "Crawling page 15: https://www.datacamp.com/courses-all/page/15\n",
            "Found 30 courses on page 15\n"
          ]
        },
        {
          "name": "stderr",
          "output_type": "stream",
          "text": [
            "Page 15 Progress:   0%|          | 0/30 [00:00<?, ?course/s, Course=Hierarchical and Recursive Que...]"
          ]
        },
        {
          "name": "stdout",
          "output_type": "stream",
          "text": [
            "\n",
            "Course: Hierarchical and Recursive Queries in SQL Server\n",
            "URL: https://www.datacamp.com/courses/hierarchical-and-recursive-queries-in-sql-server\n",
            "--------------------------------------------------\n"
          ]
        },
        {
          "name": "stderr",
          "output_type": "stream",
          "text": [
            "Page 15 Progress:   3%|▎         | 1/30 [00:03<01:39,  3.42s/course, Course=Interactive Data Visualization...]"
          ]
        },
        {
          "name": "stdout",
          "output_type": "stream",
          "text": [
            "\n",
            "Course: Interactive Data Visualization with plotly in R\n",
            "URL: https://www.datacamp.com/courses/interactive-data-visualization-with-plotly-in-r\n",
            "--------------------------------------------------\n"
          ]
        },
        {
          "name": "stderr",
          "output_type": "stream",
          "text": [
            "Page 15 Progress:   7%|▋         | 2/30 [00:08<02:00,  4.29s/course, Course=Financial Analytics in Google ...]"
          ]
        },
        {
          "name": "stdout",
          "output_type": "stream",
          "text": [
            "\n",
            "Course: Financial Analytics in Google Sheets\n",
            "URL: https://www.datacamp.com/courses/financial-analytics-in-google-sheets\n",
            "--------------------------------------------------\n"
          ]
        },
        {
          "name": "stderr",
          "output_type": "stream",
          "text": [
            "Page 15 Progress:  10%|█         | 3/30 [00:10<01:34,  3.48s/course, Course=Recurrent Neural Networks (RNN...]"
          ]
        },
        {
          "name": "stdout",
          "output_type": "stream",
          "text": [
            "\n",
            "Course: Recurrent Neural Networks (RNNs) for Language Modeling with Keras\n",
            "URL: https://www.datacamp.com/courses/recurrent-neural-networks-rnn-for-language-modeling-with-keras\n",
            "--------------------------------------------------\n"
          ]
        },
        {
          "name": "stderr",
          "output_type": "stream",
          "text": [
            "Page 15 Progress:  13%|█▎        | 4/30 [00:13<01:23,  3.21s/course, Course=Cleaning Data in SQL Server Da...]"
          ]
        },
        {
          "name": "stdout",
          "output_type": "stream",
          "text": [
            "\n",
            "Course: Cleaning Data in SQL Server Databases\n",
            "URL: https://www.datacamp.com/courses/cleaning-data-in-sql-server-databases\n",
            "--------------------------------------------------\n"
          ]
        },
        {
          "name": "stderr",
          "output_type": "stream",
          "text": [
            "Page 15 Progress:  17%|█▋        | 5/30 [00:15<01:09,  2.79s/course, Course=Introduction to Databricks SQL]   "
          ]
        },
        {
          "name": "stdout",
          "output_type": "stream",
          "text": [
            "\n",
            "Course: Introduction to Databricks SQL\n",
            "URL: https://www.datacamp.com/courses/introduction-to-databricks-sql\n",
            "--------------------------------------------------\n"
          ]
        },
        {
          "name": "stderr",
          "output_type": "stream",
          "text": [
            "Page 15 Progress:  20%|██        | 6/30 [00:18<01:07,  2.82s/course, Course=Machine Learning for Marketing...]"
          ]
        },
        {
          "name": "stdout",
          "output_type": "stream",
          "text": [
            "\n",
            "Course: Machine Learning for Marketing in Python\n",
            "URL: https://www.datacamp.com/courses/machine-learning-for-marketing-in-python\n",
            "--------------------------------------------------\n"
          ]
        },
        {
          "name": "stderr",
          "output_type": "stream",
          "text": [
            "Page 15 Progress:  23%|██▎       | 7/30 [00:20<01:01,  2.68s/course, Course=Case Study: Mortgage Trading A...]"
          ]
        },
        {
          "name": "stdout",
          "output_type": "stream",
          "text": [
            "\n",
            "Course: Case Study: Mortgage Trading Analysis in Power BI\n",
            "URL: https://www.datacamp.com/courses/case-study-mortgage-trading-analysis-in-power-bi\n",
            "--------------------------------------------------\n"
          ]
        },
        {
          "name": "stderr",
          "output_type": "stream",
          "text": [
            "Page 15 Progress:  27%|██▋       | 8/30 [00:25<01:08,  3.12s/course, Course=Intermediate Network Analysis ...]"
          ]
        },
        {
          "name": "stdout",
          "output_type": "stream",
          "text": [
            "\n",
            "Course: Intermediate Network Analysis in Python\n",
            "URL: https://www.datacamp.com/courses/intermediate-network-analysis-in-python\n",
            "--------------------------------------------------\n"
          ]
        },
        {
          "name": "stderr",
          "output_type": "stream",
          "text": [
            "Page 15 Progress:  30%|███       | 9/30 [00:27<01:01,  2.93s/course, Course=Generate a Study Guide]           "
          ]
        },
        {
          "name": "stdout",
          "output_type": "stream",
          "text": [
            "\n",
            "Course: Generate a Study Guide\n",
            "URL: https://www.datacamp.com/courses/generate-a-study-guide\n",
            "--------------------------------------------------\n"
          ]
        },
        {
          "name": "stderr",
          "output_type": "stream",
          "text": [
            "Page 15 Progress:  33%|███▎      | 10/30 [00:32<01:11,  3.55s/course, Course=Plan and Implement a Data Anal...]"
          ]
        },
        {
          "name": "stdout",
          "output_type": "stream",
          "text": [
            "\n",
            "Course: Plan and Implement a Data Analytics Environment with Microsoft Fabric\n",
            "URL: https://www.datacamp.com/courses/plan-and-implement-a-data-analytics-environment-with-microsoft-fabric\n",
            "--------------------------------------------------\n"
          ]
        },
        {
          "name": "stderr",
          "output_type": "stream",
          "text": [
            "Page 15 Progress:  37%|███▋      | 11/30 [00:36<01:11,  3.76s/course, Course=Credit Risk Modeling in R]        "
          ]
        },
        {
          "name": "stdout",
          "output_type": "stream",
          "text": [
            "\n",
            "Course: Credit Risk Modeling in R\n",
            "URL: https://www.datacamp.com/courses/credit-risk-modeling-in-r\n",
            "--------------------------------------------------\n"
          ]
        },
        {
          "name": "stderr",
          "output_type": "stream",
          "text": [
            "Page 15 Progress:  40%|████      | 12/30 [00:39<01:00,  3.35s/course, Course=Building Dashboards with shiny...]"
          ]
        },
        {
          "name": "stdout",
          "output_type": "stream",
          "text": [
            "\n",
            "Course: Building Dashboards with shinydashboard\n",
            "URL: https://www.datacamp.com/courses/building-dashboards-with-shinydashboard\n",
            "--------------------------------------------------\n"
          ]
        },
        {
          "name": "stderr",
          "output_type": "stream",
          "text": [
            "Page 15 Progress:  43%|████▎     | 13/30 [00:43<01:01,  3.64s/course, Course=Analyzing Social Media Data in...]"
          ]
        },
        {
          "name": "stdout",
          "output_type": "stream",
          "text": [
            "\n",
            "Course: Analyzing Social Media Data in Python\n",
            "URL: https://www.datacamp.com/courses/analyzing-social-media-data-in-python\n",
            "--------------------------------------------------\n"
          ]
        },
        {
          "name": "stderr",
          "output_type": "stream",
          "text": [
            "Page 15 Progress:  47%|████▋     | 14/30 [00:47<00:59,  3.70s/course, Course=Analyzing Financial Statements...]"
          ]
        },
        {
          "name": "stdout",
          "output_type": "stream",
          "text": [
            "\n",
            "Course: Analyzing Financial Statements in Python\n",
            "URL: https://www.datacamp.com/courses/analyzing-financial-statements-in-python\n",
            "--------------------------------------------------\n"
          ]
        },
        {
          "name": "stderr",
          "output_type": "stream",
          "text": [
            "Page 15 Progress:  50%|█████     | 15/30 [00:49<00:49,  3.27s/course, Course=Case Study: Data Analysis in D...]"
          ]
        },
        {
          "name": "stdout",
          "output_type": "stream",
          "text": [
            "\n",
            "Course: Case Study: Data Analysis in Databricks\n",
            "URL: https://www.datacamp.com/courses/case-study-data-analysis-in-databricks\n",
            "--------------------------------------------------\n"
          ]
        },
        {
          "name": "stderr",
          "output_type": "stream",
          "text": [
            "Page 15 Progress:  53%|█████▎    | 16/30 [00:52<00:42,  3.05s/course, Course=Data Validation in Excel]         "
          ]
        },
        {
          "name": "stdout",
          "output_type": "stream",
          "text": [
            "\n",
            "Course: Data Validation in Excel\n",
            "URL: https://www.datacamp.com/courses/data-validation-in-excel\n",
            "--------------------------------------------------\n"
          ]
        },
        {
          "name": "stderr",
          "output_type": "stream",
          "text": [
            "Page 15 Progress:  57%|█████▋    | 17/30 [00:54<00:36,  2.84s/course, Course=Factor Analysis in R]    "
          ]
        },
        {
          "name": "stdout",
          "output_type": "stream",
          "text": [
            "\n",
            "Course: Factor Analysis in R\n",
            "URL: https://www.datacamp.com/courses/factor-analysis-in-r\n",
            "--------------------------------------------------\n"
          ]
        },
        {
          "name": "stderr",
          "output_type": "stream",
          "text": [
            "Page 15 Progress:  60%|██████    | 18/30 [00:56<00:33,  2.75s/course, Course=Python for Spreadsheet Users]"
          ]
        },
        {
          "name": "stdout",
          "output_type": "stream",
          "text": [
            "\n",
            "Course: Python for Spreadsheet Users\n",
            "URL: https://www.datacamp.com/courses/python-for-spreadsheet-users\n",
            "--------------------------------------------------\n"
          ]
        },
        {
          "name": "stderr",
          "output_type": "stream",
          "text": [
            "Page 15 Progress:  63%|██████▎   | 19/30 [01:01<00:36,  3.30s/course, Course=Baseball Data Visualization in...]"
          ]
        },
        {
          "name": "stdout",
          "output_type": "stream",
          "text": [
            "\n",
            "Course: Baseball Data Visualization in Power BI\n",
            "URL: https://www.datacamp.com/courses/baseball-data-visualization-in-power-bi\n",
            "--------------------------------------------------\n"
          ]
        },
        {
          "name": "stderr",
          "output_type": "stream",
          "text": [
            "Page 15 Progress:  67%|██████▋   | 20/30 [01:04<00:30,  3.08s/course, Course=Joining Data with data.table i...]"
          ]
        },
        {
          "name": "stdout",
          "output_type": "stream",
          "text": [
            "\n",
            "Course: Joining Data with data.table in R\n",
            "URL: https://www.datacamp.com/courses/joining-data-with-datatable-in-r\n",
            "--------------------------------------------------\n"
          ]
        },
        {
          "name": "stderr",
          "output_type": "stream",
          "text": [
            "Page 15 Progress:  70%|███████   | 21/30 [01:06<00:24,  2.77s/course, Course=GARCH Models in R]                "
          ]
        },
        {
          "name": "stdout",
          "output_type": "stream",
          "text": [
            "\n",
            "Course: GARCH Models in R\n",
            "URL: https://www.datacamp.com/courses/garch-models-in-r\n",
            "--------------------------------------------------\n"
          ]
        },
        {
          "name": "stderr",
          "output_type": "stream",
          "text": [
            "Page 15 Progress:  73%|███████▎  | 22/30 [01:08<00:21,  2.75s/course, Course=Foundations of Inference in Py...]"
          ]
        },
        {
          "name": "stdout",
          "output_type": "stream",
          "text": [
            "\n",
            "Course: Foundations of Inference in Python\n",
            "URL: https://www.datacamp.com/courses/foundations-of-inference-in-python\n",
            "--------------------------------------------------\n"
          ]
        },
        {
          "name": "stderr",
          "output_type": "stream",
          "text": [
            "Page 15 Progress:  77%|███████▋  | 23/30 [01:12<00:21,  3.07s/course, Course=Quantitative Risk Management i...]"
          ]
        },
        {
          "name": "stdout",
          "output_type": "stream",
          "text": [
            "\n",
            "Course: Quantitative Risk Management in R\n",
            "URL: https://www.datacamp.com/courses/quantitative-risk-management-in-r\n",
            "--------------------------------------------------\n"
          ]
        },
        {
          "name": "stderr",
          "output_type": "stream",
          "text": [
            "Page 15 Progress:  80%|████████  | 24/30 [01:15<00:18,  3.11s/course, Course=Network Analysis in R]            "
          ]
        },
        {
          "name": "stdout",
          "output_type": "stream",
          "text": [
            "\n",
            "Course: Network Analysis in R\n",
            "URL: https://www.datacamp.com/courses/network-analysis-in-r\n",
            "--------------------------------------------------\n"
          ]
        },
        {
          "name": "stderr",
          "output_type": "stream",
          "text": [
            "Page 15 Progress:  83%|████████▎ | 25/30 [01:18<00:14,  2.99s/course, Course=HR Analytics: Exploring Employ...]"
          ]
        },
        {
          "name": "stdout",
          "output_type": "stream",
          "text": [
            "\n",
            "Course: HR Analytics: Exploring Employee Data in R\n",
            "URL: https://www.datacamp.com/courses/hr-analytics-exploring-employee-data-in-r\n",
            "--------------------------------------------------\n"
          ]
        },
        {
          "name": "stderr",
          "output_type": "stream",
          "text": [
            "Page 15 Progress:  87%|████████▋ | 26/30 [01:21<00:11,  2.93s/course, Course=Structural Equation Modeling w...]"
          ]
        },
        {
          "name": "stdout",
          "output_type": "stream",
          "text": [
            "\n",
            "Course: Structural Equation Modeling with lavaan in R\n",
            "URL: https://www.datacamp.com/courses/structural-equation-modeling-with-lavaan-in-r\n",
            "--------------------------------------------------\n"
          ]
        },
        {
          "name": "stderr",
          "output_type": "stream",
          "text": [
            "Page 15 Progress:  90%|█████████ | 27/30 [01:24<00:09,  3.10s/course, Course=Introduction to Spark with spa...]"
          ]
        },
        {
          "name": "stdout",
          "output_type": "stream",
          "text": [
            "\n",
            "Course: Introduction to Spark with sparklyr in R\n",
            "URL: https://www.datacamp.com/courses/introduction-to-spark-with-sparklyr-in-r\n",
            "--------------------------------------------------\n"
          ]
        },
        {
          "name": "stderr",
          "output_type": "stream",
          "text": [
            "Page 15 Progress:  93%|█████████▎| 28/30 [01:27<00:05,  2.95s/course, Course=Concepts in Computer Science]     "
          ]
        },
        {
          "name": "stdout",
          "output_type": "stream",
          "text": [
            "\n",
            "Course: Concepts in Computer Science\n",
            "URL: https://www.datacamp.com/courses/concepts-in-computer-science\n",
            "--------------------------------------------------\n"
          ]
        },
        {
          "name": "stderr",
          "output_type": "stream",
          "text": [
            "Page 15 Progress:  97%|█████████▋| 29/30 [01:29<00:02,  2.77s/course, Course=Case Study: Set Up a Book Reco...]"
          ]
        },
        {
          "name": "stdout",
          "output_type": "stream",
          "text": [
            "\n",
            "Course: Case Study: Set Up a Book Recommendation App in Azure\n",
            "URL: https://www.datacamp.com/courses/case-study-set-up-a-book-recommendation-app-in-azure\n",
            "--------------------------------------------------\n"
          ]
        },
        {
          "name": "stderr",
          "output_type": "stream",
          "text": [
            "Page 15 Progress: 100%|██████████| 30/30 [01:33<00:00,  3.12s/course, Course=Case Study: Set Up a Book Reco...]\n"
          ]
        },
        {
          "name": "stdout",
          "output_type": "stream",
          "text": [
            "\n",
            "Crawling page 16: https://www.datacamp.com/courses-all/page/16\n",
            "Found 30 courses on page 16\n"
          ]
        },
        {
          "name": "stderr",
          "output_type": "stream",
          "text": [
            "Page 16 Progress:   0%|          | 0/30 [00:00<?, ?course/s, Course=Survival Analysis in R]"
          ]
        },
        {
          "name": "stdout",
          "output_type": "stream",
          "text": [
            "\n",
            "Course: Survival Analysis in R\n",
            "URL: https://www.datacamp.com/courses/survival-analysis-in-r\n",
            "--------------------------------------------------\n"
          ]
        },
        {
          "name": "stderr",
          "output_type": "stream",
          "text": [
            "Page 16 Progress:   3%|▎         | 1/30 [00:04<02:24,  4.97s/course, Course=Text Mining with Bag-of-Words ...]"
          ]
        },
        {
          "name": "stdout",
          "output_type": "stream",
          "text": [
            "\n",
            "Course: Text Mining with Bag-of-Words in R\n",
            "URL: https://www.datacamp.com/courses/text-mining-with-bag-of-words-in-r\n",
            "--------------------------------------------------\n"
          ]
        },
        {
          "name": "stderr",
          "output_type": "stream",
          "text": [
            "Page 16 Progress:   7%|▋         | 2/30 [00:09<02:19,  4.97s/course, Course=Spoken Language Processing in ...]"
          ]
        },
        {
          "name": "stdout",
          "output_type": "stream",
          "text": [
            "\n",
            "Course: Spoken Language Processing in Python\n",
            "URL: https://www.datacamp.com/courses/spoken-language-processing-in-python\n",
            "--------------------------------------------------\n"
          ]
        },
        {
          "name": "stderr",
          "output_type": "stream",
          "text": [
            "Page 16 Progress:  10%|█         | 3/30 [00:14<02:04,  4.61s/course, Course=Inference for Numerical Data i...]"
          ]
        },
        {
          "name": "stdout",
          "output_type": "stream",
          "text": [
            "\n",
            "Course: Inference for Numerical Data in R\n",
            "URL: https://www.datacamp.com/courses/inference-for-numerical-data-in-r\n",
            "--------------------------------------------------\n"
          ]
        },
        {
          "name": "stderr",
          "output_type": "stream",
          "text": [
            "Page 16 Progress:  13%|█▎        | 4/30 [00:17<01:45,  4.05s/course, Course=Feature Engineering in R]         "
          ]
        },
        {
          "name": "stdout",
          "output_type": "stream",
          "text": [
            "\n",
            "Course: Feature Engineering in R\n",
            "URL: https://www.datacamp.com/courses/feature-engineering-in-r\n",
            "--------------------------------------------------\n"
          ]
        },
        {
          "name": "stderr",
          "output_type": "stream",
          "text": [
            "Page 16 Progress:  17%|█▋        | 5/30 [00:19<01:25,  3.42s/course, Course=Analyzing Police Activity with...]"
          ]
        },
        {
          "name": "stdout",
          "output_type": "stream",
          "text": [
            "\n",
            "Course: Analyzing Police Activity with pandas\n",
            "URL: https://www.datacamp.com/courses/analyzing-police-activity-with-pandas\n",
            "--------------------------------------------------\n"
          ]
        },
        {
          "name": "stderr",
          "output_type": "stream",
          "text": [
            "Page 16 Progress:  20%|██        | 6/30 [00:23<01:23,  3.47s/course, Course=Introduction to Business Valua...]"
          ]
        },
        {
          "name": "stdout",
          "output_type": "stream",
          "text": [
            "\n",
            "Course: Introduction to Business Valuation\n",
            "URL: https://www.datacamp.com/courses/introduction-to-business-valuation\n",
            "--------------------------------------------------\n"
          ]
        },
        {
          "name": "stderr",
          "output_type": "stream",
          "text": [
            "Page 16 Progress:  23%|██▎       | 7/30 [00:25<01:14,  3.22s/course, Course=Survival Analysis in Python]      "
          ]
        },
        {
          "name": "stdout",
          "output_type": "stream",
          "text": [
            "\n",
            "Course: Survival Analysis in Python\n",
            "URL: https://www.datacamp.com/courses/survival-analysis-in-python\n",
            "--------------------------------------------------\n"
          ]
        },
        {
          "name": "stderr",
          "output_type": "stream",
          "text": [
            "Page 16 Progress:  27%|██▋       | 8/30 [00:30<01:17,  3.54s/course, Course=Data Transformation in KNIME]"
          ]
        },
        {
          "name": "stdout",
          "output_type": "stream",
          "text": [
            "\n",
            "Course: Data Transformation in KNIME\n",
            "URL: https://www.datacamp.com/courses/data-transformation-in-knime\n",
            "--------------------------------------------------\n"
          ]
        },
        {
          "name": "stderr",
          "output_type": "stream",
          "text": [
            "Page 16 Progress:  30%|███       | 9/30 [00:33<01:14,  3.53s/course, Course=Programming Paradigm Concepts]"
          ]
        },
        {
          "name": "stdout",
          "output_type": "stream",
          "text": [
            "\n",
            "Course: Programming Paradigm Concepts\n",
            "URL: https://www.datacamp.com/courses/programming-paradigms-concepts\n",
            "--------------------------------------------------\n"
          ]
        },
        {
          "name": "stderr",
          "output_type": "stream",
          "text": [
            "Page 16 Progress:  33%|███▎      | 10/30 [00:37<01:11,  3.59s/course, Course=AI-Assisted Restaurant Plannin...]"
          ]
        },
        {
          "name": "stdout",
          "output_type": "stream",
          "text": [
            "\n",
            "Course: AI-Assisted Restaurant Planning\n",
            "URL: https://www.datacamp.com/courses/ai-assisted-restaurant-planning\n",
            "--------------------------------------------------\n"
          ]
        },
        {
          "name": "stderr",
          "output_type": "stream",
          "text": [
            "Page 16 Progress:  37%|███▋      | 11/30 [00:41<01:12,  3.79s/course, Course=Statistical Simulation in Pyth...]"
          ]
        },
        {
          "name": "stdout",
          "output_type": "stream",
          "text": [
            "\n",
            "Course: Statistical Simulation in Python\n",
            "URL: https://www.datacamp.com/courses/statistical-simulation-in-python\n",
            "--------------------------------------------------\n"
          ]
        },
        {
          "name": "stderr",
          "output_type": "stream",
          "text": [
            "Page 16 Progress:  40%|████      | 12/30 [00:44<01:03,  3.50s/course, Course=Error and Uncertainty in Googl...]"
          ]
        },
        {
          "name": "stdout",
          "output_type": "stream",
          "text": [
            "\n",
            "Course: Error and Uncertainty in Google Sheets\n",
            "URL: https://www.datacamp.com/courses/error-and-uncertainty-in-google-sheets\n",
            "--------------------------------------------------\n"
          ]
        },
        {
          "name": "stderr",
          "output_type": "stream",
          "text": [
            "Page 16 Progress:  43%|████▎     | 13/30 [00:48<01:01,  3.63s/course, Course=Machine Learning in the Tidyve...]"
          ]
        },
        {
          "name": "stdout",
          "output_type": "stream",
          "text": [
            "\n",
            "Course: Machine Learning in the Tidyverse\n",
            "URL: https://www.datacamp.com/courses/machine-learning-in-the-tidyverse\n",
            "--------------------------------------------------\n"
          ]
        },
        {
          "name": "stderr",
          "output_type": "stream",
          "text": [
            "Page 16 Progress:  47%|████▋     | 14/30 [00:50<00:51,  3.21s/course, Course=Parallel Programming in R]        "
          ]
        },
        {
          "name": "stdout",
          "output_type": "stream",
          "text": [
            "\n",
            "Course: Parallel Programming in R\n",
            "URL: https://www.datacamp.com/courses/parallel-programming-in-r\n",
            "--------------------------------------------------\n"
          ]
        },
        {
          "name": "stderr",
          "output_type": "stream",
          "text": [
            "Page 16 Progress:  50%|█████     | 15/30 [00:54<00:51,  3.42s/course, Course=Bond Valuation and Analysis in...]"
          ]
        },
        {
          "name": "stdout",
          "output_type": "stream",
          "text": [
            "\n",
            "Course: Bond Valuation and Analysis in R\n",
            "URL: https://www.datacamp.com/courses/bond-valuation-and-analysis-in-r\n",
            "--------------------------------------------------\n"
          ]
        },
        {
          "name": "stderr",
          "output_type": "stream",
          "text": [
            "Page 16 Progress:  53%|█████▎    | 16/30 [00:59<00:53,  3.80s/course, Course=Case Study: Supply Chain Analy...]"
          ]
        },
        {
          "name": "stdout",
          "output_type": "stream",
          "text": [
            "\n",
            "Course: Case Study: Supply Chain Analytics in Tableau\n",
            "URL: https://www.datacamp.com/courses/case-study-supply-chain-analytics-in-tableau\n",
            "--------------------------------------------------\n"
          ]
        },
        {
          "name": "stderr",
          "output_type": "stream",
          "text": [
            "Page 16 Progress:  57%|█████▋    | 17/30 [01:02<00:48,  3.73s/course, Course=Writing Efficient Code with pa...]"
          ]
        },
        {
          "name": "stdout",
          "output_type": "stream",
          "text": [
            "\n",
            "Course: Writing Efficient Code with pandas\n",
            "URL: https://www.datacamp.com/courses/writing-efficient-code-with-pandas\n",
            "--------------------------------------------------\n"
          ]
        },
        {
          "name": "stderr",
          "output_type": "stream",
          "text": [
            "Page 16 Progress:  60%|██████    | 18/30 [01:06<00:44,  3.67s/course, Course=Introduction to DataLab]          "
          ]
        },
        {
          "name": "stdout",
          "output_type": "stream",
          "text": [
            "\n",
            "Course: Introduction to DataLab\n",
            "URL: https://www.datacamp.com/courses/introduction-to-datalab\n",
            "--------------------------------------------------\n"
          ]
        },
        {
          "name": "stderr",
          "output_type": "stream",
          "text": [
            "Page 16 Progress:  63%|██████▎   | 19/30 [01:09<00:38,  3.52s/course, Course=Python for R Users]     "
          ]
        },
        {
          "name": "stdout",
          "output_type": "stream",
          "text": [
            "\n",
            "Course: Python for R Users\n",
            "URL: https://www.datacamp.com/courses/python-for-r-users\n",
            "--------------------------------------------------\n"
          ]
        },
        {
          "name": "stderr",
          "output_type": "stream",
          "text": [
            "Page 16 Progress:  67%|██████▋   | 20/30 [01:12<00:32,  3.24s/course, Course=Financial Forecasting in Pytho...]"
          ]
        },
        {
          "name": "stdout",
          "output_type": "stream",
          "text": [
            "\n",
            "Course: Financial Forecasting in Python\n",
            "URL: https://www.datacamp.com/courses/financial-forecasting-in-python\n",
            "--------------------------------------------------\n"
          ]
        },
        {
          "name": "stderr",
          "output_type": "stream",
          "text": [
            "Page 16 Progress:  70%|███████   | 21/30 [01:15<00:29,  3.29s/course, Course=Sentiment Analysis in R]          "
          ]
        },
        {
          "name": "stdout",
          "output_type": "stream",
          "text": [
            "\n",
            "Course: Sentiment Analysis in R\n",
            "URL: https://www.datacamp.com/courses/sentiment-analysis-in-r\n",
            "--------------------------------------------------\n"
          ]
        },
        {
          "name": "stderr",
          "output_type": "stream",
          "text": [
            "Page 16 Progress:  73%|███████▎  | 22/30 [01:17<00:24,  3.04s/course, Course=Case Study: Financial Analysis...]"
          ]
        },
        {
          "name": "stdout",
          "output_type": "stream",
          "text": [
            "\n",
            "Course: Case Study: Financial Analysis in KNIME\n",
            "URL: https://www.datacamp.com/courses/case-study-financial-analysis-in-knime\n",
            "--------------------------------------------------\n"
          ]
        },
        {
          "name": "stderr",
          "output_type": "stream",
          "text": [
            "Page 16 Progress:  77%|███████▋  | 23/30 [01:20<00:20,  2.88s/course, Course=Analyzing US Census Data in Py...]"
          ]
        },
        {
          "name": "stdout",
          "output_type": "stream",
          "text": [
            "\n",
            "Course: Analyzing US Census Data in Python\n",
            "URL: https://www.datacamp.com/courses/analyzing-us-census-data-in-python\n",
            "--------------------------------------------------\n"
          ]
        },
        {
          "name": "stderr",
          "output_type": "stream",
          "text": [
            "Page 16 Progress:  80%|████████  | 24/30 [01:25<00:20,  3.44s/course, Course=Case Studies: Building Web App...]"
          ]
        },
        {
          "name": "stdout",
          "output_type": "stream",
          "text": [
            "\n",
            "Course: Case Studies: Building Web Applications with Shiny in R\n",
            "URL: https://www.datacamp.com/courses/case-studies-building-web-applications-with-shiny-in-r\n",
            "--------------------------------------------------\n"
          ]
        },
        {
          "name": "stderr",
          "output_type": "stream",
          "text": [
            "Page 16 Progress:  83%|████████▎ | 25/30 [01:27<00:15,  3.11s/course, Course=Introduction to Natural Langua...]"
          ]
        },
        {
          "name": "stdout",
          "output_type": "stream",
          "text": [
            "\n",
            "Course: Introduction to Natural Language Processing in R\n",
            "URL: https://www.datacamp.com/courses/introduction-to-natural-language-processing-in-r\n",
            "--------------------------------------------------\n"
          ]
        },
        {
          "name": "stderr",
          "output_type": "stream",
          "text": [
            "Page 16 Progress:  87%|████████▋ | 26/30 [01:29<00:11,  2.86s/course, Course=Advanced NLP with spaCy]          "
          ]
        },
        {
          "name": "stdout",
          "output_type": "stream",
          "text": [
            "\n",
            "Course: Advanced NLP with spaCy\n",
            "URL: https://www.datacamp.com/courses/advanced-nlp-with-spacy\n",
            "--------------------------------------------------\n"
          ]
        },
        {
          "name": "stderr",
          "output_type": "stream",
          "text": [
            "Page 16 Progress:  90%|█████████ | 27/30 [01:32<00:08,  2.80s/course, Course=Importing and Managing Financi...]"
          ]
        },
        {
          "name": "stdout",
          "output_type": "stream",
          "text": [
            "\n",
            "Course: Importing and Managing Financial Data in R\n",
            "URL: https://www.datacamp.com/courses/importing-and-managing-financial-data-in-r\n",
            "--------------------------------------------------\n"
          ]
        },
        {
          "name": "stderr",
          "output_type": "stream",
          "text": [
            "Page 16 Progress:  93%|█████████▎| 28/30 [01:36<00:06,  3.16s/course, Course=AI-Assisted Travel Planning]      "
          ]
        },
        {
          "name": "stdout",
          "output_type": "stream",
          "text": [
            "\n",
            "Course: AI-Assisted Travel Planning\n",
            "URL: https://www.datacamp.com/courses/ai-assisted-travel-planning\n",
            "--------------------------------------------------\n"
          ]
        },
        {
          "name": "stderr",
          "output_type": "stream",
          "text": [
            "Page 16 Progress:  97%|█████████▋| 29/30 [01:41<00:03,  3.69s/course, Course=Designing Machine Learning Wor...]"
          ]
        },
        {
          "name": "stdout",
          "output_type": "stream",
          "text": [
            "\n",
            "Course: Designing Machine Learning Workflows in Python\n",
            "URL: https://www.datacamp.com/courses/designing-machine-learning-workflows-in-python\n",
            "--------------------------------------------------\n"
          ]
        },
        {
          "name": "stderr",
          "output_type": "stream",
          "text": [
            "Page 16 Progress: 100%|██████████| 30/30 [01:46<00:00,  3.54s/course, Course=Designing Machine Learning Wor...]\n"
          ]
        },
        {
          "name": "stdout",
          "output_type": "stream",
          "text": [
            "\n",
            "Crawling page 17: https://www.datacamp.com/courses-all/page/17\n",
            "Found 30 courses on page 17\n"
          ]
        },
        {
          "name": "stderr",
          "output_type": "stream",
          "text": [
            "Page 17 Progress:   0%|          | 0/30 [00:00<?, ?course/s, Course=Nonlinear Modeling with Genera...]"
          ]
        },
        {
          "name": "stdout",
          "output_type": "stream",
          "text": [
            "\n",
            "Course: Nonlinear Modeling with Generalized Additive Models (GAMs) in R\n",
            "URL: https://www.datacamp.com/courses/nonlinear-modeling-with-generalized-additive-models-gams-in-r\n",
            "--------------------------------------------------\n"
          ]
        },
        {
          "name": "stderr",
          "output_type": "stream",
          "text": [
            "Page 17 Progress:   3%|▎         | 1/30 [00:02<01:06,  2.30s/course, Course=Data Privacy and Anonymization...]"
          ]
        },
        {
          "name": "stdout",
          "output_type": "stream",
          "text": [
            "\n",
            "Course: Data Privacy and Anonymization in Python\n",
            "URL: https://www.datacamp.com/courses/data-privacy-and-anonymization-in-python\n",
            "--------------------------------------------------\n"
          ]
        },
        {
          "name": "stderr",
          "output_type": "stream",
          "text": [
            "Page 17 Progress:   7%|▋         | 2/30 [00:06<01:39,  3.56s/course, Course=Multi-Modal Systems with the O...]"
          ]
        },
        {
          "name": "stdout",
          "output_type": "stream",
          "text": [
            "\n",
            "Course: Multi-Modal Systems with the OpenAI API\n",
            "URL: https://www.datacamp.com/courses/multi-modal-systems-with-the-openai-api\n",
            "--------------------------------------------------\n"
          ]
        },
        {
          "name": "stderr",
          "output_type": "stream",
          "text": [
            "Page 17 Progress:  10%|█         | 3/30 [00:11<01:50,  4.08s/course, Course=Dimensionality Reduction in R]    "
          ]
        },
        {
          "name": "stdout",
          "output_type": "stream",
          "text": [
            "\n",
            "Course: Dimensionality Reduction in R\n",
            "URL: https://www.datacamp.com/courses/dimensionality-reduction-in-r\n",
            "--------------------------------------------------\n"
          ]
        },
        {
          "name": "stderr",
          "output_type": "stream",
          "text": [
            "Page 17 Progress:  13%|█▎        | 4/30 [00:15<01:45,  4.05s/course, Course=Case Study: Ecommerce Analysis...]"
          ]
        },
        {
          "name": "stdout",
          "output_type": "stream",
          "text": [
            "\n",
            "Course: Case Study: Ecommerce Analysis in Tableau\n",
            "URL: https://www.datacamp.com/courses/case-study-ecommerce-analysis-in-tableau\n",
            "--------------------------------------------------\n"
          ]
        },
        {
          "name": "stderr",
          "output_type": "stream",
          "text": [
            "Page 17 Progress:  17%|█▋        | 5/30 [00:20<01:47,  4.30s/course, Course=Inference for Categorical Data...]"
          ]
        },
        {
          "name": "stdout",
          "output_type": "stream",
          "text": [
            "\n",
            "Course: Inference for Categorical Data in R\n",
            "URL: https://www.datacamp.com/courses/inference-for-categorical-data-in-r\n",
            "--------------------------------------------------\n"
          ]
        },
        {
          "name": "stderr",
          "output_type": "stream",
          "text": [
            "Page 17 Progress:  20%|██        | 6/30 [00:23<01:37,  4.05s/course, Course=Parallel Programming with Dask...]"
          ]
        },
        {
          "name": "stdout",
          "output_type": "stream",
          "text": [
            "\n",
            "Course: Parallel Programming with Dask in Python\n",
            "URL: https://www.datacamp.com/courses/parallel-programming-with-dask-in-python\n",
            "--------------------------------------------------\n"
          ]
        },
        {
          "name": "stderr",
          "output_type": "stream",
          "text": [
            "Page 17 Progress:  23%|██▎       | 7/30 [00:26<01:26,  3.76s/course, Course=Developing R Packages]            "
          ]
        },
        {
          "name": "stdout",
          "output_type": "stream",
          "text": [
            "\n",
            "Course: Developing R Packages\n",
            "URL: https://www.datacamp.com/courses/developing-r-packages\n",
            "--------------------------------------------------\n"
          ]
        },
        {
          "name": "stderr",
          "output_type": "stream",
          "text": [
            "Page 17 Progress:  27%|██▋       | 8/30 [00:30<01:22,  3.76s/course, Course=Case Study: HR Analytics in Ta...]"
          ]
        },
        {
          "name": "stdout",
          "output_type": "stream",
          "text": [
            "\n",
            "Course: Case Study: HR Analytics in Tableau\n",
            "URL: https://www.datacamp.com/courses/case-study-hr-analytics-in-tableau\n",
            "--------------------------------------------------\n"
          ]
        },
        {
          "name": "stderr",
          "output_type": "stream",
          "text": [
            "Page 17 Progress:  30%|███       | 9/30 [00:35<01:23,  3.97s/course, Course=MLOps for Business]               "
          ]
        },
        {
          "name": "stdout",
          "output_type": "stream",
          "text": [
            "\n",
            "Course: MLOps for Business\n",
            "URL: https://www.datacamp.com/courses/mlops-for-business\n",
            "--------------------------------------------------\n"
          ]
        },
        {
          "name": "stderr",
          "output_type": "stream",
          "text": [
            "Page 17 Progress:  33%|███▎      | 10/30 [00:38<01:16,  3.83s/course, Course=Support Vector Machines in R]"
          ]
        },
        {
          "name": "stdout",
          "output_type": "stream",
          "text": [
            "\n",
            "Course: Support Vector Machines in R\n",
            "URL: https://www.datacamp.com/courses/support-vector-machines-in-r\n",
            "--------------------------------------------------\n"
          ]
        },
        {
          "name": "stderr",
          "output_type": "stream",
          "text": [
            "Page 17 Progress:  37%|███▋      | 11/30 [00:42<01:15,  3.99s/course, Course=Intermediate Portfolio Analysi...]"
          ]
        },
        {
          "name": "stdout",
          "output_type": "stream",
          "text": [
            "\n",
            "Course: Intermediate Portfolio Analysis in R\n",
            "URL: https://www.datacamp.com/courses/intermediate-portfolio-analysis-in-r\n",
            "--------------------------------------------------\n"
          ]
        },
        {
          "name": "stderr",
          "output_type": "stream",
          "text": [
            "Page 17 Progress:  40%|████      | 12/30 [00:45<01:04,  3.56s/course, Course=Analyzing IoT Data in Python]     "
          ]
        },
        {
          "name": "stdout",
          "output_type": "stream",
          "text": [
            "\n",
            "Course: Analyzing IoT Data in Python\n",
            "URL: https://www.datacamp.com/courses/analyzing-iot-data-in-python\n",
            "--------------------------------------------------\n"
          ]
        },
        {
          "name": "stderr",
          "output_type": "stream",
          "text": [
            "Page 17 Progress:  43%|████▎     | 13/30 [00:48<00:57,  3.40s/course, Course=Multi-Modal Models with Huggin...]"
          ]
        },
        {
          "name": "stdout",
          "output_type": "stream",
          "text": [
            "\n",
            "Course: Multi-Modal Models with Hugging Face\n",
            "URL: https://www.datacamp.com/courses/multi-modal-models-with-hugging-face\n",
            "--------------------------------------------------\n"
          ]
        },
        {
          "name": "stderr",
          "output_type": "stream",
          "text": [
            "Page 17 Progress:  47%|████▋     | 14/30 [00:51<00:51,  3.21s/course, Course=Case Study: Analyzing Healthca...]"
          ]
        },
        {
          "name": "stdout",
          "output_type": "stream",
          "text": [
            "\n",
            "Course: Case Study: Analyzing Healthcare Data in Tableau\n",
            "URL: https://www.datacamp.com/courses/case-study-analyzing-healthcare-data-in-tableau\n",
            "--------------------------------------------------\n"
          ]
        },
        {
          "name": "stderr",
          "output_type": "stream",
          "text": [
            "Page 17 Progress:  50%|█████     | 15/30 [00:56<00:54,  3.66s/course, Course=Data Visualization in KNIME]      "
          ]
        },
        {
          "name": "stdout",
          "output_type": "stream",
          "text": [
            "\n",
            "Course: Data Visualization in KNIME\n",
            "URL: https://www.datacamp.com/courses/data-visualization-in-knime\n",
            "--------------------------------------------------\n"
          ]
        },
        {
          "name": "stderr",
          "output_type": "stream",
          "text": [
            "Page 17 Progress:  53%|█████▎    | 16/30 [00:58<00:45,  3.22s/course, Course=Course Creation at DataCamp]"
          ]
        },
        {
          "name": "stdout",
          "output_type": "stream",
          "text": [
            "\n",
            "Course: Course Creation at DataCamp\n",
            "URL: https://www.datacamp.com/courses/course-creation-at-datacamp\n",
            "--------------------------------------------------\n"
          ]
        },
        {
          "name": "stderr",
          "output_type": "stream",
          "text": [
            "Page 17 Progress:  57%|█████▋    | 17/30 [01:00<00:40,  3.08s/course, Course=Multivariate Probability Distr...]"
          ]
        },
        {
          "name": "stdout",
          "output_type": "stream",
          "text": [
            "\n",
            "Course: Multivariate Probability Distributions in R\n",
            "URL: https://www.datacamp.com/courses/multivariate-probability-distributions-in-r\n",
            "--------------------------------------------------\n"
          ]
        },
        {
          "name": "stderr",
          "output_type": "stream",
          "text": [
            "Page 17 Progress:  60%|██████    | 18/30 [01:05<00:42,  3.55s/course, Course=Market Basket Analysis in R]      "
          ]
        },
        {
          "name": "stdout",
          "output_type": "stream",
          "text": [
            "\n",
            "Course: Market Basket Analysis in R\n",
            "URL: https://www.datacamp.com/courses/market-basket-analysis-in-r\n",
            "--------------------------------------------------\n"
          ]
        },
        {
          "name": "stderr",
          "output_type": "stream",
          "text": [
            "Page 17 Progress:  63%|██████▎   | 19/30 [01:08<00:35,  3.19s/course, Course=Recommending Skincare Products]"
          ]
        },
        {
          "name": "stdout",
          "output_type": "stream",
          "text": [
            "\n",
            "Course: Recommending Skincare Products\n",
            "URL: https://www.datacamp.com/courses/recommending-skincare-products\n",
            "--------------------------------------------------\n"
          ]
        },
        {
          "name": "stderr",
          "output_type": "stream",
          "text": [
            "Page 17 Progress:  67%|██████▋   | 20/30 [01:10<00:29,  2.94s/course, Course=Equity Valuation in R]         "
          ]
        },
        {
          "name": "stdout",
          "output_type": "stream",
          "text": [
            "\n",
            "Course: Equity Valuation in R\n",
            "URL: https://www.datacamp.com/courses/equity-valuation-in-r\n",
            "--------------------------------------------------\n"
          ]
        },
        {
          "name": "stderr",
          "output_type": "stream",
          "text": [
            "Page 17 Progress:  70%|███████   | 21/30 [01:13<00:26,  2.99s/course, Course=Hyperparameter Tuning in R]"
          ]
        },
        {
          "name": "stdout",
          "output_type": "stream",
          "text": [
            "\n",
            "Course: Hyperparameter Tuning in R\n",
            "URL: https://www.datacamp.com/courses/hyperparameter-tuning-in-r\n",
            "--------------------------------------------------\n"
          ]
        },
        {
          "name": "stderr",
          "output_type": "stream",
          "text": [
            "Page 17 Progress:  73%|███████▎  | 22/30 [01:16<00:24,  3.06s/course, Course=Data Manipulation in KNIME]"
          ]
        },
        {
          "name": "stdout",
          "output_type": "stream",
          "text": [
            "\n",
            "Course: Data Manipulation in KNIME\n",
            "URL: https://www.datacamp.com/courses/data-manipulation-in-knime\n",
            "--------------------------------------------------\n"
          ]
        },
        {
          "name": "stderr",
          "output_type": "stream",
          "text": [
            "Page 17 Progress:  77%|███████▋  | 23/30 [01:21<00:24,  3.50s/course, Course=Life Insurance Products Valuat...]"
          ]
        },
        {
          "name": "stdout",
          "output_type": "stream",
          "text": [
            "\n",
            "Course: Life Insurance Products Valuation in R\n",
            "URL: https://www.datacamp.com/courses/life-insurance-products-valuation-in-r\n",
            "--------------------------------------------------\n"
          ]
        },
        {
          "name": "stderr",
          "output_type": "stream",
          "text": [
            "Page 17 Progress:  80%|████████  | 24/30 [01:25<00:22,  3.75s/course, Course=Differential Expression Analys...]"
          ]
        },
        {
          "name": "stdout",
          "output_type": "stream",
          "text": [
            "\n",
            "Course: Differential Expression Analysis with limma in R\n",
            "URL: https://www.datacamp.com/courses/differential-expression-analysis-with-limma-in-r\n",
            "--------------------------------------------------\n"
          ]
        },
        {
          "name": "stderr",
          "output_type": "stream",
          "text": [
            "Page 17 Progress:  83%|████████▎ | 25/30 [01:28<00:17,  3.57s/course, Course=R For SAS Users]                  "
          ]
        },
        {
          "name": "stdout",
          "output_type": "stream",
          "text": [
            "\n",
            "Course: R For SAS Users\n",
            "URL: https://www.datacamp.com/courses/r-for-sas-users\n",
            "--------------------------------------------------\n"
          ]
        },
        {
          "name": "stderr",
          "output_type": "stream",
          "text": [
            "Page 17 Progress:  87%|████████▋ | 26/30 [01:31<00:13,  3.29s/course, Course=Introduction to Amazon Bedrock]"
          ]
        },
        {
          "name": "stdout",
          "output_type": "stream",
          "text": [
            "\n",
            "Course: Introduction to Amazon Bedrock\n",
            "URL: https://www.datacamp.com/courses/introduction-to-amazon-bedrock\n",
            "--------------------------------------------------\n"
          ]
        },
        {
          "name": "stderr",
          "output_type": "stream",
          "text": [
            "Page 17 Progress:  90%|█████████ | 27/30 [01:33<00:08,  2.92s/course, Course=Decoding Decision Modeling]    "
          ]
        },
        {
          "name": "stdout",
          "output_type": "stream",
          "text": [
            "\n",
            "Course: Decoding Decision Modeling\n",
            "URL: https://www.datacamp.com/courses/decoding-decision-modeling\n",
            "--------------------------------------------------\n"
          ]
        },
        {
          "name": "stderr",
          "output_type": "stream",
          "text": [
            "Page 17 Progress:  93%|█████████▎| 28/30 [01:37<00:06,  3.14s/course, Course=A/B Testing in R]          "
          ]
        },
        {
          "name": "stdout",
          "output_type": "stream",
          "text": [
            "\n",
            "Course: A/B Testing in R\n",
            "URL: https://www.datacamp.com/courses/ab-testing-in-r\n",
            "--------------------------------------------------\n"
          ]
        },
        {
          "name": "stderr",
          "output_type": "stream",
          "text": [
            "Page 17 Progress:  97%|█████████▋| 29/30 [01:40<00:03,  3.13s/course, Course=Discrete Event Simulation in P...]"
          ]
        },
        {
          "name": "stdout",
          "output_type": "stream",
          "text": [
            "\n",
            "Course: Discrete Event Simulation in Python\n",
            "URL: https://www.datacamp.com/courses/discrete-event-simulation-in-python\n",
            "--------------------------------------------------\n"
          ]
        },
        {
          "name": "stderr",
          "output_type": "stream",
          "text": [
            "Page 17 Progress: 100%|██████████| 30/30 [01:42<00:00,  3.42s/course, Course=Discrete Event Simulation in P...]\n"
          ]
        },
        {
          "name": "stdout",
          "output_type": "stream",
          "text": [
            "\n",
            "Crawling page 18: https://www.datacamp.com/courses-all/page/18\n",
            "Found 30 courses on page 18\n"
          ]
        },
        {
          "name": "stderr",
          "output_type": "stream",
          "text": [
            "Page 18 Progress:   0%|          | 0/30 [00:00<?, ?course/s, Course=Analyzing Social Media Data in...]"
          ]
        },
        {
          "name": "stdout",
          "output_type": "stream",
          "text": [
            "\n",
            "Course: Analyzing Social Media Data in R\n",
            "URL: https://www.datacamp.com/courses/analyzing-social-media-data-in-r\n",
            "--------------------------------------------------\n"
          ]
        },
        {
          "name": "stderr",
          "output_type": "stream",
          "text": [
            "Page 18 Progress:   3%|▎         | 1/30 [00:04<02:16,  4.71s/course, Course=Handling Missing Data with Imp...]"
          ]
        },
        {
          "name": "stdout",
          "output_type": "stream",
          "text": [
            "\n",
            "Course: Handling Missing Data with Imputations in R\n",
            "URL: https://www.datacamp.com/courses/handling-missing-data-with-imputations-in-r\n",
            "--------------------------------------------------\n"
          ]
        },
        {
          "name": "stderr",
          "output_type": "stream",
          "text": [
            "Page 18 Progress:   7%|▋         | 2/30 [00:09<02:12,  4.74s/course, Course=Financial Trading in R]           "
          ]
        },
        {
          "name": "stdout",
          "output_type": "stream",
          "text": [
            "\n",
            "Course: Financial Trading in R\n",
            "URL: https://www.datacamp.com/courses/financial-trading-in-r\n",
            "--------------------------------------------------\n"
          ]
        },
        {
          "name": "stderr",
          "output_type": "stream",
          "text": [
            "Page 18 Progress:  10%|█         | 3/30 [00:14<02:06,  4.68s/course, Course=Distributed AI Model Training ...]"
          ]
        },
        {
          "name": "stdout",
          "output_type": "stream",
          "text": [
            "\n",
            "Course: Distributed AI Model Training in Python\n",
            "URL: https://www.datacamp.com/courses/distributed-ai-model-training-in-python\n",
            "--------------------------------------------------\n"
          ]
        },
        {
          "name": "stderr",
          "output_type": "stream",
          "text": [
            "Page 18 Progress:  13%|█▎        | 4/30 [00:18<01:55,  4.43s/course, Course=Conditional Formatting in Goog...]"
          ]
        },
        {
          "name": "stdout",
          "output_type": "stream",
          "text": [
            "\n",
            "Course: Conditional Formatting in Google Sheets\n",
            "URL: https://www.datacamp.com/courses/conditional-formatting-in-google-sheets\n",
            "--------------------------------------------------\n"
          ]
        },
        {
          "name": "stderr",
          "output_type": "stream",
          "text": [
            "Page 18 Progress:  17%|█▋        | 5/30 [00:22<01:48,  4.35s/course, Course=Time Series Analysis in Postgr...]"
          ]
        },
        {
          "name": "stdout",
          "output_type": "stream",
          "text": [
            "\n",
            "Course: Time Series Analysis in PostgreSQL\n",
            "URL: https://www.datacamp.com/courses/time-series-analysis-in-postgresql\n",
            "--------------------------------------------------\n"
          ]
        },
        {
          "name": "stderr",
          "output_type": "stream",
          "text": [
            "Page 18 Progress:  20%|██        | 6/30 [00:26<01:43,  4.30s/course, Course=Forecasting Product Demand in ...]"
          ]
        },
        {
          "name": "stdout",
          "output_type": "stream",
          "text": [
            "\n",
            "Course: Forecasting Product Demand in R\n",
            "URL: https://www.datacamp.com/courses/forecasting-product-demand-in-r\n",
            "--------------------------------------------------\n"
          ]
        },
        {
          "name": "stderr",
          "output_type": "stream",
          "text": [
            "Page 18 Progress:  23%|██▎       | 7/30 [00:29<01:27,  3.81s/course, Course=Python for MATLAB Users]          "
          ]
        },
        {
          "name": "stdout",
          "output_type": "stream",
          "text": [
            "\n",
            "Course: Python for MATLAB Users\n",
            "URL: https://www.datacamp.com/courses/python-for-matlab-users\n",
            "--------------------------------------------------\n"
          ]
        },
        {
          "name": "stderr",
          "output_type": "stream",
          "text": [
            "Page 18 Progress:  27%|██▋       | 8/30 [00:32<01:19,  3.59s/course, Course=Foundations of Functional Prog...]"
          ]
        },
        {
          "name": "stdout",
          "output_type": "stream",
          "text": [
            "\n",
            "Course: Foundations of Functional Programming with purrr\n",
            "URL: https://www.datacamp.com/courses/foundations-of-functional-programming-with-purrr\n",
            "--------------------------------------------------\n"
          ]
        },
        {
          "name": "stderr",
          "output_type": "stream",
          "text": [
            "Page 18 Progress:  30%|███       | 9/30 [00:36<01:16,  3.63s/course, Course=Interactive Data Visualization...]"
          ]
        },
        {
          "name": "stdout",
          "output_type": "stream",
          "text": [
            "\n",
            "Course: Interactive Data Visualization with Bokeh\n",
            "URL: https://www.datacamp.com/courses/interactive-data-visualization-with-bokeh\n",
            "--------------------------------------------------\n"
          ]
        },
        {
          "name": "stderr",
          "output_type": "stream",
          "text": [
            "Page 18 Progress:  33%|███▎      | 10/30 [00:38<01:07,  3.36s/course, Course=Analyzing Survey Data in Pytho...]"
          ]
        },
        {
          "name": "stdout",
          "output_type": "stream",
          "text": [
            "\n",
            "Course: Analyzing Survey Data in Python\n",
            "URL: https://www.datacamp.com/courses/analyzing-survey-data-in-python\n",
            "--------------------------------------------------\n"
          ]
        },
        {
          "name": "stderr",
          "output_type": "stream",
          "text": [
            "Page 18 Progress:  37%|███▋      | 11/30 [00:41<00:56,  3.00s/course, Course=Case Study: Inventory Analysis...]"
          ]
        },
        {
          "name": "stdout",
          "output_type": "stream",
          "text": [
            "\n",
            "Course: Case Study: Inventory Analysis in Tableau\n",
            "URL: https://www.datacamp.com/courses/case-study-inventory-analysis-in-tableau\n",
            "--------------------------------------------------\n"
          ]
        },
        {
          "name": "stderr",
          "output_type": "stream",
          "text": [
            "Page 18 Progress:  40%|████      | 12/30 [00:43<00:50,  2.83s/course, Course=Machine Learning for Marketing...]"
          ]
        },
        {
          "name": "stdout",
          "output_type": "stream",
          "text": [
            "\n",
            "Course: Machine Learning for Marketing Analytics in R\n",
            "URL: https://www.datacamp.com/courses/machine-learning-for-marketing-analytics-in-r\n",
            "--------------------------------------------------\n"
          ]
        },
        {
          "name": "stderr",
          "output_type": "stream",
          "text": [
            "Page 18 Progress:  43%|████▎     | 13/30 [00:46<00:46,  2.76s/course, Course=DataLab with SQL]                 "
          ]
        },
        {
          "name": "stdout",
          "output_type": "stream",
          "text": [
            "\n",
            "Course: DataLab with SQL\n",
            "URL: https://www.datacamp.com/courses/datalab-with-sql\n",
            "--------------------------------------------------\n"
          ]
        },
        {
          "name": "stderr",
          "output_type": "stream",
          "text": [
            "Page 18 Progress:  47%|████▋     | 14/30 [00:48<00:44,  2.78s/course, Course=Case Studies in Statistical Th...]"
          ]
        },
        {
          "name": "stdout",
          "output_type": "stream",
          "text": [
            "\n",
            "Course: Case Studies in Statistical Thinking\n",
            "URL: https://www.datacamp.com/courses/case-studies-in-statistical-thinking\n",
            "--------------------------------------------------\n"
          ]
        },
        {
          "name": "stderr",
          "output_type": "stream",
          "text": [
            "Page 18 Progress:  50%|█████     | 15/30 [00:51<00:38,  2.56s/course, Course=Data Manipulation in Snowflake]   "
          ]
        },
        {
          "name": "stdout",
          "output_type": "stream",
          "text": [
            "\n",
            "Course: Data Manipulation in Snowflake\n",
            "URL: https://www.datacamp.com/courses/data-manipulation-in-snowflake\n",
            "--------------------------------------------------\n"
          ]
        },
        {
          "name": "stderr",
          "output_type": "stream",
          "text": [
            "Page 18 Progress:  53%|█████▎    | 16/30 [00:55<00:45,  3.23s/course, Course=Pandas Joins for Spreadsheet U...]"
          ]
        },
        {
          "name": "stdout",
          "output_type": "stream",
          "text": [
            "\n",
            "Course: Pandas Joins for Spreadsheet Users\n",
            "URL: https://www.datacamp.com/courses/pandas-joins-for-spreadsheet-users\n",
            "--------------------------------------------------\n"
          ]
        },
        {
          "name": "stderr",
          "output_type": "stream",
          "text": [
            "Page 18 Progress:  57%|█████▋    | 17/30 [00:58<00:39,  3.07s/course, Course=Practicing Statistics Intervie...]"
          ]
        },
        {
          "name": "stdout",
          "output_type": "stream",
          "text": [
            "\n",
            "Course: Practicing Statistics Interview Questions in R\n",
            "URL: https://www.datacamp.com/courses/practicing-statistics-interview-questions-in-r\n",
            "--------------------------------------------------\n"
          ]
        },
        {
          "name": "stderr",
          "output_type": "stream",
          "text": [
            "Page 18 Progress:  60%|██████    | 18/30 [01:01<00:34,  2.90s/course, Course=Working with DeepSeek in Pytho...]"
          ]
        },
        {
          "name": "stdout",
          "output_type": "stream",
          "text": [
            "\n",
            "Course: Working with DeepSeek in Python\n",
            "URL: https://www.datacamp.com/courses/working-with-deepseek-in-python\n",
            "--------------------------------------------------\n"
          ]
        },
        {
          "name": "stderr",
          "output_type": "stream",
          "text": [
            "Page 18 Progress:  63%|██████▎   | 19/30 [01:03<00:30,  2.81s/course, Course=Bayesian Regression Modeling w...]"
          ]
        },
        {
          "name": "stdout",
          "output_type": "stream",
          "text": [
            "\n",
            "Course: Bayesian Regression Modeling with rstanarm\n",
            "URL: https://www.datacamp.com/courses/bayesian-regression-modeling-with-rstanarm\n",
            "--------------------------------------------------\n"
          ]
        },
        {
          "name": "stderr",
          "output_type": "stream",
          "text": [
            "Page 18 Progress:  67%|██████▋   | 20/30 [01:05<00:25,  2.59s/course, Course=Bond Valuation and Analysis in...]"
          ]
        },
        {
          "name": "stdout",
          "output_type": "stream",
          "text": [
            "\n",
            "Course: Bond Valuation and Analysis in Python\n",
            "URL: https://www.datacamp.com/courses/bond-valuation-and-analysis-in-python\n",
            "--------------------------------------------------\n"
          ]
        },
        {
          "name": "stderr",
          "output_type": "stream",
          "text": [
            "Page 18 Progress:  70%|███████   | 21/30 [01:09<00:25,  2.87s/course, Course=HR Analytics: Predicting Emplo...]"
          ]
        },
        {
          "name": "stdout",
          "output_type": "stream",
          "text": [
            "\n",
            "Course: HR Analytics: Predicting Employee Churn in Python\n",
            "URL: https://www.datacamp.com/courses/hr-analytics-predicting-employee-churn-in-python\n",
            "--------------------------------------------------\n"
          ]
        },
        {
          "name": "stderr",
          "output_type": "stream",
          "text": [
            "Page 18 Progress:  73%|███████▎  | 22/30 [01:14<00:27,  3.47s/course, Course=Case Studies: Network Analysis...]"
          ]
        },
        {
          "name": "stdout",
          "output_type": "stream",
          "text": [
            "\n",
            "Course: Case Studies: Network Analysis in R\n",
            "URL: https://www.datacamp.com/courses/case-studies-network-analysis-in-r\n",
            "--------------------------------------------------\n"
          ]
        },
        {
          "name": "stderr",
          "output_type": "stream",
          "text": [
            "Page 18 Progress:  77%|███████▋  | 23/30 [01:17<00:24,  3.48s/course, Course=Transactions and Error Handlin...]"
          ]
        },
        {
          "name": "stdout",
          "output_type": "stream",
          "text": [
            "\n",
            "Course: Transactions and Error Handling in PostgreSQL\n",
            "URL: https://www.datacamp.com/courses/transactions-and-error-handling-in-postgresql\n",
            "--------------------------------------------------\n"
          ]
        },
        {
          "name": "stderr",
          "output_type": "stream",
          "text": [
            "Page 18 Progress:  80%|████████  | 24/30 [01:20<00:20,  3.39s/course, Course=Demystifying Decision Science]    "
          ]
        },
        {
          "name": "stdout",
          "output_type": "stream",
          "text": [
            "\n",
            "Course: Demystifying Decision Science\n",
            "URL: https://www.datacamp.com/courses/demystifying-decision-science\n",
            "--------------------------------------------------\n"
          ]
        },
        {
          "name": "stderr",
          "output_type": "stream",
          "text": [
            "Page 18 Progress:  83%|████████▎ | 25/30 [01:24<00:16,  3.35s/course, Course=Building Dashboards with flexd...]"
          ]
        },
        {
          "name": "stdout",
          "output_type": "stream",
          "text": [
            "\n",
            "Course: Building Dashboards with flexdashboard\n",
            "URL: https://www.datacamp.com/courses/building-dashboards-with-flexdashboard\n",
            "--------------------------------------------------\n"
          ]
        },
        {
          "name": "stderr",
          "output_type": "stream",
          "text": [
            "Page 18 Progress:  87%|████████▋ | 26/30 [01:26<00:12,  3.07s/course, Course=Probability Puzzles in R]         "
          ]
        },
        {
          "name": "stdout",
          "output_type": "stream",
          "text": [
            "\n",
            "Course: Probability Puzzles in R\n",
            "URL: https://www.datacamp.com/courses/probability-puzzles-in-r\n",
            "--------------------------------------------------\n"
          ]
        },
        {
          "name": "stderr",
          "output_type": "stream",
          "text": [
            "Page 18 Progress:  90%|█████████ | 27/30 [01:30<00:09,  3.22s/course, Course=Predictive Analytics using Net...]"
          ]
        },
        {
          "name": "stdout",
          "output_type": "stream",
          "text": [
            "\n",
            "Course: Predictive Analytics using Networked Data in R\n",
            "URL: https://www.datacamp.com/courses/predictive-analytics-using-networked-data-in-r\n",
            "--------------------------------------------------\n"
          ]
        },
        {
          "name": "stderr",
          "output_type": "stream",
          "text": [
            "Page 18 Progress:  93%|█████████▎| 28/30 [01:34<00:07,  3.53s/course, Course=Conquering Data Bias]             "
          ]
        },
        {
          "name": "stdout",
          "output_type": "stream",
          "text": [
            "\n",
            "Course: Conquering Data Bias\n",
            "URL: https://www.datacamp.com/courses/conquering-data-bias\n",
            "--------------------------------------------------\n"
          ]
        },
        {
          "name": "stderr",
          "output_type": "stream",
          "text": [
            "Page 18 Progress:  97%|█████████▋| 29/30 [01:38<00:03,  3.76s/course, Course=Analyzing US Census Data in R]"
          ]
        },
        {
          "name": "stdout",
          "output_type": "stream",
          "text": [
            "\n",
            "Course: Analyzing US Census Data in R\n",
            "URL: https://www.datacamp.com/courses/analyzing-us-census-data-in-r\n",
            "--------------------------------------------------\n"
          ]
        },
        {
          "name": "stderr",
          "output_type": "stream",
          "text": [
            "Page 18 Progress: 100%|██████████| 30/30 [01:40<00:00,  3.37s/course, Course=Analyzing US Census Data in R]\n"
          ]
        },
        {
          "name": "stdout",
          "output_type": "stream",
          "text": [
            "\n",
            "Crawling page 19: https://www.datacamp.com/courses-all/page/19\n",
            "Found 30 courses on page 19\n"
          ]
        },
        {
          "name": "stderr",
          "output_type": "stream",
          "text": [
            "Page 19 Progress:   0%|          | 0/30 [00:00<?, ?course/s, Course=Loan Amortization in Google Sh...]"
          ]
        },
        {
          "name": "stdout",
          "output_type": "stream",
          "text": [
            "\n",
            "Course: Loan Amortization in Google Sheets\n",
            "URL: https://www.datacamp.com/courses/loan-amortization-in-google-sheets\n",
            "--------------------------------------------------\n"
          ]
        },
        {
          "name": "stderr",
          "output_type": "stream",
          "text": [
            "Page 19 Progress:   3%|▎         | 1/30 [00:02<00:58,  2.03s/course, Course=Choice Modeling for Marketing ...]"
          ]
        },
        {
          "name": "stdout",
          "output_type": "stream",
          "text": [
            "\n",
            "Course: Choice Modeling for Marketing in R\n",
            "URL: https://www.datacamp.com/courses/choice-modeling-for-marketing-in-r\n",
            "--------------------------------------------------\n"
          ]
        },
        {
          "name": "stderr",
          "output_type": "stream",
          "text": [
            "Page 19 Progress:   7%|▋         | 2/30 [00:04<01:12,  2.58s/course, Course=Intermediate Julia]               "
          ]
        },
        {
          "name": "stdout",
          "output_type": "stream",
          "text": [
            "\n",
            "Course: Intermediate Julia\n",
            "URL: https://www.datacamp.com/courses/intermediate-julia\n",
            "--------------------------------------------------\n"
          ]
        },
        {
          "name": "stderr",
          "output_type": "stream",
          "text": [
            "Page 19 Progress:  10%|█         | 3/30 [00:07<01:12,  2.69s/course, Course=ChIP-seq with Bioconductor in ...]"
          ]
        },
        {
          "name": "stdout",
          "output_type": "stream",
          "text": [
            "\n",
            "Course: ChIP-seq with Bioconductor in R\n",
            "URL: https://www.datacamp.com/courses/chip-seq-with-bioconductor-in-r\n",
            "--------------------------------------------------\n"
          ]
        },
        {
          "name": "stderr",
          "output_type": "stream",
          "text": [
            "Page 19 Progress:  13%|█▎        | 4/30 [00:12<01:27,  3.37s/course, Course=Visualizing Big Data with Trel...]"
          ]
        },
        {
          "name": "stdout",
          "output_type": "stream",
          "text": [
            "\n",
            "Course: Visualizing Big Data with Trelliscope in R\n",
            "URL: https://www.datacamp.com/courses/visualizing-big-data-with-trelliscope-in-r\n",
            "--------------------------------------------------\n"
          ]
        },
        {
          "name": "stderr",
          "output_type": "stream",
          "text": [
            "Page 19 Progress:  17%|█▋        | 5/30 [00:16<01:29,  3.59s/course, Course=Performing Experiments in Pyth...]"
          ]
        },
        {
          "name": "stdout",
          "output_type": "stream",
          "text": [
            "\n",
            "Course: Performing Experiments in Python\n",
            "URL: https://www.datacamp.com/courses/performing-experiments-in-python\n",
            "--------------------------------------------------\n"
          ]
        },
        {
          "name": "stderr",
          "output_type": "stream",
          "text": [
            "Page 19 Progress:  20%|██        | 6/30 [00:20<01:33,  3.88s/course, Course=Case Study: Net Revenue Manage...]"
          ]
        },
        {
          "name": "stdout",
          "output_type": "stream",
          "text": [
            "\n",
            "Course: Case Study: Net Revenue Management in Google Sheets\n",
            "URL: https://www.datacamp.com/courses/case-study-net-revenue-management-in-google-sheets\n",
            "--------------------------------------------------\n"
          ]
        },
        {
          "name": "stderr",
          "output_type": "stream",
          "text": [
            "Page 19 Progress:  23%|██▎       | 7/30 [00:23<01:19,  3.47s/course, Course=Business Process Analytics in ...]"
          ]
        },
        {
          "name": "stdout",
          "output_type": "stream",
          "text": [
            "\n",
            "Course: Business Process Analytics in R\n",
            "URL: https://www.datacamp.com/courses/business-process-analytics-in-r\n",
            "--------------------------------------------------\n"
          ]
        },
        {
          "name": "stderr",
          "output_type": "stream",
          "text": [
            "Page 19 Progress:  27%|██▋       | 8/30 [00:27<01:18,  3.59s/course, Course=Case Study: Analyzing Fitness ...]"
          ]
        },
        {
          "name": "stdout",
          "output_type": "stream",
          "text": [
            "\n",
            "Course: Case Study: Analyzing Fitness Data in Alteryx\n",
            "URL: https://www.datacamp.com/courses/case-study-analyzing-fitness-data-in-alteryx\n",
            "--------------------------------------------------\n"
          ]
        },
        {
          "name": "stderr",
          "output_type": "stream",
          "text": [
            "Page 19 Progress:  30%|███       | 9/30 [00:29<01:05,  3.10s/course, Course=Intermediate Interactive Data ...]"
          ]
        },
        {
          "name": "stdout",
          "output_type": "stream",
          "text": [
            "\n",
            "Course: Intermediate Interactive Data Visualization with plotly in R\n",
            "URL: https://www.datacamp.com/courses/intermediate-interactive-data-visualization-with-plotly-in-r\n",
            "--------------------------------------------------\n"
          ]
        },
        {
          "name": "stderr",
          "output_type": "stream",
          "text": [
            "Page 19 Progress:  33%|███▎      | 10/30 [00:31<00:57,  2.86s/course, Course=Intermediate Predictive Analyt...]"
          ]
        },
        {
          "name": "stdout",
          "output_type": "stream",
          "text": [
            "\n",
            "Course: Intermediate Predictive Analytics in Python\n",
            "URL: https://www.datacamp.com/courses/intermediate-predictive-analytics-in-python\n",
            "--------------------------------------------------\n"
          ]
        },
        {
          "name": "stderr",
          "output_type": "stream",
          "text": [
            "Page 19 Progress:  37%|███▋      | 11/30 [00:34<00:54,  2.87s/course, Course=HR Analytics: Predicting Emplo...]"
          ]
        },
        {
          "name": "stdout",
          "output_type": "stream",
          "text": [
            "\n",
            "Course: HR Analytics: Predicting Employee Churn in R\n",
            "URL: https://www.datacamp.com/courses/hr-analytics-predicting-employee-churn-in-r\n",
            "--------------------------------------------------\n"
          ]
        },
        {
          "name": "stderr",
          "output_type": "stream",
          "text": [
            "Page 19 Progress:  40%|████      | 12/30 [00:37<00:54,  3.03s/course, Course=Programming with dplyr]           "
          ]
        },
        {
          "name": "stdout",
          "output_type": "stream",
          "text": [
            "\n",
            "Course: Programming with dplyr\n",
            "URL: https://www.datacamp.com/courses/programming-with-dplyr\n",
            "--------------------------------------------------\n"
          ]
        },
        {
          "name": "stderr",
          "output_type": "stream",
          "text": [
            "Page 19 Progress:  43%|████▎     | 13/30 [00:41<00:57,  3.40s/course, Course=Forecasting in Practice]"
          ]
        },
        {
          "name": "stdout",
          "output_type": "stream",
          "text": [
            "\n",
            "Course: Forecasting in Practice\n",
            "URL: https://www.datacamp.com/courses/forecasting-in-practice\n",
            "--------------------------------------------------\n"
          ]
        },
        {
          "name": "stderr",
          "output_type": "stream",
          "text": [
            "Page 19 Progress:  47%|████▋     | 14/30 [00:44<00:51,  3.20s/course, Course=Machine Translation with Keras]"
          ]
        },
        {
          "name": "stdout",
          "output_type": "stream",
          "text": [
            "\n",
            "Course: Machine Translation with Keras\n",
            "URL: https://www.datacamp.com/courses/machine-translation-with-keras\n",
            "--------------------------------------------------\n"
          ]
        },
        {
          "name": "stderr",
          "output_type": "stream",
          "text": [
            "Page 19 Progress:  50%|█████     | 15/30 [00:46<00:43,  2.91s/course, Course=Fraud Detection in R]          "
          ]
        },
        {
          "name": "stdout",
          "output_type": "stream",
          "text": [
            "\n",
            "Course: Fraud Detection in R\n",
            "URL: https://www.datacamp.com/courses/fraud-detection-in-r\n",
            "--------------------------------------------------\n"
          ]
        },
        {
          "name": "stderr",
          "output_type": "stream",
          "text": [
            "Page 19 Progress:  53%|█████▎    | 16/30 [00:50<00:45,  3.21s/course, Course=Bayesian Modeling with RJAGS]"
          ]
        },
        {
          "name": "stdout",
          "output_type": "stream",
          "text": [
            "\n",
            "Course: Bayesian Modeling with RJAGS\n",
            "URL: https://www.datacamp.com/courses/bayesian-modeling-with-rjags\n",
            "--------------------------------------------------\n"
          ]
        },
        {
          "name": "stderr",
          "output_type": "stream",
          "text": [
            "Page 19 Progress:  57%|█████▋    | 17/30 [00:55<00:46,  3.60s/course, Course=Introduction to Data Visualiza...]"
          ]
        },
        {
          "name": "stdout",
          "output_type": "stream",
          "text": [
            "\n",
            "Course: Introduction to Data Visualization with Julia\n",
            "URL: https://www.datacamp.com/courses/introduction-to-data-visualization-with-julia\n",
            "--------------------------------------------------\n"
          ]
        },
        {
          "name": "stderr",
          "output_type": "stream",
          "text": [
            "Page 19 Progress:  60%|██████    | 18/30 [01:00<00:48,  4.02s/course, Course=Data Manipulation in Julia]       "
          ]
        },
        {
          "name": "stdout",
          "output_type": "stream",
          "text": [
            "\n",
            "Course: Data Manipulation in Julia\n",
            "URL: https://www.datacamp.com/courses/data-manipulation-in-julia\n",
            "--------------------------------------------------\n"
          ]
        },
        {
          "name": "stderr",
          "output_type": "stream",
          "text": [
            "Page 19 Progress:  63%|██████▎   | 19/30 [01:04<00:45,  4.09s/course, Course=Building Response Models in R]"
          ]
        },
        {
          "name": "stdout",
          "output_type": "stream",
          "text": [
            "\n",
            "Course: Building Response Models in R\n",
            "URL: https://www.datacamp.com/courses/building-response-models-in-r\n",
            "--------------------------------------------------\n"
          ]
        },
        {
          "name": "stderr",
          "output_type": "stream",
          "text": [
            "Page 19 Progress:  67%|██████▋   | 20/30 [01:08<00:40,  4.10s/course, Course=Defensive R Programming]      "
          ]
        },
        {
          "name": "stdout",
          "output_type": "stream",
          "text": [
            "\n",
            "Course: Defensive R Programming\n",
            "URL: https://www.datacamp.com/courses/defensive-r-programming\n",
            "--------------------------------------------------\n"
          ]
        },
        {
          "name": "stderr",
          "output_type": "stream",
          "text": [
            "Page 19 Progress:  70%|███████   | 21/30 [01:13<00:38,  4.30s/course, Course=Introduction to Anomaly Detect...]"
          ]
        },
        {
          "name": "stdout",
          "output_type": "stream",
          "text": [
            "\n",
            "Course: Introduction to Anomaly Detection in R\n",
            "URL: https://www.datacamp.com/courses/introduction-to-anomaly-detection-in-r\n",
            "--------------------------------------------------\n"
          ]
        },
        {
          "name": "stderr",
          "output_type": "stream",
          "text": [
            "Page 19 Progress:  73%|███████▎  | 22/30 [01:17<00:34,  4.25s/course, Course=Intermediate Regular Expressio...]"
          ]
        },
        {
          "name": "stdout",
          "output_type": "stream",
          "text": [
            "\n",
            "Course: Intermediate Regular Expressions in R\n",
            "URL: https://www.datacamp.com/courses/intermediate-regular-expressions-in-r\n",
            "--------------------------------------------------\n"
          ]
        },
        {
          "name": "stderr",
          "output_type": "stream",
          "text": [
            "Page 19 Progress:  77%|███████▋  | 23/30 [01:22<00:30,  4.38s/course, Course=Input/Output and Streams in Ja...]"
          ]
        },
        {
          "name": "stdout",
          "output_type": "stream",
          "text": [
            "\n",
            "Course: Input/Output and Streams in Java\n",
            "URL: https://www.datacamp.com/courses/inputoutput-and-streams-in-java\n",
            "--------------------------------------------------\n"
          ]
        },
        {
          "name": "stderr",
          "output_type": "stream",
          "text": [
            "Page 19 Progress:  80%|████████  | 24/30 [01:24<00:22,  3.68s/course, Course=Mixture Models in R]              "
          ]
        },
        {
          "name": "stdout",
          "output_type": "stream",
          "text": [
            "\n",
            "Course: Mixture Models in R\n",
            "URL: https://www.datacamp.com/courses/mixture-models-in-r\n",
            "--------------------------------------------------\n"
          ]
        },
        {
          "name": "stderr",
          "output_type": "stream",
          "text": [
            "Page 19 Progress:  83%|████████▎ | 25/30 [01:26<00:16,  3.21s/course, Course=Scalable Data Processing in R]"
          ]
        },
        {
          "name": "stdout",
          "output_type": "stream",
          "text": [
            "\n",
            "Course: Scalable Data Processing in R\n",
            "URL: https://www.datacamp.com/courses/scalable-data-processing-in-r\n",
            "--------------------------------------------------\n"
          ]
        },
        {
          "name": "stderr",
          "output_type": "stream",
          "text": [
            "Page 19 Progress:  87%|████████▋ | 26/30 [01:30<00:13,  3.39s/course, Course=Intermediate Functional Progra...]"
          ]
        },
        {
          "name": "stdout",
          "output_type": "stream",
          "text": [
            "\n",
            "Course: Intermediate Functional Programming with purrr\n",
            "URL: https://www.datacamp.com/courses/intermediate-functional-programming-with-purrr\n",
            "--------------------------------------------------\n"
          ]
        },
        {
          "name": "stderr",
          "output_type": "stream",
          "text": [
            "Page 19 Progress:  90%|█████████ | 27/30 [01:32<00:09,  3.13s/course, Course=Predicting CTR with Machine Le...]"
          ]
        },
        {
          "name": "stdout",
          "output_type": "stream",
          "text": [
            "\n",
            "Course: Predicting CTR with Machine Learning in Python\n",
            "URL: https://www.datacamp.com/courses/predicting-ctr-with-machine-learning-in-python\n",
            "--------------------------------------------------\n"
          ]
        },
        {
          "name": "stderr",
          "output_type": "stream",
          "text": [
            "Page 19 Progress:  93%|█████████▎| 28/30 [01:36<00:06,  3.18s/course, Course=Optimizing R Code with Rcpp]      "
          ]
        },
        {
          "name": "stdout",
          "output_type": "stream",
          "text": [
            "\n",
            "Course: Optimizing R Code with Rcpp\n",
            "URL: https://www.datacamp.com/courses/optimizing-r-code-with-rcpp\n",
            "--------------------------------------------------\n"
          ]
        },
        {
          "name": "stderr",
          "output_type": "stream",
          "text": [
            "Page 19 Progress:  97%|█████████▋| 29/30 [01:41<00:03,  3.68s/course, Course=GDPR in Practice: Compliance a...]"
          ]
        },
        {
          "name": "stdout",
          "output_type": "stream",
          "text": [
            "\n",
            "Course: GDPR in Practice: Compliance and Fines\n",
            "URL: https://www.datacamp.com/courses/gdpr-in-practice-compliance-and-fines\n",
            "--------------------------------------------------\n"
          ]
        },
        {
          "name": "stderr",
          "output_type": "stream",
          "text": [
            "Page 19 Progress: 100%|██████████| 30/30 [01:43<00:00,  3.46s/course, Course=GDPR in Practice: Compliance a...]\n"
          ]
        },
        {
          "name": "stdout",
          "output_type": "stream",
          "text": [
            "\n",
            "Crawling page 20: https://www.datacamp.com/courses-all/page/20\n",
            "Found 2 courses on page 20\n"
          ]
        },
        {
          "name": "stderr",
          "output_type": "stream",
          "text": [
            "Page 20 Progress:   0%|          | 0/2 [00:00<?, ?course/s, Course=Scalable AI Models with PyTorc...]"
          ]
        },
        {
          "name": "stdout",
          "output_type": "stream",
          "text": [
            "\n",
            "Course: Scalable AI Models with PyTorch Lightning\n",
            "URL: https://www.datacamp.com/courses/scalable-ai-models-with-pytorch-lightning\n",
            "--------------------------------------------------\n"
          ]
        },
        {
          "name": "stderr",
          "output_type": "stream",
          "text": [
            "Page 20 Progress:  50%|█████     | 1/2 [00:04<00:04,  4.75s/course, Course=Introduction to Sigma]            "
          ]
        },
        {
          "name": "stdout",
          "output_type": "stream",
          "text": [
            "\n",
            "Course: Introduction to Sigma\n",
            "URL: https://www.datacamp.com/courses/introduction-to-sigma\n",
            "--------------------------------------------------\n"
          ]
        },
        {
          "name": "stderr",
          "output_type": "stream",
          "text": [
            "Page 20 Progress: 100%|██████████| 2/2 [00:07<00:00,  3.52s/course, Course=Introduction to Sigma]\n"
          ]
        },
        {
          "name": "stdout",
          "output_type": "stream",
          "text": [
            "\n",
            "Crawling complete. Results saved to datacamp_courses.csv\n"
          ]
        }
      ],
      "source": [
        "# Main execution\n",
        "output_file = \"datacamp_courses.csv\"\n",
        "max_pages = 20\n",
        "\n",
        "# Initialize CSV\n",
        "with open(output_file, 'w', encoding='utf-8', newline='') as f:\n",
        "    csv_writer = csv.writer(f)\n",
        "    csv_writer.writerow([\"Course Name\", \"Course URL\", \"Detailed Description\"])\n",
        "\n",
        "driver = setup_driver()\n",
        "try:\n",
        "    page_num = 1\n",
        "    while page_num <= max_pages:\n",
        "        with open(output_file, 'a', encoding='utf-8', newline='') as f:\n",
        "            csv_writer = csv.writer(f)\n",
        "            success, driver = crawl_course_links(page_num, csv_writer, driver)  # nhận lại driver\n",
        "        if not success:\n",
        "            print(f\"Finished crawling after page {page_num}\")\n",
        "            break\n",
        "        page_num += 1\n",
        "        time.sleep(random.uniform(5, 10))\n",
        "\n",
        "finally:\n",
        "    driver.quit()\n",
        "\n",
        "print(f\"\\nCrawling complete. Results saved to {output_file}\")"
      ]
    },
    {
      "cell_type": "code",
      "execution_count": 13,
      "id": "a4f5207e",
      "metadata": {},
      "outputs": [
        {
          "name": "stdout",
          "output_type": "stream",
          "text": [
            "Loaded 572 courses from CSV.\n"
          ]
        },
        {
          "name": "stderr",
          "output_type": "stream",
          "text": [
            "Fetching Descriptions:   0%|          | 0/572 [00:00<?, ?course/s, Course=Introduction to Python]"
          ]
        },
        {
          "name": "stdout",
          "output_type": "stream",
          "text": [
            "\n",
            "[✔] Introduction to Python:\n",
            "An Introduction to Python | Python has grown to become the market leader in programming languages and the language of choice for data analysts and data scientists. Demand for data skills is rising bec...\n",
            "\n"
          ]
        },
        {
          "name": "stderr",
          "output_type": "stream",
          "text": [
            "Fetching Descriptions:   0%|          | 1/572 [00:20<3:16:02, 20.60s/course, Course=Introduction to SQL]   "
          ]
        },
        {
          "name": "stdout",
          "output_type": "stream",
          "text": [
            "\n",
            "[✔] Introduction to SQL:\n",
            "Get an Introduction to SQL in Two Hours | Much of the world's raw data—from electronic medical records to customer transaction histories—lives in organized collections of tables called relational data...\n",
            "\n"
          ]
        },
        {
          "name": "stderr",
          "output_type": "stream",
          "text": [
            "Fetching Descriptions:   0%|          | 2/572 [00:42<3:23:12, 21.39s/course, Course=Understanding Artificial Intel...]"
          ]
        },
        {
          "name": "stdout",
          "output_type": "stream",
          "text": [
            "\n",
            "[✔] Understanding Artificial Intelligence:\n",
            "Explore the basics of Artificial Intelligence | AI is transforming our economy, media, industries, and society. Designed for beginners with no coding knowledge required, gain a straightforward introdu...\n",
            "\n"
          ]
        },
        {
          "name": "stderr",
          "output_type": "stream",
          "text": [
            "Fetching Descriptions:   1%|          | 3/572 [01:04<3:26:04, 21.73s/course, Course=Introduction to Power BI]         "
          ]
        },
        {
          "name": "stdout",
          "output_type": "stream",
          "text": [
            "\n",
            "[✔] Introduction to Power BI:\n",
            "A Thorough Introduction to Power BI | In this 3-hour course, you’ll gain a 360° overview of the Power BI basics and learn how to use the tool to build impactful reports. In this course, you’ll go from...\n",
            "\n"
          ]
        },
        {
          "name": "stderr",
          "output_type": "stream",
          "text": [
            "Fetching Descriptions:   1%|          | 4/572 [01:23<3:15:43, 20.67s/course, Course=Introduction to R]       "
          ]
        },
        {
          "name": "stdout",
          "output_type": "stream",
          "text": [
            "\n",
            "[✔] Introduction to R:\n",
            "Learn R Programming | R programming language is a useful tool for data scientists, analysts, and statisticians, especially those working in academic settings. R's ability to handle complex analyses su...\n",
            "\n"
          ]
        },
        {
          "name": "stderr",
          "output_type": "stream",
          "text": [
            "Fetching Descriptions:   1%|          | 5/572 [02:02<4:15:48, 27.07s/course, Course=Intermediate SQL] "
          ]
        },
        {
          "name": "stdout",
          "output_type": "stream",
          "text": [
            "\n",
            "[✔] Intermediate SQL:\n",
            "SQL is widely recognized as the most popular language for turning raw data stored in a database into actionable insights. This course uses a films database to teach how to navigate and extract insight...\n",
            "\n"
          ]
        },
        {
          "name": "stderr",
          "output_type": "stream",
          "text": [
            "Fetching Descriptions:   1%|          | 6/572 [02:23<3:56:25, 25.06s/course, Course=Understanding Data Science]"
          ]
        },
        {
          "name": "stdout",
          "output_type": "stream",
          "text": [
            "\n",
            "[✔] Understanding Data Science:\n",
            "What is data science, why is it so popular, and why did the Harvard Business Review hail it as the “sexiest job of the 21st century”? In this non-technical course, you’ll be introduced to everything y...\n",
            "\n"
          ]
        },
        {
          "name": "stderr",
          "output_type": "stream",
          "text": [
            "Fetching Descriptions:   1%|          | 7/572 [02:43<3:42:18, 23.61s/course, Course=Intermediate Python]       "
          ]
        },
        {
          "name": "stdout",
          "output_type": "stream",
          "text": [
            "\n",
            "[✔] Intermediate Python:\n",
            "Improve Your Python Skills | Learning Python is crucial for any aspiring data science practitioner. Learn to visualize real data with Matplotlib’s functions and get acquainted with data structures suc...\n",
            "\n"
          ]
        },
        {
          "name": "stderr",
          "output_type": "stream",
          "text": [
            "Fetching Descriptions:   1%|▏         | 8/572 [03:05<3:35:19, 22.91s/course, Course=Joining Data in SQL]"
          ]
        },
        {
          "name": "stdout",
          "output_type": "stream",
          "text": [
            "\n",
            "[✔] Joining Data in SQL:\n",
            "Joining data is an essential skill in data analysis, enabling you to draw information from separate tables together into a single, meaningful set of results. In this comprehensive course on joining da...\n",
            "\n"
          ]
        },
        {
          "name": "stderr",
          "output_type": "stream",
          "text": [
            "Fetching Descriptions:   2%|▏         | 9/572 [03:26<3:29:47, 22.36s/course, Course=Introduction to Excel]"
          ]
        },
        {
          "name": "stdout",
          "output_type": "stream",
          "text": [
            "\n",
            "[✔] Introduction to Excel:\n",
            "Getting started with Excel | In this Excel course, you’ll learn the fundamentals needed to have you analyzing data in spreadsheets before you know it. This course focuses on helping you navigate Excel...\n",
            "\n"
          ]
        },
        {
          "name": "stderr",
          "output_type": "stream",
          "text": [
            "Fetching Descriptions:   2%|▏         | 10/572 [03:48<3:28:33, 22.27s/course, Course=Data Manipulation with pandas]"
          ]
        },
        {
          "name": "stdout",
          "output_type": "stream",
          "text": [
            "\n",
            "[✔] Data Manipulation with pandas:\n",
            "Discover Data Manipulation with pandas | With this course, you’ll learn why pandas is the world's most popular Python library, used for everything from data manipulation to data analysis. You’ll explo...\n",
            "\n"
          ]
        },
        {
          "name": "stderr",
          "output_type": "stream",
          "text": [
            "Fetching Descriptions:   2%|▏         | 11/572 [04:08<3:22:07, 21.62s/course, Course=Supervised Learning with sciki...]"
          ]
        },
        {
          "name": "stdout",
          "output_type": "stream",
          "text": [
            "\n",
            "[✔] Supervised Learning with scikit-learn:\n",
            "Grow your machine learning skills with scikit-learn and discover how to use this popular Python library to train models using labeled data. In this course, you'll learn how to make powerful prediction...\n",
            "\n"
          ]
        },
        {
          "name": "stderr",
          "output_type": "stream",
          "text": [
            "Fetching Descriptions:   2%|▏         | 12/572 [04:29<3:19:43, 21.40s/course, Course=Understanding Cloud Computing]    "
          ]
        },
        {
          "name": "stdout",
          "output_type": "stream",
          "text": [
            "\n",
            "[✔] Understanding Cloud Computing:\n",
            "Learn About Cloud Computing | Every day, we interact with the cloud—whether it’s using Google Drive, apps like Salesforce, or accessing our favorite websites. Cloud computing has become the norm for m...\n",
            "\n"
          ]
        },
        {
          "name": "stderr",
          "output_type": "stream",
          "text": [
            "Fetching Descriptions:   2%|▏         | 13/572 [04:49<3:14:48, 20.91s/course, Course=Understanding ChatGPT]        "
          ]
        },
        {
          "name": "stdout",
          "output_type": "stream",
          "text": [
            "\n",
            "[✔] Understanding ChatGPT:\n",
            "An Introduction to ChatGPT | ChatGPT, by OpenAI, is a conversational language model that has gripped headlines worldwide, placing the power of AI at your fingertips. In this course, you’ll learn every...\n",
            "\n"
          ]
        },
        {
          "name": "stderr",
          "output_type": "stream",
          "text": [
            "Fetching Descriptions:   2%|▏         | 14/572 [05:10<3:13:56, 20.85s/course, Course=Introduction to Data Literacy]"
          ]
        },
        {
          "name": "stdout",
          "output_type": "stream",
          "text": [
            "\n",
            "[✔] Introduction to Data Literacy:\n",
            "Explore the Basics of Data Literacy | Data is all around us, which makes data literacy an essential life skill. It is a skill that empowers you to ask the right questions about data and choose the rig...\n",
            "\n"
          ]
        },
        {
          "name": "stderr",
          "output_type": "stream",
          "text": [
            "Fetching Descriptions:   3%|▎         | 15/572 [05:49<4:05:32, 26.45s/course, Course=Introduction to ChatGPT]      "
          ]
        },
        {
          "name": "stdout",
          "output_type": "stream",
          "text": [
            "\n",
            "[✔] Introduction to ChatGPT:\n",
            "ChatGPT is an incredibly powerful tool - but only if you know how to use it effectively. This course features an AI Assistant that provides real-time support, feedback, and scoring to help refine your...\n",
            "\n"
          ]
        },
        {
          "name": "stderr",
          "output_type": "stream",
          "text": [
            "Fetching Descriptions:   3%|▎         | 16/572 [06:10<3:49:21, 24.75s/course, Course=Introduction to Python for Dev...]"
          ]
        },
        {
          "name": "stdout",
          "output_type": "stream",
          "text": [
            "\n",
            "[✔] Introduction to Python for Developers:\n",
            "What is Python and why use it? | Learn all about Python a versatile and powerful language, perfect for software development. No prior experience required! | Learn the fundamentals | Perform calculatio...\n",
            "\n"
          ]
        },
        {
          "name": "stderr",
          "output_type": "stream",
          "text": [
            "Fetching Descriptions:   3%|▎         | 17/572 [06:30<3:36:36, 23.42s/course, Course=Understanding Data Engineering]   "
          ]
        },
        {
          "name": "stdout",
          "output_type": "stream",
          "text": [
            "\n",
            "[✔] Understanding Data Engineering:\n",
            "Understand the Basics of Data Engineering | In this course, you’ll learn about a data engineer’s core responsibilities, how they differ from data scientists, and facilitate the flow of data through an...\n",
            "\n"
          ]
        },
        {
          "name": "stderr",
          "output_type": "stream",
          "text": [
            "Fetching Descriptions:   3%|▎         | 18/572 [06:50<3:25:29, 22.26s/course, Course=Understanding Prompt Engineeri...]"
          ]
        },
        {
          "name": "stdout",
          "output_type": "stream",
          "text": [
            "\n",
            "[✔] Understanding Prompt Engineering:\n",
            "Master ChatGPT: Revolutionize your workflow | Learn how ChatGPT, the world’s groundbreaking language model, can transform your workflow. Designed for beginners, you’ll gain essential prompt engineerin...\n",
            "\n"
          ]
        },
        {
          "name": "stderr",
          "output_type": "stream",
          "text": [
            "Fetching Descriptions:   3%|▎         | 19/572 [07:10<3:18:38, 21.55s/course, Course=Introduction to Data]             "
          ]
        },
        {
          "name": "stdout",
          "output_type": "stream",
          "text": [
            "\n",
            "[✔] Introduction to Data:\n",
            "Gain an Introduction to Data | In this course, you'll dive into the exciting and growing world of data and learn how to use it to make smart decisions as it becomes increasingly important to know at l...\n",
            "\n"
          ]
        },
        {
          "name": "stderr",
          "output_type": "stream",
          "text": [
            "Fetching Descriptions:   3%|▎         | 20/572 [07:31<3:17:14, 21.44s/course, Course=Data Manipulation in SQL]"
          ]
        },
        {
          "name": "stdout",
          "output_type": "stream",
          "text": [
            "\n",
            "[✔] Data Manipulation in SQL:\n",
            "So you've learned how to aggregate and join data from tables in your database—now what? How do you manipulate, transform, and make the most sense of your data? This intermediate-level course will teac...\n",
            "\n"
          ]
        },
        {
          "name": "stderr",
          "output_type": "stream",
          "text": [
            "Fetching Descriptions:   4%|▎         | 21/572 [07:53<3:20:06, 21.79s/course, Course=Introduction to DAX in Power B...]"
          ]
        },
        {
          "name": "stdout",
          "output_type": "stream",
          "text": [
            "\n",
            "[✔] Introduction to DAX in Power BI:\n",
            "Learn the DAX Fundamentals | Start your journey to becoming a DAX master with this introductory course on DAX. You’ll learn fundamental concepts and best practices for implementing DAX in your reports...\n",
            "\n"
          ]
        },
        {
          "name": "stderr",
          "output_type": "stream",
          "text": [
            "Fetching Descriptions:   4%|▍         | 22/572 [08:37<4:18:30, 28.20s/course, Course=Introduction to Tableau]          "
          ]
        },
        {
          "name": "stdout",
          "output_type": "stream",
          "text": [
            "\n",
            "[✔] Introduction to Tableau:\n",
            "Gain a Comprehensive Introduction to Tableau | Tableau is a widely used BI and analytics software trusted by companies like Amazon and Unilever to explore, create, and securely share contextualized da...\n",
            "\n"
          ]
        },
        {
          "name": "stderr",
          "output_type": "stream",
          "text": [
            "Fetching Descriptions:   4%|▍         | 23/572 [08:58<3:59:43, 26.20s/course, Course=Data Analysis in Excel] "
          ]
        },
        {
          "name": "stdout",
          "output_type": "stream",
          "text": [
            "\n",
            "[✔] Data Analysis in Excel:\n",
            "Exploring PivotTables | You will learn how to extract valuable insights and uncover secrets hidden within your data using the power of PivotTables. Additionally, you’ll learn how to use keyboard short...\n",
            "\n"
          ]
        },
        {
          "name": "stderr",
          "output_type": "stream",
          "text": [
            "Fetching Descriptions:   4%|▍         | 24/572 [09:17<3:39:54, 24.08s/course, Course=Understanding Data Visualizati...]"
          ]
        },
        {
          "name": "stdout",
          "output_type": "stream",
          "text": [
            "\n",
            "[✔] Understanding Data Visualization:\n",
            "Visualizing data using charts, graphs, and maps is one of the most impactful ways to communicate complex data. In this course, you’ll learn how to choose the best visualization for your dataset, and h...\n",
            "\n"
          ]
        },
        {
          "name": "stderr",
          "output_type": "stream",
          "text": [
            "Fetching Descriptions:   4%|▍         | 25/572 [09:37<3:28:41, 22.89s/course, Course=Data Visualization in Power BI]   "
          ]
        },
        {
          "name": "stdout",
          "output_type": "stream",
          "text": [
            "\n",
            "[✔] Data Visualization in Power BI:\n",
            "Create Insightful Visualizations | Power BI has extraordinary visuals that can be used in reports and dashboards. In this Power BI course, you’ll learn to create insightful visualizations through buil...\n",
            "\n"
          ]
        },
        {
          "name": "stderr",
          "output_type": "stream",
          "text": [
            "Fetching Descriptions:   5%|▍         | 26/572 [09:56<3:16:56, 21.64s/course, Course=Introduction to Statistics in ...]"
          ]
        },
        {
          "name": "stdout",
          "output_type": "stream",
          "text": [
            "\n",
            "[✔] Introduction to Statistics in Python:\n",
            "Statistics is the study of how to collect, analyze, and draw conclusions from data. It’s a hugely valuable tool that you can use to bring the future into focus and infer the answer to tons of question...\n",
            "\n"
          ]
        },
        {
          "name": "stderr",
          "output_type": "stream",
          "text": [
            "Fetching Descriptions:   5%|▍         | 27/572 [10:18<3:17:35, 21.75s/course, Course=Introduction to Git]              "
          ]
        },
        {
          "name": "stdout",
          "output_type": "stream",
          "text": [
            "\n",
            "[✔] Introduction to Git:\n",
            "Discover the fundamentals of version control with Git | This course introduces the concept of version control and highlights its benefits for software and data projects. You'll learn about Git, the po...\n",
            "\n"
          ]
        },
        {
          "name": "stderr",
          "output_type": "stream",
          "text": [
            "Fetching Descriptions:   5%|▍         | 28/572 [10:41<3:21:02, 22.17s/course, Course=Working with the OpenAI API]"
          ]
        },
        {
          "name": "stdout",
          "output_type": "stream",
          "text": [
            "\n",
            "[✔] Working with the OpenAI API:\n",
            "Discover How to Access AI Models from the OpenAI API | Over recent years, OpenAI has emerged as a market leader in creating AI models, such as GPT-4o, and releasing them to the wider community through...\n",
            "\n"
          ]
        },
        {
          "name": "stderr",
          "output_type": "stream",
          "text": [
            "Fetching Descriptions:   5%|▌         | 29/572 [11:00<3:10:17, 21.03s/course, Course=Understanding Machine Learning]"
          ]
        },
        {
          "name": "stdout",
          "output_type": "stream",
          "text": [
            "\n",
            "[✔] Understanding Machine Learning:\n",
            "Gain an Introduction to Machine Learning Concepts | What's behind the machine learning hype? In this non-technical course, you’ll learn everything you’ve been too afraid to ask about machine learning....\n",
            "\n"
          ]
        },
        {
          "name": "stderr",
          "output_type": "stream",
          "text": [
            "Fetching Descriptions:   5%|▌         | 30/572 [11:49<4:27:12, 29.58s/course, Course=Introduction to Statistics]    "
          ]
        },
        {
          "name": "stdout",
          "output_type": "stream",
          "text": [
            "\n",
            "[✔] Introduction to Statistics:\n",
            "Statistics are all around us, from marketing to sales to healthcare. The ability to collect, analyze, and draw conclusions from data is not only extremely valuable, but it is also becoming commonplace...\n",
            "\n"
          ]
        },
        {
          "name": "stderr",
          "output_type": "stream",
          "text": [
            "Fetching Descriptions:   5%|▌         | 31/572 [12:10<4:03:19, 26.99s/course, Course=Joining Data with pandas]  "
          ]
        },
        {
          "name": "stdout",
          "output_type": "stream",
          "text": [
            "\n",
            "[✔] Joining Data with pandas:\n",
            "Being able to combine and work with multiple datasets is an essential skill for any aspiring Data Scientist. pandas is a crucial cornerstone of the Python data science ecosystem, with Stack Overflow r...\n",
            "\n"
          ]
        },
        {
          "name": "stderr",
          "output_type": "stream",
          "text": [
            "Fetching Descriptions:   6%|▌         | 32/572 [12:31<3:46:18, 25.15s/course, Course=Communicating Data Insights]"
          ]
        },
        {
          "name": "stdout",
          "output_type": "stream",
          "text": [
            "\n",
            "[✔] Communicating Data Insights:\n",
            "Understand the Importance of Data-driven Insights | Data-driven organizations consistently rely on insights to inspire action and drive change. Communicating these insights clearly and effectively is ...\n",
            "\n"
          ]
        },
        {
          "name": "stderr",
          "output_type": "stream",
          "text": [
            "Fetching Descriptions:   6%|▌         | 33/572 [12:51<3:32:44, 23.68s/course, Course=Exploratory Data Analysis in S...]"
          ]
        },
        {
          "name": "stdout",
          "output_type": "stream",
          "text": [
            "\n",
            "[✔] Exploratory Data Analysis in SQL:\n",
            "You have access to a database. Now what do you do? Building on your existing skills joining tables,  using basic functions, grouping data, and using subqueries, the next step in your SQL journey is  l...\n",
            "\n"
          ]
        },
        {
          "name": "stderr",
          "output_type": "stream",
          "text": [
            "Fetching Descriptions:   6%|▌         | 34/572 [13:12<3:24:22, 22.79s/course, Course=Exploratory Data Analysis in P...]"
          ]
        },
        {
          "name": "stdout",
          "output_type": "stream",
          "text": [
            "\n",
            "[✔] Exploratory Data Analysis in Python:\n",
            "So you’ve got some interesting data - where do you begin your analysis? This course will cover the process of exploring and analyzing data, from understanding what’s included in a dataset to incorpora...\n",
            "\n"
          ]
        },
        {
          "name": "stderr",
          "output_type": "stream",
          "text": [
            "Fetching Descriptions:   6%|▌         | 35/572 [13:32<3:17:04, 22.02s/course, Course=AI Ethics]                        "
          ]
        },
        {
          "name": "stdout",
          "output_type": "stream",
          "text": [
            "\n",
            "[✔] AI Ethics:\n",
            "Get an Overview of AI Ethics | This introductory course on AI ethics provides a comprehensive overview of ethical considerations in the fast-paced domain of artificial intelligence. The course spans i...\n",
            "\n"
          ]
        },
        {
          "name": "stderr",
          "output_type": "stream",
          "text": [
            "Fetching Descriptions:   6%|▋         | 36/572 [13:54<3:15:15, 21.86s/course, Course=Introduction to Deep Learning ...]"
          ]
        },
        {
          "name": "stdout",
          "output_type": "stream",
          "text": [
            "\n",
            "[✔] Introduction to Deep Learning with PyTorch:\n",
            "Understanding the power of Deep Learning | Deep learning is everywhere: in smartphone cameras, voice assistants, and self-driving cars. It has even helped discover protein structures and beat humans a...\n",
            "\n"
          ]
        },
        {
          "name": "stderr",
          "output_type": "stream",
          "text": [
            "Fetching Descriptions:   6%|▋         | 37/572 [14:35<4:06:27, 27.64s/course, Course=Database Design]                  "
          ]
        },
        {
          "name": "stdout",
          "output_type": "stream",
          "text": [
            "\n",
            "[✔] Database Design:\n",
            "A good database design is crucial for a high-performance application. Just like you wouldn't start building a house without the benefit of a blueprint, you need to think about how your data will be st...\n",
            "\n"
          ]
        },
        {
          "name": "stderr",
          "output_type": "stream",
          "text": [
            "Fetching Descriptions:   7%|▋         | 38/572 [15:17<4:44:05, 31.92s/course, Course=Case Study: Analyzing Customer...]"
          ]
        },
        {
          "name": "stdout",
          "output_type": "stream",
          "text": [
            "\n",
            "[✔] Case Study: Analyzing Customer Churn in Power BI:\n",
            "Are you ready to apply your Power BI skills to a real-world dataset? | Apply your Power BI skills with a Case Study | For subscription-based businesses, reducing customer churn is a top priority. In t...\n",
            "\n"
          ]
        },
        {
          "name": "stderr",
          "output_type": "stream",
          "text": [
            "Fetching Descriptions:   7%|▋         | 39/572 [15:38<4:15:25, 28.75s/course, Course=Generative AI Concepts]           "
          ]
        },
        {
          "name": "stdout",
          "output_type": "stream",
          "text": [
            "\n",
            "[✔] Generative AI Concepts:\n",
            "Get Acquainted with Generative AI | Artificial Intelligence is reshaping our world like never before. Generative AI is a type of AI model that can create new content, from text to images and more. In ...\n",
            "\n"
          ]
        },
        {
          "name": "stderr",
          "output_type": "stream",
          "text": [
            "Fetching Descriptions:   7%|▋         | 40/572 [15:58<3:51:09, 26.07s/course, Course=Large Language Models (LLMs) C...]"
          ]
        },
        {
          "name": "stdout",
          "output_type": "stream",
          "text": [
            "\n",
            "[✔] Large Language Models (LLMs) Concepts:\n",
            "Discover Large Language Models | In this course, you’ll journey through the world of Large Language Models (LLMs) and discover how they are reshaping the AI landscape. You’ll explore the factors fueli...\n",
            "\n"
          ]
        },
        {
          "name": "stderr",
          "output_type": "stream",
          "text": [
            "Fetching Descriptions:   7%|▋         | 41/572 [16:21<3:42:32, 25.15s/course, Course=Data Preparation in Excel]        "
          ]
        },
        {
          "name": "stdout",
          "output_type": "stream",
          "text": [
            "\n",
            "[✔] Data Preparation in Excel:\n",
            "Starting data preparation in Excel | In this course, you’ll learn how to prepare and clean raw data in Excel worksheets. This course focuses on helping you utilize the numerous features in Excel that ...\n",
            "\n"
          ]
        },
        {
          "name": "stderr",
          "output_type": "stream",
          "text": [
            "Fetching Descriptions:   7%|▋         | 42/572 [16:43<3:34:48, 24.32s/course, Course=Data Preparation in Power BI]"
          ]
        },
        {
          "name": "stdout",
          "output_type": "stream",
          "text": [
            "\n",
            "[✔] Data Preparation in Power BI:\n",
            "Learn How to Use Power Query Editor | Transform and shape your data in Power BI. In just 3 hours, you’ll cover essential data preparation steps, previewing data in power query, and transformations. | ...\n",
            "\n"
          ]
        },
        {
          "name": "stderr",
          "output_type": "stream",
          "text": [
            "Fetching Descriptions:   8%|▊         | 43/572 [17:05<3:27:50, 23.57s/course, Course=Introduction to the Tidyverse]"
          ]
        },
        {
          "name": "stdout",
          "output_type": "stream",
          "text": [
            "\n",
            "[✔] Introduction to the Tidyverse:\n",
            "This is an introduction to the programming language R, focused on a powerful set of tools known as the Tidyverse. You'll learn the intertwined processes of data manipulation and visualization using th...\n",
            "\n"
          ]
        },
        {
          "name": "stderr",
          "output_type": "stream",
          "text": [
            "Fetching Descriptions:   8%|▊         | 44/572 [17:25<3:16:57, 22.38s/course, Course=Intermediate R]               "
          ]
        },
        {
          "name": "stdout",
          "output_type": "stream",
          "text": [
            "\n",
            "[✔] Intermediate R:\n",
            "Intermediate R is the next stop on your journey in mastering the R programming language. In this R training, you will learn about conditional statements, loops, and functions to power your own R scrip...\n",
            "\n"
          ]
        },
        {
          "name": "stderr",
          "output_type": "stream",
          "text": [
            "Fetching Descriptions:   8%|▊         | 45/572 [17:48<3:18:37, 22.61s/course, Course=Introduction to Data Visualiza...]"
          ]
        },
        {
          "name": "stdout",
          "output_type": "stream",
          "text": [
            "\n",
            "[✔] Introduction to Data Visualization with Matplotlib:\n",
            "Visualizing data in plots and figures exposes the underlying patterns in the data and provides insights. Good visualizations also help you communicate your data to others, and are useful to data analy...\n",
            "\n"
          ]
        },
        {
          "name": "stderr",
          "output_type": "stream",
          "text": [
            "Fetching Descriptions:   8%|▊         | 46/572 [18:08<3:12:28, 21.95s/course, Course=Data Modeling in Power BI]        "
          ]
        },
        {
          "name": "stdout",
          "output_type": "stream",
          "text": [
            "\n",
            "[✔] Data Modeling in Power BI:\n",
            "Foundations of Data Modelling | Proper data modeling is the foundation of data analysis and creating reports in Power BI. This course lets you explore a toolbox of data cleaning, shaping, and loading ...\n",
            "\n"
          ]
        },
        {
          "name": "stderr",
          "output_type": "stream",
          "text": [
            "Fetching Descriptions:   8%|▊         | 47/572 [18:28<3:06:46, 21.35s/course, Course=Introduction to Data Visualiza...]"
          ]
        },
        {
          "name": "stdout",
          "output_type": "stream",
          "text": [
            "\n",
            "[✔] Introduction to Data Visualization with Seaborn:\n",
            "Create Your Own Seaborn Plots | Seaborn is a powerful Python library that makes it easy to create informative   and attractive data visualizations. This 4-hour course provides an   introduction to how...\n",
            "\n"
          ]
        },
        {
          "name": "stderr",
          "output_type": "stream",
          "text": [
            "Fetching Descriptions:   8%|▊         | 48/572 [19:11<4:01:47, 27.69s/course, Course=Introduction to Relational Dat...]"
          ]
        },
        {
          "name": "stdout",
          "output_type": "stream",
          "text": [
            "\n",
            "[✔] Introduction to Relational Databases in SQL:\n",
            "Explore the Role of SQL in Relational Database Management | There are a lot of reasons why SQL is the go-to query language for relational database management. The main one is that SQL is a powerful la...\n",
            "\n"
          ]
        },
        {
          "name": "stderr",
          "output_type": "stream",
          "text": [
            "Fetching Descriptions:   9%|▊         | 49/572 [19:31<3:41:04, 25.36s/course, Course=PostgreSQL Summary Stats and W...]"
          ]
        },
        {
          "name": "stdout",
          "output_type": "stream",
          "text": [
            "\n",
            "[✔] PostgreSQL Summary Stats and Window Functions:\n",
            "Have you ever wondered how data professionals use SQL to solve real-world business problems, like generating rankings, calculating moving averages and running totals, deduplicating data, or performing...\n",
            "\n"
          ]
        },
        {
          "name": "stderr",
          "output_type": "stream",
          "text": [
            "Fetching Descriptions:   9%|▊         | 50/572 [20:11<4:20:13, 29.91s/course, Course=Introduction to Data Visualiza...]"
          ]
        },
        {
          "name": "stdout",
          "output_type": "stream",
          "text": [
            "\n",
            "[✔] Introduction to Data Visualization with ggplot2:\n",
            "The ability to produce meaningful and beautiful data visualizations is an essential part of your skill set as a data scientist. This course, the first R data visualization tutorial in the series, intr...\n",
            "\n"
          ]
        },
        {
          "name": "stderr",
          "output_type": "stream",
          "text": [
            "Fetching Descriptions:   9%|▉         | 51/572 [20:34<4:01:50, 27.85s/course, Course=Introduction to Functions in P...]"
          ]
        },
        {
          "name": "stdout",
          "output_type": "stream",
          "text": [
            "\n",
            "[✔] Introduction to Functions in Python:\n",
            "It's time to push forward and develop your Python chops even further. Python has tons of fantastic functions and a module ecosystem. However, as a data professional or developer, you'll constantly nee...\n",
            "\n"
          ]
        },
        {
          "name": "stderr",
          "output_type": "stream",
          "text": [
            "Fetching Descriptions:   9%|▉         | 52/572 [20:54<3:39:52, 25.37s/course, Course=Introduction to Importing Data...]"
          ]
        },
        {
          "name": "stdout",
          "output_type": "stream",
          "text": [
            "\n",
            "[✔] Introduction to Importing Data in Python:\n",
            "As a data scientist, you will need to clean data, wrangle and munge it, visualize it, build predictive models, and interpret these models. Before you can do so, however, you will need to know how to g...\n",
            "\n"
          ]
        },
        {
          "name": "stderr",
          "output_type": "stream",
          "text": [
            "Fetching Descriptions:   9%|▉         | 53/572 [21:54<5:09:44, 35.81s/course, Course=Cleaning Data in Python]          "
          ]
        },
        {
          "name": "stdout",
          "output_type": "stream",
          "text": [
            "\n",
            "[✔] Cleaning Data in Python:\n",
            "Discover How to Clean Data in Python | It's commonly said that data scientists spend 80% of their time cleaning and manipulating data and only 20% of their time analyzing it. Data cleaning is an essen...\n",
            "\n"
          ]
        },
        {
          "name": "stderr",
          "output_type": "stream",
          "text": [
            "Fetching Descriptions:   9%|▉         | 54/572 [22:35<5:22:43, 37.38s/course, Course=Intermediate Python for Develo...]"
          ]
        },
        {
          "name": "stdout",
          "output_type": "stream",
          "text": [
            "\n",
            "[✔] Intermediate Python for Developers:\n",
            "Elevate your Python skills to the next level | This course will delve deeper into Python's rich ecosystem, focusing on essential aspects such as built-in functions, modules, and packages. You'll learn...\n",
            "\n"
          ]
        },
        {
          "name": "stderr",
          "output_type": "stream",
          "text": [
            "Fetching Descriptions:  10%|▉         | 55/572 [22:55<4:36:28, 32.09s/course, Course=Introduction to Snowflake]        "
          ]
        },
        {
          "name": "stdout",
          "output_type": "stream",
          "text": [
            "\n",
            "[✔] Introduction to Snowflake:\n",
            "Introduction to Snowflake | In Introduction to Snowflake, you will learn how to navigate and use Snowflake, a leading cloud-based data warehousing platform. This course will guide you through Snowflak...\n",
            "\n"
          ]
        },
        {
          "name": "stderr",
          "output_type": "stream",
          "text": [
            "Fetching Descriptions:  10%|▉         | 56/572 [23:15<4:04:45, 28.46s/course, Course=Python Toolbox]           "
          ]
        },
        {
          "name": "stdout",
          "output_type": "stream",
          "text": [
            "\n",
            "[✔] Python Toolbox:\n",
            "In this Python Toolbox course, you'll continue to build more advanced Python skills. First, you'll learn about iterators, objects you have already encountered in the context of for loops. You'll then ...\n",
            "\n"
          ]
        },
        {
          "name": "stderr",
          "output_type": "stream",
          "text": [
            "Fetching Descriptions:  10%|▉         | 57/572 [23:34<3:39:51, 25.61s/course, Course=Introduction to Microsoft Copi...]"
          ]
        },
        {
          "name": "stdout",
          "output_type": "stream",
          "text": [
            "\n",
            "[✔] Introduction to Microsoft Copilot:\n",
            "Getting Started with Microsoft Copilot | Microsoft Copilot has landed in business. You’ll be introduced to the basics of interacting with Copilot and Copilot for Microsoft 365 apps and see how differe...\n",
            "\n"
          ]
        },
        {
          "name": "stderr",
          "output_type": "stream",
          "text": [
            "Fetching Descriptions:  10%|█         | 58/572 [23:55<3:27:33, 24.23s/course, Course=Introduction to PySpark]          "
          ]
        },
        {
          "name": "stdout",
          "output_type": "stream",
          "text": [
            "\n",
            "[✔] Introduction to PySpark:\n",
            "This course is perfect for data engineers, data scientists, and machine learning practitioners looking to work with large datasets efficiently. Whether you're transitioning from tools like Pandas or d...\n",
            "\n"
          ]
        },
        {
          "name": "stderr",
          "output_type": "stream",
          "text": [
            "Fetching Descriptions:  10%|█         | 59/572 [24:15<3:17:30, 23.10s/course, Course=Writing Efficient Python Code]"
          ]
        },
        {
          "name": "stdout",
          "output_type": "stream",
          "text": [
            "\n",
            "[✔] Writing Efficient Python Code:\n",
            "As a Data Scientist, the majority of your time should be spent gleaning actionable insights from data -- not waiting for your code to finish running. Writing efficient Python code can help reduce runt...\n",
            "\n"
          ]
        },
        {
          "name": "stderr",
          "output_type": "stream",
          "text": [
            "Fetching Descriptions:  10%|█         | 60/572 [24:57<4:05:54, 28.82s/course, Course=Introduction to Statistics in ...]"
          ]
        },
        {
          "name": "stdout",
          "output_type": "stream",
          "text": [
            "\n",
            "[✔] Introduction to Statistics in R:\n",
            "Statistics is the study of how to collect, analyze, and draw conclusions from data. It’s a hugely valuable tool that you can use to bring the future into focus and infer the answer to tons of question...\n",
            "\n"
          ]
        },
        {
          "name": "stderr",
          "output_type": "stream",
          "text": [
            "Fetching Descriptions:  11%|█         | 61/572 [25:20<3:50:29, 27.06s/course, Course=Generative AI for Business]       "
          ]
        },
        {
          "name": "stdout",
          "output_type": "stream",
          "text": [
            "\n",
            "[✔] Generative AI for Business:\n",
            "Introduction to Generative AI | Firstly, you'll learn about generative AI and how it differs from traditional AI. You will dive deeper into the generative AI ecosystem and its key players: universitie...\n",
            "\n"
          ]
        },
        {
          "name": "stderr",
          "output_type": "stream",
          "text": [
            "Fetching Descriptions:  11%|█         | 62/572 [25:49<3:55:22, 27.69s/course, Course=Functions for Manipulating Dat...]"
          ]
        },
        {
          "name": "stdout",
          "output_type": "stream",
          "text": [
            "\n",
            "[✔] Functions for Manipulating Data in PostgreSQL:\n",
            "This course will provide you an understanding of how to use built-in PostgreSQL functions in your SQL queries to manipulate different types of data including strings, character, numeric and date/time....\n",
            "\n"
          ]
        },
        {
          "name": "stderr",
          "output_type": "stream",
          "text": [
            "Fetching Descriptions:  11%|█         | 63/572 [26:11<3:40:26, 25.99s/course, Course=Data Communication Concepts]      "
          ]
        },
        {
          "name": "stdout",
          "output_type": "stream",
          "text": [
            "\n",
            "[✔] Data Communication Concepts:\n",
            "Learn the Basics of Data Communication | You’ve analyzed your data, run your model, and made your predictions. Now, it's time to bring your data to life! Presenting findings to stakeholders so they ca...\n",
            "\n"
          ]
        },
        {
          "name": "stderr",
          "output_type": "stream",
          "text": [
            "Fetching Descriptions:  11%|█         | 64/572 [26:32<3:27:26, 24.50s/course, Course=Introduction to Java]       "
          ]
        },
        {
          "name": "stdout",
          "output_type": "stream",
          "text": [
            "\n",
            "[✔] Introduction to Java:\n",
            "Get Started with Java Programming | Java is one of the most widely used programming languages, powering everything from mobile apps to large-scale enterprise systems. If you are looking to build a str...\n",
            "\n"
          ]
        },
        {
          "name": "stderr",
          "output_type": "stream",
          "text": [
            "Fetching Descriptions:  11%|█▏        | 65/572 [26:55<3:22:06, 23.92s/course, Course=Data Transformation in Power B...]"
          ]
        },
        {
          "name": "stdout",
          "output_type": "stream",
          "text": [
            "\n",
            "[✔] Data Transformation in Power BI:\n",
            "Apply Table Transformations | In this course, you’ll learn all about table transformations in Power BI. You’ll learn how to (un)pivot, transpose, and append tables. | Work with Joins | You’ll also get...\n",
            "\n"
          ]
        },
        {
          "name": "stderr",
          "output_type": "stream",
          "text": [
            "Fetching Descriptions:  12%|█▏        | 66/572 [27:40<4:16:07, 30.37s/course, Course=Unsupervised Learning in Pytho...]"
          ]
        },
        {
          "name": "stdout",
          "output_type": "stream",
          "text": [
            "\n",
            "[✔] Unsupervised Learning in Python:\n",
            "Say you have a collection of customers with a variety of characteristics such as age, location, and financial history, and you wish to discover patterns and sort them into clusters. Or perhaps you hav...\n",
            "\n"
          ]
        },
        {
          "name": "stderr",
          "output_type": "stream",
          "text": [
            "Fetching Descriptions:  12%|█▏        | 67/572 [28:00<3:49:29, 27.27s/course, Course=AWS Concepts]                     "
          ]
        },
        {
          "name": "stdout",
          "output_type": "stream",
          "text": [
            "\n",
            "[✔] AWS Concepts:\n",
            "Unlock the Power of AWS | Ready to dive into the world of cloud computing? This hands-on course will introduce you to Amazon Web Services (AWS), one of the leading cloud platforms businesses use world...\n",
            "\n"
          ]
        },
        {
          "name": "stderr",
          "output_type": "stream",
          "text": [
            "Fetching Descriptions:  12%|█▏        | 68/572 [28:22<3:35:09, 25.61s/course, Course=Introduction to Data Culture]"
          ]
        },
        {
          "name": "stdout",
          "output_type": "stream",
          "text": [
            "\n",
            "[✔] Introduction to Data Culture:\n",
            "Learn how to build a strong data culture | A strong data culture gives a business a competitive edge in almost any industry. | This course equips you with an understanding of the concepts and practica...\n",
            "\n"
          ]
        },
        {
          "name": "stderr",
          "output_type": "stream",
          "text": [
            "Fetching Descriptions:  12%|█▏        | 69/572 [28:41<3:17:27, 23.55s/course, Course=Introduction to Data Science i...]"
          ]
        },
        {
          "name": "stdout",
          "output_type": "stream",
          "text": [
            "\n",
            "[✔] Introduction to Data Science in Python:\n",
            "Begin your journey into Data Science! Even if you've never written a line of code in your life, you'll be able to follow this course and witness the power of Python to perform Data Science. You'll use...\n",
            "\n"
          ]
        },
        {
          "name": "stderr",
          "output_type": "stream",
          "text": [
            "Fetching Descriptions:  12%|█▏        | 70/572 [29:14<3:41:32, 26.48s/course, Course=Data Visualization in Excel]      "
          ]
        },
        {
          "name": "stdout",
          "output_type": "stream",
          "text": [
            "\n",
            "[✔] Data Visualization in Excel:\n",
            "Building basic Charts | You will embark on an immersive exploration of basic Excel charts, equipping yourself with the skills to create impactful visualizations and customize chart types. Through a co...\n",
            "\n"
          ]
        },
        {
          "name": "stderr",
          "output_type": "stream",
          "text": [
            "Fetching Descriptions:  12%|█▏        | 71/572 [29:54<4:14:59, 30.54s/course, Course=DAX Functions in Power BI]  "
          ]
        },
        {
          "name": "stdout",
          "output_type": "stream",
          "text": [
            "\n",
            "[✔] DAX Functions in Power BI:\n",
            "Master DAX | DAX, or Data Analysis eXpressions, is a formula language used in Microsoft Power BI to create calculated columns, measures, and custom tables. Once mastered, DAX gives you powerful contro...\n",
            "\n"
          ]
        },
        {
          "name": "stderr",
          "output_type": "stream",
          "text": [
            "Fetching Descriptions:  13%|█▎        | 72/572 [30:33<4:36:00, 33.12s/course, Course=Intermediate Importing Data in...]"
          ]
        },
        {
          "name": "stdout",
          "output_type": "stream",
          "text": [
            "\n",
            "[✔] Intermediate Importing Data in Python:\n",
            "As a data scientist, you will need to clean data, wrangle and munge it, visualize it, build predictive models and interpret these models. Before you can do so, however, you will need to know how to ge...\n",
            "\n"
          ]
        },
        {
          "name": "stderr",
          "output_type": "stream",
          "text": [
            "Fetching Descriptions:  13%|█▎        | 73/572 [30:56<4:08:32, 29.89s/course, Course=Intermediate Git]                 "
          ]
        },
        {
          "name": "stdout",
          "output_type": "stream",
          "text": [
            "\n",
            "[✔] Intermediate Git:\n",
            "Work with branches | This course builds upon foundational knowledge of Git, introducing new concepts, including branches, remote repos, and the handling of merge conflicts. You'll discover how branche...\n",
            "\n"
          ]
        },
        {
          "name": "stderr",
          "output_type": "stream",
          "text": [
            "Fetching Descriptions:  13%|█▎        | 74/572 [31:38<4:38:10, 33.52s/course, Course=Introduction to Databricks]"
          ]
        },
        {
          "name": "stdout",
          "output_type": "stream",
          "text": [
            "\n",
            "[✔] Introduction to Databricks:\n",
            "Welcome to Databricks | In this course, you will be introduced to the Databricks Lakehouse Platform and be shown how it modernizes data architecture using the new Lakehouse paradigm. You'll understand...\n",
            "\n"
          ]
        },
        {
          "name": "stderr",
          "output_type": "stream",
          "text": [
            "Fetching Descriptions:  13%|█▎        | 75/572 [32:10<4:34:43, 33.17s/course, Course=Data Warehousing Concepts] "
          ]
        },
        {
          "name": "stdout",
          "output_type": "stream",
          "text": [
            "\n",
            "[✔] Data Warehousing Concepts:\n",
            "This introductory and conceptual course will help you understand the fundamentals of data warehousing. You’ll gain a strong understanding of data warehousing basics through industry examples and real-...\n",
            "\n"
          ]
        },
        {
          "name": "stderr",
          "output_type": "stream",
          "text": [
            "Fetching Descriptions:  13%|█▎        | 76/572 [32:29<3:58:57, 28.91s/course, Course=Developing LLM Applications wi...]"
          ]
        },
        {
          "name": "stdout",
          "output_type": "stream",
          "text": [
            "\n",
            "[✔] Developing LLM Applications with LangChain:\n",
            "Foundation for Developing in the LangChain Ecosystem | Augment your LLM toolkit with LangChain's ecosystem, enabling seamless integration with OpenAI and Hugging Face models.  Discover an open-source ...\n",
            "\n"
          ]
        },
        {
          "name": "stderr",
          "output_type": "stream",
          "text": [
            "Fetching Descriptions:  13%|█▎        | 77/572 [32:49<3:35:20, 26.10s/course, Course=Intermediate Data Modeling in ...]"
          ]
        },
        {
          "name": "stdout",
          "output_type": "stream",
          "text": [
            "\n",
            "[✔] Intermediate Data Modeling in Power BI:\n",
            "Extend your Data Modelling Skills | In this course, you’ll extend your knowledge about facts, dimensions, and their relationships. You learn about the cardinality of relationships and how you can use ...\n",
            "\n"
          ]
        },
        {
          "name": "stderr",
          "output_type": "stream",
          "text": [
            "Fetching Descriptions:  14%|█▎        | 78/572 [33:10<3:24:33, 24.85s/course, Course=Introduction to Python for Fin...]"
          ]
        },
        {
          "name": "stdout",
          "output_type": "stream",
          "text": [
            "\n",
            "[✔] Introduction to Python for Finance:\n",
            "Learn the Fundamentals of Python for Finance | The financial industry uses Python extensively for quantitative analysis, ranging from understanding trading dynamics to risk management systems. This co...\n",
            "\n"
          ]
        },
        {
          "name": "stderr",
          "output_type": "stream",
          "text": [
            "Fetching Descriptions:  14%|█▍        | 79/572 [33:49<3:57:38, 28.92s/course, Course=Object-Oriented Programming in...]"
          ]
        },
        {
          "name": "stdout",
          "output_type": "stream",
          "text": [
            "\n",
            "[✔] Object-Oriented Programming in Python:\n",
            "Object-oriented programming (OOP) is a widely used programming paradigm that reduces development times—making it easier to read, reuse, and maintain your code. OOP shifts the focus from thinking about...\n",
            "\n"
          ]
        },
        {
          "name": "stderr",
          "output_type": "stream",
          "text": [
            "Fetching Descriptions:  14%|█▍        | 80/572 [34:09<3:36:28, 26.40s/course, Course=Data Manipulation with dplyr]     "
          ]
        },
        {
          "name": "stdout",
          "output_type": "stream",
          "text": [
            "\n",
            "[✔] Data Manipulation with dplyr:\n",
            "Say you've found a great dataset and would like to learn more about it. How can you start to answer the questions you have about the data? Use dplyr to answer those questions. | First steps: Transform...\n",
            "\n"
          ]
        },
        {
          "name": "stderr",
          "output_type": "stream",
          "text": [
            "Fetching Descriptions:  14%|█▍        | 81/572 [34:32<3:27:44, 25.39s/course, Course=Case Study: HR Analytics in Po...]"
          ]
        },
        {
          "name": "stdout",
          "output_type": "stream",
          "text": [
            "\n",
            "[✔] Case Study: HR Analytics in Power BI:\n",
            "Apply Your Skills with a Power BI Case Study | In this Power BI case study, you will be exploring a dataset for a fictitious software company called Atlas Labs. This course focuses on helping you impo...\n",
            "\n"
          ]
        },
        {
          "name": "stderr",
          "output_type": "stream",
          "text": [
            "Fetching Descriptions:  14%|█▍        | 82/572 [34:52<3:13:27, 23.69s/course, Course=Intermediate DAX in Power BI]     "
          ]
        },
        {
          "name": "stdout",
          "output_type": "stream",
          "text": [
            "\n",
            "[✔] Intermediate DAX in Power BI:\n",
            "DAX for Logical Functions | This course introduces you to new DAX functions and its many use cases. First of all, you expand your core DAX knowledge by learning how to write logical functions. | Use D...\n",
            "\n"
          ]
        },
        {
          "name": "stderr",
          "output_type": "stream",
          "text": [
            "Fetching Descriptions:  15%|█▍        | 83/572 [35:11<3:01:24, 22.26s/course, Course=Introduction to APIs in Python]"
          ]
        },
        {
          "name": "stdout",
          "output_type": "stream",
          "text": [
            "\n",
            "[✔] Introduction to APIs in Python:\n",
            "Dive into the exciting world of APIs as we introduce you to the basics of consuming and working with Web APIs using Python. This course is designed to demystify the concepts and practical applications...\n",
            "\n"
          ]
        },
        {
          "name": "stderr",
          "output_type": "stream",
          "text": [
            "Fetching Descriptions:  15%|█▍        | 84/572 [35:32<2:58:18, 21.92s/course, Course=Exploratory Data Analysis in P...]"
          ]
        },
        {
          "name": "stdout",
          "output_type": "stream",
          "text": [
            "\n",
            "[✔] Exploratory Data Analysis in Power BI:\n",
            "Introduction to Exploratory Data Analysis in Power BI | Enhance your reports with Power BI's Exploratory Data Analysis (EDA)!   This beginner course for data analysts covers foundational aspects of ED...\n",
            "\n"
          ]
        },
        {
          "name": "stderr",
          "output_type": "stream",
          "text": [
            "Fetching Descriptions:  15%|█▍        | 85/572 [35:53<2:56:14, 21.71s/course, Course=Introduction to Regression in ...]"
          ]
        },
        {
          "name": "stdout",
          "output_type": "stream",
          "text": [
            "\n",
            "[✔] Introduction to Regression in R:\n",
            "Linear regression and logistic regression are the two most widely used statistical models and act like master keys, unlocking the secrets hidden in datasets. In this course, you’ll gain the skills you...\n",
            "\n"
          ]
        },
        {
          "name": "stderr",
          "output_type": "stream",
          "text": [
            "Fetching Descriptions:  15%|█▌        | 86/572 [36:14<2:53:27, 21.41s/course, Course=Introduction to Snowflake SQL]    "
          ]
        },
        {
          "name": "stdout",
          "output_type": "stream",
          "text": [
            "\n",
            "[✔] Introduction to Snowflake SQL:\n",
            "Dive into Snowflake's universe! | This course will teach you the fundamentals of Snowflake SQL - the unique SQL flavor used to interact with Snowflake data warehouses. You'll see how Snowflake SQL com...\n",
            "\n"
          ]
        },
        {
          "name": "stderr",
          "output_type": "stream",
          "text": [
            "Fetching Descriptions:  15%|█▌        | 87/572 [36:34<2:49:14, 20.94s/course, Course=Understanding Microsoft Azure]"
          ]
        },
        {
          "name": "stdout",
          "output_type": "stream",
          "text": [
            "\n",
            "[✔] Understanding Microsoft Azure:\n",
            "Begin your cloud certification journey with Azure | This introductory course is the first step on your path toward Microsoft’s Azure Fundamentals certification (AZ-900). Whether you're new to cloud co...\n",
            "\n"
          ]
        },
        {
          "name": "stderr",
          "output_type": "stream",
          "text": [
            "Fetching Descriptions:  15%|█▌        | 88/572 [36:55<2:49:17, 20.99s/course, Course=Introduction to Alteryx]      "
          ]
        },
        {
          "name": "stdout",
          "output_type": "stream",
          "text": [
            "\n",
            "[✔] Introduction to Alteryx:\n",
            "Introduction to Alteryx Designer | This course introduces you to Alteryx Designer, a powerful tool that simplifies data cleaning, transformation, and analysis. Ideal for users of all skill levels acro...\n",
            "\n"
          ]
        },
        {
          "name": "stderr",
          "output_type": "stream",
          "text": [
            "Fetching Descriptions:  16%|█▌        | 89/572 [37:16<2:48:20, 20.91s/course, Course=Introduction to Power Query in...]"
          ]
        },
        {
          "name": "stdout",
          "output_type": "stream",
          "text": [
            "\n",
            "[✔] Introduction to Power Query in Excel:\n",
            "Navigating Data with Excel Power Query | Embark on a transformative journey through Excel Power Query, where data manipulation becomes an art. Designed for novices and experts alike, this course unloc...\n",
            "\n"
          ]
        },
        {
          "name": "stderr",
          "output_type": "stream",
          "text": [
            "Fetching Descriptions:  16%|█▌        | 90/572 [37:36<2:46:49, 20.77s/course, Course=Introduction to SQL Server]       "
          ]
        },
        {
          "name": "stdout",
          "output_type": "stream",
          "text": [
            "\n",
            "[✔] Introduction to SQL Server:\n",
            "Master the basics of Microsoft SQL Server—one of the world's most popular database systems. | This course covers: | ✓ How to use SELECT statements to retrieve data | ✓ How to use SQL Server aggregate ...\n",
            "\n"
          ]
        },
        {
          "name": "stderr",
          "output_type": "stream",
          "text": [
            "Fetching Descriptions:  16%|█▌        | 91/572 [37:58<2:47:39, 20.91s/course, Course=Data Storytelling Concepts]"
          ]
        },
        {
          "name": "stdout",
          "output_type": "stream",
          "text": [
            "\n",
            "[✔] Data Storytelling Concepts:\n",
            "Learn the Art of Storytelling with Data | People value the information data may hold and also appreciate the value of stories. Data storytelling is the art of building a narrative around the insights ...\n",
            "\n"
          ]
        },
        {
          "name": "stderr",
          "output_type": "stream",
          "text": [
            "Fetching Descriptions:  16%|█▌        | 92/572 [38:16<2:40:58, 20.12s/course, Course=Introduction to LLMs in Python]"
          ]
        },
        {
          "name": "stdout",
          "output_type": "stream",
          "text": [
            "\n",
            "[✔] Introduction to LLMs in Python:\n",
            "Uncover What's Behind the Large Language Models Hype | Large Language Models (LLMs) have become pivotal tools driving some of the most stunning advancements and applications in today's AI landscape. T...\n",
            "\n"
          ]
        },
        {
          "name": "stderr",
          "output_type": "stream",
          "text": [
            "Fetching Descriptions:  16%|█▋        | 93/572 [38:48<3:09:07, 23.69s/course, Course=Introduction to Natural Langua...]"
          ]
        },
        {
          "name": "stdout",
          "output_type": "stream",
          "text": [
            "\n",
            "[✔] Introduction to Natural Language Processing in Python:\n",
            "In this course, you'll learn natural language processing (NLP) basics, such as how to identify and separate words, how to extract topics in a text, and how to build your own fake news classifier. You'...\n",
            "\n"
          ]
        },
        {
          "name": "stderr",
          "output_type": "stream",
          "text": [
            "Fetching Descriptions:  16%|█▋        | 94/572 [39:07<2:58:57, 22.46s/course, Course=Analyzing Data in Tableau]        "
          ]
        },
        {
          "name": "stdout",
          "output_type": "stream",
          "text": [
            "\n",
            "[✔] Analyzing Data in Tableau:\n",
            "Take your Tableau skills up a notch with advanced analytics and visualizations. | Create detailed visualizations | In this course, you’ll learn how to create detail-rich map visualizations, configure ...\n",
            "\n"
          ]
        },
        {
          "name": "stderr",
          "output_type": "stream",
          "text": [
            "Fetching Descriptions:  17%|█▋        | 95/572 [39:26<2:49:34, 21.33s/course, Course=Introduction to Docker]   "
          ]
        },
        {
          "name": "stdout",
          "output_type": "stream",
          "text": [
            "\n",
            "[✔] Introduction to Docker:\n",
            "Docker is a tool used to develop, run, and ship containers. It’s an essential part of every data professional’s toolbelt, helping to create robust, secure, and scalable applications or workflows. In t...\n",
            "\n"
          ]
        },
        {
          "name": "stderr",
          "output_type": "stream",
          "text": [
            "Fetching Descriptions:  17%|█▋        | 96/572 [39:46<2:45:03, 20.80s/course, Course=Introduction to Shell] "
          ]
        },
        {
          "name": "stdout",
          "output_type": "stream",
          "text": [
            "\n",
            "[✔] Introduction to Shell:\n",
            "The Unix command line has survived and thrived for almost 50 years because it lets people do complex things with just a few keystrokes. Sometimes called \"the universal glue of programming,\" it helps u...\n",
            "\n"
          ]
        },
        {
          "name": "stderr",
          "output_type": "stream",
          "text": [
            "Fetching Descriptions:  17%|█▋        | 97/572 [40:07<2:46:10, 20.99s/course, Course=Reports in Power BI]  "
          ]
        },
        {
          "name": "stdout",
          "output_type": "stream",
          "text": [
            "\n",
            "[✔] Reports in Power BI:\n",
            "Apply Data Storytelling Techniques | In this advanced course, take your Power BI visualizations up a level with the skills you already have. You’ll learn complex alternative data storytelling techniqu...\n",
            "\n"
          ]
        },
        {
          "name": "stderr",
          "output_type": "stream",
          "text": [
            "Fetching Descriptions:  17%|█▋        | 98/572 [40:48<3:32:39, 26.92s/course, Course=Introduction to Regression wit...]"
          ]
        },
        {
          "name": "stdout",
          "output_type": "stream",
          "text": [
            "\n",
            "[✔] Introduction to Regression with statsmodels in Python:\n",
            "Use Python statsmodels For Linear and Logistic Regression | Linear regression and logistic regression are two of the most widely used statistical models. They act like master keys, unlocking the secre...\n",
            "\n"
          ]
        },
        {
          "name": "stderr",
          "output_type": "stream",
          "text": [
            "Fetching Descriptions:  17%|█▋        | 99/572 [41:08<3:15:30, 24.80s/course, Course=Machine Learning with Tree-Bas...]"
          ]
        },
        {
          "name": "stdout",
          "output_type": "stream",
          "text": [
            "\n",
            "[✔] Machine Learning with Tree-Based Models in Python:\n",
            "Decision trees are supervised learning models used for problems involving classification and regression. Tree models present a high flexibility that comes at a price: on one hand, trees are able to ca...\n",
            "\n"
          ]
        },
        {
          "name": "stderr",
          "output_type": "stream",
          "text": [
            "Fetching Descriptions:  17%|█▋        | 100/572 [41:29<3:07:24, 23.82s/course, Course=ChatGPT Prompt Engineering for...]"
          ]
        },
        {
          "name": "stdout",
          "output_type": "stream",
          "text": [
            "\n",
            "[✔] ChatGPT Prompt Engineering for Developers:\n",
            "Maximize AI Applications Through Effective Prompt Engineering | ChatGPT is a powerful language model that can generate human-like text for different applications. However, it is only as good as the pr...\n",
            "\n"
          ]
        },
        {
          "name": "stderr",
          "output_type": "stream",
          "text": [
            "Fetching Descriptions:  18%|█▊        | 101/572 [41:49<2:57:26, 22.60s/course, Course=Data-Driven Decision Making in...]"
          ]
        },
        {
          "name": "stdout",
          "output_type": "stream",
          "text": [
            "\n",
            "[✔] Data-Driven Decision Making in SQL:\n",
            "In this course, you will learn how to use SQL to support decision making. It is based on a case study about an online movie rental company with a database about customer information, movie ratings, ba...\n",
            "\n"
          ]
        },
        {
          "name": "stderr",
          "output_type": "stream",
          "text": [
            "Fetching Descriptions:  18%|█▊        | 102/572 [42:10<2:52:19, 22.00s/course, Course=ETL and ELT in Python]            "
          ]
        },
        {
          "name": "stdout",
          "output_type": "stream",
          "text": [
            "\n",
            "[✔] ETL and ELT in Python:\n",
            "Empowering Analytics with Data Pipelines | Data pipelines are at the foundation of every strong data platform. Building these pipelines is an essential skill for data engineers, who provide incredible...\n",
            "\n"
          ]
        },
        {
          "name": "stderr",
          "output_type": "stream",
          "text": [
            "Fetching Descriptions:  18%|█▊        | 103/572 [42:31<2:51:37, 21.96s/course, Course=Introduction to Google Sheets]"
          ]
        },
        {
          "name": "stdout",
          "output_type": "stream",
          "text": [
            "\n",
            "[✔] Introduction to Google Sheets:\n",
            "Google Sheets stands out as one of the premier data analytics tools, empowering millions of users worldwide to extract valuable insights from diverse datasets. Whether you're a professional seeking to...\n",
            "\n"
          ]
        },
        {
          "name": "stderr",
          "output_type": "stream",
          "text": [
            "Fetching Descriptions:  18%|█▊        | 104/572 [42:53<2:49:25, 21.72s/course, Course=Introduction to Data Quality] "
          ]
        },
        {
          "name": "stdout",
          "output_type": "stream",
          "text": [
            "\n",
            "[✔] Introduction to Data Quality:\n",
            "Explore the Basics of Data Quality | Data quality is a fundamental concept critical to understand if you work with data. Data quality concepts and processes span industries and can be applied by any p...\n",
            "\n"
          ]
        },
        {
          "name": "stderr",
          "output_type": "stream",
          "text": [
            "Fetching Descriptions:  18%|█▊        | 105/572 [43:27<3:18:55, 25.56s/course, Course=Data Structures and Algorithms...]"
          ]
        },
        {
          "name": "stdout",
          "output_type": "stream",
          "text": [
            "\n",
            "[✔] Data Structures and Algorithms in Python:\n",
            "Recognize Popular Data Structures and Algorithms | Most computer programs are based on a few data structures and algorithms. Learn about what’s behind the hood of most of your computer interactions in...\n",
            "\n"
          ]
        },
        {
          "name": "stderr",
          "output_type": "stream",
          "text": [
            "Fetching Descriptions:  19%|█▊        | 106/572 [43:49<3:09:24, 24.39s/course, Course=Sampling in Python]               "
          ]
        },
        {
          "name": "stdout",
          "output_type": "stream",
          "text": [
            "\n",
            "[✔] Sampling in Python:\n",
            "Sampling in Python is the cornerstone of inference statistics and hypothesis testing. It's a powerful skill used in survey analysis and experimental design to draw conclusions without surveying an ent...\n",
            "\n"
          ]
        },
        {
          "name": "stderr",
          "output_type": "stream",
          "text": [
            "Fetching Descriptions:  19%|█▊        | 107/572 [44:10<3:02:28, 23.55s/course, Course=Hypothesis Testing in Python]"
          ]
        },
        {
          "name": "stdout",
          "output_type": "stream",
          "text": [
            "\n",
            "[✔] Hypothesis Testing in Python:\n",
            "Hypothesis testing lets you answer questions about your datasets in a statistically rigorous way. In this course, you'll grow your Python analytical skills as you learn how and when to use common test...\n",
            "\n"
          ]
        },
        {
          "name": "stderr",
          "output_type": "stream",
          "text": [
            "Fetching Descriptions:  19%|█▉        | 108/572 [44:30<2:52:56, 22.36s/course, Course=Intermediate ChatGPT]        "
          ]
        },
        {
          "name": "stdout",
          "output_type": "stream",
          "text": [
            "\n",
            "[✔] Intermediate ChatGPT:\n",
            "Intermediate ChatGPT | As AI rapidly reshapes industries, mastering ChatGPT is essential for staying competitive and elevating your professional skills. This course is designed for individuals who are...\n",
            "\n"
          ]
        },
        {
          "name": "stderr",
          "output_type": "stream",
          "text": [
            "Fetching Descriptions:  19%|█▉        | 109/572 [44:49<2:44:28, 21.31s/course, Course=Data Connections in Power BI]"
          ]
        },
        {
          "name": "stdout",
          "output_type": "stream",
          "text": [
            "\n",
            "[✔] Data Connections in Power BI:\n",
            "Building Connections | Data connections are an essential part of Power BI. In this course, you will be introduced to the many different options for connecting to data. | Understand Power BI Desktop vs...\n",
            "\n"
          ]
        },
        {
          "name": "stderr",
          "output_type": "stream",
          "text": [
            "Fetching Descriptions:  19%|█▉        | 110/572 [45:11<2:46:59, 21.69s/course, Course=Introduction to GitHub Concept...]"
          ]
        },
        {
          "name": "stdout",
          "output_type": "stream",
          "text": [
            "\n",
            "[✔] Introduction to GitHub Concepts:\n",
            "Do you ever struggle to keep track of everything going on in a project? Or confuse GitHub with Git? In this course, you'll learn how to leverage the power of GitHub, become a successful collaborator, ...\n",
            "\n"
          ]
        },
        {
          "name": "stderr",
          "output_type": "stream",
          "text": [
            "Fetching Descriptions:  19%|█▉        | 111/572 [45:32<2:43:33, 21.29s/course, Course=Writing Functions in Python]      "
          ]
        },
        {
          "name": "stdout",
          "output_type": "stream",
          "text": [
            "\n",
            "[✔] Writing Functions in Python:\n",
            "You've done your analysis, built your report, and trained a model. What's next? Well, if you want to deploy your model into production, your code will need to be more reliable than exploratory scripts...\n",
            "\n"
          ]
        },
        {
          "name": "stderr",
          "output_type": "stream",
          "text": [
            "Fetching Descriptions:  20%|█▉        | 112/572 [45:52<2:41:14, 21.03s/course, Course=Trend Analysis in Power BI] "
          ]
        },
        {
          "name": "stdout",
          "output_type": "stream",
          "text": [
            "\n",
            "[✔] Trend Analysis in Power BI:\n",
            "Analyze Time-Series Data | In this course, you’ll learn how to analyze time series, visualize your data, and spot trends. You’ll build new date variables, discover run charts, and get into calculating...\n",
            "\n"
          ]
        },
        {
          "name": "stderr",
          "output_type": "stream",
          "text": [
            "Fetching Descriptions:  20%|█▉        | 113/572 [46:15<2:43:54, 21.43s/course, Course=Introduction to Object-Oriente...]"
          ]
        },
        {
          "name": "stdout",
          "output_type": "stream",
          "text": [
            "\n",
            "[✔] Introduction to Object-Oriented Programming in Python:\n",
            "Foundations of OOP | Delve into the fundamental concepts that form the foundation of object-oriented programming (OOP). You'll discover the core principles of classes and objects, learn how to define ...\n",
            "\n"
          ]
        },
        {
          "name": "stderr",
          "output_type": "stream",
          "text": [
            "Fetching Descriptions:  20%|█▉        | 114/572 [46:37<2:45:38, 21.70s/course, Course=Forming Analytical Questions]     "
          ]
        },
        {
          "name": "stdout",
          "output_type": "stream",
          "text": [
            "\n",
            "[✔] Forming Analytical Questions:\n",
            "Learn to Solve Business Questions Using Data | Business questions often come in different forms depending on the specific context and purpose. What is the best pricing strategy for our new product? Ho...\n",
            "\n"
          ]
        },
        {
          "name": "stderr",
          "output_type": "stream",
          "text": [
            "Fetching Descriptions:  20%|██        | 115/572 [46:59<2:45:59, 21.79s/course, Course=Report Design in Power BI]   "
          ]
        },
        {
          "name": "stdout",
          "output_type": "stream",
          "text": [
            "\n",
            "[✔] Report Design in Power BI:\n",
            "Customize your Reports | Continue your data visualization journey with this course on designing reports in Power BI. | Utilize Progressive Disclosure | Through hands-on exercises, you'll also be intro...\n",
            "\n"
          ]
        },
        {
          "name": "stderr",
          "output_type": "stream",
          "text": [
            "Fetching Descriptions:  20%|██        | 116/572 [47:24<2:53:49, 22.87s/course, Course=Implementing AI Solutions in B...]"
          ]
        },
        {
          "name": "stdout",
          "output_type": "stream",
          "text": [
            "\n",
            "[✔] Implementing AI Solutions in Business:\n",
            "Discover how AI can deliver business value | The latest AI tools and technologies, such as ChatGPT, have truly spectacular capabilities, but how does this translate into business value? In this course...\n",
            "\n"
          ]
        },
        {
          "name": "stderr",
          "output_type": "stream",
          "text": [
            "Fetching Descriptions:  20%|██        | 117/572 [47:45<2:47:58, 22.15s/course, Course=Introduction to dbt]              "
          ]
        },
        {
          "name": "stdout",
          "output_type": "stream",
          "text": [
            "\n",
            "[✔] Introduction to dbt:\n",
            "dbt, or the data build tool, has taken the data world by storm. This course introduces you to the concepts, terminology, and methods of using dbt to implement an example data warehouse. You'll gain an...\n",
            "\n"
          ]
        },
        {
          "name": "stderr",
          "output_type": "stream",
          "text": [
            "Fetching Descriptions:  21%|██        | 118/572 [48:05<2:44:25, 21.73s/course, Course=Introduction to Apache Airflow...]"
          ]
        },
        {
          "name": "stdout",
          "output_type": "stream",
          "text": [
            "\n",
            "[✔] Introduction to Apache Airflow in Python:\n",
            "Now Updated to Apache Airflow 2.7 - Delivering data on a schedule can be a manual process. You write scripts, add complex cron tasks, and try various ways to meet an ever-changing set of requirements—...\n",
            "\n"
          ]
        },
        {
          "name": "stderr",
          "output_type": "stream",
          "text": [
            "Fetching Descriptions:  21%|██        | 119/572 [48:49<3:32:18, 28.12s/course, Course=MLOps Concepts]                   "
          ]
        },
        {
          "name": "stdout",
          "output_type": "stream",
          "text": [
            "\n",
            "[✔] MLOps Concepts:\n",
            "Learn about Machine Learning Operations (MLOps) | Understanding MLOps concepts is essential for any data scientist, engineer, or leader to take machine learning models from a local notebook to a funct...\n",
            "\n"
          ]
        },
        {
          "name": "stderr",
          "output_type": "stream",
          "text": [
            "Fetching Descriptions:  21%|██        | 120/572 [49:06<3:08:50, 25.07s/course, Course=Working with Hugging Face]"
          ]
        },
        {
          "name": "stdout",
          "output_type": "stream",
          "text": [
            "\n",
            "[✔] Working with Hugging Face:\n",
            "Start Building AI with Hugging Face | In today's rapidly evolving landscape of machine learning (ML) and artificial intelligence (AI), Hugging Face stands out as a vital platform, allowing anyone to l...\n",
            "\n"
          ]
        },
        {
          "name": "stderr",
          "output_type": "stream",
          "text": [
            "Fetching Descriptions:  21%|██        | 121/572 [49:28<3:01:21, 24.13s/course, Course=Deploying and Maintaining Asse...]"
          ]
        },
        {
          "name": "stdout",
          "output_type": "stream",
          "text": [
            "\n",
            "[✔] Deploying and Maintaining Assets in Power BI:\n",
            "Deploy and Maintain Assets | Learn how to deploy and maintain assets in Power BI. Through hands-on exercises, you’ll get to grips with the Power BI Service interface and key elements in it like worksp...\n",
            "\n"
          ]
        },
        {
          "name": "stderr",
          "output_type": "stream",
          "text": [
            "Fetching Descriptions:  21%|██▏       | 122/572 [49:48<2:51:28, 22.86s/course, Course=Web Scraping in Python]           "
          ]
        },
        {
          "name": "stdout",
          "output_type": "stream",
          "text": [
            "\n",
            "[✔] Web Scraping in Python:\n",
            "The ability to build tools capable of retrieving and parsing information stored across the internet has been and continues to be valuable in many veins of data science. In this course, you will learn ...\n",
            "\n"
          ]
        },
        {
          "name": "stderr",
          "output_type": "stream",
          "text": [
            "Fetching Descriptions:  22%|██▏       | 123/572 [50:08<2:44:58, 22.05s/course, Course=Case Study: Analyzing Customer...]"
          ]
        },
        {
          "name": "stdout",
          "output_type": "stream",
          "text": [
            "\n",
            "[✔] Case Study: Analyzing Customer Churn in Excel:\n",
            "Are you ready to apply your Excel skills to a fictitious dataset? | Apply your Excel Skills with a Case Study | For subscription-based businesses, reducing customer churn is a top priority. In this Ex...\n",
            "\n"
          ]
        },
        {
          "name": "stderr",
          "output_type": "stream",
          "text": [
            "Fetching Descriptions:  22%|██▏       | 124/572 [50:30<2:42:44, 21.80s/course, Course=Introduction to Importing Data...]"
          ]
        },
        {
          "name": "stdout",
          "output_type": "stream",
          "text": [
            "\n",
            "[✔] Introduction to Importing Data in R:\n",
            "Importing data into R should be the easiest step in your analysis. Unfortunately, that is almost never the case. Data can come in many formats, ranging from .csv and text files, to statistical softwar...\n",
            "\n"
          ]
        },
        {
          "name": "stderr",
          "output_type": "stream",
          "text": [
            "Fetching Descriptions:  22%|██▏       | 125/572 [50:49<2:36:56, 21.07s/course, Course=Financial Modeling in Excel]      "
          ]
        },
        {
          "name": "stdout",
          "output_type": "stream",
          "text": [
            "\n",
            "[✔] Financial Modeling in Excel:\n",
            "Are you ready to dive deep into the world of financial modeling and hone your Excel skills? In this comprehensive course, you'll embark on a journey that will empower you with the knowledge and tools ...\n",
            "\n"
          ]
        },
        {
          "name": "stderr",
          "output_type": "stream",
          "text": [
            "Fetching Descriptions:  22%|██▏       | 126/572 [51:47<3:59:53, 32.27s/course, Course=Creating Dashboards in Tableau]"
          ]
        },
        {
          "name": "stdout",
          "output_type": "stream",
          "text": [
            "\n",
            "[✔] Creating Dashboards in Tableau:\n",
            "Dashboard-driven Development | Dashboards are a must-have tool in today’s data-driven world. By combining curated data visualizations, dashboards allow users to interpret and ask their own questions o...\n",
            "\n"
          ]
        },
        {
          "name": "stderr",
          "output_type": "stream",
          "text": [
            "Fetching Descriptions:  22%|██▏       | 127/572 [52:06<3:28:41, 28.14s/course, Course=Exploratory Data Analysis in R]"
          ]
        },
        {
          "name": "stdout",
          "output_type": "stream",
          "text": [
            "\n",
            "[✔] Exploratory Data Analysis in R:\n",
            "When your dataset is represented as a table or a database, it's difficult to observe much about it beyond its size and the types of variables it contains. In this course, you'll learn how to use graph...\n",
            "\n"
          ]
        },
        {
          "name": "stderr",
          "output_type": "stream",
          "text": [
            "Fetching Descriptions:  22%|██▏       | 128/572 [52:24<3:06:15, 25.17s/course, Course=Intermediate Deep Learning wit...]"
          ]
        },
        {
          "name": "stdout",
          "output_type": "stream",
          "text": [
            "\n",
            "[✔] Intermediate Deep Learning with PyTorch:\n",
            "Learn Deep Learning | Deep learning is a rapidly evolving field of artificial intelligence that revolutionized the field of machine learning, enabling breakthroughs in areas such as computer vision, n...\n",
            "\n"
          ]
        },
        {
          "name": "stderr",
          "output_type": "stream",
          "text": [
            "Fetching Descriptions:  23%|██▎       | 129/572 [52:44<2:53:47, 23.54s/course, Course=Machine Learning for Business]    "
          ]
        },
        {
          "name": "stdout",
          "output_type": "stream",
          "text": [
            "\n",
            "[✔] Machine Learning for Business:\n",
            "Learn the Basics of Machine Learning | This course will introduce the key elements of machine learning to the business leaders. We will focus on the key insights and base practices how to structure bu...\n",
            "\n"
          ]
        },
        {
          "name": "stderr",
          "output_type": "stream",
          "text": [
            "Fetching Descriptions:  23%|██▎       | 130/572 [53:04<2:46:12, 22.56s/course, Course=Preprocessing for Machine Lear...]"
          ]
        },
        {
          "name": "stdout",
          "output_type": "stream",
          "text": [
            "\n",
            "[✔] Preprocessing for Machine Learning in Python:\n",
            "This course covers the basics of how and when to perform data preprocessing. This essential step in any machine learning project is when you get your data ready for modeling. Between importing and cle...\n",
            "\n"
          ]
        },
        {
          "name": "stderr",
          "output_type": "stream",
          "text": [
            "Fetching Descriptions:  23%|██▎       | 131/572 [53:45<3:25:18, 27.93s/course, Course=Software Engineering Principle...]"
          ]
        },
        {
          "name": "stdout",
          "output_type": "stream",
          "text": [
            "\n",
            "[✔] Software Engineering Principles in Python:\n",
            "Data scientists can experience huge benefits by learning concepts from the field of software engineering, allowing them to more easily reutilize their code and share it with collaborators. In this cou...\n",
            "\n"
          ]
        },
        {
          "name": "stderr",
          "output_type": "stream",
          "text": [
            "Fetching Descriptions:  23%|██▎       | 132/572 [54:07<3:13:23, 26.37s/course, Course=Working with Dates and Times i...]"
          ]
        },
        {
          "name": "stdout",
          "output_type": "stream",
          "text": [
            "\n",
            "[✔] Working with Dates and Times in Python:\n",
            "You'll probably never have a time machine, but how about a machine for analyzing time? As soon as time enters any analysis, things can get weird. It's easy to get tripped up on day and month boundarie...\n",
            "\n"
          ]
        },
        {
          "name": "stderr",
          "output_type": "stream",
          "text": [
            "Fetching Descriptions:  23%|██▎       | 133/572 [54:47<3:41:19, 30.25s/course, Course=Data Governance Concepts]         "
          ]
        },
        {
          "name": "stdout",
          "output_type": "stream",
          "text": [
            "\n",
            "[✔] Data Governance Concepts:\n",
            "Gain an Introduction to Data Governance | This course provides an introduction to data governance, focused on key foundational elements, such as what data governance is, why it is important, who needs...\n",
            "\n"
          ]
        },
        {
          "name": "stderr",
          "output_type": "stream",
          "text": [
            "Fetching Descriptions:  23%|██▎       | 134/572 [55:06<3:17:41, 27.08s/course, Course=Introduction to NumPy]   "
          ]
        },
        {
          "name": "stdout",
          "output_type": "stream",
          "text": [
            "\n",
            "[✔] Introduction to NumPy:\n",
            "Explore Python's Data Science package: NumPy | Gain an introduction to Numpy and understand why this Python library is essential to all Python data scientists and analysts. Most importantly, learn mor...\n",
            "\n"
          ]
        },
        {
          "name": "stderr",
          "output_type": "stream",
          "text": [
            "Fetching Descriptions:  24%|██▎       | 135/572 [55:29<3:07:50, 25.79s/course, Course=Working with Categorical Data ...]"
          ]
        },
        {
          "name": "stdout",
          "output_type": "stream",
          "text": [
            "\n",
            "[✔] Working with Categorical Data in Python:\n",
            "Being able to understand, use, and summarize non-numerical data—such as a person’s blood type or marital status—is a vital component of being a data scientist. In this course, you’ll learn how to mani...\n",
            "\n"
          ]
        },
        {
          "name": "stderr",
          "output_type": "stream",
          "text": [
            "Fetching Descriptions:  24%|██▍       | 136/572 [56:19<3:59:57, 33.02s/course, Course=Joining Data with dplyr]          "
          ]
        },
        {
          "name": "stdout",
          "output_type": "stream",
          "text": [
            "\n",
            "[✔] Joining Data with dplyr:\n",
            "Often in data science, you'll encounter fascinating data that is spread across multiple tables. This course will teach you the skills you'll need to join multiple tables together to analyze them in co...\n",
            "\n"
          ]
        },
        {
          "name": "stderr",
          "output_type": "stream",
          "text": [
            "Fetching Descriptions:  24%|██▍       | 137/572 [56:42<3:38:21, 30.12s/course, Course=Big Data Fundamentals with PyS...]"
          ]
        },
        {
          "name": "stdout",
          "output_type": "stream",
          "text": [
            "\n",
            "[✔] Big Data Fundamentals with PySpark:\n",
            "There's been a lot of buzz about Big Data over the past few years, and it's finally become mainstream for many  companies. But what is this Big Data? This course covers the fundamentals of Big Data vi...\n",
            "\n"
          ]
        },
        {
          "name": "stderr",
          "output_type": "stream",
          "text": [
            "Fetching Descriptions:  24%|██▍       | 138/572 [57:18<3:49:44, 31.76s/course, Course=Introduction to Data Privacy]     "
          ]
        },
        {
          "name": "stdout",
          "output_type": "stream",
          "text": [
            "\n",
            "[✔] Introduction to Data Privacy:\n",
            "Learn the Basics of  Data Privacy | What is data privacy, why is it so important, and how does it impact you daily? Answer all these questions and more in this course, introducing you to the basics of...\n",
            "\n"
          ]
        },
        {
          "name": "stderr",
          "output_type": "stream",
          "text": [
            "Fetching Descriptions:  24%|██▍       | 139/572 [57:41<3:30:06, 29.12s/course, Course=Data Literacy Case Study: Remo...]"
          ]
        },
        {
          "name": "stdout",
          "output_type": "stream",
          "text": [
            "\n",
            "[✔] Data Literacy Case Study: Remote Working Analysis:\n",
            "Ready to apply your data literacy skills to a real-world case study? | Explore The Benefits of Remote Working | In this case study, you’ll use your data literacy skills to work as a consultant for a f...\n",
            "\n"
          ]
        },
        {
          "name": "stderr",
          "output_type": "stream",
          "text": [
            "Fetching Descriptions:  24%|██▍       | 140/572 [58:03<3:14:21, 26.99s/course, Course=Data Types in Python]             "
          ]
        },
        {
          "name": "stdout",
          "output_type": "stream",
          "text": [
            "\n",
            "[✔] Data Types in Python:\n",
            "Have you got your basic Python programming chops down but are yearning for more? Then this is the course for you. Herein, you'll consolidate and practice your knowledge of lists, dictionaries, tuples,...\n",
            "\n"
          ]
        },
        {
          "name": "stderr",
          "output_type": "stream",
          "text": [
            "Fetching Descriptions:  25%|██▍       | 141/572 [58:25<3:03:09, 25.50s/course, Course=Containerization and Virtualiz...]"
          ]
        },
        {
          "name": "stdout",
          "output_type": "stream",
          "text": [
            "\n",
            "[✔] Containerization and Virtualization Concepts:\n",
            "Docker, containers, Kubernetes, VMs? You've heard these terms before, but you're not quite sure what they mean? In this course, you'll gain the foundational knowledge you need about containerization a...\n",
            "\n"
          ]
        },
        {
          "name": "stderr",
          "output_type": "stream",
          "text": [
            "Fetching Descriptions:  25%|██▍       | 142/572 [58:45<2:51:41, 23.96s/course, Course=Understanding Excel]              "
          ]
        },
        {
          "name": "stdout",
          "output_type": "stream",
          "text": [
            "\n",
            "[✔] Understanding Excel:\n",
            "New to Microsoft Excel? In this beginner course, you’ll learn the fundamentals needed to have you analyzing data in spreadsheets before you know it. The course focuses on helping you navigate Excel an...\n",
            "\n"
          ]
        },
        {
          "name": "stderr",
          "output_type": "stream",
          "text": [
            "Fetching Descriptions:  25%|██▌       | 143/572 [59:06<2:43:28, 22.86s/course, Course=AWS Cloud Technology and Servi...]"
          ]
        },
        {
          "name": "stdout",
          "output_type": "stream",
          "text": [
            "\n",
            "[✔] AWS Cloud Technology and Services Concepts:\n",
            "Master AWS Cloud Services | Ready to unlock the full potential of Amazon Web Services (AWS)? This course will guide you through the essential AWS services that businesses rely on to scale their applic...\n",
            "\n"
          ]
        },
        {
          "name": "stderr",
          "output_type": "stream",
          "text": [
            "Fetching Descriptions:  25%|██▌       | 144/572 [59:26<2:37:31, 22.08s/course, Course=Manipulating Time Series Data ...]"
          ]
        },
        {
          "name": "stdout",
          "output_type": "stream",
          "text": [
            "\n",
            "[✔] Manipulating Time Series Data in Python:\n",
            "In this course you'll learn the basics of manipulating time series data. Time series data are data that are indexed by a sequence of dates or times. You'll learn how to use methods built into Pandas t...\n",
            "\n"
          ]
        },
        {
          "name": "stderr",
          "output_type": "stream",
          "text": [
            "Fetching Descriptions:  25%|██▌       | 145/572 [59:53<2:47:49, 23.58s/course, Course=Intermediate Regression in R]     "
          ]
        },
        {
          "name": "stdout",
          "output_type": "stream",
          "text": [
            "\n",
            "[✔] Intermediate Regression in R:\n",
            "Linear regression and logistic regression are the two most widely used statistical models and act like master keys, unlocking the secrets hidden in datasets. This course builds on the skills you gaine...\n",
            "\n"
          ]
        },
        {
          "name": "stderr",
          "output_type": "stream",
          "text": [
            "Fetching Descriptions:  26%|██▌       | 146/572 [1:00:13<2:39:43, 22.50s/course, Course=Hypothesis Testing in R]     "
          ]
        },
        {
          "name": "stdout",
          "output_type": "stream",
          "text": [
            "\n",
            "[✔] Hypothesis Testing in R:\n",
            "Discover Hypothesis Testing in R | Hypothesis testing lets you ask questions about your datasets and answer them in a statistically rigorous way. In this course, you'll learn how and when to use commo...\n",
            "\n"
          ]
        },
        {
          "name": "stderr",
          "output_type": "stream",
          "text": [
            "Fetching Descriptions:  26%|██▌       | 147/572 [1:00:32<2:32:21, 21.51s/course, Course=Advanced Excel Functions]"
          ]
        },
        {
          "name": "stdout",
          "output_type": "stream",
          "text": [
            "\n",
            "[✔] Advanced Excel Functions:\n",
            "Elevate Your Excel Skills | Expand your Excel expertise with this intermediate course, designed to introduce you to a range of new referencing, lookup, and database functions. | Reference Like a Pro! ...\n",
            "\n"
          ]
        },
        {
          "name": "stderr",
          "output_type": "stream",
          "text": [
            "Fetching Descriptions:  26%|██▌       | 148/572 [1:00:53<2:29:59, 21.23s/course, Course=Retrieval Augmented Generation...]"
          ]
        },
        {
          "name": "stdout",
          "output_type": "stream",
          "text": [
            "\n",
            "[✔] Retrieval Augmented Generation (RAG) with LangChain:\n",
            "Build RAG Systems with LangChain | Retrieval Augmented Generation (RAG) is a technique used to overcome one of the main limitations of large language models (LLMs): their limited knowledge. RAG system...\n",
            "\n"
          ]
        },
        {
          "name": "stderr",
          "output_type": "stream",
          "text": [
            "Fetching Descriptions:  26%|██▌       | 149/572 [1:01:13<2:26:45, 20.82s/course, Course=Introduction to Deep Learning ...]"
          ]
        },
        {
          "name": "stdout",
          "output_type": "stream",
          "text": [
            "\n",
            "[✔] Introduction to Deep Learning in Python:\n",
            "Discover Deep Learning Applications | Deep learning is the machine learning technique behind the most exciting capabilities in robotics, natural language processing, image recognition, and artificial ...\n",
            "\n"
          ]
        },
        {
          "name": "stderr",
          "output_type": "stream",
          "text": [
            "Fetching Descriptions:  26%|██▌       | 150/572 [1:01:39<2:38:29, 22.53s/course, Course=Introduction to Data Ethics]      "
          ]
        },
        {
          "name": "stdout",
          "output_type": "stream",
          "text": [
            "\n",
            "[✔] Introduction to Data Ethics:\n",
            "Explore the Basics of Data Ethics | This introductory course on data ethics will provide learners with the essentials of data ethics concepts and what they mean in practice- be it in business, R&D, or...\n",
            "\n"
          ]
        },
        {
          "name": "stderr",
          "output_type": "stream",
          "text": [
            "Fetching Descriptions:  26%|██▋       | 151/572 [1:02:09<2:52:51, 24.64s/course, Course=Understanding Modern Data Arch...]"
          ]
        },
        {
          "name": "stdout",
          "output_type": "stream",
          "text": [
            "\n",
            "[✔] Understanding Modern Data Architecture:\n",
            "Introduction to modern data architectures | The world is constantly changing thanks to data, and every day the amount of data to be processed is even bigger. Thus, this course gives you an overview of...\n",
            "\n"
          ]
        },
        {
          "name": "stderr",
          "output_type": "stream",
          "text": [
            "Fetching Descriptions:  27%|██▋       | 152/572 [1:02:30<2:44:38, 23.52s/course, Course=Cleaning Data in R]               "
          ]
        },
        {
          "name": "stdout",
          "output_type": "stream",
          "text": [
            "\n",
            "[✔] Cleaning Data in R:\n",
            "Overcome Common Data Problems Like Removing Duplicates in R | It's commonly said that data scientists spend 80% of their time cleaning and manipulating data and only 20% of their time analyzing it. Th...\n",
            "\n"
          ]
        },
        {
          "name": "stderr",
          "output_type": "stream",
          "text": [
            "Fetching Descriptions:  27%|██▋       | 153/572 [1:02:50<2:38:23, 22.68s/course, Course=Understanding Microsoft Azure ...]"
          ]
        },
        {
          "name": "stdout",
          "output_type": "stream",
          "text": [
            "\n",
            "[✔] Understanding Microsoft Azure Architecture and Services:\n",
            "Azure Infrastructure | Delve into the heart of Azure's infrastructure, understanding cloud computing basics, and gain insights into Azure's organizational structure with this interactive course. This ...\n",
            "\n"
          ]
        },
        {
          "name": "stderr",
          "output_type": "stream",
          "text": [
            "Fetching Descriptions:  27%|██▋       | 154/572 [1:03:14<2:39:43, 22.93s/course, Course=Analyzing Business Data in SQL]   "
          ]
        },
        {
          "name": "stdout",
          "output_type": "stream",
          "text": [
            "\n",
            "[✔] Analyzing Business Data in SQL:\n",
            "Businesses track data on everything, from operations to marketing to HR. Leveraging this data enables businesses to better understand themselves and their customers, leading to higher profits and bett...\n",
            "\n"
          ]
        },
        {
          "name": "stderr",
          "output_type": "stream",
          "text": [
            "Fetching Descriptions:  27%|██▋       | 155/572 [1:03:35<2:35:19, 22.35s/course, Course=Dashboard Design Concepts]     "
          ]
        },
        {
          "name": "stdout",
          "output_type": "stream",
          "text": [
            "\n",
            "[✔] Dashboard Design Concepts:\n",
            "Learn the Fundamentals of Dashboard Design | Dashboard Design Concepts is a comprehensive course designed for data-driven individuals who want to learn how to turn data into insights and impact the de...\n",
            "\n"
          ]
        },
        {
          "name": "stderr",
          "output_type": "stream",
          "text": [
            "Fetching Descriptions:  27%|██▋       | 156/572 [1:03:57<2:34:44, 22.32s/course, Course=Introduction to Data Engineeri...]"
          ]
        },
        {
          "name": "stdout",
          "output_type": "stream",
          "text": [
            "\n",
            "[✔] Introduction to Data Engineering:\n",
            "Get Started in Data Engineering | Are you curious about a career in data engineering but don’t know where to start? Or perhaps you want more information on what data engineers do before you take the n...\n",
            "\n"
          ]
        },
        {
          "name": "stderr",
          "output_type": "stream",
          "text": [
            "Fetching Descriptions:  27%|██▋       | 157/572 [1:04:18<2:31:20, 21.88s/course, Course=Math for Finance Professionals]   "
          ]
        },
        {
          "name": "stdout",
          "output_type": "stream",
          "text": [
            "\n",
            "[✔] Math for Finance Professionals:\n",
            "Foundation of Financial Mathematics | Begin your journey into the quantitative aspects of finance by exploring the fundamental principles of interest calculations, including the differences and applic...\n",
            "\n"
          ]
        },
        {
          "name": "stderr",
          "output_type": "stream",
          "text": [
            "Fetching Descriptions:  28%|██▊       | 158/572 [1:04:38<2:26:36, 21.25s/course, Course=Applying SQL to Real-World Pro...]"
          ]
        },
        {
          "name": "stdout",
          "output_type": "stream",
          "text": [
            "\n",
            "[✔] Applying SQL to Real-World Problems:\n",
            "Now that you’ve learned the basic tools of SQL you are ready to synthesize them into practical, real-world skills. In this course, you will work with a database of a fictional movie rental company. Th...\n",
            "\n"
          ]
        },
        {
          "name": "stderr",
          "output_type": "stream",
          "text": [
            "Fetching Descriptions:  28%|██▊       | 159/572 [1:05:10<2:48:38, 24.50s/course, Course=Introduction to Kubernetes]       "
          ]
        },
        {
          "name": "stdout",
          "output_type": "stream",
          "text": [
            "\n",
            "[✔] Introduction to Kubernetes:\n",
            "Kubernetes is a solution that orchestrates and maintains containerized applications effectively. Since its introduction in 2014 by Google, this open-source system has developed into the tool of choice...\n",
            "\n"
          ]
        },
        {
          "name": "stderr",
          "output_type": "stream",
          "text": [
            "Fetching Descriptions:  28%|██▊       | 160/572 [1:05:29<2:38:08, 23.03s/course, Course=Databricks Concepts]       "
          ]
        },
        {
          "name": "stdout",
          "output_type": "stream",
          "text": [
            "\n",
            "[✔] Databricks Concepts:\n",
            "Learn the power of the Lakehouse In today's data-filled world, we need tools that allow us to be as data-driven as possible. This course guides you from start to finish on how the Databricks Lakehouse...\n",
            "\n"
          ]
        },
        {
          "name": "stderr",
          "output_type": "stream",
          "text": [
            "Fetching Descriptions:  28%|██▊       | 161/572 [1:05:50<2:31:56, 22.18s/course, Course=Foundations of PySpark]"
          ]
        },
        {
          "name": "stdout",
          "output_type": "stream",
          "text": [
            "\n",
            "[✔] Foundations of PySpark:\n",
            "In this course, you'll learn how to use Spark from Python! Spark is a tool for doing parallel computation with large datasets and it integrates well with Python. PySpark is the Python package that mak...\n",
            "\n"
          ]
        },
        {
          "name": "stderr",
          "output_type": "stream",
          "text": [
            "Fetching Descriptions:  28%|██▊       | 162/572 [1:06:08<2:23:54, 21.06s/course, Course=Power Pivot in Excel]  "
          ]
        },
        {
          "name": "stdout",
          "output_type": "stream",
          "text": [
            "\n",
            "[✔] Power Pivot in Excel:\n",
            "Starting with Power Pivot in Excel | Getting started on this insightful journey through Excel Power Pivot, transforming your data analysis skills. Begin by learning how to enable the Power Pivot add-i...\n",
            "\n"
          ]
        },
        {
          "name": "stderr",
          "output_type": "stream",
          "text": [
            "Fetching Descriptions:  28%|██▊       | 163/572 [1:06:30<2:25:01, 21.27s/course, Course=Supervised Learning in R: Clas...]"
          ]
        },
        {
          "name": "stdout",
          "output_type": "stream",
          "text": [
            "\n",
            "[✔] Supervised Learning in R: Classification:\n",
            "This beginner-level introduction to machine learning covers four of the most common classification algorithms. You will come away with a basic understanding of how each algorithm approaches a learning...\n",
            "\n"
          ]
        },
        {
          "name": "stderr",
          "output_type": "stream",
          "text": [
            "Fetching Descriptions:  29%|██▊       | 164/572 [1:07:05<2:53:19, 25.49s/course, Course=Intermediate Data Visualizatio...]"
          ]
        },
        {
          "name": "stdout",
          "output_type": "stream",
          "text": [
            "\n",
            "[✔] Intermediate Data Visualization with ggplot2:\n",
            "This ggplot2 course builds on your knowledge from the introductory course to produce meaningful explanatory plots. Statistics will be calculated on the fly and you’ll see how Coordinates and Facets ai...\n",
            "\n"
          ]
        },
        {
          "name": "stderr",
          "output_type": "stream",
          "text": [
            "Fetching Descriptions:  29%|██▉       | 165/572 [1:07:25<2:40:57, 23.73s/course, Course=Introduction to Microsoft Fabr...]"
          ]
        },
        {
          "name": "stdout",
          "output_type": "stream",
          "text": [
            "\n",
            "[✔] Introduction to Microsoft Fabric:\n",
            "Welcome to Microsoft Fabric | Take your first steps with Microsoft Fabric, an all-in-one platform unifying data engineering, data science, and business intelligence. This course offers hands-on experi...\n",
            "\n"
          ]
        },
        {
          "name": "stderr",
          "output_type": "stream",
          "text": [
            "Fetching Descriptions:  29%|██▉       | 166/572 [1:08:03<3:10:38, 28.17s/course, Course=Experimental Design in Python]    "
          ]
        },
        {
          "name": "stdout",
          "output_type": "stream",
          "text": [
            "\n",
            "[✔] Experimental Design in Python:\n",
            "Implement Experimental Design Setups | Learn how to implement the most appropriate experimental design setup for your use case. Learn about how randomized block designs and factorial designs can be im...\n",
            "\n"
          ]
        },
        {
          "name": "stderr",
          "output_type": "stream",
          "text": [
            "Fetching Descriptions:  29%|██▉       | 167/572 [1:08:23<2:52:35, 25.57s/course, Course=Data Analysis in Google Sheets]"
          ]
        },
        {
          "name": "stdout",
          "output_type": "stream",
          "text": [
            "\n",
            "[✔] Data Analysis in Google Sheets:\n",
            "Learn how to clear and analyze data in spreadsheets, discover how to use built-in functions to sort and filter data, and use the VLOOKUP function to combine data from different tables. The skills taug...\n",
            "\n"
          ]
        },
        {
          "name": "stderr",
          "output_type": "stream",
          "text": [
            "Fetching Descriptions:  29%|██▉       | 168/572 [1:08:45<2:45:59, 24.65s/course, Course=Introduction to FastAPI]       "
          ]
        },
        {
          "name": "stdout",
          "output_type": "stream",
          "text": [
            "\n",
            "[✔] Introduction to FastAPI:\n",
            "Introduction to FastAPI and Its Applications | APIs are commonly used to manage data on the web, and FastAPI is a popular new web framework for building APIs with Python. Data and Machine Learning Eng...\n",
            "\n"
          ]
        },
        {
          "name": "stderr",
          "output_type": "stream",
          "text": [
            "Fetching Descriptions:  30%|██▉       | 169/572 [1:09:08<2:42:33, 24.20s/course, Course=Streamlined Data Ingestion wit...]"
          ]
        },
        {
          "name": "stdout",
          "output_type": "stream",
          "text": [
            "\n",
            "[✔] Streamlined Data Ingestion with pandas:\n",
            "Before you can analyze data, you first have to acquire it. This course teaches you how to build pipelines to import data kept in common storage formats. You’ll use pandas, a major Python library for a...\n",
            "\n"
          ]
        },
        {
          "name": "stderr",
          "output_type": "stream",
          "text": [
            "Fetching Descriptions:  30%|██▉       | 170/572 [1:09:29<2:35:08, 23.16s/course, Course=Large Language Models for Busi...]"
          ]
        },
        {
          "name": "stdout",
          "output_type": "stream",
          "text": [
            "\n",
            "[✔] Large Language Models for Business:\n",
            "Learn about Large Language Models (LLMs) | Large Language Models (LLMs) aren’t magic. In this course, you’ll build confidence in the common techniques and terminology in the new AI-powered era and und...\n",
            "\n"
          ]
        },
        {
          "name": "stderr",
          "output_type": "stream",
          "text": [
            "Fetching Descriptions:  30%|██▉       | 171/572 [1:09:53<2:35:49, 23.31s/course, Course=Connecting Data in Tableau]       "
          ]
        },
        {
          "name": "stdout",
          "output_type": "stream",
          "text": [
            "\n",
            "[✔] Connecting Data in Tableau:\n",
            "Great Analysis begins with Great Data | But how do you connect Tableau to your databases and other file types, so that you can build a view and analyze your data? In this course, you'll learn how to u...\n",
            "\n"
          ]
        },
        {
          "name": "stderr",
          "output_type": "stream",
          "text": [
            "Fetching Descriptions:  30%|███       | 172/572 [1:10:14<2:31:33, 22.73s/course, Course=Artificial Intelligence (AI) S...]"
          ]
        },
        {
          "name": "stdout",
          "output_type": "stream",
          "text": [
            "\n",
            "[✔] Artificial Intelligence (AI) Strategy:\n",
            "Discover the Cornerstones of AI Strategy | You must have heard of various strategies such as business, data, and AI and would be wondering how they are connected. Is there a suggested order that shows...\n",
            "\n"
          ]
        },
        {
          "name": "stderr",
          "output_type": "stream",
          "text": [
            "Fetching Descriptions:  30%|███       | 173/572 [1:10:55<3:06:23, 28.03s/course, Course=Developing AI Systems with the...]"
          ]
        },
        {
          "name": "stdout",
          "output_type": "stream",
          "text": [
            "\n",
            "[✔] Developing AI Systems with the OpenAI API:\n",
            "Get your AI applications ready for production with this OpenAI API course. You’ll discover best practices for developing applications on the OpenAI API, including moderation and validation, testing, a...\n",
            "\n"
          ]
        },
        {
          "name": "stderr",
          "output_type": "stream",
          "text": [
            "Fetching Descriptions:  30%|███       | 174/572 [1:11:14<2:49:43, 25.59s/course, Course=Intermediate Python for Financ...]"
          ]
        },
        {
          "name": "stdout",
          "output_type": "stream",
          "text": [
            "\n",
            "[✔] Intermediate Python for Finance:\n",
            "Are you a financial or business analyst, or simply looking for an easier way to manage your stock portfolio? If so learning Python can automate financial tasks such as calculating risk, mapping market...\n",
            "\n"
          ]
        },
        {
          "name": "stderr",
          "output_type": "stream",
          "text": [
            "Fetching Descriptions:  31%|███       | 175/572 [1:11:39<2:46:49, 25.21s/course, Course=Data Visualization in Tableau]    "
          ]
        },
        {
          "name": "stdout",
          "output_type": "stream",
          "text": [
            "\n",
            "[✔] Data Visualization in Tableau:\n",
            "Becoming a Data Analyst | Data visualization is one of the most desired skills for data analysts, allowing them to communicate insights in an understandable and impactful way. This course covers a ran...\n",
            "\n"
          ]
        },
        {
          "name": "stderr",
          "output_type": "stream",
          "text": [
            "Fetching Descriptions:  31%|███       | 176/572 [1:11:59<2:37:08, 23.81s/course, Course=Cluster Analysis in Python]   "
          ]
        },
        {
          "name": "stdout",
          "output_type": "stream",
          "text": [
            "\n",
            "[✔] Cluster Analysis in Python:\n",
            "You have probably come across Google News, which automatically groups similar news articles under a topic. Have you ever wondered what process runs in the background to arrive at these groups? In this...\n",
            "\n"
          ]
        },
        {
          "name": "stderr",
          "output_type": "stream",
          "text": [
            "Fetching Descriptions:  31%|███       | 177/572 [1:12:32<2:54:48, 26.55s/course, Course=Reinforcement Learning with Gy...]"
          ]
        },
        {
          "name": "stdout",
          "output_type": "stream",
          "text": [
            "\n",
            "[✔] Reinforcement Learning with Gymnasium in Python:\n",
            "Discover the World of Reinforcement Learning | Embark on an exhilarating exploration of Reinforcement Learning (RL), a pivotal branch of machine learning. This interactive course takes you on a compre...\n",
            "\n"
          ]
        },
        {
          "name": "stderr",
          "output_type": "stream",
          "text": [
            "Fetching Descriptions:  31%|███       | 178/572 [1:13:12<3:20:02, 30.46s/course, Course=Introduction to Object-Oriente...]"
          ]
        },
        {
          "name": "stdout",
          "output_type": "stream",
          "text": [
            "\n",
            "[✔] Introduction to Object-Oriented Programming in Java:\n",
            "Object-oriented programming (OOP) is a powerful approach to writing organized and scalable software. Java, one of the world’s most popular programming languages, brings OOP to life with clear syntax a...\n",
            "\n"
          ]
        },
        {
          "name": "stderr",
          "output_type": "stream",
          "text": [
            "Fetching Descriptions:  31%|███▏      | 179/572 [1:13:34<3:03:16, 27.98s/course, Course=Image Processing in Python]       "
          ]
        },
        {
          "name": "stdout",
          "output_type": "stream",
          "text": [
            "\n",
            "[✔] Image Processing in Python:\n",
            "Images are everywhere! We live in a time where images contain lots of information, which is sometimes difficult to obtain. This is why image pre-processing has become a highly valuable skill, applicab...\n",
            "\n"
          ]
        },
        {
          "name": "stderr",
          "output_type": "stream",
          "text": [
            "Fetching Descriptions:  31%|███▏      | 180/572 [1:13:55<2:48:55, 25.86s/course, Course=Linear Classifiers in Python]"
          ]
        },
        {
          "name": "stdout",
          "output_type": "stream",
          "text": [
            "\n",
            "[✔] Linear Classifiers in Python:\n",
            "In this course you'll learn all about using linear classifiers, specifically logistic regression and support vector machines, with scikit-learn. Once you've learned how to apply these methods, you'll ...\n",
            "\n"
          ]
        },
        {
          "name": "stderr",
          "output_type": "stream",
          "text": [
            "Fetching Descriptions:  32%|███▏      | 181/572 [1:14:31<3:07:48, 28.82s/course, Course=Introduction to Data Security]"
          ]
        },
        {
          "name": "stdout",
          "output_type": "stream",
          "text": [
            "\n",
            "[✔] Introduction to Data Security:\n",
            "Discover How to Be a Data Defender | Navigating the complex world of data security may initially seem like a daunting task and a bit boring to some. However, it's impossible to overstate the importanc...\n",
            "\n"
          ]
        },
        {
          "name": "stderr",
          "output_type": "stream",
          "text": [
            "Fetching Descriptions:  32%|███▏      | 182/572 [1:14:55<2:58:13, 27.42s/course, Course=Introduction to Testing in Pyt...]"
          ]
        },
        {
          "name": "stdout",
          "output_type": "stream",
          "text": [
            "\n",
            "[✔] Introduction to Testing in Python:\n",
            "Why tests? | Plenty of people write code. Some of them make it work and profitable. But sometimes, even the smartest of the best programmers makes a mistake that can cost millions of dollars. How to d...\n",
            "\n"
          ]
        },
        {
          "name": "stderr",
          "output_type": "stream",
          "text": [
            "Fetching Descriptions:  32%|███▏      | 183/572 [1:15:16<2:45:56, 25.60s/course, Course=Advanced Git]                     "
          ]
        },
        {
          "name": "stdout",
          "output_type": "stream",
          "text": [
            "\n",
            "[✔] Advanced Git:\n",
            "This course dives deep into Git's advanced features and is geared toward data engineering and data science workflows. You'll master complex merging strategies, learn to manipulate repository history a...\n",
            "\n"
          ]
        },
        {
          "name": "stderr",
          "output_type": "stream",
          "text": [
            "Fetching Descriptions:  32%|███▏      | 184/572 [1:15:43<2:46:56, 25.82s/course, Course=Working with Llama 3]"
          ]
        },
        {
          "name": "stdout",
          "output_type": "stream",
          "text": [
            "\n",
            "[✔] Working with Llama 3:\n",
            "Learn to use the Llama Large-Language Model (LLM) | What is the Llama LLM, and how can you use it to enhance your projects? This course will teach you how to run Llama locally, guide its responses usi...\n",
            "\n"
          ]
        },
        {
          "name": "stderr",
          "output_type": "stream",
          "text": [
            "Fetching Descriptions:  32%|███▏      | 185/572 [1:16:03<2:36:20, 24.24s/course, Course=Financial Analysis in Power BI]"
          ]
        },
        {
          "name": "stdout",
          "output_type": "stream",
          "text": [
            "\n",
            "[✔] Financial Analysis in Power BI:\n",
            "This course will teach you basic and intermediate finance skills and how to apply them in Power BI dashboards. | Learn the Fundamentals of Financial Analysis in Power BI | You’ll start by reviewing so...\n",
            "\n"
          ]
        },
        {
          "name": "stderr",
          "output_type": "stream",
          "text": [
            "Fetching Descriptions:  33%|███▎      | 186/572 [1:16:24<2:30:22, 23.37s/course, Course=Data Science for Business]     "
          ]
        },
        {
          "name": "stdout",
          "output_type": "stream",
          "text": [
            "\n",
            "[✔] Data Science for Business:\n",
            "Learn to Use Data Science for Business | What is data science, and how can you use it to strengthen your organization? This course will teach you about the skills you need on your data team and how yo...\n",
            "\n"
          ]
        },
        {
          "name": "stderr",
          "output_type": "stream",
          "text": [
            "Fetching Descriptions:  33%|███▎      | 187/572 [1:16:46<2:26:02, 22.76s/course, Course=Intermediate Power Query in Ex...]"
          ]
        },
        {
          "name": "stdout",
          "output_type": "stream",
          "text": [
            "\n",
            "[✔] Intermediate Power Query in Excel:\n",
            "Building on your foundational Power Query in Excel knowledge, this intermediate course takes you to the next level of data transformation mastery. Discover advanced data integration techniques, includ...\n",
            "\n"
          ]
        },
        {
          "name": "stderr",
          "output_type": "stream",
          "text": [
            "Fetching Descriptions:  33%|███▎      | 188/572 [1:17:12<2:31:36, 23.69s/course, Course=Intermediate GitHub Concepts]     "
          ]
        },
        {
          "name": "stdout",
          "output_type": "stream",
          "text": [
            "\n",
            "[✔] Intermediate GitHub Concepts:\n",
            "Take your GitHub skills to the next level with this intermediate course, building on the foundations of our introductory course. You'll dive deeper into GitHub Projects, automation with GitHub Actions...\n",
            "\n"
          ]
        },
        {
          "name": "stderr",
          "output_type": "stream",
          "text": [
            "Fetching Descriptions:  33%|███▎      | 189/572 [1:17:30<2:20:58, 22.08s/course, Course=Sampling in R]               "
          ]
        },
        {
          "name": "stdout",
          "output_type": "stream",
          "text": [
            "\n",
            "[✔] Sampling in R:\n",
            "Sampling is a cornerstone of inference statistics and hypothesis testing. It's tremendously important in survey analysis and experimental design. This course explains when and why sampling is importan...\n",
            "\n"
          ]
        },
        {
          "name": "stderr",
          "output_type": "stream",
          "text": [
            "Fetching Descriptions:  33%|███▎      | 190/572 [1:17:50<2:16:40, 21.47s/course, Course=Intermediate SQL Server]"
          ]
        },
        {
          "name": "stdout",
          "output_type": "stream",
          "text": [
            "\n",
            "[✔] Intermediate SQL Server:\n",
            "A majority of data is stored in databases and knowing the necessary tools needed to analyze and clean data directly in databases is indispensable. This course focuses on T-SQL, the version of SQL used...\n",
            "\n"
          ]
        },
        {
          "name": "stderr",
          "output_type": "stream",
          "text": [
            "Fetching Descriptions:  33%|███▎      | 191/572 [1:18:11<2:16:11, 21.45s/course, Course=Case Study: Analyzing Customer...]"
          ]
        },
        {
          "name": "stdout",
          "output_type": "stream",
          "text": [
            "\n",
            "[✔] Case Study: Analyzing Customer Churn in Tableau:\n",
            "Are you ready to apply your Tableau skills to a real-world dataset? | Apply your Tableau skills with a Case Study | For subscription-based businesses, reducing customer churn is a top priority. In thi...\n",
            "\n"
          ]
        },
        {
          "name": "stderr",
          "output_type": "stream",
          "text": [
            "Fetching Descriptions:  34%|███▎      | 192/572 [1:18:31<2:11:39, 20.79s/course, Course=Time Series Analysis in Python]   "
          ]
        },
        {
          "name": "stdout",
          "output_type": "stream",
          "text": [
            "\n",
            "[✔] Time Series Analysis in Python:\n",
            "Learn How to Use Python for Time Series Analysis | From stock prices to climate data, you can find time series data in a wide variety of domains. Having the skills to work with such data effectively i...\n",
            "\n"
          ]
        },
        {
          "name": "stderr",
          "output_type": "stream",
          "text": [
            "Fetching Descriptions:  34%|███▎      | 193/572 [1:18:53<2:14:55, 21.36s/course, Course=Data Management Concepts]      "
          ]
        },
        {
          "name": "stdout",
          "output_type": "stream",
          "text": [
            "\n",
            "[✔] Data Management Concepts:\n",
            "Discover Data Management Fundamentals | Explore the fundamental concepts of data management in this essential non-technical course designed for data enthusiasts and leaders alike. You will delve into ...\n",
            "\n"
          ]
        },
        {
          "name": "stderr",
          "output_type": "stream",
          "text": [
            "Fetching Descriptions:  34%|███▍      | 194/572 [1:19:13<2:11:19, 20.84s/course, Course=Responsible AI Practices]"
          ]
        },
        {
          "name": "stdout",
          "output_type": "stream",
          "text": [
            "\n",
            "[✔] Responsible AI Practices:\n",
            "Dive into the World of Responsible AI | Explore the world of Responsible AI with this comprehensive course designed for anyone eager to understand and implement AI responsibly in their organization. A...\n",
            "\n"
          ]
        },
        {
          "name": "stderr",
          "output_type": "stream",
          "text": [
            "Fetching Descriptions:  34%|███▍      | 195/572 [1:19:34<2:10:30, 20.77s/course, Course=Designing Agentic Systems with...]"
          ]
        },
        {
          "name": "stdout",
          "output_type": "stream",
          "text": [
            "\n",
            "[✔] Designing Agentic Systems with LangChain:\n",
            "Agentic workflows that integrate LLMs and tools to perform nuanced tasks are at the forefront of the AI transformation. In this course, you'll learn the key principles behind LangChain agents, includi...\n",
            "\n"
          ]
        },
        {
          "name": "stderr",
          "output_type": "stream",
          "text": [
            "Fetching Descriptions:  34%|███▍      | 196/572 [1:19:57<2:15:15, 21.58s/course, Course=Introduction to Embeddings wit...]"
          ]
        },
        {
          "name": "stdout",
          "output_type": "stream",
          "text": [
            "\n",
            "[✔] Introduction to Embeddings with the OpenAI API:\n",
            "Enable Powerful AI Applications | Embeddings allow us to represent text numerically, capturing the context and intent behind the text. You'll learn about how these abilities can enable semantic search...\n",
            "\n"
          ]
        },
        {
          "name": "stderr",
          "output_type": "stream",
          "text": [
            "Fetching Descriptions:  34%|███▍      | 197/572 [1:20:56<3:25:00, 32.80s/course, Course=Extreme Gradient Boosting with...]"
          ]
        },
        {
          "name": "stdout",
          "output_type": "stream",
          "text": [
            "\n",
            "[✔] Extreme Gradient Boosting with XGBoost:\n",
            "Do you know the basics of supervised learning and want to use state-of-the-art models on real-world datasets? Gradient boosting is currently one of the most popular techniques for efficient modeling o...\n",
            "\n"
          ]
        },
        {
          "name": "stderr",
          "output_type": "stream",
          "text": [
            "Fetching Descriptions:  35%|███▍      | 198/572 [1:21:15<2:58:40, 28.67s/course, Course=Data Strategy]                    "
          ]
        },
        {
          "name": "stdout",
          "output_type": "stream",
          "text": [
            "\n",
            "[✔] Data Strategy:\n",
            "Master Data Strategy | Begin your transformative journey with this comprehensive course designed to empower you with the knowledge to craft and execute an effective data strategy. | Unlock the Power o...\n",
            "\n"
          ]
        },
        {
          "name": "stderr",
          "output_type": "stream",
          "text": [
            "Fetching Descriptions:  35%|███▍      | 199/572 [1:21:34<2:40:45, 25.86s/course, Course=Understanding Microsoft Azure ...]"
          ]
        },
        {
          "name": "stdout",
          "output_type": "stream",
          "text": [
            "\n",
            "[✔] Understanding Microsoft Azure Management and Governance:\n",
            "Overview of Azure Management and Governance | This course is designed to teach you how to efficiently manage and govern resources within Microsoft Azure. You will learn essential tools and best practi...\n",
            "\n"
          ]
        },
        {
          "name": "stderr",
          "output_type": "stream",
          "text": [
            "Fetching Descriptions:  35%|███▍      | 200/572 [1:21:53<2:27:39, 23.82s/course, Course=Regular Expressions in Python]    "
          ]
        },
        {
          "name": "stdout",
          "output_type": "stream",
          "text": [
            "\n",
            "[✔] Regular Expressions in Python:\n",
            "As a data scientist, you will encounter many situations where you will need to extract key information from huge corpora of text, clean messy data containing strings, or detect and match patterns to f...\n",
            "\n"
          ]
        },
        {
          "name": "stderr",
          "output_type": "stream",
          "text": [
            "Fetching Descriptions:  35%|███▌      | 201/572 [1:22:28<2:46:55, 27.00s/course, Course=Introduction to Writing Functi...]"
          ]
        },
        {
          "name": "stdout",
          "output_type": "stream",
          "text": [
            "\n",
            "[✔] Introduction to Writing Functions in R:\n",
            "Being able to write your own functions makes your analyses more readable, with fewer errors, and more reusable from project to project. Function writing will increase your productivity more than any o...\n",
            "\n"
          ]
        },
        {
          "name": "stderr",
          "output_type": "stream",
          "text": [
            "Fetching Descriptions:  35%|███▌      | 202/572 [1:23:12<3:17:38, 32.05s/course, Course=Introduction to BigQuery]         "
          ]
        },
        {
          "name": "stdout",
          "output_type": "stream",
          "text": [
            "\n",
            "[✔] Introduction to BigQuery:\n",
            "Delve into the core concepts of BigQuery architecture, understanding its historical significance and comparing it to traditional database systems. Uncover the diverse range of applications where BigQu...\n",
            "\n"
          ]
        },
        {
          "name": "stderr",
          "output_type": "stream",
          "text": [
            "Fetching Descriptions:  35%|███▌      | 203/572 [1:23:31<2:54:13, 28.33s/course, Course=Machine Learning for Time Seri...]"
          ]
        },
        {
          "name": "stdout",
          "output_type": "stream",
          "text": [
            "\n",
            "[✔] Machine Learning for Time Series Data in Python:\n",
            "Time series data is ubiquitous. Whether it be stock market fluctuations, sensor data recording climate change, or activity in the brain, any signal that changes over time can be described as a time se...\n",
            "\n"
          ]
        },
        {
          "name": "stderr",
          "output_type": "stream",
          "text": [
            "Fetching Descriptions:  36%|███▌      | 204/572 [1:23:53<2:41:08, 26.27s/course, Course=DevOps Concepts]                  "
          ]
        },
        {
          "name": "stdout",
          "output_type": "stream",
          "text": [
            "\n",
            "[✔] DevOps Concepts:\n",
            "Discover the Basics of DevOps | DevOps is all about driving high-quality software development productively and collaboratively. It is a mix of cultural philosophies, practices, and tools to deliver so...\n",
            "\n"
          ]
        },
        {
          "name": "stderr",
          "output_type": "stream",
          "text": [
            "Fetching Descriptions:  36%|███▌      | 205/572 [1:24:26<2:54:16, 28.49s/course, Course=Introduction to Apache Kafka]"
          ]
        },
        {
          "name": "stdout",
          "output_type": "stream",
          "text": [
            "\n",
            "[✔] Introduction to Apache Kafka:\n",
            "Understanding Apache Kafka | In this course, you'll start by learning the fundamental purpose and components of an Apache Kafka installation. This initial phase introduces you to Kafka topics, the bac...\n",
            "\n"
          ]
        },
        {
          "name": "stderr",
          "output_type": "stream",
          "text": [
            "Fetching Descriptions:  36%|███▌      | 206/572 [1:24:47<2:38:42, 26.02s/course, Course=Data-Driven Decision Making fo...]"
          ]
        },
        {
          "name": "stdout",
          "output_type": "stream",
          "text": [
            "\n",
            "[✔] Data-Driven Decision Making for Business:\n",
            "Explore the Basics of Data Literacy | Data literacy is an essential skill for every role within an organization—not just data scientists and analysts. As companies collect more data than ever before, ...\n",
            "\n"
          ]
        },
        {
          "name": "stderr",
          "output_type": "stream",
          "text": [
            "Fetching Descriptions:  36%|███▌      | 207/572 [1:25:11<2:34:57, 25.47s/course, Course=Data Preparation in Alteryx]      "
          ]
        },
        {
          "name": "stdout",
          "output_type": "stream",
          "text": [
            "\n",
            "[✔] Data Preparation in Alteryx:\n",
            "Embark on a transformative journey through the world of data analytics with our comprehensive course on data preparation in Alteryx. Through engaging content and practical exercises, you will learn th...\n",
            "\n"
          ]
        },
        {
          "name": "stderr",
          "output_type": "stream",
          "text": [
            "Fetching Descriptions:  36%|███▋      | 208/572 [1:25:33<2:27:44, 24.35s/course, Course=Introduction to MLflow]     "
          ]
        },
        {
          "name": "stdout",
          "output_type": "stream",
          "text": [
            "\n",
            "[✔] Introduction to MLflow:\n",
            "Managing the end-to-end lifecycle of a Machine Learning application can be a daunting task for data scientists, engineers, and developers. Machine Learning applications are complex and have a proven t...\n",
            "\n"
          ]
        },
        {
          "name": "stderr",
          "output_type": "stream",
          "text": [
            "Fetching Descriptions:  37%|███▋      | 209/572 [1:25:53<2:19:08, 23.00s/course, Course=Introduction to Data Modeling ...]"
          ]
        },
        {
          "name": "stdout",
          "output_type": "stream",
          "text": [
            "\n",
            "[✔] Introduction to Data Modeling in Snowflake:\n",
            "Step right into the dynamic world of data modeling with Snowflake! Begin by uncovering the core concepts of data modeling, where you'll turn data jungles into neat, insightful gardens. You'll learn an...\n",
            "\n"
          ]
        },
        {
          "name": "stderr",
          "output_type": "stream",
          "text": [
            "Fetching Descriptions:  37%|███▋      | 210/572 [1:26:27<2:38:54, 26.34s/course, Course=Intermediate Google Sheets]       "
          ]
        },
        {
          "name": "stdout",
          "output_type": "stream",
          "text": [
            "\n",
            "[✔] Intermediate Google Sheets:\n",
            "This course will expand your Google Sheets vocabulary. You'll dive deeper into data types, practice manipulating numeric and logical data, explore missing data and error types, and calculate some summ...\n",
            "\n"
          ]
        },
        {
          "name": "stderr",
          "output_type": "stream",
          "text": [
            "Fetching Descriptions:  37%|███▋      | 211/572 [1:26:51<2:34:25, 25.67s/course, Course=Creating PostgreSQL Databases]"
          ]
        },
        {
          "name": "stdout",
          "output_type": "stream",
          "text": [
            "\n",
            "[✔] Creating PostgreSQL Databases:\n",
            "Learn How the PostgreSQL Create Database Function Works | Have you ever wanted to create and manage your own databases but thought such knowledge is reserved for database administrators? This course t...\n",
            "\n"
          ]
        },
        {
          "name": "stderr",
          "output_type": "stream",
          "text": [
            "Fetching Descriptions:  37%|███▋      | 212/572 [1:27:09<2:21:22, 23.56s/course, Course=Introduction to Deep Learning ...]"
          ]
        },
        {
          "name": "stdout",
          "output_type": "stream",
          "text": [
            "\n",
            "[✔] Introduction to Deep Learning with Keras:\n",
            "Deep learning is here to stay! It's the go-to technique to solve complex problems that arise with unstructured data and an incredible tool for innovation. Keras is one of the frameworks that make it e...\n",
            "\n"
          ]
        },
        {
          "name": "stderr",
          "output_type": "stream",
          "text": [
            "Fetching Descriptions:  37%|███▋      | 213/572 [1:27:28<2:12:43, 22.18s/course, Course=End-to-End Machine Learning]      "
          ]
        },
        {
          "name": "stdout",
          "output_type": "stream",
          "text": [
            "\n",
            "[✔] End-to-End Machine Learning:\n",
            "Introduction to End-to-End Machine Learning | Dive into the world of machine learning and discover how to design, train, and deploy end-to-end models with this comprehensive course. Through engaging, ...\n",
            "\n"
          ]
        },
        {
          "name": "stderr",
          "output_type": "stream",
          "text": [
            "Fetching Descriptions:  37%|███▋      | 214/572 [1:28:20<3:05:51, 31.15s/course, Course=Reporting with R Markdown]  "
          ]
        },
        {
          "name": "stdout",
          "output_type": "stream",
          "text": [
            "\n",
            "[✔] Reporting with R Markdown:\n",
            "R Markdown is an easy to use formatting language you can use to reveal insights from data and author your findings as a PDF, HTML file, or Shiny app. In this course, you'll learn how to create and mod...\n",
            "\n"
          ]
        },
        {
          "name": "stderr",
          "output_type": "stream",
          "text": [
            "Fetching Descriptions:  38%|███▊      | 215/572 [1:28:44<2:52:21, 28.97s/course, Course=Introduction to Polars]   "
          ]
        },
        {
          "name": "stdout",
          "output_type": "stream",
          "text": [
            "\n",
            "[✔] Introduction to Polars:\n",
            "Discover Efficient Data Manipulation with Polars | Polars is a powerful, general-purpose package for working with tabular data in Python. Designed for speed and efficiency, Polars is a great choice fo...\n",
            "\n"
          ]
        },
        {
          "name": "stderr",
          "output_type": "stream",
          "text": [
            "Fetching Descriptions:  38%|███▊      | 216/572 [1:29:06<2:38:04, 26.64s/course, Course=Reporting in SQL]      "
          ]
        },
        {
          "name": "stdout",
          "output_type": "stream",
          "text": [
            "\n",
            "[✔] Reporting in SQL:\n",
            "Master SQL Reporting | Build clear and valuable SQL reports and dashboards, and hone your skills in data cleaning and validation. | In this course, you will apply all the SQL concepts and functions yo...\n",
            "\n"
          ]
        },
        {
          "name": "stderr",
          "output_type": "stream",
          "text": [
            "Fetching Descriptions:  38%|███▊      | 217/572 [1:29:27<2:28:27, 25.09s/course, Course=Feature Engineering for Machin...]"
          ]
        },
        {
          "name": "stdout",
          "output_type": "stream",
          "text": [
            "\n",
            "[✔] Feature Engineering for Machine Learning in Python:\n",
            "Every day you read about the amazing breakthroughs in how the newest applications of machine learning are changing the world. Often this reporting glosses over the fact that a huge amount of data mung...\n",
            "\n"
          ]
        },
        {
          "name": "stderr",
          "output_type": "stream",
          "text": [
            "Fetching Descriptions:  38%|███▊      | 218/572 [1:29:54<2:31:41, 25.71s/course, Course=Reshaping Data with tidyr]        "
          ]
        },
        {
          "name": "stdout",
          "output_type": "stream",
          "text": [
            "\n",
            "[✔] Reshaping Data with tidyr:\n",
            "Data in the wild can be scary—when confronted with a complicated and messy dataset you may find yourself wondering, where do I even start? The tidyr package allows you to wrangle such beasts into nice...\n",
            "\n"
          ]
        },
        {
          "name": "stderr",
          "output_type": "stream",
          "text": [
            "Fetching Descriptions:  38%|███▊      | 219/572 [1:30:16<2:25:11, 24.68s/course, Course=Monetizing Artificial Intellig...]"
          ]
        },
        {
          "name": "stdout",
          "output_type": "stream",
          "text": [
            "\n",
            "[✔] Monetizing Artificial Intelligence:\n",
            "In this course, learners will explore the essentials of monetizing AI and data, focusing on evolving basic features into comprehensive platforms and aligning them with business strategies. The course ...\n",
            "\n"
          ]
        },
        {
          "name": "stderr",
          "output_type": "stream",
          "text": [
            "Fetching Descriptions:  38%|███▊      | 220/572 [1:30:36<2:14:59, 23.01s/course, Course=Data Management in Databricks]    "
          ]
        },
        {
          "name": "stdout",
          "output_type": "stream",
          "text": [
            "\n",
            "[✔] Data Management in Databricks:\n",
            "Build a Strong Foundation with Delta Lake | This course equips you with the skills to manage data effectively in Databricks, leveraging tools like Delta Lake and Databricks’ Data Explorer. You'll expl...\n",
            "\n"
          ]
        },
        {
          "name": "stderr",
          "output_type": "stream",
          "text": [
            "Fetching Descriptions:  39%|███▊      | 221/572 [1:30:54<2:07:14, 21.75s/course, Course=Developing Python Packages]   "
          ]
        },
        {
          "name": "stdout",
          "output_type": "stream",
          "text": [
            "\n",
            "[✔] Developing Python Packages:\n",
            "Do you find yourself copying and pasting the same code between files, wishing it was easier to reuse and share your awesome snippets? Wrapping your code into Python packages can help! In this course, ...\n",
            "\n"
          ]
        },
        {
          "name": "stderr",
          "output_type": "stream",
          "text": [
            "Fetching Descriptions:  39%|███▉      | 222/572 [1:31:16<2:07:26, 21.85s/course, Course=Machine Learning with PySpark]"
          ]
        },
        {
          "name": "stdout",
          "output_type": "stream",
          "text": [
            "\n",
            "[✔] Machine Learning with PySpark:\n",
            "Learn to Use Apache Spark for Machine Learning | Spark is a powerful, general purpose tool for working with Big Data. Spark transparently handles the distribution of compute tasks across a cluster. Th...\n",
            "\n"
          ]
        },
        {
          "name": "stderr",
          "output_type": "stream",
          "text": [
            "Fetching Descriptions:  39%|███▉      | 223/572 [1:31:37<2:04:52, 21.47s/course, Course=Explainable AI in Python]     "
          ]
        },
        {
          "name": "stdout",
          "output_type": "stream",
          "text": [
            "\n",
            "[✔] Explainable AI in Python:\n",
            "Discover the Power of Explainable AI | Embark on a journey into the intriguing world of explainable AI and uncover the mysteries behind AI decision-making. Ideal for data scientists and ML practitione...\n",
            "\n"
          ]
        },
        {
          "name": "stderr",
          "output_type": "stream",
          "text": [
            "Fetching Descriptions:  39%|███▉      | 224/572 [1:31:58<2:02:52, 21.19s/course, Course=Introduction to Bash Scripting]"
          ]
        },
        {
          "name": "stdout",
          "output_type": "stream",
          "text": [
            "\n",
            "[✔] Introduction to Bash Scripting:\n",
            "Bash is a concise, superfast, and robust scripting language for data and file manipulation. It’s a vital skill for building analytics pipelines in the cloud, favored by Linux users to work with data s...\n",
            "\n"
          ]
        },
        {
          "name": "stderr",
          "output_type": "stream",
          "text": [
            "Fetching Descriptions:  39%|███▉      | 225/572 [1:32:38<2:36:00, 26.97s/course, Course=A/B Testing in Python]         "
          ]
        },
        {
          "name": "stdout",
          "output_type": "stream",
          "text": [
            "\n",
            "[✔] A/B Testing in Python:\n",
            "In this course, you will dive into the world of A/B testing, gain a deep understanding of the practical use cases, and learn to design, run, and analyze these A/B tests in Python. | Discover How A/B T...\n",
            "\n"
          ]
        },
        {
          "name": "stderr",
          "output_type": "stream",
          "text": [
            "Fetching Descriptions:  40%|███▉      | 226/572 [1:32:57<2:21:07, 24.47s/course, Course=AWS Security and Cost Manageme...]"
          ]
        },
        {
          "name": "stdout",
          "output_type": "stream",
          "text": [
            "\n",
            "[✔] AWS Security and Cost Management Concepts:\n",
            "Secure and Optimize Your AWS Cloud Environment | Mastering cloud security and cost management is critical for any organization using AWS. This course equips you with the skills to secure your cloud in...\n",
            "\n"
          ]
        },
        {
          "name": "stderr",
          "output_type": "stream",
          "text": [
            "Fetching Descriptions:  40%|███▉      | 227/572 [1:33:18<2:14:51, 23.45s/course, Course=Introduction to Statistics in ...]"
          ]
        },
        {
          "name": "stdout",
          "output_type": "stream",
          "text": [
            "\n",
            "[✔] Introduction to Statistics in Google Sheets:\n",
            "Statistics is the science that deals with the collection, analysis, and interpretation of data. Having a solid foundation in statistics will help you effectively work with your data to test hypotheses...\n",
            "\n"
          ]
        },
        {
          "name": "stderr",
          "output_type": "stream",
          "text": [
            "Fetching Descriptions:  40%|███▉      | 228/572 [1:33:40<2:11:53, 23.00s/course, Course=Introduction to KNIME]            "
          ]
        },
        {
          "name": "stdout",
          "output_type": "stream",
          "text": [
            "\n",
            "[✔] Introduction to KNIME:\n",
            "Introduction to KNIME Analytics Platform | This course introduces you to the KNIME Analytics Platform, a no-code/low-code tool that streamlines data operations. With KNIME’s drag-and-drop interface, y...\n",
            "\n"
          ]
        },
        {
          "name": "stderr",
          "output_type": "stream",
          "text": [
            "Fetching Descriptions:  40%|████      | 229/572 [1:34:02<2:10:03, 22.75s/course, Course=Transformer Models with PyTorc...]"
          ]
        },
        {
          "name": "stdout",
          "output_type": "stream",
          "text": [
            "\n",
            "[✔] Transformer Models with PyTorch:\n",
            "Deep-Dive into the Transformer Architecture | Transformer models have revolutionized text modeling, kickstarting the generative AI boom by enabling today's large language models (LLMs). In this course...\n",
            "\n"
          ]
        },
        {
          "name": "stderr",
          "output_type": "stream",
          "text": [
            "Fetching Descriptions:  40%|████      | 230/572 [1:34:22<2:06:01, 22.11s/course, Course=Analyzing Marketing Campaigns ...]"
          ]
        },
        {
          "name": "stdout",
          "output_type": "stream",
          "text": [
            "\n",
            "[✔] Analyzing Marketing Campaigns with pandas:\n",
            "One of the biggest challenges when studying data science technical skills is understanding how those skills and concepts translate into real jobs. Whether you're looking to level up in your marketing ...\n",
            "\n"
          ]
        },
        {
          "name": "stderr",
          "output_type": "stream",
          "text": [
            "Fetching Descriptions:  40%|████      | 231/572 [1:35:04<2:39:17, 28.03s/course, Course=LLMOps Concepts]                  "
          ]
        },
        {
          "name": "stdout",
          "output_type": "stream",
          "text": [
            "\n",
            "[✔] LLMOps Concepts:\n",
            "An Introduction to LLMOps | Embark on a journey into Large Language Model Operations (LLMOps). This course, designed for enthusiasts and professionals alike, guides you through the basics, from ideati...\n",
            "\n"
          ]
        },
        {
          "name": "stderr",
          "output_type": "stream",
          "text": [
            "Fetching Descriptions:  41%|████      | 232/572 [1:35:24<2:24:13, 25.45s/course, Course=MLOps Deployment and Life Cycl...]"
          ]
        },
        {
          "name": "stdout",
          "output_type": "stream",
          "text": [
            "\n",
            "[✔] MLOps Deployment and Life Cycling:\n",
            "MLOps Deployment and LifeCycling | Explore the modern MLOps framework, including the lifecycle and deployment of machine learning models. In this course, you’ll learn to write ML code that minimizes t...\n",
            "\n"
          ]
        },
        {
          "name": "stderr",
          "output_type": "stream",
          "text": [
            "Fetching Descriptions:  41%|████      | 233/572 [1:35:48<2:21:44, 25.09s/course, Course=Manipulating Time Series Data ...]"
          ]
        },
        {
          "name": "stdout",
          "output_type": "stream",
          "text": [
            "\n",
            "[✔] Manipulating Time Series Data in R:\n",
            "Learn All About Time Series Data | Working with data that changes over time is an essential skill in data science. This kind of data is known as a time series. You'll learn the foundations of what a t...\n",
            "\n"
          ]
        },
        {
          "name": "stderr",
          "output_type": "stream",
          "text": [
            "Fetching Descriptions:  41%|████      | 234/572 [1:36:24<2:40:00, 28.40s/course, Course=Pivot Tables in Google Sheets]    "
          ]
        },
        {
          "name": "stdout",
          "output_type": "stream",
          "text": [
            "\n",
            "[✔] Pivot Tables in Google Sheets:\n",
            "Why Pivot Tables | Working with large quantities of data in Google Sheets can be difficult and time-consuming. Have you ever wished there was a quick and efficient way to organize and evaluate your da...\n",
            "\n"
          ]
        },
        {
          "name": "stderr",
          "output_type": "stream",
          "text": [
            "Fetching Descriptions:  41%|████      | 235/572 [1:36:46<2:28:24, 26.42s/course, Course=Dimensionality Reduction in Py...]"
          ]
        },
        {
          "name": "stdout",
          "output_type": "stream",
          "text": [
            "\n",
            "[✔] Dimensionality Reduction in Python:\n",
            "High-dimensional datasets can be overwhelming and leave you not knowing where to start. Typically, you’d visually explore a new dataset first, but when you have too many dimensions the classical appro...\n",
            "\n"
          ]
        },
        {
          "name": "stderr",
          "output_type": "stream",
          "text": [
            "Fetching Descriptions:  41%|████▏     | 236/572 [1:37:06<2:17:55, 24.63s/course, Course=Deep Learning for Images with ...]"
          ]
        },
        {
          "name": "stdout",
          "output_type": "stream",
          "text": [
            "\n",
            "[✔] Deep Learning for Images with PyTorch:\n",
            "This course on deep learning for images using PyTorch will equip you with the practical skills and knowledge to excel in image classification, object detection, segmentation, and generation. | Classif...\n",
            "\n"
          ]
        },
        {
          "name": "stderr",
          "output_type": "stream",
          "text": [
            "Fetching Descriptions:  41%|████▏     | 237/572 [1:37:27<2:10:46, 23.42s/course, Course=Introduction to TensorFlow in ...]"
          ]
        },
        {
          "name": "stdout",
          "output_type": "stream",
          "text": [
            "\n",
            "[✔] Introduction to TensorFlow in Python:\n",
            "Get an Introduction to TensorFlow | Not long ago, cutting-edge computer vision algorithms couldn’t differentiate between images of cats and dogs. Today, a skilled data scientist equipped with nothing ...\n",
            "\n"
          ]
        },
        {
          "name": "stderr",
          "output_type": "stream",
          "text": [
            "Fetching Descriptions:  42%|████▏     | 238/572 [1:37:48<2:05:39, 22.57s/course, Course=Data Visualization in Databric...]"
          ]
        },
        {
          "name": "stdout",
          "output_type": "stream",
          "text": [
            "\n",
            "[✔] Data Visualization in Databricks:\n",
            "Unleash the Power of Data Visualization with Databricks | In today’s data-driven world, the ability to transform raw data into actionable insights is essential. This course empowers you to master data...\n",
            "\n"
          ]
        },
        {
          "name": "stderr",
          "output_type": "stream",
          "text": [
            "Fetching Descriptions:  42%|████▏     | 239/572 [1:38:29<2:36:41, 28.23s/course, Course=Writing Efficient R Code]         "
          ]
        },
        {
          "name": "stdout",
          "output_type": "stream",
          "text": [
            "\n",
            "[✔] Writing Efficient R Code:\n",
            "The beauty of R is that it is built for performing data analysis. The downside is that sometimes R can be slow, thereby obstructing our analysis. For this reason, it is essential to become familiar wi...\n",
            "\n"
          ]
        },
        {
          "name": "stderr",
          "output_type": "stream",
          "text": [
            "Fetching Descriptions:  42%|████▏     | 240/572 [1:38:57<2:35:11, 28.05s/course, Course=Cleaning Data with PySpark]"
          ]
        },
        {
          "name": "stdout",
          "output_type": "stream",
          "text": [
            "\n",
            "[✔] Cleaning Data with PySpark:\n",
            "Working with data is tricky - working with millions or even billions of rows is worse. Did you receive some data processing code written on a laptop with fairly pristine data? Chances are you’ve proba...\n",
            "\n"
          ]
        },
        {
          "name": "stderr",
          "output_type": "stream",
          "text": [
            "Fetching Descriptions:  42%|████▏     | 241/572 [1:39:18<2:23:03, 25.93s/course, Course=Intermediate Object-Oriented P...]"
          ]
        },
        {
          "name": "stdout",
          "output_type": "stream",
          "text": [
            "\n",
            "[✔] Intermediate Object-Oriented Programming in Python:\n",
            "Level up your OOP skills! | Ready to unlock the power of object-oriented programming? You’re in the right place! In this course, you’ll build on the foundations of object-oriented programming to devel...\n",
            "\n"
          ]
        },
        {
          "name": "stderr",
          "output_type": "stream",
          "text": [
            "Fetching Descriptions:  42%|████▏     | 242/572 [1:39:39<2:14:59, 24.54s/course, Course=Introduction to R for Finance]    "
          ]
        },
        {
          "name": "stdout",
          "output_type": "stream",
          "text": [
            "\n",
            "[✔] Introduction to R for Finance:\n",
            "In this finance-oriented introduction to R, you will learn essential data structures such as lists and data frames and have the chance to apply that knowledge to real-world financial examples. By the ...\n",
            "\n"
          ]
        },
        {
          "name": "stderr",
          "output_type": "stream",
          "text": [
            "Fetching Descriptions:  42%|████▏     | 243/572 [1:39:59<2:06:28, 23.07s/course, Course=Calculations in Tableau]      "
          ]
        },
        {
          "name": "stdout",
          "output_type": "stream",
          "text": [
            "\n",
            "[✔] Calculations in Tableau:\n",
            "Learn how to create calculations in Tableau to bring your visualizations to the next level. | Applying calculations | In this interactive course, you’ll learn how to use functions for your Tableau cal...\n",
            "\n"
          ]
        },
        {
          "name": "stderr",
          "output_type": "stream",
          "text": [
            "Fetching Descriptions:  43%|████▎     | 244/572 [1:40:37<2:31:59, 27.80s/course, Course=Credit Risk Modeling in Python]"
          ]
        },
        {
          "name": "stdout",
          "output_type": "stream",
          "text": [
            "\n",
            "[✔] Credit Risk Modeling in Python:\n",
            "If you've ever applied for a credit card or loan, you know that financial firms process your information before making a decision.  This is because giving you a loan can have a serious financial impac...\n",
            "\n"
          ]
        },
        {
          "name": "stderr",
          "output_type": "stream",
          "text": [
            "Fetching Descriptions:  43%|████▎     | 245/572 [1:40:57<2:17:38, 25.25s/course, Course=Intermediate Regression with s...]"
          ]
        },
        {
          "name": "stdout",
          "output_type": "stream",
          "text": [
            "\n",
            "[✔] Intermediate Regression with statsmodels in Python:\n",
            "Linear regression and logistic regression are the two most widely used statistical models and act like master keys, unlocking the secrets hidden in datasets. In this course, you’ll build on the skills...\n",
            "\n"
          ]
        },
        {
          "name": "stderr",
          "output_type": "stream",
          "text": [
            "Fetching Descriptions:  43%|████▎     | 246/572 [1:41:40<2:46:46, 30.70s/course, Course=Reshaping Data with pandas]       "
          ]
        },
        {
          "name": "stdout",
          "output_type": "stream",
          "text": [
            "\n",
            "[✔] Reshaping Data with pandas:\n",
            "Often data is in a human-readable format, but it’s not suitable for data analysis. This is where pandas can help—it’s a powerful tool for reshaping DataFrames into different formats. In this course, y...\n",
            "\n"
          ]
        },
        {
          "name": "stderr",
          "output_type": "stream",
          "text": [
            "Fetching Descriptions:  43%|████▎     | 247/572 [1:42:05<2:37:31, 29.08s/course, Course=Unsupervised Learning in R]"
          ]
        },
        {
          "name": "stdout",
          "output_type": "stream",
          "text": [
            "\n",
            "[✔] Unsupervised Learning in R:\n",
            "Many times in machine learning, the goal is to find patterns in data without trying to make predictions. This is called unsupervised learning. One common use case of unsupervised learning is grouping ...\n",
            "\n"
          ]
        },
        {
          "name": "stderr",
          "output_type": "stream",
          "text": [
            "Fetching Descriptions:  43%|████▎     | 248/572 [1:42:25<2:21:22, 26.18s/course, Course=Introduction to NoSQL]     "
          ]
        },
        {
          "name": "stdout",
          "output_type": "stream",
          "text": [
            "\n",
            "[✔] Introduction to NoSQL:\n",
            "In recent years, NoSQL databases have seen a surge in popularity due to their ability to handle large volumes of unstructured data. Learning to leverage NoSQL tools such as column-oriented, document, ...\n",
            "\n"
          ]
        },
        {
          "name": "stderr",
          "output_type": "stream",
          "text": [
            "Fetching Descriptions:  44%|████▎     | 249/572 [1:42:43<2:08:18, 23.83s/course, Course=Hyperparameter Tuning in Pytho...]"
          ]
        },
        {
          "name": "stdout",
          "output_type": "stream",
          "text": [
            "\n",
            "[✔] Hyperparameter Tuning in Python:\n",
            "As a data or machine learning scientist, building powerful machine learning models depends heavily on the set of hyperparameters used. But with increasingly complex models with lots of options, how do...\n",
            "\n"
          ]
        },
        {
          "name": "stderr",
          "output_type": "stream",
          "text": [
            "Fetching Descriptions:  44%|████▎     | 250/572 [1:43:03<2:00:53, 22.53s/course, Course=Intermediate Docker]              "
          ]
        },
        {
          "name": "stdout",
          "output_type": "stream",
          "text": [
            "\n",
            "[✔] Intermediate Docker:\n",
            "This course expands on the knowledge gained from the Introduction to Docker course, delving deeper into containerization concepts and tools. We'll explore advanced topics such as container image manag...\n",
            "\n"
          ]
        },
        {
          "name": "stderr",
          "output_type": "stream",
          "text": [
            "Fetching Descriptions:  44%|████▍     | 251/572 [1:43:22<1:54:55, 21.48s/course, Course=Marketing Analytics for Busine...]"
          ]
        },
        {
          "name": "stdout",
          "output_type": "stream",
          "text": [
            "\n",
            "[✔] Marketing Analytics for Business:\n",
            "Understand the Importance of Marketing Analytics | In this no-code course, you’ll learn about the role of a Marketing Analyst and how they leverage data to better understand their customers and help c...\n",
            "\n"
          ]
        },
        {
          "name": "stderr",
          "output_type": "stream",
          "text": [
            "Fetching Descriptions:  44%|████▍     | 252/572 [1:43:54<2:12:37, 24.87s/course, Course=Explainable Artificial Intelli...]"
          ]
        },
        {
          "name": "stdout",
          "output_type": "stream",
          "text": [
            "\n",
            "[✔] Explainable Artificial Intelligence (XAI) Concepts:\n",
            "Understand the Core Concepts of Explainable Artificial Intelligence (XAI) | This course introduces the crucial field of XAI, focusing on making complex AI algorithms understandable and accessible. The...\n",
            "\n"
          ]
        },
        {
          "name": "stderr",
          "output_type": "stream",
          "text": [
            "Fetching Descriptions:  44%|████▍     | 253/572 [1:44:12<1:59:59, 22.57s/course, Course=Model Validation in Python]       "
          ]
        },
        {
          "name": "stdout",
          "output_type": "stream",
          "text": [
            "\n",
            "[✔] Model Validation in Python:\n",
            "Machine learning models are easier to implement now more than ever before. Without proper validation, the results of running new data through a model might not be as accurate as expected. Model valida...\n",
            "\n"
          ]
        },
        {
          "name": "stderr",
          "output_type": "stream",
          "text": [
            "Fetching Descriptions:  44%|████▍     | 254/572 [1:44:31<1:54:51, 21.67s/course, Course=Time Series Analysis in R] "
          ]
        },
        {
          "name": "stdout",
          "output_type": "stream",
          "text": [
            "\n",
            "[✔] Time Series Analysis in R:\n",
            "Many phenomena in our day-to-day lives, such as the movement of stock prices, are measured in intervals over a period of time. Time series analysis methods are extremely useful for analyzing these spe...\n",
            "\n"
          ]
        },
        {
          "name": "stderr",
          "output_type": "stream",
          "text": [
            "Fetching Descriptions:  45%|████▍     | 255/572 [1:44:52<1:52:31, 21.30s/course, Course=Introduction to Azure]    "
          ]
        },
        {
          "name": "stdout",
          "output_type": "stream",
          "text": [
            "\n",
            "[✔] Introduction to Azure:\n",
            "Welcome to Introduction to Microsoft Azure | Take your first steps with Microsoft Azure, a leading cloud platform offering a wide range of services to power your applications and infrastructure. This ...\n",
            "\n"
          ]
        },
        {
          "name": "stderr",
          "output_type": "stream",
          "text": [
            "Fetching Descriptions:  45%|████▍     | 256/572 [1:45:10<1:48:12, 20.55s/course, Course=Statistical Thinking in Python...]"
          ]
        },
        {
          "name": "stdout",
          "output_type": "stream",
          "text": [
            "\n",
            "[✔] Statistical Thinking in Python (Part 1):\n",
            "After all of the hard work of acquiring data and getting them into a form you can work with, you ultimately want to make clear, succinct conclusions from them. This crucial last step of a data analysi...\n",
            "\n"
          ]
        },
        {
          "name": "stderr",
          "output_type": "stream",
          "text": [
            "Fetching Descriptions:  45%|████▍     | 257/572 [1:45:29<1:45:25, 20.08s/course, Course=Statistical Techniques in Tabl...]"
          ]
        },
        {
          "name": "stdout",
          "output_type": "stream",
          "text": [
            "\n",
            "[✔] Statistical Techniques in Tableau:\n",
            "Use Built-in Statistical Functions | Take your reporting skills to the next level with Tableau’s built-in statistical functions. | Perform EDA and Create Regression Models | Using drag and drop analyt...\n",
            "\n"
          ]
        },
        {
          "name": "stderr",
          "output_type": "stream",
          "text": [
            "Fetching Descriptions:  45%|████▌     | 258/572 [1:45:46<1:39:52, 19.08s/course, Course=NoSQL Concepts]                   "
          ]
        },
        {
          "name": "stdout",
          "output_type": "stream",
          "text": [
            "\n",
            "[✔] NoSQL Concepts:\n",
            "Confused about NoSQL and how it differs from SQL? You've come to the right place! In this conceptual course (no coding required), you’ll be introduced tolearn the four major NoSQL databases, including...\n",
            "\n"
          ]
        },
        {
          "name": "stderr",
          "output_type": "stream",
          "text": [
            "Fetching Descriptions:  45%|████▌     | 259/572 [1:46:03<1:35:53, 18.38s/course, Course=Introduction to Portfolio Risk...]"
          ]
        },
        {
          "name": "stdout",
          "output_type": "stream",
          "text": [
            "\n",
            "[✔] Introduction to Portfolio Risk Management in Python:\n",
            "This course will teach you how to evaluate basic portfolio risk and returns like a quantitative analyst on Wall Street. This is the most critical step towards being able to fully automate your portfol...\n",
            "\n"
          ]
        },
        {
          "name": "stderr",
          "output_type": "stream",
          "text": [
            "Fetching Descriptions:  45%|████▌     | 260/572 [1:46:21<1:35:42, 18.40s/course, Course=Financial Trading in Python]      "
          ]
        },
        {
          "name": "stdout",
          "output_type": "stream",
          "text": [
            "\n",
            "[✔] Financial Trading in Python:\n",
            "Are you fascinated by the financial markets and interested in financial trading? This course will help you to understand why people trade, what the different trading styles are, and how to use Python ...\n",
            "\n"
          ]
        },
        {
          "name": "stderr",
          "output_type": "stream",
          "text": [
            "Fetching Descriptions:  46%|████▌     | 261/572 [1:46:41<1:37:37, 18.83s/course, Course=Deep Learning for Text with Py...]"
          ]
        },
        {
          "name": "stdout",
          "output_type": "stream",
          "text": [
            "\n",
            "[✔] Deep Learning for Text with PyTorch:\n",
            "Learn Text Processing Techniques | You'll dive into the fundamental principles of text processing, learning how to preprocess and encode text data for deep learning models. You'll explore techniques s...\n",
            "\n"
          ]
        },
        {
          "name": "stderr",
          "output_type": "stream",
          "text": [
            "Fetching Descriptions:  46%|████▌     | 262/572 [1:47:01<1:39:11, 19.20s/course, Course=Practicing Coding Interview Qu...]"
          ]
        },
        {
          "name": "stdout",
          "output_type": "stream",
          "text": [
            "\n",
            "[✔] Practicing Coding Interview Questions in Python:\n",
            "Coding interviews can be challenging. You might be asked questions to test your knowledge of a programming language. On the other side, you can be given a task to solve in order to check how you think...\n",
            "\n"
          ]
        },
        {
          "name": "stderr",
          "output_type": "stream",
          "text": [
            "Fetching Descriptions:  46%|████▌     | 263/572 [1:47:18<1:35:25, 18.53s/course, Course=Building Web Applications with...]"
          ]
        },
        {
          "name": "stdout",
          "output_type": "stream",
          "text": [
            "\n",
            "[✔] Building Web Applications with Shiny in R:\n",
            "Shiny is an R package that makes it easy to build highly interactive web apps directly in R. Using Shiny, data scientists can create interactive web apps that allow your team to dive in and explore yo...\n",
            "\n"
          ]
        },
        {
          "name": "stderr",
          "output_type": "stream",
          "text": [
            "Fetching Descriptions:  46%|████▌     | 264/572 [1:47:36<1:33:44, 18.26s/course, Course=Understanding the EU AI Act]      "
          ]
        },
        {
          "name": "stdout",
          "output_type": "stream",
          "text": [
            "\n",
            "[✔] Understanding the EU AI Act:\n",
            "Introduction to the EU AI Act | It’s time to act on Artificial Intelligence! This course provides an in-depth exploration of the new regulations introduced as part of the new EU AI Act through practic...\n",
            "\n"
          ]
        },
        {
          "name": "stderr",
          "output_type": "stream",
          "text": [
            "Fetching Descriptions:  46%|████▋     | 265/572 [1:47:54<1:33:48, 18.33s/course, Course=AI Security and Risk Managemen...]"
          ]
        },
        {
          "name": "stdout",
          "output_type": "stream",
          "text": [
            "\n",
            "[✔] AI Security and Risk Management:\n",
            "AI's potential is undeniable, but ensuring its security requires knowledge and action! Prepare to learn valuable skills with this introductory course that will empower you to identify and address key ...\n",
            "\n"
          ]
        },
        {
          "name": "stderr",
          "output_type": "stream",
          "text": [
            "Fetching Descriptions:  47%|████▋     | 266/572 [1:48:16<1:38:35, 19.33s/course, Course=Building Dashboards with Dash ...]"
          ]
        },
        {
          "name": "stdout",
          "output_type": "stream",
          "text": [
            "\n",
            "[✔] Building Dashboards with Dash and Plotly:\n",
            "You don’t need expensive vendor software to create insight-rich dashboards—you can do this using Plotly and Dash. Come on a journey and learn how to turn your Plotly visualizations into interactive da...\n",
            "\n"
          ]
        },
        {
          "name": "stderr",
          "output_type": "stream",
          "text": [
            "Fetching Descriptions:  47%|████▋     | 267/572 [1:48:33<1:34:14, 18.54s/course, Course=Modeling with Data in the Tidy...]"
          ]
        },
        {
          "name": "stdout",
          "output_type": "stream",
          "text": [
            "\n",
            "[✔] Modeling with Data in the Tidyverse:\n",
            "In this course, you will learn to model with data. Models attempt to capture the relationship between an outcome variable of interest and a series of explanatory/predictor variables. Such models can b...\n",
            "\n"
          ]
        },
        {
          "name": "stderr",
          "output_type": "stream",
          "text": [
            "Fetching Descriptions:  47%|████▋     | 268/572 [1:48:52<1:34:36, 18.67s/course, Course=Intermediate dbt]                 "
          ]
        },
        {
          "name": "stdout",
          "output_type": "stream",
          "text": [
            "\n",
            "[✔] Intermediate dbt:\n",
            "Master dbt Workflows | Take your dbt skills to the next level and learn how to implement robust, scalable data transformation workflows in a production environment. This course is designed for data en...\n",
            "\n"
          ]
        },
        {
          "name": "stderr",
          "output_type": "stream",
          "text": [
            "Fetching Descriptions:  47%|████▋     | 269/572 [1:49:09<1:32:48, 18.38s/course, Course=Supervised Learning in R: Regr...]"
          ]
        },
        {
          "name": "stdout",
          "output_type": "stream",
          "text": [
            "\n",
            "[✔] Supervised Learning in R: Regression:\n",
            "From a machine learning perspective, regression is the task of predicting numerical outcomes from various inputs. In this course, you'll learn about different regression models, how to train these mod...\n",
            "\n"
          ]
        },
        {
          "name": "stderr",
          "output_type": "stream",
          "text": [
            "Fetching Descriptions:  47%|████▋     | 270/572 [1:49:31<1:37:17, 19.33s/course, Course=ARIMA Models in R]                "
          ]
        },
        {
          "name": "stdout",
          "output_type": "stream",
          "text": [
            "\n",
            "[✔] ARIMA Models in R:\n",
            "In this course, you will become an expert in fitting ARIMA models to time series data using R.  First, you will explore the nature of time series data using the tools in the R stats package.  Next, yo...\n",
            "\n"
          ]
        },
        {
          "name": "stderr",
          "output_type": "stream",
          "text": [
            "Fetching Descriptions:  47%|████▋     | 271/572 [1:49:49<1:35:36, 19.06s/course, Course=Introduction to Oracle SQL]"
          ]
        },
        {
          "name": "stdout",
          "output_type": "stream",
          "text": [
            "\n",
            "[✔] Introduction to Oracle SQL:\n",
            "Gain an Introduction in Oracle SQL | Oracle SQL is one of the most widely used database management systems around the world. It's well suited to power primarily commercial and enterprise applications,...\n",
            "\n"
          ]
        },
        {
          "name": "stderr",
          "output_type": "stream",
          "text": [
            "Fetching Descriptions:  48%|████▊     | 272/572 [1:50:07<1:32:48, 18.56s/course, Course=Forecasting in R]          "
          ]
        },
        {
          "name": "stdout",
          "output_type": "stream",
          "text": [
            "\n",
            "[✔] Forecasting in R:\n",
            "Use Forecasting in R for Data-Driven Decision Making | This course provides an introduction to time series forecasting using R. | Forecasting involves making predictions about the future. It is requir...\n",
            "\n"
          ]
        },
        {
          "name": "stderr",
          "output_type": "stream",
          "text": [
            "Fetching Descriptions:  48%|████▊     | 273/572 [1:50:27<1:34:16, 18.92s/course, Course=Introduction to Data Visualiza...]"
          ]
        },
        {
          "name": "stdout",
          "output_type": "stream",
          "text": [
            "\n",
            "[✔] Introduction to Data Visualization with Plotly in Python:\n",
            "Producing high-quality, interactive visualizations historically required complex code, extensive time, and effort. Not anymore. In this course, you’ll learn how to create publication-quality graphs ha...\n",
            "\n"
          ]
        },
        {
          "name": "stderr",
          "output_type": "stream",
          "text": [
            "Fetching Descriptions:  48%|████▊     | 274/572 [1:50:46<1:35:10, 19.16s/course, Course=ARIMA Models in Python]           "
          ]
        },
        {
          "name": "stdout",
          "output_type": "stream",
          "text": [
            "\n",
            "[✔] ARIMA Models in Python:\n",
            "Have you ever tried to predict the future? What lies ahead is a mystery that is usually only solved by waiting. In this course, you can stop waiting and dive into the world of time series modeling usi...\n",
            "\n"
          ]
        },
        {
          "name": "stderr",
          "output_type": "stream",
          "text": [
            "Fetching Descriptions:  48%|████▊     | 275/572 [1:51:03<1:30:52, 18.36s/course, Course=Working with Geospatial Data i...]"
          ]
        },
        {
          "name": "stdout",
          "output_type": "stream",
          "text": [
            "\n",
            "[✔] Working with Geospatial Data in Python:\n",
            "A good proportion of the data out there in the real world is inherently spatial. From the population recorded in the national census, to every shop in your neighborhood, the majority of datasets have ...\n",
            "\n"
          ]
        },
        {
          "name": "stderr",
          "output_type": "stream",
          "text": [
            "Fetching Descriptions:  48%|████▊     | 276/572 [1:51:22<1:32:15, 18.70s/course, Course=User-Oriented Design in Power ...]"
          ]
        },
        {
          "name": "stdout",
          "output_type": "stream",
          "text": [
            "\n",
            "[✔] User-Oriented Design in Power BI:\n",
            "Design with Users in Mind | In this course you learn how to design with users in mind. | Optimize Visualizations | You’ll get introduced to some best practices in data visualization and optimize your ...\n",
            "\n"
          ]
        },
        {
          "name": "stderr",
          "output_type": "stream",
          "text": [
            "Fetching Descriptions:  48%|████▊     | 277/572 [1:51:42<1:33:07, 18.94s/course, Course=Generalized Linear Models in R]   "
          ]
        },
        {
          "name": "stdout",
          "output_type": "stream",
          "text": [
            "\n",
            "[✔] Generalized Linear Models in R:\n",
            "Linear regression serves as a workhorse of statistics, but cannot handle some types of complex data. A generalized linear model (GLM) expands upon linear regression to include non-normal distributions...\n",
            "\n"
          ]
        },
        {
          "name": "stderr",
          "output_type": "stream",
          "text": [
            "Fetching Descriptions:  49%|████▊     | 278/572 [1:51:59<1:29:54, 18.35s/course, Course=Feature Engineering for NLP in...]"
          ]
        },
        {
          "name": "stdout",
          "output_type": "stream",
          "text": [
            "\n",
            "[✔] Feature Engineering for NLP in Python:\n",
            "In this course, you will learn techniques that will allow you to extract useful information from text and process them into a format suitable for applying ML models. More specifically, you will learn ...\n",
            "\n"
          ]
        },
        {
          "name": "stderr",
          "output_type": "stream",
          "text": [
            "Fetching Descriptions:  49%|████▉     | 279/572 [1:52:17<1:30:05, 18.45s/course, Course=Introduction to Financial Conc...]"
          ]
        },
        {
          "name": "stdout",
          "output_type": "stream",
          "text": [
            "\n",
            "[✔] Introduction to Financial Concepts in Python:\n",
            "Understanding the basic principles of finance is essential for making important financial decisions ranging from taking out a student loan to constructing an investment portfolio. Combining basic fina...\n",
            "\n"
          ]
        },
        {
          "name": "stderr",
          "output_type": "stream",
          "text": [
            "Fetching Descriptions:  49%|████▉     | 280/572 [1:52:38<1:32:57, 19.10s/course, Course=Data Storytelling Case Study: ...]"
          ]
        },
        {
          "name": "stdout",
          "output_type": "stream",
          "text": [
            "\n",
            "[✔] Data Storytelling Case Study: College Majors:\n",
            "Stories are all around us! In the data world, stories help us solve business problems and convey valuable findings to stakeholders. Although often overshadowed by flashier technical topics such as ML ...\n",
            "\n"
          ]
        },
        {
          "name": "stderr",
          "output_type": "stream",
          "text": [
            "Fetching Descriptions:  49%|████▉     | 281/572 [1:52:56<1:31:40, 18.90s/course, Course=CI/CD for Machine Learning]       "
          ]
        },
        {
          "name": "stdout",
          "output_type": "stream",
          "text": [
            "\n",
            "[✔] CI/CD for Machine Learning:\n",
            "The course will empower you to streamline your machine learning development processes, enhancing efficiency, reliability, and reproducibility in your projects. Throughout the course, you'll develop a ...\n",
            "\n"
          ]
        },
        {
          "name": "stderr",
          "output_type": "stream",
          "text": [
            "Fetching Descriptions:  49%|████▉     | 282/572 [1:53:14<1:29:08, 18.44s/course, Course=Case Study: Analyzing Job Mark...]"
          ]
        },
        {
          "name": "stdout",
          "output_type": "stream",
          "text": [
            "\n",
            "[✔] Case Study: Analyzing Job Market Data in Tableau:\n",
            "Utilize Your Skills with a Tableau Case Study | In this Tableau case study, you’ll explore a real-world job posting dataset to uncover insights for a fictional recruitment company called DataSearch. U...\n",
            "\n"
          ]
        },
        {
          "name": "stderr",
          "output_type": "stream",
          "text": [
            "Fetching Descriptions:  49%|████▉     | 283/572 [1:53:34<1:31:10, 18.93s/course, Course=Understanding GDPR]               "
          ]
        },
        {
          "name": "stdout",
          "output_type": "stream",
          "text": [
            "\n",
            "[✔] Understanding GDPR:\n",
            "Understand GDPR | Learn about GDPR  without the complex legal jargon. As you’ll work through this course, you’ll work on a variety of concepts that will be elaborated with practical examples and use c...\n",
            "\n"
          ]
        },
        {
          "name": "stderr",
          "output_type": "stream",
          "text": [
            "Fetching Descriptions:  50%|████▉     | 284/572 [1:53:52<1:29:48, 18.71s/course, Course=Data Visualization in Google S...]"
          ]
        },
        {
          "name": "stdout",
          "output_type": "stream",
          "text": [
            "\n",
            "[✔] Data Visualization in Google Sheets:\n",
            "A picture can tell a thousand words - but only if you use the right picture! This course teaches you the fundamentals of data visualization with Google Sheets. | Chart Creation Techniques | In this co...\n",
            "\n"
          ]
        },
        {
          "name": "stderr",
          "output_type": "stream",
          "text": [
            "Fetching Descriptions:  50%|████▉     | 285/572 [1:54:09<1:27:04, 18.20s/course, Course=Cleaning Data with Generative ...]"
          ]
        },
        {
          "name": "stdout",
          "output_type": "stream",
          "text": [
            "\n",
            "[✔] Cleaning Data with Generative AI:\n",
            "Are you new to data analytics? Have you had the experience of navigating through messy datasets that aren’t useable for analysis? If only there were a tool to support you through cleaning your dataset...\n",
            "\n"
          ]
        },
        {
          "name": "stderr",
          "output_type": "stream",
          "text": [
            "Fetching Descriptions:  50%|█████     | 286/572 [1:54:29<1:28:31, 18.57s/course, Course=Case Study: Analyzing Healthca...]"
          ]
        },
        {
          "name": "stdout",
          "output_type": "stream",
          "text": [
            "\n",
            "[✔] Case Study: Analyzing Healthcare Data in Power BI:\n",
            "In healthcare, improving efficiency while maintaining high-quality patient care is a top priority. | Use Power BI to Analyze Healthcare Data | In this Power BI Case study, you’ll explore a real-world ...\n",
            "\n"
          ]
        },
        {
          "name": "stderr",
          "output_type": "stream",
          "text": [
            "Fetching Descriptions:  50%|█████     | 287/572 [1:54:46<1:26:36, 18.23s/course, Course=Introduction to Databases in P...]"
          ]
        },
        {
          "name": "stdout",
          "output_type": "stream",
          "text": [
            "\n",
            "[✔] Introduction to Databases in Python:\n",
            "In this course, you'll learn the basics of using SQL with Python. This will be useful because databases are ubiquitous and data scientists, analysts, and engineers must interact with them constantly. ...\n",
            "\n"
          ]
        },
        {
          "name": "stderr",
          "output_type": "stream",
          "text": [
            "Fetching Descriptions:  50%|█████     | 288/572 [1:55:05<1:27:16, 18.44s/course, Course=Experimental Design in R]         "
          ]
        },
        {
          "name": "stdout",
          "output_type": "stream",
          "text": [
            "\n",
            "[✔] Experimental Design in R:\n",
            "Experimental design is a crucial part of data analysis in any field, whether you work in business, health or tech. If you want to use data to answer a question, you need to design an experiment! In th...\n",
            "\n"
          ]
        },
        {
          "name": "stderr",
          "output_type": "stream",
          "text": [
            "Fetching Descriptions:  51%|█████     | 289/572 [1:55:24<1:27:50, 18.62s/course, Course=Introduction to GCP]     "
          ]
        },
        {
          "name": "stdout",
          "output_type": "stream",
          "text": [
            "\n",
            "[✔] Introduction to GCP:\n",
            "Understanding the Google Cloud Platform | This initial section of the course introduces Google Cloud Platform (GCP), providing an in-depth look at its architecture, core components, and how these serv...\n",
            "\n"
          ]
        },
        {
          "name": "stderr",
          "output_type": "stream",
          "text": [
            "Fetching Descriptions:  51%|█████     | 290/572 [1:55:42<1:26:55, 18.49s/course, Course=Data Transformation in Alteryx]"
          ]
        },
        {
          "name": "stdout",
          "output_type": "stream",
          "text": [
            "\n",
            "[✔] Data Transformation in Alteryx:\n",
            "Mastering Data Transformation Techniques | Embark on a journey to master the art of data manipulation with the \"Data Transformation in Alteryx\" course. This comprehensive course begins by introducing ...\n",
            "\n"
          ]
        },
        {
          "name": "stderr",
          "output_type": "stream",
          "text": [
            "Fetching Descriptions:  51%|█████     | 291/572 [1:56:01<1:27:21, 18.65s/course, Course=Image Modeling with Keras]     "
          ]
        },
        {
          "name": "stdout",
          "output_type": "stream",
          "text": [
            "\n",
            "[✔] Image Modeling with Keras:\n",
            "Learn to Use Convolutional Neural Networks in Python | Image model often requires deep learning methods that use data to train neural   network algorithms to do various machine learning tasks. Convolu...\n",
            "\n"
          ]
        },
        {
          "name": "stderr",
          "output_type": "stream",
          "text": [
            "Fetching Descriptions:  51%|█████     | 292/572 [1:56:21<1:28:13, 18.90s/course, Course=Machine Learning for Finance i...]"
          ]
        },
        {
          "name": "stdout",
          "output_type": "stream",
          "text": [
            "\n",
            "[✔] Machine Learning for Finance in Python:\n",
            "How to Predict Stock Prices with Machine Learning | Machine learning has a huge number of applications within the finance industry and is commonly used to predict stock values and maintain a strong st...\n",
            "\n"
          ]
        },
        {
          "name": "stderr",
          "output_type": "stream",
          "text": [
            "Fetching Descriptions:  51%|█████     | 293/572 [1:56:39<1:27:04, 18.72s/course, Course=Bayesian Data Analysis in Pyth...]"
          ]
        },
        {
          "name": "stdout",
          "output_type": "stream",
          "text": [
            "\n",
            "[✔] Bayesian Data Analysis in Python:\n",
            "Bayesian data analysis is an increasingly popular method of statistical inference, used to determine conditional probability without having to rely on fixed constants such as confidence levels or p-va...\n",
            "\n"
          ]
        },
        {
          "name": "stderr",
          "output_type": "stream",
          "text": [
            "Fetching Descriptions:  51%|█████▏    | 294/572 [1:56:59<1:28:41, 19.14s/course, Course=Deep Reinforcement Learning in...]"
          ]
        },
        {
          "name": "stdout",
          "output_type": "stream",
          "text": [
            "\n",
            "[✔] Deep Reinforcement Learning in Python:\n",
            "Discover the cutting-edge techniques that empower machines to learn and interact with their environments. You will dive into the world of Deep Reinforcement Learning (DRL) and gain hands-on experience...\n",
            "\n"
          ]
        },
        {
          "name": "stderr",
          "output_type": "stream",
          "text": [
            "Fetching Descriptions:  52%|█████▏    | 295/572 [1:57:17<1:27:06, 18.87s/course, Course=Writing Functions and Stored P...]"
          ]
        },
        {
          "name": "stdout",
          "output_type": "stream",
          "text": [
            "\n",
            "[✔] Writing Functions and Stored Procedures in SQL Server:\n",
            "Take your SQL Server programming to the next level. First, we demystify how to manipulate datetime data by performing temporal exploratory data analysis with the Washington DC BikeShare transactional ...\n",
            "\n"
          ]
        },
        {
          "name": "stderr",
          "output_type": "stream",
          "text": [
            "Fetching Descriptions:  52%|█████▏    | 296/572 [1:57:37<1:27:42, 19.07s/course, Course=Introduction to Text Analysis ...]"
          ]
        },
        {
          "name": "stdout",
          "output_type": "stream",
          "text": [
            "\n",
            "[✔] Introduction to Text Analysis in R:\n",
            "From social media to product reviews, text is an increasingly important type of data across applications, including marketing analytics. In many instances, text is replacing other forms of unstructure...\n",
            "\n"
          ]
        },
        {
          "name": "stderr",
          "output_type": "stream",
          "text": [
            "Fetching Descriptions:  52%|█████▏    | 297/572 [1:57:57<1:28:21, 19.28s/course, Course=Foundations of Probability in ...]"
          ]
        },
        {
          "name": "stdout",
          "output_type": "stream",
          "text": [
            "\n",
            "[✔] Foundations of Probability in R:\n",
            "Probability is the study of making predictions about random phenomena. In this course, you'll learn about the concepts of random variables, distributions, and conditioning, using the example of coin f...\n",
            "\n"
          ]
        },
        {
          "name": "stderr",
          "output_type": "stream",
          "text": [
            "Fetching Descriptions:  52%|█████▏    | 298/572 [1:58:14<1:25:38, 18.75s/course, Course=Building Chatbots in Python]      "
          ]
        },
        {
          "name": "stdout",
          "output_type": "stream",
          "text": [
            "\n",
            "[✔] Building Chatbots in Python:\n",
            "Messaging and voice-controlled devices are the next big platforms, and conversational computing has a big role to play in creating engaging augmented and virtual reality experiences. This course will ...\n",
            "\n"
          ]
        },
        {
          "name": "stderr",
          "output_type": "stream",
          "text": [
            "Fetching Descriptions:  52%|█████▏    | 299/572 [1:58:32<1:24:15, 18.52s/course, Course=Sentiment Analysis in Python]"
          ]
        },
        {
          "name": "stdout",
          "output_type": "stream",
          "text": [
            "\n",
            "[✔] Sentiment Analysis in Python:\n",
            "Have you left a review to express how you feel about a product or a service? And do you have a habit of checking a product’s reviews online before you buy it? This kind of information is valuable not ...\n",
            "\n"
          ]
        },
        {
          "name": "stderr",
          "output_type": "stream",
          "text": [
            "Fetching Descriptions:  52%|█████▏    | 300/572 [1:58:50<1:22:36, 18.22s/course, Course=Foundations of Inference in R]"
          ]
        },
        {
          "name": "stdout",
          "output_type": "stream",
          "text": [
            "\n",
            "[✔] Foundations of Inference in R:\n",
            "One of the foundational aspects of statistical analysis is inference, or the process of drawing conclusions about a larger population from a sample of data. Although counter intuitive, the standard pr...\n",
            "\n"
          ]
        },
        {
          "name": "stderr",
          "output_type": "stream",
          "text": [
            "Fetching Descriptions:  53%|█████▎    | 301/572 [1:59:07<1:21:40, 18.08s/course, Course=Quantitative Risk Management i...]"
          ]
        },
        {
          "name": "stdout",
          "output_type": "stream",
          "text": [
            "\n",
            "[✔] Quantitative Risk Management in Python:\n",
            "Managing risk using Quantitative Risk Management is a vital task across the banking, insurance, and asset management industries. It’s essential that financial risk analysts, regulators, and actuaries ...\n",
            "\n"
          ]
        },
        {
          "name": "stderr",
          "output_type": "stream",
          "text": [
            "Fetching Descriptions:  53%|█████▎    | 302/572 [1:59:28<1:24:44, 18.83s/course, Course=Fraud Detection in Python]        "
          ]
        },
        {
          "name": "stdout",
          "output_type": "stream",
          "text": [
            "\n",
            "[✔] Fraud Detection in Python:\n",
            "A typical organization loses an estimated 5% of its yearly revenue to fraud. In this course, you will learn how to fight fraud by using data. For example, you'll learn how to apply supervised learning...\n",
            "\n"
          ]
        },
        {
          "name": "stderr",
          "output_type": "stream",
          "text": [
            "Fetching Descriptions:  53%|█████▎    | 303/572 [1:59:46<1:23:44, 18.68s/course, Course=Natural Language Processing wi...]"
          ]
        },
        {
          "name": "stdout",
          "output_type": "stream",
          "text": [
            "\n",
            "[✔] Natural Language Processing with spaCy:\n",
            "Meet spaCy, an Industry-Standard for NLP | In this course, you will learn how to use spaCy, a fast-growing industry-standard library, to perform various natural language processing tasks such as token...\n",
            "\n"
          ]
        },
        {
          "name": "stderr",
          "output_type": "stream",
          "text": [
            "Fetching Descriptions:  53%|█████▎    | 304/572 [2:00:05<1:23:33, 18.71s/course, Course=Working with Dates and Times i...]"
          ]
        },
        {
          "name": "stdout",
          "output_type": "stream",
          "text": [
            "\n",
            "[✔] Working with Dates and Times in R:\n",
            "Dates and times are abundant in data and essential for answering questions that  start with when, how long, or how often.  However, they can be tricky, as they come in a variety of formats and can beh...\n",
            "\n"
          ]
        },
        {
          "name": "stderr",
          "output_type": "stream",
          "text": [
            "Fetching Descriptions:  53%|█████▎    | 305/572 [2:00:23<1:22:37, 18.57s/course, Course=Vector Databases for Embedding...]"
          ]
        },
        {
          "name": "stdout",
          "output_type": "stream",
          "text": [
            "\n",
            "[✔] Vector Databases for Embeddings with Pinecone:\n",
            "Unlock the Power of Embeddings with Pinecone's Vector Database | In the introductory chapters, you'll delve into the fundamentals of Pinecone, understanding its core capabilities, benefits, and key co...\n",
            "\n"
          ]
        },
        {
          "name": "stderr",
          "output_type": "stream",
          "text": [
            "Fetching Descriptions:  53%|█████▎    | 306/572 [2:00:42<1:22:51, 18.69s/course, Course=Visualization Best Practices i...]"
          ]
        },
        {
          "name": "stdout",
          "output_type": "stream",
          "text": [
            "\n",
            "[✔] Visualization Best Practices in R:\n",
            "This course will help you take your data visualization skills beyond the basics and hone them into a powerful member of your data science toolkit. Over the lessons we will use two interesting open dat...\n",
            "\n"
          ]
        },
        {
          "name": "stderr",
          "output_type": "stream",
          "text": [
            "Fetching Descriptions:  54%|█████▎    | 307/572 [2:01:02<1:23:34, 18.92s/course, Course=Intermediate Data Visualizatio...]"
          ]
        },
        {
          "name": "stdout",
          "output_type": "stream",
          "text": [
            "\n",
            "[✔] Intermediate Data Visualization with Seaborn:\n",
            "Do you want to make beautiful, informative visualizations with ease? If so, then you must learn seaborn! Seaborn is a visualization library that is an essential part of the python data science toolkit...\n",
            "\n"
          ]
        },
        {
          "name": "stderr",
          "output_type": "stream",
          "text": [
            "Fetching Descriptions:  54%|█████▍    | 308/572 [2:01:20<1:22:42, 18.80s/course, Course=Case Study: Analyzing Job Mark...]"
          ]
        },
        {
          "name": "stdout",
          "output_type": "stream",
          "text": [
            "\n",
            "[✔] Case Study: Analyzing Job Market Data in Power BI:\n",
            "Apply Your Skills with a Power BI Case Study | In this Power BI case study, you’ll explore a real-world job posting dataset to uncover insights for a fictional recruitment company, DataSearch. | Use P...\n",
            "\n"
          ]
        },
        {
          "name": "stderr",
          "output_type": "stream",
          "text": [
            "Fetching Descriptions:  54%|█████▍    | 309/572 [2:01:38<1:20:48, 18.43s/course, Course=Cleaning Data in PostgreSQL Da...]"
          ]
        },
        {
          "name": "stdout",
          "output_type": "stream",
          "text": [
            "\n",
            "[✔] Cleaning Data in PostgreSQL Databases:\n",
            "If you surveyed a large number of data scientists and data analysts about which tasks are most common in their workday, cleaning data would likely be in almost all responses. This is the case because ...\n",
            "\n"
          ]
        },
        {
          "name": "stderr",
          "output_type": "stream",
          "text": [
            "Fetching Descriptions:  54%|█████▍    | 310/572 [2:01:54<1:17:55, 17.85s/course, Course=Developing Machine Learning Mo...]"
          ]
        },
        {
          "name": "stdout",
          "output_type": "stream",
          "text": [
            "\n",
            "[✔] Developing Machine Learning Models for Production:\n",
            "Much of today’s machine learning-related content focuses on model training and parameter tuning, but 90% of experimental models never make it to production, mainly because they were not built to last....\n",
            "\n"
          ]
        },
        {
          "name": "stderr",
          "output_type": "stream",
          "text": [
            "Fetching Descriptions:  54%|█████▍    | 311/572 [2:02:14<1:19:57, 18.38s/course, Course=Streaming Concepts]               "
          ]
        },
        {
          "name": "stdout",
          "output_type": "stream",
          "text": [
            "\n",
            "[✔] Streaming Concepts:\n",
            "Streaming is a huge aspect of the data world right now and is being used by nearly every industry from manufacturing to healthcare. Would you like to learn more about the general concepts behind data ...\n",
            "\n"
          ]
        },
        {
          "name": "stderr",
          "output_type": "stream",
          "text": [
            "Fetching Descriptions:  55%|█████▍    | 312/572 [2:02:33<1:21:01, 18.70s/course, Course=Data Manipulation in Alteryx]"
          ]
        },
        {
          "name": "stdout",
          "output_type": "stream",
          "text": [
            "\n",
            "[✔] Data Manipulation in Alteryx:\n",
            "Unions and Appends in Alteryx | Gain hands-on experience with data unions and appends, which are essential for compiling multiple data sources into a cohesive dataset. Through practical examples, lear...\n",
            "\n"
          ]
        },
        {
          "name": "stderr",
          "output_type": "stream",
          "text": [
            "Fetching Descriptions:  55%|█████▍    | 313/572 [2:02:52<1:20:22, 18.62s/course, Course=Data Ingestion and Semantic Mo...]"
          ]
        },
        {
          "name": "stdout",
          "output_type": "stream",
          "text": [
            "\n",
            "[✔] Data Ingestion and Semantic Models with Microsoft Fabric:\n",
            "Data Ingestion and Semantic Models | In this course, you’ll learn several different methods to bring data into Microsoft Fabric. After ingesting your data, you’ll then learn how to structure this data...\n",
            "\n"
          ]
        },
        {
          "name": "stderr",
          "output_type": "stream",
          "text": [
            "Fetching Descriptions:  55%|█████▍    | 314/572 [2:03:11<1:20:37, 18.75s/course, Course=Visualizing Geospatial Data in...]"
          ]
        },
        {
          "name": "stdout",
          "output_type": "stream",
          "text": [
            "\n",
            "[✔] Visualizing Geospatial Data in Python:\n",
            "One of the most important tasks of a data scientist is to understand the relationships between their data's physical location and their geographical context. In this course you'll be learning to make ...\n",
            "\n"
          ]
        },
        {
          "name": "stderr",
          "output_type": "stream",
          "text": [
            "Fetching Descriptions:  55%|█████▌    | 315/572 [2:03:28<1:18:16, 18.27s/course, Course=Responsible AI Data Management]   "
          ]
        },
        {
          "name": "stdout",
          "output_type": "stream",
          "text": [
            "\n",
            "[✔] Responsible AI Data Management:\n",
            "Artificial Intelligence (AI) and data are everywhere. Their growing presence in our everyday lives makes it even more important to ensure we responsibly manage the data throughout our AI projects, whe...\n",
            "\n"
          ]
        },
        {
          "name": "stderr",
          "output_type": "stream",
          "text": [
            "Fetching Descriptions:  55%|█████▌    | 316/572 [2:03:46<1:18:09, 18.32s/course, Course=Introduction to Portfolio Anal...]"
          ]
        },
        {
          "name": "stdout",
          "output_type": "stream",
          "text": [
            "\n",
            "[✔] Introduction to Portfolio Analysis in Python:\n",
            "Have you ever had wondered whether an investment fund is actually a good investment? Or compared two investment options and asked what the difference between the two is? What does the risk indicator o...\n",
            "\n"
          ]
        },
        {
          "name": "stderr",
          "output_type": "stream",
          "text": [
            "Fetching Descriptions:  55%|█████▌    | 317/572 [2:04:03<1:15:33, 17.78s/course, Course=Fine-Tuning with Llama 3]         "
          ]
        },
        {
          "name": "stdout",
          "output_type": "stream",
          "text": [
            "\n",
            "[✔] Fine-Tuning with Llama 3:\n",
            "Fine-tuning the Llama model | This course provides a comprehensive guide to preparing and working with Llama models. Through hands-on examples and practical exercises, you'll learn how to configure va...\n",
            "\n"
          ]
        },
        {
          "name": "stderr",
          "output_type": "stream",
          "text": [
            "Fetching Descriptions:  56%|█████▌    | 318/572 [2:04:22<1:16:45, 18.13s/course, Course=Introduction to Network Analys...]"
          ]
        },
        {
          "name": "stdout",
          "output_type": "stream",
          "text": [
            "\n",
            "[✔] Introduction to Network Analysis in Python:\n",
            "From online social networks such as Facebook and Twitter to transportation networks such as bike sharing systems, networks are everywhere—and knowing how to analyze them will open up a new world of po...\n",
            "\n"
          ]
        },
        {
          "name": "stderr",
          "output_type": "stream",
          "text": [
            "Fetching Descriptions:  56%|█████▌    | 319/572 [2:04:39<1:15:20, 17.87s/course, Course=Intermediate Importing Data in...]"
          ]
        },
        {
          "name": "stdout",
          "output_type": "stream",
          "text": [
            "\n",
            "[✔] Intermediate Importing Data in R:\n",
            "In this course, you will take a deeper dive into the wide range of data formats out there. More specifically, you'll learn how to import data from relational databases and how to import and work with ...\n",
            "\n"
          ]
        },
        {
          "name": "stderr",
          "output_type": "stream",
          "text": [
            "Fetching Descriptions:  56%|█████▌    | 320/572 [2:04:59<1:17:05, 18.35s/course, Course=Data Processing in Shell]         "
          ]
        },
        {
          "name": "stdout",
          "output_type": "stream",
          "text": [
            "\n",
            "[✔] Data Processing in Shell:\n",
            "We live in a busy world with tight deadlines.  As a result, we fall back on what is familiar and easy, favoring GUI interfaces like Visual Studio and RStudio. However, taking the time to learn data an...\n",
            "\n"
          ]
        },
        {
          "name": "stderr",
          "output_type": "stream",
          "text": [
            "Fetching Descriptions:  56%|█████▌    | 321/572 [2:05:19<1:19:10, 18.93s/course, Course=Feature Engineering with PySpa...]"
          ]
        },
        {
          "name": "stdout",
          "output_type": "stream",
          "text": [
            "\n",
            "[✔] Feature Engineering with PySpark:\n",
            "The real world is messy and your job is to make sense of it. Toy datasets like MTCars and Iris are the result of careful curation and cleaning, even so the data needs to be transformed for it to be us...\n",
            "\n"
          ]
        },
        {
          "name": "stderr",
          "output_type": "stream",
          "text": [
            "Fetching Descriptions:  56%|█████▋    | 322/572 [2:05:35<1:15:41, 18.17s/course, Course=Intermediate Java]                "
          ]
        },
        {
          "name": "stdout",
          "output_type": "stream",
          "text": [
            "\n",
            "[✔] Intermediate Java:\n",
            "Write Reusable, Structured Java Code | Take your Java skills to the next level by mastering methods, control flow, and loops—three essential building blocks of real-world programming. In this course, ...\n",
            "\n"
          ]
        },
        {
          "name": "stderr",
          "output_type": "stream",
          "text": [
            "Fetching Descriptions:  56%|█████▋    | 323/572 [2:05:53<1:15:10, 18.12s/course, Course=Machine Learning with caret in...]"
          ]
        },
        {
          "name": "stdout",
          "output_type": "stream",
          "text": [
            "\n",
            "[✔] Machine Learning with caret in R:\n",
            "Machine learning is the study and application of algorithms that learn from and make predictions on data. From search results to self-driving cars, it has manifested itself in all areas of our lives a...\n",
            "\n"
          ]
        },
        {
          "name": "stderr",
          "output_type": "stream",
          "text": [
            "Fetching Descriptions:  57%|█████▋    | 324/572 [2:06:12<1:14:56, 18.13s/course, Course=Dealing With Missing Data in R]   "
          ]
        },
        {
          "name": "stdout",
          "output_type": "stream",
          "text": [
            "\n",
            "[✔] Dealing With Missing Data in R:\n",
            "Missing data is part of any real world data analysis. It can crop up in unexpected places, making analyses challenging to understand. In this course, you will learn how to use tidyverse tools and the ...\n",
            "\n"
          ]
        },
        {
          "name": "stderr",
          "output_type": "stream",
          "text": [
            "Fetching Descriptions:  57%|█████▋    | 325/572 [2:06:29<1:14:17, 18.04s/course, Course=Case Study: Net Revenue Manage...]"
          ]
        },
        {
          "name": "stdout",
          "output_type": "stream",
          "text": [
            "\n",
            "[✔] Case Study: Net Revenue Management in Excel:\n",
            "Fast Moving Consumer Goods | The world of Fast Moving Consumer Goods (FMCG) is a dynamic world that plays a significant role in our daily lives. Have you ever wondered how well-known brands like Coca-...\n",
            "\n"
          ]
        },
        {
          "name": "stderr",
          "output_type": "stream",
          "text": [
            "Fetching Descriptions:  57%|█████▋    | 326/572 [2:06:47<1:13:29, 17.93s/course, Course=Introduction to Spark SQL in P...]"
          ]
        },
        {
          "name": "stdout",
          "output_type": "stream",
          "text": [
            "\n",
            "[✔] Introduction to Spark SQL in Python:\n",
            "Learn Spark SQL | If you’re familiar with SQL and have heard great things about Apache Spark, this course is for you. Apache Spark is a computing framework for processing big data, and Spark SQL is a ...\n",
            "\n"
          ]
        },
        {
          "name": "stderr",
          "output_type": "stream",
          "text": [
            "Fetching Descriptions:  57%|█████▋    | 327/572 [2:07:06<1:13:52, 18.09s/course, Course=Introduction to MongoDB in Pyt...]"
          ]
        },
        {
          "name": "stdout",
          "output_type": "stream",
          "text": [
            "\n",
            "[✔] Introduction to MongoDB in Python:\n",
            "MongoDB is a tool to explore data structured as you see fit. As a NoSQL database, it doesn't follow the strict relational format imposed by SQL. By providing capabilities that typically require adding...\n",
            "\n"
          ]
        },
        {
          "name": "stderr",
          "output_type": "stream",
          "text": [
            "Fetching Descriptions:  57%|█████▋    | 328/572 [2:07:27<1:17:10, 18.98s/course, Course=Hierarchical and Mixed Effects...]"
          ]
        },
        {
          "name": "stdout",
          "output_type": "stream",
          "text": [
            "\n",
            "[✔] Hierarchical and Mixed Effects Models in R:\n",
            "This course begins by reviewing slopes and intercepts in linear regressions before moving on to random-effects. You'll learn what a random effect is and how to use one to model your data. Next, the co...\n",
            "\n"
          ]
        },
        {
          "name": "stderr",
          "output_type": "stream",
          "text": [
            "Fetching Descriptions:  58%|█████▊    | 329/572 [2:07:46<1:17:06, 19.04s/course, Course=Data Storytelling Case Study: ...]"
          ]
        },
        {
          "name": "stdout",
          "output_type": "stream",
          "text": [
            "\n",
            "[✔] Data Storytelling Case Study: Green Businesses:\n",
            "You have completed some introductory courses on data storytelling, now it's time to practice! In this case study, you will review the necessary skills to communicate complex data insights in a compell...\n",
            "\n"
          ]
        },
        {
          "name": "stderr",
          "output_type": "stream",
          "text": [
            "Fetching Descriptions:  58%|█████▊    | 330/572 [2:08:05<1:17:14, 19.15s/course, Course=Improving Query Performance in...]"
          ]
        },
        {
          "name": "stdout",
          "output_type": "stream",
          "text": [
            "\n",
            "[✔] Improving Query Performance in SQL Server:\n",
            "A mission critical assignment is depending on your SQL coding skills. You’ve been given some code to fix.  It is giving the results you need but it’s running too slow, and it’s poorly formatted making...\n",
            "\n"
          ]
        },
        {
          "name": "stderr",
          "output_type": "stream",
          "text": [
            "Fetching Descriptions:  58%|█████▊    | 331/572 [2:08:22<1:14:28, 18.54s/course, Course=Time Series Analysis in SQL Se...]"
          ]
        },
        {
          "name": "stdout",
          "output_type": "stream",
          "text": [
            "\n",
            "[✔] Time Series Analysis in SQL Server:\n",
            "SQL Server has a robust set of tools to prepare, aggregate, and query time series data. This course will show you how to build and work with dates, parse dates from strings (and deal with invalid stri...\n",
            "\n"
          ]
        },
        {
          "name": "stderr",
          "output_type": "stream",
          "text": [
            "Fetching Descriptions:  58%|█████▊    | 332/572 [2:08:43<1:16:19, 19.08s/course, Course=Cluster Analysis in R]            "
          ]
        },
        {
          "name": "stdout",
          "output_type": "stream",
          "text": [
            "\n",
            "[✔] Cluster Analysis in R:\n",
            "Learn How to Perform Cluster Analysis | Cluster analysis is a powerful toolkit in the data science workbench. It is used to find groups of observations (clusters) that share similar characteristics. T...\n",
            "\n"
          ]
        },
        {
          "name": "stderr",
          "output_type": "stream",
          "text": [
            "Fetching Descriptions:  58%|█████▊    | 333/572 [2:09:02<1:16:17, 19.15s/course, Course=Visualizing Time Series Data i...]"
          ]
        },
        {
          "name": "stdout",
          "output_type": "stream",
          "text": [
            "\n",
            "[✔] Visualizing Time Series Data in Python:\n",
            "Time series data is omnipresent in the field of Data Science. Whether it is analyzing business trends, forecasting company revenue or exploring customer behavior, every data scientist is likely to enc...\n",
            "\n"
          ]
        },
        {
          "name": "stderr",
          "output_type": "stream",
          "text": [
            "Fetching Descriptions:  58%|█████▊    | 334/572 [2:09:22<1:16:48, 19.36s/course, Course=Importing and Managing Financi...]"
          ]
        },
        {
          "name": "stdout",
          "output_type": "stream",
          "text": [
            "\n",
            "[✔] Importing and Managing Financial Data in Python:\n",
            "If you want to apply your new 'Python for Data Science' skills to real-world financial data, then this course will give you some very valuable tools. First, you will learn how to get data out of Excel...\n",
            "\n"
          ]
        },
        {
          "name": "stderr",
          "output_type": "stream",
          "text": [
            "Fetching Descriptions:  59%|█████▊    | 335/572 [2:09:41<1:15:49, 19.20s/course, Course=Web Scraping in R]                "
          ]
        },
        {
          "name": "stdout",
          "output_type": "stream",
          "text": [
            "\n",
            "[✔] Web Scraping in R:\n",
            "Have you ever come across a website that displays a lot of data such as statistics, product reviews, or prices in a format that’s not data analysis-ready? Often, authorities and other data providers p...\n",
            "\n"
          ]
        },
        {
          "name": "stderr",
          "output_type": "stream",
          "text": [
            "Fetching Descriptions:  59%|█████▊    | 336/572 [2:10:00<1:15:52, 19.29s/course, Course=Communicating with Data in the...]"
          ]
        },
        {
          "name": "stdout",
          "output_type": "stream",
          "text": [
            "\n",
            "[✔] Communicating with Data in the Tidyverse:\n",
            "They say that a picture is worth a thousand words. Indeed, successfully promoting your data analysis is not only a matter of accurate and effective graphics, but also of aesthetics and uniqueness. Thi...\n",
            "\n"
          ]
        },
        {
          "name": "stderr",
          "output_type": "stream",
          "text": [
            "Fetching Descriptions:  59%|█████▉    | 337/572 [2:10:21<1:17:33, 19.80s/course, Course=Introduction to GPTs]             "
          ]
        },
        {
          "name": "stdout",
          "output_type": "stream",
          "text": [
            "\n",
            "[✔] Introduction to GPTs:\n",
            "Getting Started with GPT Models and Tools | GPT models, initially developed by OpenAI, have now become widely used tools across industries. These models specialize in text-based tasks and are the foun...\n",
            "\n"
          ]
        },
        {
          "name": "stderr",
          "output_type": "stream",
          "text": [
            "Fetching Descriptions:  59%|█████▉    | 338/572 [2:10:39<1:14:58, 19.22s/course, Course=Introduction to Linear Modelin...]"
          ]
        },
        {
          "name": "stdout",
          "output_type": "stream",
          "text": [
            "\n",
            "[✔] Introduction to Linear Modeling in Python:\n",
            "One of the primary goals of any scientist is to find patterns in data and build models to describe, predict, and extract insight from those patterns. The most fundamental of these patterns is a linear...\n",
            "\n"
          ]
        },
        {
          "name": "stderr",
          "output_type": "stream",
          "text": [
            "Fetching Descriptions:  59%|█████▉    | 339/572 [2:10:59<1:15:09, 19.36s/course, Course=Case Study: Supply Chain Analy...]"
          ]
        },
        {
          "name": "stdout",
          "output_type": "stream",
          "text": [
            "\n",
            "[✔] Case Study: Supply Chain Analytics in Power BI:\n",
            "Master Supply Chain Analytics with Power BI | Looking to enhance your supply chain analytics skills? This course focuses on creating a powerful make versus buy analysis tool using Power BI. | Create a...\n",
            "\n"
          ]
        },
        {
          "name": "stderr",
          "output_type": "stream",
          "text": [
            "Fetching Descriptions:  59%|█████▉    | 340/572 [2:11:16<1:12:21, 18.71s/course, Course=RNA-Seq with Bioconductor in R]   "
          ]
        },
        {
          "name": "stdout",
          "output_type": "stream",
          "text": [
            "\n",
            "[✔] RNA-Seq with Bioconductor in R:\n",
            "RNA-Seq is an exciting next-generation sequencing method used for identifying genes and pathways underlying particular diseases or conditions. As high-throughput sequencing becomes more affordable and...\n",
            "\n"
          ]
        },
        {
          "name": "stderr",
          "output_type": "stream",
          "text": [
            "Fetching Descriptions:  60%|█████▉    | 341/572 [2:11:33<1:09:55, 18.16s/course, Course=Ensemble Methods in Python]    "
          ]
        },
        {
          "name": "stdout",
          "output_type": "stream",
          "text": [
            "\n",
            "[✔] Ensemble Methods in Python:\n",
            "Continue your machine learning journey by diving into the wonderful world of ensemble learning methods! These are an exciting class of machine learning techniques that combine multiple individual algo...\n",
            "\n"
          ]
        },
        {
          "name": "stderr",
          "output_type": "stream",
          "text": [
            "Fetching Descriptions:  60%|█████▉    | 342/572 [2:11:50<1:08:44, 17.93s/course, Course=Introduction to Julia]     "
          ]
        },
        {
          "name": "stdout",
          "output_type": "stream",
          "text": [
            "\n",
            "[✔] Introduction to Julia:\n",
            "Get Started with Julia Programming | Julia is a new and exciting programming language designed from its foundations to be the ideal language for scientific computing, machine learning, and data mining...\n",
            "\n"
          ]
        },
        {
          "name": "stderr",
          "output_type": "stream",
          "text": [
            "Fetching Descriptions:  60%|█████▉    | 343/572 [2:12:06<1:06:40, 17.47s/course, Course=Introduction to Bioconductor i...]"
          ]
        },
        {
          "name": "stdout",
          "output_type": "stream",
          "text": [
            "\n",
            "[✔] Introduction to Bioconductor in R:\n",
            "Much of the biological research, from medicine to biotech, is moving toward sequence analysis. We are now generating targeted and whole genome big data, which needs to be analyzed to answer biological...\n",
            "\n"
          ]
        },
        {
          "name": "stderr",
          "output_type": "stream",
          "text": [
            "Fetching Descriptions:  60%|██████    | 344/572 [2:12:24<1:06:47, 17.58s/course, Course=Winning a Kaggle Competition i...]"
          ]
        },
        {
          "name": "stdout",
          "output_type": "stream",
          "text": [
            "\n",
            "[✔] Winning a Kaggle Competition in Python:\n",
            "Kaggle is the most famous platform for Data Science competitions. Taking part in such competitions allows you to work with real-world datasets, explore various machine learning problems, compete with ...\n",
            "\n"
          ]
        },
        {
          "name": "stderr",
          "output_type": "stream",
          "text": [
            "Fetching Descriptions:  60%|██████    | 345/572 [2:12:44<1:08:31, 18.11s/course, Course=Anomaly Detection in Python]      "
          ]
        },
        {
          "name": "stdout",
          "output_type": "stream",
          "text": [
            "\n",
            "[✔] Anomaly Detection in Python:\n",
            "Spot Anomalies in Your Data Analysis | Extreme values or anomalies are present in almost any dataset, and it is critical to detect and deal with them before continuing statistical exploration. When le...\n",
            "\n"
          ]
        },
        {
          "name": "stderr",
          "output_type": "stream",
          "text": [
            "Fetching Descriptions:  60%|██████    | 346/572 [2:13:02<1:08:50, 18.28s/course, Course=Biomedical Image Analysis in P...]"
          ]
        },
        {
          "name": "stdout",
          "output_type": "stream",
          "text": [
            "\n",
            "[✔] Biomedical Image Analysis in Python:\n",
            "The field of biomedical imaging has exploded in recent years - but for the uninitiated, even loading data can be a challenge! In this introductory course, you'll learn the fundamentals of image analys...\n",
            "\n"
          ]
        },
        {
          "name": "stderr",
          "output_type": "stream",
          "text": [
            "Fetching Descriptions:  61%|██████    | 347/572 [2:13:20<1:07:53, 18.10s/course, Course=Improving Query Performance in...]"
          ]
        },
        {
          "name": "stdout",
          "output_type": "stream",
          "text": [
            "\n",
            "[✔] Improving Query Performance in PostgreSQL:\n",
            "Losing time on slow queries? Hesitant to share your queries with more seasoned coworkers? In this course, you will learn how to structure your PostgreSQL to run in a fraction of the time. Exploring in...\n",
            "\n"
          ]
        },
        {
          "name": "stderr",
          "output_type": "stream",
          "text": [
            "Fetching Descriptions:  61%|██████    | 348/572 [2:13:39<1:08:38, 18.39s/course, Course=Foundations of Probability in ...]"
          ]
        },
        {
          "name": "stdout",
          "output_type": "stream",
          "text": [
            "\n",
            "[✔] Foundations of Probability in Python:\n",
            "Probability is the study of regularities that emerge in the outcomes of random experiments. In this course, you'll learn about fundamental probability concepts like random variables (starting with the...\n",
            "\n"
          ]
        },
        {
          "name": "stderr",
          "output_type": "stream",
          "text": [
            "Fetching Descriptions:  61%|██████    | 349/572 [2:13:58<1:09:13, 18.63s/course, Course=String Manipulation with strin...]"
          ]
        },
        {
          "name": "stdout",
          "output_type": "stream",
          "text": [
            "\n",
            "[✔] String Manipulation with stringr in R:\n",
            "Character strings can turn up in all stages of a data science project. You might have to clean messy string input before analysis, extract data that is embedded in text or automatically turn numeric r...\n",
            "\n"
          ]
        },
        {
          "name": "stderr",
          "output_type": "stream",
          "text": [
            "Fetching Descriptions:  61%|██████    | 350/572 [2:14:19<1:11:03, 19.21s/course, Course=Introduction to Predictive Ana...]"
          ]
        },
        {
          "name": "stdout",
          "output_type": "stream",
          "text": [
            "\n",
            "[✔] Introduction to Predictive Analytics in Python:\n",
            "In this course, you will learn how to build a logistic regression model with meaningful variables. You will also learn how to use this model to make predictions and how to present it and its performan...\n",
            "\n"
          ]
        },
        {
          "name": "stderr",
          "output_type": "stream",
          "text": [
            "Fetching Descriptions:  61%|██████▏   | 351/572 [2:14:36<1:08:56, 18.72s/course, Course=Building Recommendation Engine...]"
          ]
        },
        {
          "name": "stdout",
          "output_type": "stream",
          "text": [
            "\n",
            "[✔] Building Recommendation Engines in Python:\n",
            "We’ve come to expect personalized experiences online—whether it’s Netflix recommending a show or an online retailer suggesting items you might also like to purchase. But how are these suggestions gene...\n",
            "\n"
          ]
        },
        {
          "name": "stderr",
          "output_type": "stream",
          "text": [
            "Fetching Descriptions:  62%|██████▏   | 352/572 [2:14:56<1:10:02, 19.10s/course, Course=Machine Learning with Tree-Bas...]"
          ]
        },
        {
          "name": "stdout",
          "output_type": "stream",
          "text": [
            "\n",
            "[✔] Machine Learning with Tree-Based Models in R:\n",
            "Tree-based machine learning models can reveal complex non-linear relationships in data and often dominate machine learning competitions. In this course, you'll use the tidymodels package to explore an...\n",
            "\n"
          ]
        },
        {
          "name": "stderr",
          "output_type": "stream",
          "text": [
            "Fetching Descriptions:  62%|██████▏   | 353/572 [2:15:13<1:06:57, 18.35s/course, Course=Introduction to Data Quality w...]"
          ]
        },
        {
          "name": "stdout",
          "output_type": "stream",
          "text": [
            "\n",
            "[✔] Introduction to Data Quality with Great Expectations:\n",
            "Great Expectations is a powerful tool for monitoring data quality in data science and data engineering workflows. The platform can be easily integrated into Python, making it a useful library for Pyth...\n",
            "\n"
          ]
        },
        {
          "name": "stderr",
          "output_type": "stream",
          "text": [
            "Fetching Descriptions:  62%|██████▏   | 354/572 [2:15:33<1:08:09, 18.76s/course, Course=Modeling with tidymodels in R]    "
          ]
        },
        {
          "name": "stdout",
          "output_type": "stream",
          "text": [
            "\n",
            "[✔] Modeling with tidymodels in R:\n",
            "Tidymodels is a powerful suite of R packages designed to streamline machine learning workflows. Learn to split datasets for cross-validation, preprocess data with tidymodels' recipe package, and fine-...\n",
            "\n"
          ]
        },
        {
          "name": "stderr",
          "output_type": "stream",
          "text": [
            "Fetching Descriptions:  62%|██████▏   | 355/572 [2:15:49<1:05:18, 18.06s/course, Course=Reinforcement Learning from Hu...]"
          ]
        },
        {
          "name": "stdout",
          "output_type": "stream",
          "text": [
            "\n",
            "[✔] Reinforcement Learning from Human Feedback (RLHF):\n",
            "Combine the efficiency of Generative AI with the understanding of human expertise in this course on Reinforcement Learning from Human Feedback. You’ll learn how to make GenAI models truly reflect huma...\n",
            "\n"
          ]
        },
        {
          "name": "stderr",
          "output_type": "stream",
          "text": [
            "Fetching Descriptions:  62%|██████▏   | 356/572 [2:16:07<1:05:00, 18.06s/course, Course=Introduction to Optimization i...]"
          ]
        },
        {
          "name": "stdout",
          "output_type": "stream",
          "text": [
            "\n",
            "[✔] Introduction to Optimization in Python:\n",
            "Optimization problems are ubiquitous in engineering, sciences, and the social sciences. This course will take you from zero optimization knowledge to a hero optimizer. You will use mathematical modeli...\n",
            "\n"
          ]
        },
        {
          "name": "stderr",
          "output_type": "stream",
          "text": [
            "Fetching Descriptions:  62%|██████▏   | 357/572 [2:16:25<1:04:19, 17.95s/course, Course=Introduction to Python in Powe...]"
          ]
        },
        {
          "name": "stdout",
          "output_type": "stream",
          "text": [
            "\n",
            "[✔] Introduction to Python in Power BI:\n",
            "Customize Power BI with Python | In this introduction to Python in Power BI course, you’ll use data from an overfishing study and an online retailer to learn how to use Python scripts in Power BI for ...\n",
            "\n"
          ]
        },
        {
          "name": "stderr",
          "output_type": "stream",
          "text": [
            "Fetching Descriptions:  63%|██████▎   | 358/572 [2:16:42<1:03:25, 17.78s/course, Course=Dealing with Missing Data in P...]"
          ]
        },
        {
          "name": "stdout",
          "output_type": "stream",
          "text": [
            "\n",
            "[✔] Dealing with Missing Data in Python:\n",
            "Tired of working with messy data? Did you know that most of a data scientist's time is spent in finding, cleaning and reorganizing data?! Well turns out you can clean your data in a smart way! In this...\n",
            "\n"
          ]
        },
        {
          "name": "stderr",
          "output_type": "stream",
          "text": [
            "Fetching Descriptions:  63%|██████▎   | 359/572 [2:17:03<1:05:58, 18.58s/course, Course=Transform and Analyze Data wit...]"
          ]
        },
        {
          "name": "stdout",
          "output_type": "stream",
          "text": [
            "\n",
            "[✔] Transform and Analyze Data with Microsoft Fabric:\n",
            "Transform and Analyze Data with Microsoft Fabric | Unlock the power of Microsoft Fabric for data transformation and analysis. This hands-on course teaches you how to manipulate, explore, and optimize ...\n",
            "\n"
          ]
        },
        {
          "name": "stderr",
          "output_type": "stream",
          "text": [
            "Fetching Descriptions:  63%|██████▎   | 360/572 [2:17:21<1:05:19, 18.49s/course, Course=Data Types and Exceptions in J...]"
          ]
        },
        {
          "name": "stdout",
          "output_type": "stream",
          "text": [
            "\n",
            "[✔] Data Types and Exceptions in Java:\n",
            "Java is a powerful, widely used programming language, and understanding how it handles data is essential for writing clean, effective code. This course gives you a practical introduction to Java’s dat...\n",
            "\n"
          ]
        },
        {
          "name": "stderr",
          "output_type": "stream",
          "text": [
            "Fetching Descriptions:  63%|██████▎   | 361/572 [2:17:38<1:03:29, 18.05s/course, Course=Analyzing Survey Data in R]       "
          ]
        },
        {
          "name": "stdout",
          "output_type": "stream",
          "text": [
            "\n",
            "[✔] Analyzing Survey Data in R:\n",
            "You've taken a survey (or 1000) before, right? Have you ever wondered what goes into designing a survey and how survey responses are turned into actionable insights? Of course you have! In Analyzing S...\n",
            "\n"
          ]
        },
        {
          "name": "stderr",
          "output_type": "stream",
          "text": [
            "Fetching Descriptions:  63%|██████▎   | 362/572 [2:17:56<1:02:52, 17.97s/course, Course=Intermediate R for Finance]"
          ]
        },
        {
          "name": "stdout",
          "output_type": "stream",
          "text": [
            "\n",
            "[✔] Intermediate R for Finance:\n",
            "If you enjoyed the Introduction to R for Finance course, then you will love Intermediate R for Finance. Here, you will first learn the basics about how dates work in R, an important skill for the rest...\n",
            "\n"
          ]
        },
        {
          "name": "stderr",
          "output_type": "stream",
          "text": [
            "Fetching Descriptions:  63%|██████▎   | 363/572 [2:18:16<1:04:24, 18.49s/course, Course=Introduction to Redshift]  "
          ]
        },
        {
          "name": "stdout",
          "output_type": "stream",
          "text": [
            "\n",
            "[✔] Introduction to Redshift:\n",
            "Uncover the foundations of Amazon Redshift and its integration within the AWS cloud ecosystem, along with its position among competitors. | Mastering Redshift SQL Constructs | Dive deep into Redshift ...\n",
            "\n"
          ]
        },
        {
          "name": "stderr",
          "output_type": "stream",
          "text": [
            "Fetching Descriptions:  64%|██████▎   | 364/572 [2:18:36<1:05:58, 19.03s/course, Course=Time Series Analysis in Power ...]"
          ]
        },
        {
          "name": "stdout",
          "output_type": "stream",
          "text": [
            "\n",
            "[✔] Time Series Analysis in Power BI:\n",
            "Analyze Time-Series Data With Power BI | You've taken datasets and analyzed them from every possible angle, but did you know that there is one dimension that every analysis shares in common? That's ri...\n",
            "\n"
          ]
        },
        {
          "name": "stderr",
          "output_type": "stream",
          "text": [
            "Fetching Descriptions:  64%|██████▍   | 365/572 [2:18:53<1:04:10, 18.60s/course, Course=Financial Modeling in Google S...]"
          ]
        },
        {
          "name": "stdout",
          "output_type": "stream",
          "text": [
            "\n",
            "[✔] Financial Modeling in Google Sheets:\n",
            "Have you ever wanted to plan for retirement, understand the stock market, or create a cash flow for your business? This comprehensive course guides you through the process of building robust business ...\n",
            "\n"
          ]
        },
        {
          "name": "stderr",
          "output_type": "stream",
          "text": [
            "Fetching Descriptions:  64%|██████▍   | 366/572 [2:19:14<1:05:55, 19.20s/course, Course=Power BI for End Users]           "
          ]
        },
        {
          "name": "stdout",
          "output_type": "stream",
          "text": [
            "\n",
            "[✔] Power BI for End Users:\n",
            "Become a power end user through this Power BI conceptual course that explores Power BI Service functionalities via practical scenarios. | Understanding Power BI Service | From navigating the interface...\n",
            "\n"
          ]
        },
        {
          "name": "stderr",
          "output_type": "stream",
          "text": [
            "Fetching Descriptions:  64%|██████▍   | 367/572 [2:19:32<1:04:34, 18.90s/course, Course=Monitoring Machine Learning Co...]"
          ]
        },
        {
          "name": "stdout",
          "output_type": "stream",
          "text": [
            "\n",
            "[✔] Monitoring Machine Learning Concepts:\n",
            "Machine Learning Monitoring Concepts | Machine learning models influence more and more decisions in the real world. These models need monitoring to prevent failure and ensure that they provide busines...\n",
            "\n"
          ]
        },
        {
          "name": "stderr",
          "output_type": "stream",
          "text": [
            "Fetching Descriptions:  64%|██████▍   | 368/572 [2:19:53<1:06:38, 19.60s/course, Course=Customer Segmentation in Pytho...]"
          ]
        },
        {
          "name": "stdout",
          "output_type": "stream",
          "text": [
            "\n",
            "[✔] Customer Segmentation in Python:\n",
            "The most successful companies today are the ones that know their customers so well that they can anticipate their needs. Data analysts play a key role in unlocking these in-depth insights, and segment...\n",
            "\n"
          ]
        },
        {
          "name": "stderr",
          "output_type": "stream",
          "text": [
            "Fetching Descriptions:  65%|██████▍   | 369/572 [2:20:12<1:05:20, 19.32s/course, Course=Functions for Manipulating Dat...]"
          ]
        },
        {
          "name": "stdout",
          "output_type": "stream",
          "text": [
            "\n",
            "[✔] Functions for Manipulating Data in SQL Server:\n",
            "In this course, you will learn how to make use of the most important functions for manipulating data provided by SQL Server.  You can use these functions for processing and transforming data to get th...\n",
            "\n"
          ]
        },
        {
          "name": "stderr",
          "output_type": "stream",
          "text": [
            "Fetching Descriptions:  65%|██████▍   | 370/572 [2:20:33<1:06:52, 19.86s/course, Course=Visualizing Time Series Data i...]"
          ]
        },
        {
          "name": "stdout",
          "output_type": "stream",
          "text": [
            "\n",
            "[✔] Visualizing Time Series Data in R:\n",
            "As the saying goes, “A chart is worth a thousand words”. This is why visualization is the most used and powerful way to get a better understanding of your data. After this course you will have a very ...\n",
            "\n"
          ]
        },
        {
          "name": "stderr",
          "output_type": "stream",
          "text": [
            "Fetching Descriptions:  65%|██████▍   | 371/572 [2:20:53<1:06:10, 19.75s/course, Course=Market Basket Analysis in Pyth...]"
          ]
        },
        {
          "name": "stdout",
          "output_type": "stream",
          "text": [
            "\n",
            "[✔] Market Basket Analysis in Python:\n",
            "What do Amazon product recommendations and Netflix movie suggestions have in common? They both rely on Market Basket Analysis, which is a powerful tool for translating vast amounts of customer transac...\n",
            "\n"
          ]
        },
        {
          "name": "stderr",
          "output_type": "stream",
          "text": [
            "Fetching Descriptions:  65%|██████▌   | 372/572 [2:21:13<1:06:25, 19.93s/course, Course=Introduction to AWS Boto in Py...]"
          ]
        },
        {
          "name": "stdout",
          "output_type": "stream",
          "text": [
            "\n",
            "[✔] Introduction to AWS Boto in Python:\n",
            "What if you were no longer constrained by the capabilities of your laptop? What if you could get an SMS when a city garbage truck camera spots a missing a cat? This is all possible with cloud technolo...\n",
            "\n"
          ]
        },
        {
          "name": "stderr",
          "output_type": "stream",
          "text": [
            "Fetching Descriptions:  65%|██████▌   | 373/572 [2:21:33<1:05:56, 19.88s/course, Course=Introduction to Scala]            "
          ]
        },
        {
          "name": "stdout",
          "output_type": "stream",
          "text": [
            "\n",
            "[✔] Introduction to Scala:\n",
            "Get an introduction to the programming language Scala. You'll learn why and how companies like Netflix, Airbnb, and Morgan Stanley are choosing Scala for large-scale applications and data engineering ...\n",
            "\n"
          ]
        },
        {
          "name": "stderr",
          "output_type": "stream",
          "text": [
            "Fetching Descriptions:  65%|██████▌   | 374/572 [2:21:51<1:04:02, 19.41s/course, Course=Case Study: Exploratory Data A...]"
          ]
        },
        {
          "name": "stdout",
          "output_type": "stream",
          "text": [
            "\n",
            "[✔] Case Study: Exploratory Data Analysis in R:\n",
            "Once you've started learning tools for data manipulation and visualization like dplyr and ggplot2, this course gives you a chance to use them in action on a real dataset. You'll explore the historical...\n",
            "\n"
          ]
        },
        {
          "name": "stderr",
          "output_type": "stream",
          "text": [
            "Fetching Descriptions:  66%|██████▌   | 375/572 [2:22:09<1:02:35, 19.06s/course, Course=Fully Automated MLOps]            "
          ]
        },
        {
          "name": "stdout",
          "output_type": "stream",
          "text": [
            "\n",
            "[✔] Fully Automated MLOps:\n",
            "MLOps is the set of practices developed to help you deploy and maintain machine learning models in production. Nowadays, in industry and research, MLOps is in the spotlight as a way to ensure that ML ...\n",
            "\n"
          ]
        },
        {
          "name": "stderr",
          "output_type": "stream",
          "text": [
            "Fetching Descriptions:  66%|██████▌   | 376/572 [2:22:28<1:02:12, 19.04s/course, Course=Data Manipulation with data.ta...]"
          ]
        },
        {
          "name": "stdout",
          "output_type": "stream",
          "text": [
            "\n",
            "[✔] Data Manipulation with data.table in R:\n",
            "The data.table package provides a high-performance version of base R's data.frame with syntax and feature enhancements for ease of use, convenience and programming speed. This course shows you how to ...\n",
            "\n"
          ]
        },
        {
          "name": "stderr",
          "output_type": "stream",
          "text": [
            "Fetching Descriptions:  66%|██████▌   | 377/572 [2:22:47<1:01:18, 18.87s/course, Course=Monte Carlo Simulations in Pyt...]"
          ]
        },
        {
          "name": "stdout",
          "output_type": "stream",
          "text": [
            "\n",
            "[✔] Monte Carlo Simulations in Python:\n",
            "Simulate Outcomes with SciPy and NumPy | This practical course introduces Monte Carlo simulations and their use cases. Monte Carlo simulations are used to estimate a range of outcomes for uncertain ev...\n",
            "\n"
          ]
        },
        {
          "name": "stderr",
          "output_type": "stream",
          "text": [
            "Fetching Descriptions:  66%|██████▌   | 378/572 [2:23:04<59:49, 18.50s/course, Course=Understanding Digital Transfor...]  "
          ]
        },
        {
          "name": "stdout",
          "output_type": "stream",
          "text": [
            "\n",
            "[✔] Understanding Digital Transformation:\n",
            "The Essence of Digital Transformation | Begin by understanding what digital transformation truly means and its profound impact on both personal experiences and business operations. Through examples li...\n",
            "\n"
          ]
        },
        {
          "name": "stderr",
          "output_type": "stream",
          "text": [
            "Fetching Descriptions:  66%|██████▋   | 379/572 [2:23:23<59:03, 18.36s/course, Course=Case Study: Analyzing Sales Da...]"
          ]
        },
        {
          "name": "stdout",
          "output_type": "stream",
          "text": [
            "\n",
            "[✔] Case Study: Analyzing Sales Data in Alteryx:\n",
            "Ready to harness the capabilities of Alteryx Designer for retail analytics? This case study will take you through a comprehensive exploration of sales data from a fictional department store, focusing ...\n",
            "\n"
          ]
        },
        {
          "name": "stderr",
          "output_type": "stream",
          "text": [
            "Fetching Descriptions:  66%|██████▋   | 380/572 [2:23:43<1:01:15, 19.14s/course, Course=Statistical Thinking in Python...]"
          ]
        },
        {
          "name": "stdout",
          "output_type": "stream",
          "text": [
            "\n",
            "[✔] Statistical Thinking in Python (Part 2):\n",
            "After completing Statistical Thinking in Python (Part 1), you have the probabilistic mindset and foundational hacker stats skills to dive into data sets and extract useful information from them. In th...\n",
            "\n"
          ]
        },
        {
          "name": "stderr",
          "output_type": "stream",
          "text": [
            "Fetching Descriptions:  67%|██████▋   | 381/572 [2:24:03<1:00:54, 19.13s/course, Course=Improving Your Data Visualizat...]"
          ]
        },
        {
          "name": "stdout",
          "output_type": "stream",
          "text": [
            "\n",
            "[✔] Improving Your Data Visualizations in Python:\n",
            "Great data visualization is the cornerstone of impactful data science. Visualization helps you to both find insight in your data and share those insights with your audience. Everyone learns how to mak...\n",
            "\n"
          ]
        },
        {
          "name": "stderr",
          "output_type": "stream",
          "text": [
            "Fetching Descriptions:  67%|██████▋   | 382/572 [2:24:21<59:31, 18.80s/course, Course=Supply Chain Analytics in Pyth...]  "
          ]
        },
        {
          "name": "stdout",
          "output_type": "stream",
          "text": [
            "\n",
            "[✔] Supply Chain Analytics in Python:\n",
            "Supply Chain Analytics transforms supply chain activities from guessing, to ones that makes decision using data. An essential tool in Supply Chain Analytics is using optimization analysis to assist in...\n",
            "\n"
          ]
        },
        {
          "name": "stderr",
          "output_type": "stream",
          "text": [
            "Fetching Descriptions:  67%|██████▋   | 383/572 [2:24:40<59:42, 18.96s/course, Course=Streaming Data with AWS Kinesi...]"
          ]
        },
        {
          "name": "stdout",
          "output_type": "stream",
          "text": [
            "\n",
            "[✔] Streaming Data with AWS Kinesis and Lambda:\n",
            "What powers the systems that we use every day without realizing, like fraud detection to keep our transactions secure or traffic signals that keep traffic flowing smoothly? The answer is streaming dat...\n",
            "\n"
          ]
        },
        {
          "name": "stderr",
          "output_type": "stream",
          "text": [
            "Fetching Descriptions:  67%|██████▋   | 384/572 [2:25:00<1:00:24, 19.28s/course, Course=Data Fluency]                     "
          ]
        },
        {
          "name": "stdout",
          "output_type": "stream",
          "text": [
            "\n",
            "[✔] Data Fluency:\n",
            "Data is everywhere, and in today's data-driven world, being data-fluent is a necessity, not only for individuals but for organizations overall. Data fluency isn't just about understanding data; it's a...\n",
            "\n"
          ]
        },
        {
          "name": "stderr",
          "output_type": "stream",
          "text": [
            "Fetching Descriptions:  67%|██████▋   | 385/572 [2:25:20<1:00:39, 19.46s/course, Course=Generalized Linear Models in P...]"
          ]
        },
        {
          "name": "stdout",
          "output_type": "stream",
          "text": [
            "\n",
            "[✔] Generalized Linear Models in Python:\n",
            "Imagine being able to handle data where the response variable is either binary, count, or approximately normal, all under one single framework. Well, you don't have to imagine. Enter the Generalized L...\n",
            "\n"
          ]
        },
        {
          "name": "stderr",
          "output_type": "stream",
          "text": [
            "Fetching Descriptions:  67%|██████▋   | 386/572 [2:25:39<1:00:02, 19.37s/course, Course=Customer Analytics and A/B Tes...]"
          ]
        },
        {
          "name": "stdout",
          "output_type": "stream",
          "text": [
            "\n",
            "[✔] Customer Analytics and A/B Testing in Python:\n",
            "The most successful companies today are the ones that know their customers so well that they can anticipate their needs. Customer analytics and in particular A/B Testing are crucial parts of leveragin...\n",
            "\n"
          ]
        },
        {
          "name": "stderr",
          "output_type": "stream",
          "text": [
            "Fetching Descriptions:  68%|██████▊   | 387/572 [2:25:59<1:00:01, 19.47s/course, Course=Introduction to Data Versionin...]"
          ]
        },
        {
          "name": "stdout",
          "output_type": "stream",
          "text": [
            "\n",
            "[✔] Introduction to Data Versioning with DVC:\n",
            "This course offers a comprehensive introduction to Data Version Control (DVC), a tool designed for efficient management and versioning of machine learning data. You will get an understanding of the ma...\n",
            "\n"
          ]
        },
        {
          "name": "stderr",
          "output_type": "stream",
          "text": [
            "Fetching Descriptions:  68%|██████▊   | 388/572 [2:26:16<57:56, 18.89s/course, Course=Linear Algebra for Data Scienc...]  "
          ]
        },
        {
          "name": "stdout",
          "output_type": "stream",
          "text": [
            "\n",
            "[✔] Linear Algebra for Data Science in R:\n",
            "Linear algebra is one of the most important set of tools in applied mathematics and data science. In this course, you’ll learn how to work with vectors and matrices, solve matrix-vector equations, per...\n",
            "\n"
          ]
        },
        {
          "name": "stderr",
          "output_type": "stream",
          "text": [
            "Fetching Descriptions:  68%|██████▊   | 389/572 [2:26:37<59:29, 19.50s/course, Course=Introduction to Portfolio Anal...]"
          ]
        },
        {
          "name": "stdout",
          "output_type": "stream",
          "text": [
            "\n",
            "[✔] Introduction to Portfolio Analysis in R:\n",
            "A golden rule in investing is to always test the portfolio strategy on historical data, and, once you are trading the strategy, to constantly monitor its performance. In this course, you will learn th...\n",
            "\n"
          ]
        },
        {
          "name": "stderr",
          "output_type": "stream",
          "text": [
            "Fetching Descriptions:  68%|██████▊   | 390/572 [2:27:00<1:02:04, 20.46s/course, Course=Corporate Finance Fundamentals]   "
          ]
        },
        {
          "name": "stdout",
          "output_type": "stream",
          "text": [
            "\n",
            "[✔] Corporate Finance Fundamentals:\n",
            "Understanding Capital Investment and Financing | This course starts by providing a deep dive into the essentials of capital investment and the stages of corporate financing. Learners will explore diff...\n",
            "\n"
          ]
        },
        {
          "name": "stderr",
          "output_type": "stream",
          "text": [
            "Fetching Descriptions:  68%|██████▊   | 391/572 [2:27:20<1:01:16, 20.31s/course, Course=Advanced Probability: Uncertai...]"
          ]
        },
        {
          "name": "stdout",
          "output_type": "stream",
          "text": [
            "\n",
            "[✔] Advanced Probability: Uncertainty in Data:\n",
            "Understanding Probability and Uncertainty in Business | Uncertainty is an inherent part of decision-making, but advanced probability techniques allow us to model and manage it effectively. This course...\n",
            "\n"
          ]
        },
        {
          "name": "stderr",
          "output_type": "stream",
          "text": [
            "Fetching Descriptions:  69%|██████▊   | 392/572 [2:27:39<59:45, 19.92s/course, Course=Fundamentals of Bayesian Data ...]  "
          ]
        },
        {
          "name": "stdout",
          "output_type": "stream",
          "text": [
            "\n",
            "[✔] Fundamentals of Bayesian Data Analysis in R:\n",
            "Bayesian data analysis is an approach to statistical modeling and machine learning that is becoming more and more popular. It provides a uniform framework to build problem specific models that can be ...\n",
            "\n"
          ]
        },
        {
          "name": "stderr",
          "output_type": "stream",
          "text": [
            "Fetching Descriptions:  69%|██████▊   | 393/572 [2:27:59<59:37, 19.99s/course, Course=Case Study: Inventory Analysis...]"
          ]
        },
        {
          "name": "stdout",
          "output_type": "stream",
          "text": [
            "\n",
            "[✔] Case Study: Inventory Analysis in Power BI:\n",
            "Apply Your Skills with a Power BI Case Study | Looking for a way to challenge what you have learned in Power BI? This case study can help you be prepared to tackle real-world problems in the field of ...\n",
            "\n"
          ]
        },
        {
          "name": "stderr",
          "output_type": "stream",
          "text": [
            "Fetching Descriptions:  69%|██████▉   | 394/572 [2:28:19<59:11, 19.95s/course, Course=Deploying AI into Production w...]"
          ]
        },
        {
          "name": "stdout",
          "output_type": "stream",
          "text": [
            "\n",
            "[✔] Deploying AI into Production with FastAPI:\n",
            "FastAPI for AI Model Deployment | FastAPI is a Python web framework ideal for building APIs, especially for deploying machine learning and AI models. FastAPI’s speed and modularity make it a powerful ...\n",
            "\n"
          ]
        },
        {
          "name": "stderr",
          "output_type": "stream",
          "text": [
            "Fetching Descriptions:  69%|██████▉   | 395/572 [2:28:37<57:06, 19.36s/course, Course=Visualizing Geospatial Data in...]"
          ]
        },
        {
          "name": "stdout",
          "output_type": "stream",
          "text": [
            "\n",
            "[✔] Visualizing Geospatial Data in R:\n",
            "Where should you buy a house to get the most value for your money? Your first step might be to make a map, but spatial analysis in R can be intimidating because of the complicated objects the data oft...\n",
            "\n"
          ]
        },
        {
          "name": "stderr",
          "output_type": "stream",
          "text": [
            "Fetching Descriptions:  69%|██████▉   | 396/572 [2:28:57<57:51, 19.73s/course, Course=Case Study: Building E-Commerc...]"
          ]
        },
        {
          "name": "stdout",
          "output_type": "stream",
          "text": [
            "\n",
            "[✔] Case Study: Building E-Commerce Data Models with dbt:\n",
            "Transform raw data into clean, reliable models using dbt (Data Build Tool) - a modern, SQL-based transformation framework used by data teams around the world. This hands-on case study course is design...\n",
            "\n"
          ]
        },
        {
          "name": "stderr",
          "output_type": "stream",
          "text": [
            "Fetching Descriptions:  69%|██████▉   | 397/572 [2:29:16<56:39, 19.42s/course, Course=Monitoring Machine Learning in...]"
          ]
        },
        {
          "name": "stdout",
          "output_type": "stream",
          "text": [
            "\n",
            "[✔] Monitoring Machine Learning in Python:\n",
            "Learn how to monitor your ML Models in Python | Monitoring machine learning models ensures the long-term success of your machine learning projects. Monitoring can be very complex, however, there are P...\n",
            "\n"
          ]
        },
        {
          "name": "stderr",
          "output_type": "stream",
          "text": [
            "Fetching Descriptions:  70%|██████▉   | 398/572 [2:29:34<55:10, 19.03s/course, Course=Transactions and Error Handlin...]"
          ]
        },
        {
          "name": "stdout",
          "output_type": "stream",
          "text": [
            "\n",
            "[✔] Transactions and Error Handling in SQL Server:\n",
            "It is critical to know how to handle errors and manage transactions when programming SQL scripts. Unhandled errors can be very harmful and can cause unexpected situations, such as inconsistent data in...\n",
            "\n"
          ]
        },
        {
          "name": "stderr",
          "output_type": "stream",
          "text": [
            "Fetching Descriptions:  70%|██████▉   | 399/572 [2:29:53<54:46, 19.00s/course, Course=GARCH Models in Python]           "
          ]
        },
        {
          "name": "stdout",
          "output_type": "stream",
          "text": [
            "\n",
            "[✔] GARCH Models in Python:\n",
            "Volatility is an essential concept in finance, which is why GARCH models in Python are a popular choice for forecasting changes in variance, specifically when working with time-series data that are ti...\n",
            "\n"
          ]
        },
        {
          "name": "stderr",
          "output_type": "stream",
          "text": [
            "Fetching Descriptions:  70%|██████▉   | 400/572 [2:30:11<53:49, 18.78s/course, Course=Categorical Data in the Tidyve...]"
          ]
        },
        {
          "name": "stdout",
          "output_type": "stream",
          "text": [
            "\n",
            "[✔] Categorical Data in the Tidyverse:\n",
            "As a data scientist, you will often find yourself working with non-numerical data, such as job titles, survey responses, or demographic information. R has a special way of representing them, called fa...\n",
            "\n"
          ]
        },
        {
          "name": "stderr",
          "output_type": "stream",
          "text": [
            "Fetching Descriptions:  70%|███████   | 401/572 [2:30:31<54:16, 19.04s/course, Course=Introduction to Financial Stat...]"
          ]
        },
        {
          "name": "stdout",
          "output_type": "stream",
          "text": [
            "\n",
            "[✔] Introduction to Financial Statements in Power BI:\n",
            "Analyzing financial statements is an important part of understanding the firm's financial health. | Examine financial statements | In this course, we will examine the financial statements of a fictiti...\n",
            "\n"
          ]
        },
        {
          "name": "stderr",
          "output_type": "stream",
          "text": [
            "Fetching Descriptions:  70%|███████   | 402/572 [2:30:49<53:11, 18.77s/course, Course=Case Study: Ecommerce Analysis...]"
          ]
        },
        {
          "name": "stdout",
          "output_type": "stream",
          "text": [
            "\n",
            "[✔] Case Study: Ecommerce Analysis in Power BI:\n",
            "For ecommerce businesses, increasing sales and reducing expenses are top priorities. In this Power BI case study, you'll investigate a dataset from a fictitious online pet supply company called Whiski...\n",
            "\n"
          ]
        },
        {
          "name": "stderr",
          "output_type": "stream",
          "text": [
            "Fetching Descriptions:  70%|███████   | 403/572 [2:31:08<53:05, 18.85s/course, Course=Building a Go-To-Market Strate...]"
          ]
        },
        {
          "name": "stdout",
          "output_type": "stream",
          "text": [
            "\n",
            "[✔] Building a Go-To-Market Strategy:\n",
            "It’s time to launch schedule.ai, an AI-powered workforce scheduling tool! However, if you need some assistance to take the product to market. | Generative AI-Assisted Market Launch | This project guid...\n",
            "\n"
          ]
        },
        {
          "name": "stderr",
          "output_type": "stream",
          "text": [
            "Fetching Descriptions:  71%|███████   | 404/572 [2:31:28<53:07, 18.97s/course, Course=Case Study: Analyzing City Tim...]"
          ]
        },
        {
          "name": "stdout",
          "output_type": "stream",
          "text": [
            "\n",
            "[✔] Case Study: Analyzing City Time Series Data in R:\n",
            "In this course, you will strengthen your knowledge of time series topics through interactive exercises and interesting datasets. You’ll explore a variety of datasets about Boston, including data on fl...\n",
            "\n"
          ]
        },
        {
          "name": "stderr",
          "output_type": "stream",
          "text": [
            "Fetching Descriptions:  71%|███████   | 405/572 [2:31:46<52:36, 18.90s/course, Course=Practicing Machine Learning In...]"
          ]
        },
        {
          "name": "stdout",
          "output_type": "stream",
          "text": [
            "\n",
            "[✔] Practicing Machine Learning Interview Questions in Python:\n",
            "Prepare for Your Machine Learning Interview | Have you ever wondered how to properly prepare for a Machine Learning Interview? In this course, you will prepare answers for 15 common Machine Learning (...\n",
            "\n"
          ]
        },
        {
          "name": "stderr",
          "output_type": "stream",
          "text": [
            "Fetching Descriptions:  71%|███████   | 406/572 [2:32:06<53:06, 19.20s/course, Course=AI-Assisted Product Launch]       "
          ]
        },
        {
          "name": "stdout",
          "output_type": "stream",
          "text": [
            "\n",
            "[✔] AI-Assisted Product Launch:\n",
            "Expanding into uncharted territory is a big step for any EV manufacturer! Though many challenges are involved, any help they can get will be useful! | Generative AI-Assisted Product Launch | This proj...\n",
            "\n"
          ]
        },
        {
          "name": "stderr",
          "output_type": "stream",
          "text": [
            "Fetching Descriptions:  71%|███████   | 407/572 [2:32:24<51:39, 18.79s/course, Course=Time Series Analysis in Tablea...]"
          ]
        },
        {
          "name": "stdout",
          "output_type": "stream",
          "text": [
            "\n",
            "[✔] Time Series Analysis in Tableau:\n",
            "Time series is all around us; from the post you’ve made on Twitter, to the daily fluctuations in the financial markets - these are all examples of time-series data points that need to be analyzed. In ...\n",
            "\n"
          ]
        },
        {
          "name": "stderr",
          "output_type": "stream",
          "text": [
            "Fetching Descriptions:  71%|███████▏  | 408/572 [2:32:43<51:19, 18.78s/course, Course=Interactive Maps with leaflet ...]"
          ]
        },
        {
          "name": "stdout",
          "output_type": "stream",
          "text": [
            "\n",
            "[✔] Interactive Maps with leaflet in R:\n",
            "Get ready to have some fun with maps! Interactive Maps with leaflet in R will give you the tools to make attractive and interactive web maps using spatial data and the tidyverse. In this course, you w...\n",
            "\n"
          ]
        },
        {
          "name": "stderr",
          "output_type": "stream",
          "text": [
            "Fetching Descriptions:  72%|███████▏  | 409/572 [2:33:01<50:28, 18.58s/course, Course=Case Study: Competitor Sales A...]"
          ]
        },
        {
          "name": "stdout",
          "output_type": "stream",
          "text": [
            "\n",
            "[✔] Case Study: Competitor Sales Analysis in Power BI:\n",
            "Apply Your Skills with a Power BI Case Study | This Power BI case study follows a real-world business use case where you will apply the concepts of ETL and visualization. | From Power Query to Power B...\n",
            "\n"
          ]
        },
        {
          "name": "stderr",
          "output_type": "stream",
          "text": [
            "Fetching Descriptions:  72%|███████▏  | 410/572 [2:33:20<50:44, 18.79s/course, Course=Inference for Linear Regressio...]"
          ]
        },
        {
          "name": "stdout",
          "output_type": "stream",
          "text": [
            "\n",
            "[✔] Inference for Linear Regression in R:\n",
            "Previously, you learned the fundamentals of both statistical inference and linear models; now, the next step is to put them together.  This course gives you a chance to think about how different sampl...\n",
            "\n"
          ]
        },
        {
          "name": "stderr",
          "output_type": "stream",
          "text": [
            "Fetching Descriptions:  72%|███████▏  | 411/572 [2:33:42<52:59, 19.75s/course, Course=Building and Optimizing Trigge...]"
          ]
        },
        {
          "name": "stdout",
          "output_type": "stream",
          "text": [
            "\n",
            "[✔] Building and Optimizing Triggers in SQL Server:\n",
            "Auditing your SQL Server database and keeping data integrity can be a challenging task for DBAs and database developers. SQL Server triggers are special types of stored procedures designed to help you...\n",
            "\n"
          ]
        },
        {
          "name": "stderr",
          "output_type": "stream",
          "text": [
            "Fetching Descriptions:  72%|███████▏  | 412/572 [2:34:02<52:40, 19.75s/course, Course=Practicing Statistics Intervie...]"
          ]
        },
        {
          "name": "stdout",
          "output_type": "stream",
          "text": [
            "\n",
            "[✔] Practicing Statistics Interview Questions in Python:\n",
            "Are you looking to land that next job or hone your statistics interview skills to stay sharp? Get ready to master classic interview concepts ranging from conditional probabilities to A/B testing to th...\n",
            "\n"
          ]
        },
        {
          "name": "stderr",
          "output_type": "stream",
          "text": [
            "Fetching Descriptions:  72%|███████▏  | 413/572 [2:34:20<50:56, 19.22s/course, Course=Marketing Analytics in Tableau]   "
          ]
        },
        {
          "name": "stdout",
          "output_type": "stream",
          "text": [
            "\n",
            "[✔] Marketing Analytics in Tableau:\n",
            "Gain an Introduction to Marketing | Learn how to use Tableau to analyze marketing performance and drive improvement. In this interactive course, you’ll learn the basics of modern marketing, like the d...\n",
            "\n"
          ]
        },
        {
          "name": "stderr",
          "output_type": "stream",
          "text": [
            "Fetching Descriptions:  72%|███████▏  | 414/572 [2:34:40<51:38, 19.61s/course, Course=Case Study: Building Software ...]"
          ]
        },
        {
          "name": "stdout",
          "output_type": "stream",
          "text": [
            "\n",
            "[✔] Case Study: Building Software in Python:\n",
            "This course offers a hands-on introduction to software engineering by guiding you through the development of a practical application: a mortgage calculator. You’ll learn how to calculate monthly payme...\n",
            "\n"
          ]
        },
        {
          "name": "stderr",
          "output_type": "stream",
          "text": [
            "Fetching Descriptions:  73%|███████▎  | 415/572 [2:34:58<49:28, 18.91s/course, Course=Object-Oriented Programming wi...]"
          ]
        },
        {
          "name": "stdout",
          "output_type": "stream",
          "text": [
            "\n",
            "[✔] Object-Oriented Programming with S3 and R6 in R:\n",
            "Object-oriented programming (OOP) lets you specify relationships between functions and the objects that they can act on, helping you manage complexity in your code. This is an intermediate level cours...\n",
            "\n"
          ]
        },
        {
          "name": "stderr",
          "output_type": "stream",
          "text": [
            "Fetching Descriptions:  73%|███████▎  | 416/572 [2:35:18<49:59, 19.23s/course, Course=Building Recommendation Engine...]"
          ]
        },
        {
          "name": "stdout",
          "output_type": "stream",
          "text": [
            "\n",
            "[✔] Building Recommendation Engines with PySpark:\n",
            "This course will show you how to build  recommendation engines using Alternating Least Squares in PySpark. Using the popular MovieLens dataset and the Million Songs dataset, this course will take you ...\n",
            "\n"
          ]
        },
        {
          "name": "stderr",
          "output_type": "stream",
          "text": [
            "Fetching Descriptions:  73%|███████▎  | 417/572 [2:35:37<50:06, 19.40s/course, Course=Marketing Analytics in Google ...]"
          ]
        },
        {
          "name": "stdout",
          "output_type": "stream",
          "text": [
            "\n",
            "[✔] Marketing Analytics in Google Sheets:\n",
            "In the dynamic field of digital marketing, proficiency in tools like Google Sheets is indispensable. This course begins by introducing the foundational aspects of Google Sheets, particularly focusing ...\n",
            "\n"
          ]
        },
        {
          "name": "stderr",
          "output_type": "stream",
          "text": [
            "Fetching Descriptions:  73%|███████▎  | 418/572 [2:35:57<49:33, 19.31s/course, Course=Advanced Deep Learning with Ke...]"
          ]
        },
        {
          "name": "stdout",
          "output_type": "stream",
          "text": [
            "\n",
            "[✔] Advanced Deep Learning with Keras:\n",
            "Keras functional API | In this course, you will learn how to solve complex problems using the Keras functional API. | Beginning with an introduction, you will build simple functional networks, fit the...\n",
            "\n"
          ]
        },
        {
          "name": "stderr",
          "output_type": "stream",
          "text": [
            "Fetching Descriptions:  73%|███████▎  | 419/572 [2:36:16<49:08, 19.27s/course, Course=Marketing Analytics: Predictin...]"
          ]
        },
        {
          "name": "stdout",
          "output_type": "stream",
          "text": [
            "\n",
            "[✔] Marketing Analytics: Predicting Customer Churn in Python:\n",
            "Churn is when a customer stops doing business or ends a relationship with a company. It’s a common problem across a variety of industries, from telecommunications to cable TV to SaaS, and a company th...\n",
            "\n"
          ]
        },
        {
          "name": "stderr",
          "output_type": "stream",
          "text": [
            "Fetching Descriptions:  73%|███████▎  | 420/572 [2:36:38<50:54, 20.10s/course, Course=Hierarchical and Recursive Que...]"
          ]
        },
        {
          "name": "stdout",
          "output_type": "stream",
          "text": [
            "\n",
            "[✔] Hierarchical and Recursive Queries in SQL Server:\n",
            "Do you want to query complex data structures in an iterative way? Do you have access to hierarchical data structures that need to be queried? This course will teach you the tools required to solve the...\n",
            "\n"
          ]
        },
        {
          "name": "stderr",
          "output_type": "stream",
          "text": [
            "Fetching Descriptions:  74%|███████▎  | 421/572 [2:36:56<49:01, 19.48s/course, Course=Interactive Data Visualization...]"
          ]
        },
        {
          "name": "stdout",
          "output_type": "stream",
          "text": [
            "\n",
            "[✔] Interactive Data Visualization with plotly in R:\n",
            "Build Interactive Data Visualizations in plotly | Interactive graphics allow you to manipulate plotted data to gain further insights. As an example, an interactive graphic would allow you to zoom in o...\n",
            "\n"
          ]
        },
        {
          "name": "stderr",
          "output_type": "stream",
          "text": [
            "Fetching Descriptions:  74%|███████▍  | 422/572 [2:37:14<47:56, 19.18s/course, Course=Financial Analytics in Google ...]"
          ]
        },
        {
          "name": "stdout",
          "output_type": "stream",
          "text": [
            "\n",
            "[✔] Financial Analytics in Google Sheets:\n",
            "Monitoring the evolution of traded assets is a crucial skill in the finance sector. This comprehensive course is designed to equip you with the knowledge and skills to build a graphical dashboard usin...\n",
            "\n"
          ]
        },
        {
          "name": "stderr",
          "output_type": "stream",
          "text": [
            "Fetching Descriptions:  74%|███████▍  | 423/572 [2:37:32<46:25, 18.70s/course, Course=Recurrent Neural Networks (RNN...]"
          ]
        },
        {
          "name": "stdout",
          "output_type": "stream",
          "text": [
            "\n",
            "[✔] Recurrent Neural Networks (RNNs) for Language Modeling with Keras:\n",
            "Learn How to Use RNN Modeling in Python | In this course, you will learn how to use Recurrent Neural Networks to classify text (binary and multiclass), generate phrases, and translate Portuguese sente...\n",
            "\n"
          ]
        },
        {
          "name": "stderr",
          "output_type": "stream",
          "text": [
            "Fetching Descriptions:  74%|███████▍  | 424/572 [2:37:50<45:34, 18.47s/course, Course=Cleaning Data in SQL Server Da...]"
          ]
        },
        {
          "name": "stdout",
          "output_type": "stream",
          "text": [
            "\n",
            "[✔] Cleaning Data in SQL Server Databases:\n",
            "Did you know that data scientists and data analysts spend a large amount of time cleaning data before they can analyze it? This is because real-world data is messy. To help you navigate messy data thi...\n",
            "\n"
          ]
        },
        {
          "name": "stderr",
          "output_type": "stream",
          "text": [
            "Fetching Descriptions:  74%|███████▍  | 425/572 [2:38:09<45:32, 18.59s/course, Course=Introduction to Databricks SQL]   "
          ]
        },
        {
          "name": "stdout",
          "output_type": "stream",
          "text": [
            "\n",
            "[✔] Introduction to Databricks SQL:\n",
            "Every organization has a need for a data warehousing capability to run critical business intelligence analyses. Over the years, there have been many different tools to satisfy these needs, but often w...\n",
            "\n"
          ]
        },
        {
          "name": "stderr",
          "output_type": "stream",
          "text": [
            "Fetching Descriptions:  74%|███████▍  | 426/572 [2:38:29<46:52, 19.26s/course, Course=Machine Learning for Marketing...]"
          ]
        },
        {
          "name": "stdout",
          "output_type": "stream",
          "text": [
            "\n",
            "[✔] Machine Learning for Marketing in Python:\n",
            "The rise of machine learning (almost sounds like \"rise of the machines\"?) and applications of statistical methods to marketing have changed the field forever. Machine learning is being used to optimiz...\n",
            "\n"
          ]
        },
        {
          "name": "stderr",
          "output_type": "stream",
          "text": [
            "Fetching Descriptions:  75%|███████▍  | 427/572 [2:38:48<46:22, 19.19s/course, Course=Case Study: Mortgage Trading A...]"
          ]
        },
        {
          "name": "stdout",
          "output_type": "stream",
          "text": [
            "\n",
            "[✔] Case Study: Mortgage Trading Analysis in Power BI:\n",
            "Explore the Financial System with Power BI | In this Power BI case study, you will play the part of a newly hired junior trader on a trading desk for a mortgage originator. Enjoy this fast-paced and c...\n",
            "\n"
          ]
        },
        {
          "name": "stderr",
          "output_type": "stream",
          "text": [
            "Fetching Descriptions:  75%|███████▍  | 428/572 [2:39:08<46:11, 19.25s/course, Course=Intermediate Network Analysis ...]"
          ]
        },
        {
          "name": "stdout",
          "output_type": "stream",
          "text": [
            "\n",
            "[✔] Intermediate Network Analysis in Python:\n",
            "Have you taken DataCamp's Introduction to Network Analysis in Python course and are yearning to learn more sophisticated techniques to analyze your networks, whether they be social, transportation, or...\n",
            "\n"
          ]
        },
        {
          "name": "stderr",
          "output_type": "stream",
          "text": [
            "Fetching Descriptions:  75%|███████▌  | 429/572 [2:39:25<44:30, 18.68s/course, Course=Generate a Study Guide]           "
          ]
        },
        {
          "name": "stdout",
          "output_type": "stream",
          "text": [
            "\n",
            "[✔] Generate a Study Guide:\n",
            "Create Personalized Study Guides with AI | Balancing a busy life while trying to upskill can feel overwhelming, but a custom AI chatbot can help simplify the process. This project is designed to help ...\n",
            "\n"
          ]
        },
        {
          "name": "stderr",
          "output_type": "stream",
          "text": [
            "Fetching Descriptions:  75%|███████▌  | 430/572 [2:39:45<44:47, 18.93s/course, Course=Plan and Implement a Data Anal...]"
          ]
        },
        {
          "name": "stdout",
          "output_type": "stream",
          "text": [
            "\n",
            "[✔] Plan and Implement a Data Analytics Environment with Microsoft Fabric:\n",
            "Unlock the Full Potential of Microsoft Fabric! | Step into the role of a Fabric administrator for Fashiobric, a fictional company facing deployment issues, security risks, and inefficient practices. T...\n",
            "\n"
          ]
        },
        {
          "name": "stderr",
          "output_type": "stream",
          "text": [
            "Fetching Descriptions:  75%|███████▌  | 431/572 [2:40:04<44:35, 18.97s/course, Course=Credit Risk Modeling in R]        "
          ]
        },
        {
          "name": "stdout",
          "output_type": "stream",
          "text": [
            "\n",
            "[✔] Credit Risk Modeling in R:\n",
            "This hands-on-course with real-life credit data will teach you how to model credit risk by using logistic regression and decision trees in R. Modeling credit risk for both personal and company loans i...\n",
            "\n"
          ]
        },
        {
          "name": "stderr",
          "output_type": "stream",
          "text": [
            "Fetching Descriptions:  76%|███████▌  | 432/572 [2:40:23<44:15, 18.97s/course, Course=Building Dashboards with shiny...]"
          ]
        },
        {
          "name": "stdout",
          "output_type": "stream",
          "text": [
            "\n",
            "[✔] Building Dashboards with shinydashboard:\n",
            "Learn to create an interactive dashboard using the shinydashboard package in R. Whether you need to provide a client with information, create a data analysis report, or keep track of the performance o...\n",
            "\n"
          ]
        },
        {
          "name": "stderr",
          "output_type": "stream",
          "text": [
            "Fetching Descriptions:  76%|███████▌  | 433/572 [2:40:42<44:22, 19.16s/course, Course=Analyzing Social Media Data in...]"
          ]
        },
        {
          "name": "stdout",
          "output_type": "stream",
          "text": [
            "\n",
            "[✔] Analyzing Social Media Data in Python:\n",
            "Twitter produces hundreds of million messages per day, with people around the world discussing sports, politics, business, and entertainment. You can access thousands of messages flowing in this strea...\n",
            "\n"
          ]
        },
        {
          "name": "stderr",
          "output_type": "stream",
          "text": [
            "Fetching Descriptions:  76%|███████▌  | 434/572 [2:41:00<42:50, 18.63s/course, Course=Analyzing Financial Statements...]"
          ]
        },
        {
          "name": "stdout",
          "output_type": "stream",
          "text": [
            "\n",
            "[✔] Analyzing Financial Statements in Python:\n",
            "Use Python to Analyze Financial Statements | Balance sheets, income statements, and cash flow statements are financial statements nearly every major company uses. These statements contain a plethora o...\n",
            "\n"
          ]
        },
        {
          "name": "stderr",
          "output_type": "stream",
          "text": [
            "Fetching Descriptions:  76%|███████▌  | 435/572 [2:41:18<42:33, 18.64s/course, Course=Case Study: Data Analysis in D...]"
          ]
        },
        {
          "name": "stdout",
          "output_type": "stream",
          "text": [
            "\n",
            "[✔] Case Study: Data Analysis in Databricks:\n",
            "Data Analysis in Databricks | This case study offers a hands-on approach to upskilling data analysis in Databricks, focusing on the use of SQL. Participants will start with the Airbnb dataset, contain...\n",
            "\n"
          ]
        },
        {
          "name": "stderr",
          "output_type": "stream",
          "text": [
            "Fetching Descriptions:  76%|███████▌  | 436/572 [2:41:36<41:25, 18.27s/course, Course=Data Validation in Excel]         "
          ]
        },
        {
          "name": "stdout",
          "output_type": "stream",
          "text": [
            "\n",
            "[✔] Data Validation in Excel:\n",
            "Are you ready to take control of your data and ensure absolute accuracy in Excel? In this hands-on course, you’ll gain the expertise to validate, manage, and protect your spreadsheets with confidence....\n",
            "\n"
          ]
        },
        {
          "name": "stderr",
          "output_type": "stream",
          "text": [
            "Fetching Descriptions:  76%|███████▋  | 437/572 [2:41:54<41:16, 18.35s/course, Course=Factor Analysis in R]    "
          ]
        },
        {
          "name": "stdout",
          "output_type": "stream",
          "text": [
            "\n",
            "[✔] Factor Analysis in R:\n",
            "Discover Factor Analysis in R | The world is full of unobservable variables that can't be directly measured. You might be interested in a construct such as math ability, personality traits, or workpla...\n",
            "\n"
          ]
        },
        {
          "name": "stderr",
          "output_type": "stream",
          "text": [
            "Fetching Descriptions:  77%|███████▋  | 438/572 [2:42:14<41:47, 18.71s/course, Course=Python for Spreadsheet Users]"
          ]
        },
        {
          "name": "stdout",
          "output_type": "stream",
          "text": [
            "\n",
            "[✔] Python for Spreadsheet Users:\n",
            "Are you looking for a better solution than the one you’ve built in a spreadsheet? If so, then Python for Spreadsheet Users is a great introduction to the Python language, and will put you on the right...\n",
            "\n"
          ]
        },
        {
          "name": "stderr",
          "output_type": "stream",
          "text": [
            "Fetching Descriptions:  77%|███████▋  | 439/572 [2:42:32<41:22, 18.67s/course, Course=Baseball Data Visualization in...]"
          ]
        },
        {
          "name": "stdout",
          "output_type": "stream",
          "text": [
            "\n",
            "[✔] Baseball Data Visualization in Power BI:\n",
            "Visualize Baseball Data | In this course, you’ll harness the power that Power BI offers to examine and analyze one of the most well-known and extensive baseball datasets freely available on the intern...\n",
            "\n"
          ]
        },
        {
          "name": "stderr",
          "output_type": "stream",
          "text": [
            "Fetching Descriptions:  77%|███████▋  | 440/572 [2:42:52<41:22, 18.81s/course, Course=Joining Data with data.table i...]"
          ]
        },
        {
          "name": "stdout",
          "output_type": "stream",
          "text": [
            "\n",
            "[✔] Joining Data with data.table in R:\n",
            "In the real world, data sets typically come split across many tables while most data analysis functions in R are designed to work with single tables of data. In this course, you'll learn how to effect...\n",
            "\n"
          ]
        },
        {
          "name": "stderr",
          "output_type": "stream",
          "text": [
            "Fetching Descriptions:  77%|███████▋  | 441/572 [2:43:11<41:26, 18.98s/course, Course=GARCH Models in R]                "
          ]
        },
        {
          "name": "stdout",
          "output_type": "stream",
          "text": [
            "\n",
            "[✔] GARCH Models in R:\n",
            "Are you curious about the rhythm of the financial market's heartbeat? Do you want to know when a stable market becomes turbulent? In this course on GARCH models you will learn the forward looking appr...\n",
            "\n"
          ]
        },
        {
          "name": "stderr",
          "output_type": "stream",
          "text": [
            "Fetching Descriptions:  77%|███████▋  | 442/572 [2:43:31<41:58, 19.38s/course, Course=Foundations of Inference in Py...]"
          ]
        },
        {
          "name": "stdout",
          "output_type": "stream",
          "text": [
            "\n",
            "[✔] Foundations of Inference in Python:\n",
            "Truly Understand Hypothesis Tests | What happens after you compute your averages and make your graphs? How do you go from descriptive statistics to confident decision-making? How can you apply hypothe...\n",
            "\n"
          ]
        },
        {
          "name": "stderr",
          "output_type": "stream",
          "text": [
            "Fetching Descriptions:  77%|███████▋  | 443/572 [2:44:05<51:03, 23.75s/course, Course=Quantitative Risk Management i...]"
          ]
        },
        {
          "name": "stdout",
          "output_type": "stream",
          "text": [
            "\n",
            "[✔] Quantitative Risk Management in R:\n",
            "In Quantitative Risk Management (QRM), you will build models to understand the risks of financial portfolios. This is a vital task across the banking, insurance and asset management industries. The fi...\n",
            "\n"
          ]
        },
        {
          "name": "stderr",
          "output_type": "stream",
          "text": [
            "Fetching Descriptions:  78%|███████▊  | 444/572 [2:44:25<47:59, 22.50s/course, Course=Network Analysis in R]            "
          ]
        },
        {
          "name": "stdout",
          "output_type": "stream",
          "text": [
            "\n",
            "[✔] Network Analysis in R:\n",
            "Get an Introduction to Networks | Discover the fundamental concepts in network analysis. This course begins by taking you through the basics of social networks, vertices and edges, and how you can use...\n",
            "\n"
          ]
        },
        {
          "name": "stderr",
          "output_type": "stream",
          "text": [
            "Fetching Descriptions:  78%|███████▊  | 445/572 [2:44:43<45:05, 21.31s/course, Course=HR Analytics: Exploring Employ...]"
          ]
        },
        {
          "name": "stdout",
          "output_type": "stream",
          "text": [
            "\n",
            "[✔] HR Analytics: Exploring Employee Data in R:\n",
            "Get to Grips with HR Data Analytics | Businesses are increasingly counting on their human resources departments to answer questions, provide insights, and make recommendations using data about their e...\n",
            "\n"
          ]
        },
        {
          "name": "stderr",
          "output_type": "stream",
          "text": [
            "Fetching Descriptions:  78%|███████▊  | 446/572 [2:45:03<43:37, 20.78s/course, Course=Structural Equation Modeling w...]"
          ]
        },
        {
          "name": "stdout",
          "output_type": "stream",
          "text": [
            "\n",
            "[✔] Structural Equation Modeling with lavaan in R:\n",
            "When working with data, we often want to create models to predict future events, but we also want an even deeper understanding of how our data is connected or structured. In this course, you will expl...\n",
            "\n"
          ]
        },
        {
          "name": "stderr",
          "output_type": "stream",
          "text": [
            "Fetching Descriptions:  78%|███████▊  | 447/572 [2:45:19<40:37, 19.50s/course, Course=Introduction to Spark with spa...]"
          ]
        },
        {
          "name": "stdout",
          "output_type": "stream",
          "text": [
            "\n",
            "[✔] Introduction to Spark with sparklyr in R:\n",
            "Explore the Advantages of R, Spark, and sparklyr | R is mostly optimized to help you write data analysis code quickly and readably. Apache Spark is designed to analyze huge datasets quickly. The spark...\n",
            "\n"
          ]
        },
        {
          "name": "stderr",
          "output_type": "stream",
          "text": [
            "Fetching Descriptions:  78%|███████▊  | 448/572 [2:45:37<39:25, 19.08s/course, Course=Concepts in Computer Science]     "
          ]
        },
        {
          "name": "stdout",
          "output_type": "stream",
          "text": [
            "\n",
            "[✔] Concepts in Computer Science:\n",
            "Unlock the Power of Computation | Ever wondered how computers perform complex tasks effortlessly? This comprehensive course on computation takes you from the basics of how computers work to the depths...\n",
            "\n"
          ]
        },
        {
          "name": "stderr",
          "output_type": "stream",
          "text": [
            "Fetching Descriptions:  78%|███████▊  | 449/572 [2:45:58<40:17, 19.65s/course, Course=Case Study: Set Up a Book Reco...]"
          ]
        },
        {
          "name": "stdout",
          "output_type": "stream",
          "text": [
            "\n",
            "[✔] Case Study: Set Up a Book Recommendation App in Azure:\n",
            "Introduction to the Project | Embark on an exciting journey with AppSculpt, a leading developer of recommendation applications, as they aim to transition their book recommendation service to the Micro...\n",
            "\n"
          ]
        },
        {
          "name": "stderr",
          "output_type": "stream",
          "text": [
            "Fetching Descriptions:  79%|███████▊  | 450/572 [2:46:18<40:03, 19.70s/course, Course=Survival Analysis in R]           "
          ]
        },
        {
          "name": "stdout",
          "output_type": "stream",
          "text": [
            "\n",
            "[✔] Survival Analysis in R:\n",
            "Do patients taking the new drug survive longer than others? How fast do people get a new job after getting unemployed? What can I do to make my friends stay on the dancefloor at my party? All these qu...\n",
            "\n"
          ]
        },
        {
          "name": "stderr",
          "output_type": "stream",
          "text": [
            "Fetching Descriptions:  79%|███████▉  | 451/572 [2:46:39<40:31, 20.09s/course, Course=Text Mining with Bag-of-Words ...]"
          ]
        },
        {
          "name": "stdout",
          "output_type": "stream",
          "text": [
            "\n",
            "[✔] Text Mining with Bag-of-Words in R:\n",
            "It is estimated that over 70% of potentially usable business information is unstructured, often in the form of text data. Text mining provides a collection of techniques that allows us to derive actio...\n",
            "\n"
          ]
        },
        {
          "name": "stderr",
          "output_type": "stream",
          "text": [
            "Fetching Descriptions:  79%|███████▉  | 452/572 [2:46:59<40:02, 20.02s/course, Course=Spoken Language Processing in ...]"
          ]
        },
        {
          "name": "stdout",
          "output_type": "stream",
          "text": [
            "\n",
            "[✔] Spoken Language Processing in Python:\n",
            "Learn Speech Recognition and Spoken Language Processing in Python | We learn to speak far before we learn to read. Even in the digital age, our main method of communication is speech. Spoken Language ...\n",
            "\n"
          ]
        },
        {
          "name": "stderr",
          "output_type": "stream",
          "text": [
            "Fetching Descriptions:  79%|███████▉  | 453/572 [2:47:18<39:10, 19.75s/course, Course=Inference for Numerical Data i...]"
          ]
        },
        {
          "name": "stdout",
          "output_type": "stream",
          "text": [
            "\n",
            "[✔] Inference for Numerical Data in R:\n",
            "In this course, you'll learn how to use statistical techniques to make inferences and estimations using numerical data. This course uses two approaches to these common tasks. The first makes use of bo...\n",
            "\n"
          ]
        },
        {
          "name": "stderr",
          "output_type": "stream",
          "text": [
            "Fetching Descriptions:  79%|███████▉  | 454/572 [2:47:37<38:19, 19.48s/course, Course=Feature Engineering in R]         "
          ]
        },
        {
          "name": "stdout",
          "output_type": "stream",
          "text": [
            "\n",
            "[✔] Feature Engineering in R:\n",
            "Discover Feature Engineering for Machine Learning | In this course, you’ll learn about feature engineering, which is at the heart of many times of machine learning models. As the performance of any mo...\n",
            "\n"
          ]
        },
        {
          "name": "stderr",
          "output_type": "stream",
          "text": [
            "Fetching Descriptions:  80%|███████▉  | 455/572 [2:47:57<38:13, 19.60s/course, Course=Analyzing Police Activity with...]"
          ]
        },
        {
          "name": "stdout",
          "output_type": "stream",
          "text": [
            "\n",
            "[✔] Analyzing Police Activity with pandas:\n",
            "Now that you have learned the foundations of pandas, this course will give you the chance to apply that knowledge by answering interesting questions about a real dataset! You will explore the Stanford...\n",
            "\n"
          ]
        },
        {
          "name": "stderr",
          "output_type": "stream",
          "text": [
            "Fetching Descriptions:  80%|███████▉  | 456/572 [2:48:17<38:22, 19.85s/course, Course=Introduction to Business Valua...]"
          ]
        },
        {
          "name": "stdout",
          "output_type": "stream",
          "text": [
            "\n",
            "[✔] Introduction to Business Valuation:\n",
            "Fundamentals of Valuation Methodologies | This course starts by introducing learners to the foundational concepts of business valuation. You will explore the three primary methodologies used in the in...\n",
            "\n"
          ]
        },
        {
          "name": "stderr",
          "output_type": "stream",
          "text": [
            "Fetching Descriptions:  80%|███████▉  | 457/572 [2:48:38<38:37, 20.16s/course, Course=Survival Analysis in Python]      "
          ]
        },
        {
          "name": "stdout",
          "output_type": "stream",
          "text": [
            "\n",
            "[✔] Survival Analysis in Python:\n",
            "How long does it take for flu symptoms to show after exposure? And what if you don't know when people caught the virus? Do salary and work-life balance influence the speed of employee turnover? Lots o...\n",
            "\n"
          ]
        },
        {
          "name": "stderr",
          "output_type": "stream",
          "text": [
            "Fetching Descriptions:  80%|████████  | 458/572 [2:48:59<38:35, 20.31s/course, Course=Data Transformation in KNIME]"
          ]
        },
        {
          "name": "stdout",
          "output_type": "stream",
          "text": [
            "\n",
            "[✔] Data Transformation in KNIME:\n",
            "Basic Data Manipulation Techniques | Kick off your learning journey by acquiring foundational data transformation skills in KNIME. This course segment covers splitting columns based on cell values, us...\n",
            "\n"
          ]
        },
        {
          "name": "stderr",
          "output_type": "stream",
          "text": [
            "Fetching Descriptions:  80%|████████  | 459/572 [2:49:22<39:52, 21.17s/course, Course=Programming Paradigm Concepts]"
          ]
        },
        {
          "name": "stdout",
          "output_type": "stream",
          "text": [
            "\n",
            "[✔] Programming Paradigm Concepts:\n",
            "Ready for a paradigm shift to what you know about programming? In | Introduction to Programming Paradigms | , you will learn the basics of various programming paradigms, including imperative and decla...\n",
            "\n"
          ]
        },
        {
          "name": "stderr",
          "output_type": "stream",
          "text": [
            "Fetching Descriptions:  80%|████████  | 460/572 [2:49:41<38:00, 20.37s/course, Course=AI-Assisted Restaurant Plannin...]"
          ]
        },
        {
          "name": "stdout",
          "output_type": "stream",
          "text": [
            "\n",
            "[✔] AI-Assisted Restaurant Planning:\n",
            "Practice AI Prompting and Build Confidence | This project is designed to help beginners build confidence and understanding in interacting with AI chatbots through hands-on practice with a custom AI gu...\n",
            "\n"
          ]
        },
        {
          "name": "stderr",
          "output_type": "stream",
          "text": [
            "Fetching Descriptions:  81%|████████  | 461/572 [2:50:03<38:52, 21.01s/course, Course=Statistical Simulation in Pyth...]"
          ]
        },
        {
          "name": "stdout",
          "output_type": "stream",
          "text": [
            "\n",
            "[✔] Statistical Simulation in Python:\n",
            "Get to Grips with Random Variables | Simulations are a class of computational algorithms that use random sampling to solve increasingly complex problems. Although simulations have been around for a lo...\n",
            "\n"
          ]
        },
        {
          "name": "stderr",
          "output_type": "stream",
          "text": [
            "Fetching Descriptions:  81%|████████  | 462/572 [2:50:22<37:20, 20.37s/course, Course=Error and Uncertainty in Googl...]"
          ]
        },
        {
          "name": "stdout",
          "output_type": "stream",
          "text": [
            "\n",
            "[✔] Error and Uncertainty in Google Sheets:\n",
            "In a world where predictions shape our daily decisions, from choosing outfits based on weather forecasts to planning commutes with a glance at traffic conditions, understanding the accuracy and intric...\n",
            "\n"
          ]
        },
        {
          "name": "stderr",
          "output_type": "stream",
          "text": [
            "Fetching Descriptions:  81%|████████  | 463/572 [2:50:40<35:44, 19.68s/course, Course=Machine Learning in the Tidyve...]"
          ]
        },
        {
          "name": "stdout",
          "output_type": "stream",
          "text": [
            "\n",
            "[✔] Machine Learning in the Tidyverse:\n",
            "Welcome to the tidyverse! In this course, you will continue on your journey to learn the tidyverse and apply your knowledge to machine learning concepts. | This course is ideal if you’re looking to in...\n",
            "\n"
          ]
        },
        {
          "name": "stderr",
          "output_type": "stream",
          "text": [
            "Fetching Descriptions:  81%|████████  | 464/572 [2:51:01<35:49, 19.90s/course, Course=Parallel Programming in R]        "
          ]
        },
        {
          "name": "stdout",
          "output_type": "stream",
          "text": [
            "\n",
            "[✔] Parallel Programming in R:\n",
            "Speed Up Your Code with Parallel Programming | R programming language is a key part of the modern tech stack. But sometimes, R code takes a long time to run. The good news is that most modern computer...\n",
            "\n"
          ]
        },
        {
          "name": "stderr",
          "output_type": "stream",
          "text": [
            "Fetching Descriptions:  81%|████████▏ | 465/572 [2:51:20<35:15, 19.77s/course, Course=Bond Valuation and Analysis in...]"
          ]
        },
        {
          "name": "stdout",
          "output_type": "stream",
          "text": [
            "\n",
            "[✔] Bond Valuation and Analysis in R:\n",
            "After this course on quantitative finance with R, you will be able to use R to develop a model to value a fixed interest rate bond, estimate and analyze a bond's yield (i.e., a measure of the opportun...\n",
            "\n"
          ]
        },
        {
          "name": "stderr",
          "output_type": "stream",
          "text": [
            "Fetching Descriptions:  81%|████████▏ | 466/572 [2:51:40<35:18, 19.99s/course, Course=Case Study: Supply Chain Analy...]"
          ]
        },
        {
          "name": "stdout",
          "output_type": "stream",
          "text": [
            "\n",
            "[✔] Case Study: Supply Chain Analytics in Tableau:\n",
            "Use Tableau for Supply Chain Analysis | Test your Tableau skills on a real-world dataset focusing on supply chain analytics. In this case study, you will help solve key challenges of shipment and inve...\n",
            "\n"
          ]
        },
        {
          "name": "stderr",
          "output_type": "stream",
          "text": [
            "Fetching Descriptions:  82%|████████▏ | 467/572 [2:52:00<34:38, 19.79s/course, Course=Writing Efficient Code with pa...]"
          ]
        },
        {
          "name": "stdout",
          "output_type": "stream",
          "text": [
            "\n",
            "[✔] Writing Efficient Code with pandas:\n",
            "The ability to efficiently work with big datasets and extract valuable information is an indispensable tool for every aspiring data scientist. When working with a small amount of data, we often don’t ...\n",
            "\n"
          ]
        },
        {
          "name": "stderr",
          "output_type": "stream",
          "text": [
            "Fetching Descriptions:  82%|████████▏ | 468/572 [2:52:20<34:38, 19.99s/course, Course=Introduction to DataLab]          "
          ]
        },
        {
          "name": "stdout",
          "output_type": "stream",
          "text": [
            "\n",
            "[✔] Introduction to DataLab:\n",
            "Discover DataLab for analysis and reporting | Learn the fundamentals of DataLab, an AI-powered data notebook for analysis, reporting, and experiments. You'll see how to add and use a variety of cells ...\n",
            "\n"
          ]
        },
        {
          "name": "stderr",
          "output_type": "stream",
          "text": [
            "Fetching Descriptions:  82%|████████▏ | 469/572 [2:52:39<33:46, 19.68s/course, Course=Python for R Users]     "
          ]
        },
        {
          "name": "stdout",
          "output_type": "stream",
          "text": [
            "\n",
            "[✔] Python for R Users:\n",
            "Python and R have seen immense growth in popularity in the \"Machine Learning Age\". They both are high-level languages that are easy to learn and write. The language you use will depend on your backgro...\n",
            "\n"
          ]
        },
        {
          "name": "stderr",
          "output_type": "stream",
          "text": [
            "Fetching Descriptions:  82%|████████▏ | 470/572 [2:52:56<32:11, 18.94s/course, Course=Financial Forecasting in Pytho...]"
          ]
        },
        {
          "name": "stdout",
          "output_type": "stream",
          "text": [
            "\n",
            "[✔] Financial Forecasting in Python:\n",
            "In Financial Forecasting in Python, you will step into the role of CFO and learn how to advise a board of directors on key metrics while building a financial forecast, the basics of income statements ...\n",
            "\n"
          ]
        },
        {
          "name": "stderr",
          "output_type": "stream",
          "text": [
            "Fetching Descriptions:  82%|████████▏ | 471/572 [2:53:16<32:08, 19.09s/course, Course=Sentiment Analysis in R]          "
          ]
        },
        {
          "name": "stdout",
          "output_type": "stream",
          "text": [
            "\n",
            "[✔] Sentiment Analysis in R:\n",
            "Expand Your Text Mining Skill Set | Add sentiment analysis to your text mining toolkit! Sentiment analysis is used by text miners in marketing, politics, customer service, and elsewhere. In this cours...\n",
            "\n"
          ]
        },
        {
          "name": "stderr",
          "output_type": "stream",
          "text": [
            "Fetching Descriptions:  83%|████████▎ | 472/572 [2:53:35<31:40, 19.01s/course, Course=Case Study: Financial Analysis...]"
          ]
        },
        {
          "name": "stdout",
          "output_type": "stream",
          "text": [
            "\n",
            "[✔] Case Study: Financial Analysis in KNIME:\n",
            "Financial Analysis in KNIME | This case study dives deep into the practical use of KNIME for financial analysis, utilizing real-world purchase data to demonstrate this tool's power. Participants will ...\n",
            "\n"
          ]
        },
        {
          "name": "stderr",
          "output_type": "stream",
          "text": [
            "Fetching Descriptions:  83%|████████▎ | 473/572 [2:53:53<30:46, 18.65s/course, Course=Analyzing US Census Data in Py...]"
          ]
        },
        {
          "name": "stdout",
          "output_type": "stream",
          "text": [
            "\n",
            "[✔] Analyzing US Census Data in Python:\n",
            "Data scientists in diverse fields, from marketing to public health to civic hacking, need to work with demographic and socioeconomic data. Government census agencies offer richly detailed, high-qualit...\n",
            "\n"
          ]
        },
        {
          "name": "stderr",
          "output_type": "stream",
          "text": [
            "Fetching Descriptions:  83%|████████▎ | 474/572 [2:54:13<31:23, 19.22s/course, Course=Case Studies: Building Web App...]"
          ]
        },
        {
          "name": "stdout",
          "output_type": "stream",
          "text": [
            "\n",
            "[✔] Case Studies: Building Web Applications with Shiny in R:\n",
            "After learning the basics of using Shiny to build web applications, this course takes you to the next level by putting your newly acquired skills into practice. You'll get experience developing fun an...\n",
            "\n"
          ]
        },
        {
          "name": "stderr",
          "output_type": "stream",
          "text": [
            "Fetching Descriptions:  83%|████████▎ | 475/572 [2:54:33<31:30, 19.49s/course, Course=Introduction to Natural Langua...]"
          ]
        },
        {
          "name": "stdout",
          "output_type": "stream",
          "text": [
            "\n",
            "[✔] Introduction to Natural Language Processing in R:\n",
            "As with any fundamentals course, Introduction to Natural Language Processing in R is designed to equip you with the necessary tools to begin your adventures in analyzing text. Natural language process...\n",
            "\n"
          ]
        },
        {
          "name": "stderr",
          "output_type": "stream",
          "text": [
            "Fetching Descriptions:  83%|████████▎ | 476/572 [2:54:50<29:49, 18.64s/course, Course=Advanced NLP with spaCy]          "
          ]
        },
        {
          "name": "stdout",
          "output_type": "stream",
          "text": [
            "\n",
            "[✔] Advanced NLP with spaCy:\n",
            "If you're working with a lot of text, you'll eventually want to know more about it. For example, what's it about? What do the words mean in context? Who is doing what to whom? What companies and produ...\n",
            "\n"
          ]
        },
        {
          "name": "stderr",
          "output_type": "stream",
          "text": [
            "Fetching Descriptions:  83%|████████▎ | 477/572 [2:55:07<28:42, 18.13s/course, Course=Importing and Managing Financi...]"
          ]
        },
        {
          "name": "stdout",
          "output_type": "stream",
          "text": [
            "\n",
            "[✔] Importing and Managing Financial Data in R:\n",
            "If you've ever done anything with financial or economic time series, you know the data come in various shapes, sizes, and periodicities. Getting the data into R can be stressful and time-consuming, es...\n",
            "\n"
          ]
        },
        {
          "name": "stderr",
          "output_type": "stream",
          "text": [
            "Fetching Descriptions:  84%|████████▎ | 478/572 [2:55:27<29:35, 18.89s/course, Course=AI-Assisted Travel Planning]      "
          ]
        },
        {
          "name": "stdout",
          "output_type": "stream",
          "text": [
            "\n",
            "[✔] AI-Assisted Travel Planning:\n",
            "Build Confidence in AI with WanderBot | Balancing your wanderlust with a busy schedule can sometimes feel daunting. Enter WanderBot: a custom AI-powered chatbot designed to streamline your travel plan...\n",
            "\n"
          ]
        },
        {
          "name": "stderr",
          "output_type": "stream",
          "text": [
            "Fetching Descriptions:  84%|████████▎ | 479/572 [2:55:46<29:10, 18.82s/course, Course=Designing Machine Learning Wor...]"
          ]
        },
        {
          "name": "stdout",
          "output_type": "stream",
          "text": [
            "\n",
            "[✔] Designing Machine Learning Workflows in Python:\n",
            "Deploying machine learning models in production seems easy with modern tools, but often ends in disappointment as the model performs worse in production than in development. This course will give you ...\n",
            "\n"
          ]
        },
        {
          "name": "stderr",
          "output_type": "stream",
          "text": [
            "Fetching Descriptions:  84%|████████▍ | 480/572 [2:56:05<29:00, 18.92s/course, Course=Nonlinear Modeling with Genera...]"
          ]
        },
        {
          "name": "stdout",
          "output_type": "stream",
          "text": [
            "\n",
            "[✔] Nonlinear Modeling with Generalized Additive Models (GAMs) in R:\n",
            "Generalized Additive Models are a powerful tool for both prediction and inference.  More flexible than linear models, and more understandable than black-box methods, GAMs model relationships in data a...\n",
            "\n"
          ]
        },
        {
          "name": "stderr",
          "output_type": "stream",
          "text": [
            "Fetching Descriptions:  84%|████████▍ | 481/572 [2:56:24<28:41, 18.91s/course, Course=Data Privacy and Anonymization...]"
          ]
        },
        {
          "name": "stdout",
          "output_type": "stream",
          "text": [
            "\n",
            "[✔] Data Privacy and Anonymization in Python:\n",
            "Data privacy has never been more important. But how do you balance privacy with the need to gather and share valuable business insights? In this course, you'll learn how to do just that, using the sam...\n",
            "\n"
          ]
        },
        {
          "name": "stderr",
          "output_type": "stream",
          "text": [
            "Fetching Descriptions:  84%|████████▍ | 482/572 [2:56:42<28:01, 18.69s/course, Course=Multi-Modal Systems with the O...]"
          ]
        },
        {
          "name": "stdout",
          "output_type": "stream",
          "text": [
            "\n",
            "[✔] Multi-Modal Systems with the OpenAI API:\n",
            "Develop Multi-Modal Applications with the OpenAI API | To build applications that are accessible to as wide an audience as possible, it's important that they can accept inputs in different modalities,...\n",
            "\n"
          ]
        },
        {
          "name": "stderr",
          "output_type": "stream",
          "text": [
            "Fetching Descriptions:  84%|████████▍ | 483/572 [2:57:03<28:31, 19.23s/course, Course=Dimensionality Reduction in R]    "
          ]
        },
        {
          "name": "stdout",
          "output_type": "stream",
          "text": [
            "\n",
            "[✔] Dimensionality Reduction in R:\n",
            "Do you ever work with datasets with an overwhelming number of features? Do you need all those features? Which ones are the most important? In this course, you will learn dimensionality reduction techn...\n",
            "\n"
          ]
        },
        {
          "name": "stderr",
          "output_type": "stream",
          "text": [
            "Fetching Descriptions:  85%|████████▍ | 484/572 [2:57:21<27:31, 18.77s/course, Course=Case Study: Ecommerce Analysis...]"
          ]
        },
        {
          "name": "stdout",
          "output_type": "stream",
          "text": [
            "\n",
            "[✔] Case Study: Ecommerce Analysis in Tableau:\n",
            "Are you ready to apply your Tableau skills to solve practical business problems? For ecommerce businesses, increasing sales and reducing expenses are top priorities. In this Tableau case study, you'll...\n",
            "\n"
          ]
        },
        {
          "name": "stderr",
          "output_type": "stream",
          "text": [
            "Fetching Descriptions:  85%|████████▍ | 485/572 [2:57:41<28:02, 19.34s/course, Course=Inference for Categorical Data...]"
          ]
        },
        {
          "name": "stdout",
          "output_type": "stream",
          "text": [
            "\n",
            "[✔] Inference for Categorical Data in R:\n",
            "Categorical data is all around us. It's in the latest opinion polling numbers, in the data that lead to new breakthroughs in genomics, and in the troves of data that internet companies collect to sell...\n",
            "\n"
          ]
        },
        {
          "name": "stderr",
          "output_type": "stream",
          "text": [
            "Fetching Descriptions:  85%|████████▍ | 486/572 [2:57:59<27:03, 18.88s/course, Course=Parallel Programming with Dask...]"
          ]
        },
        {
          "name": "stdout",
          "output_type": "stream",
          "text": [
            "\n",
            "[✔] Parallel Programming with Dask in Python:\n",
            "Use Parallel Processing to Speed Up Your Python Code | With this 4-hour course, you’ll discover how parallel processing with Dask in Python can make your workflows faster. | When working with big data...\n",
            "\n"
          ]
        },
        {
          "name": "stderr",
          "output_type": "stream",
          "text": [
            "Fetching Descriptions:  85%|████████▌ | 487/572 [2:58:17<26:12, 18.50s/course, Course=Developing R Packages]            "
          ]
        },
        {
          "name": "stdout",
          "output_type": "stream",
          "text": [
            "\n",
            "[✔] Developing R Packages:\n",
            "The expansive ecosystem of R packages may seem daunting at first glance, but don't worry! Acquiring the skill to develop your own R package is invaluable, regardless of whether you collaborate on your...\n",
            "\n"
          ]
        },
        {
          "name": "stderr",
          "output_type": "stream",
          "text": [
            "Fetching Descriptions:  85%|████████▌ | 488/572 [2:58:38<27:05, 19.35s/course, Course=Case Study: HR Analytics in Ta...]"
          ]
        },
        {
          "name": "stdout",
          "output_type": "stream",
          "text": [
            "\n",
            "[✔] Case Study: HR Analytics in Tableau:\n",
            "Analyzing HR Data in Tableau In this Tableau case study, you will explore a dataset for a fictitious software company called Atlas Labs. This course focuses on helping you import, analyze and visualiz...\n",
            "\n"
          ]
        },
        {
          "name": "stderr",
          "output_type": "stream",
          "text": [
            "Fetching Descriptions:  85%|████████▌ | 489/572 [2:58:57<26:40, 19.28s/course, Course=MLOps for Business]               "
          ]
        },
        {
          "name": "stdout",
          "output_type": "stream",
          "text": [
            "\n",
            "[✔] MLOps for Business:\n",
            "Discover MLOps for Business | Learn the essential concepts and practices of MLOps, an emerging set of tools and techniques for automating and scaling machine learning applications.  Machine learning m...\n",
            "\n"
          ]
        },
        {
          "name": "stderr",
          "output_type": "stream",
          "text": [
            "Fetching Descriptions:  86%|████████▌ | 490/572 [2:59:16<26:18, 19.25s/course, Course=Support Vector Machines in R]"
          ]
        },
        {
          "name": "stdout",
          "output_type": "stream",
          "text": [
            "\n",
            "[✔] Support Vector Machines in R:\n",
            "This course will introduce a powerful classifier, the support vector machine (SVM) using an intuitive, visual approach. Support Vector Machines in R will help students develop an understanding of the ...\n",
            "\n"
          ]
        },
        {
          "name": "stderr",
          "output_type": "stream",
          "text": [
            "Fetching Descriptions:  86%|████████▌ | 491/572 [2:59:33<25:00, 18.52s/course, Course=Intermediate Portfolio Analysi...]"
          ]
        },
        {
          "name": "stdout",
          "output_type": "stream",
          "text": [
            "\n",
            "[✔] Intermediate Portfolio Analysis in R:\n",
            "This course builds on the fundamental concepts from Introduction to Portfolio Analysis in R and explores advanced concepts in the portfolio optimization process. It is critical for an analyst or portf...\n",
            "\n"
          ]
        },
        {
          "name": "stderr",
          "output_type": "stream",
          "text": [
            "Fetching Descriptions:  86%|████████▌ | 492/572 [2:59:51<24:34, 18.44s/course, Course=Analyzing IoT Data in Python]     "
          ]
        },
        {
          "name": "stdout",
          "output_type": "stream",
          "text": [
            "\n",
            "[✔] Analyzing IoT Data in Python:\n",
            "Have you ever heard about Internet of Things devices? Of course, you have. Maybe you also have a Raspberry PI in your house monitoring the temperature and humidity.   IoT devices are everywhere around...\n",
            "\n"
          ]
        },
        {
          "name": "stderr",
          "output_type": "stream",
          "text": [
            "Fetching Descriptions:  86%|████████▌ | 493/572 [3:00:10<24:25, 18.56s/course, Course=Multi-Modal Models with Huggin...]"
          ]
        },
        {
          "name": "stdout",
          "output_type": "stream",
          "text": [
            "\n",
            "[✔] Multi-Modal Models with Hugging Face:\n",
            "Harness the Power of Multi-Modal AI | Dive into the cutting-edge world of multi-modal AI models, where text, images, and speech combine to create powerful applications. Learn how to leverage Hugging F...\n",
            "\n"
          ]
        },
        {
          "name": "stderr",
          "output_type": "stream",
          "text": [
            "Fetching Descriptions:  86%|████████▋ | 494/572 [3:00:30<24:42, 19.00s/course, Course=Case Study: Analyzing Healthca...]"
          ]
        },
        {
          "name": "stdout",
          "output_type": "stream",
          "text": [
            "\n",
            "[✔] Case Study: Analyzing Healthcare Data in Tableau:\n",
            "In healthcare, improving efficiency while maintaining high-quality patient care is a top priority. | Use Tableau to Analyze Healthcare Data | In this Tableau Case study, you’ll explore a real-world da...\n",
            "\n"
          ]
        },
        {
          "name": "stderr",
          "output_type": "stream",
          "text": [
            "Fetching Descriptions:  87%|████████▋ | 495/572 [3:00:51<24:57, 19.44s/course, Course=Data Visualization in KNIME]      "
          ]
        },
        {
          "name": "stdout",
          "output_type": "stream",
          "text": [
            "\n",
            "[✔] Data Visualization in KNIME:\n",
            "Introduction to Data Visualization | Learn the basic elements of data visualization using KNIME. Create a variety of widely used plots and charts, emphasizing simplicity, clarity, and the wise use of ...\n",
            "\n"
          ]
        },
        {
          "name": "stderr",
          "output_type": "stream",
          "text": [
            "Fetching Descriptions:  87%|████████▋ | 496/572 [3:01:10<24:38, 19.46s/course, Course=Course Creation at DataCamp]"
          ]
        },
        {
          "name": "stdout",
          "output_type": "stream",
          "text": [
            "\n",
            "[✔] Course Creation at DataCamp:\n",
            "Welcome to the DataCamp family! You are about to begin creating a course that, in just a few months, will be available to over 3 million students worldwide! If you're new to eLearning, you'll soon lea...\n",
            "\n"
          ]
        },
        {
          "name": "stderr",
          "output_type": "stream",
          "text": [
            "Fetching Descriptions:  87%|████████▋ | 497/572 [3:01:28<23:38, 18.91s/course, Course=Multivariate Probability Distr...]"
          ]
        },
        {
          "name": "stdout",
          "output_type": "stream",
          "text": [
            "\n",
            "[✔] Multivariate Probability Distributions in R:\n",
            "When working with data that contains many variables, we are often interested in studying the relationship between these variables using multivariate statistics. In this course, you'll learn ways to an...\n",
            "\n"
          ]
        },
        {
          "name": "stderr",
          "output_type": "stream",
          "text": [
            "Fetching Descriptions:  87%|████████▋ | 498/572 [3:01:47<23:21, 18.95s/course, Course=Market Basket Analysis in R]      "
          ]
        },
        {
          "name": "stdout",
          "output_type": "stream",
          "text": [
            "\n",
            "[✔] Market Basket Analysis in R:\n",
            "Last time you were at the supermarket, what was in your shopping basket? Was there a connection between the products you purchased, like spaghetti and tomatoes or ham and pineapple? Whether online or ...\n",
            "\n"
          ]
        },
        {
          "name": "stderr",
          "output_type": "stream",
          "text": [
            "Fetching Descriptions:  87%|████████▋ | 499/572 [3:02:07<23:28, 19.30s/course, Course=Recommending Skincare Products]"
          ]
        },
        {
          "name": "stdout",
          "output_type": "stream",
          "text": [
            "\n",
            "[✔] Recommending Skincare Products:\n",
            "Are you trying to find the right skincare product for a customer? Are you confused by the many options available to you? If only there was a customer service chatbot that could assist you! | Find the ...\n",
            "\n"
          ]
        },
        {
          "name": "stderr",
          "output_type": "stream",
          "text": [
            "Fetching Descriptions:  87%|████████▋ | 500/572 [3:02:27<23:25, 19.52s/course, Course=Equity Valuation in R]         "
          ]
        },
        {
          "name": "stdout",
          "output_type": "stream",
          "text": [
            "\n",
            "[✔] Equity Valuation in R:\n",
            "How do we know when a stock is cheap or expensive? To do this, we need to compare the stock's price with its value. The price of the stock can be obtained by looking at various public sources, such as...\n",
            "\n"
          ]
        },
        {
          "name": "stderr",
          "output_type": "stream",
          "text": [
            "Fetching Descriptions:  88%|████████▊ | 501/572 [3:02:46<22:59, 19.43s/course, Course=Hyperparameter Tuning in R]"
          ]
        },
        {
          "name": "stdout",
          "output_type": "stream",
          "text": [
            "\n",
            "[✔] Hyperparameter Tuning in R:\n",
            "For many machine learning problems, simply running a model out-of-the-box and getting a prediction is not enough; you want the best model with the most accurate prediction. One way to perfect your mod...\n",
            "\n"
          ]
        },
        {
          "name": "stderr",
          "output_type": "stream",
          "text": [
            "Fetching Descriptions:  88%|████████▊ | 502/572 [3:03:06<22:48, 19.56s/course, Course=Data Manipulation in KNIME]"
          ]
        },
        {
          "name": "stdout",
          "output_type": "stream",
          "text": [
            "\n",
            "[✔] Data Manipulation in KNIME:\n",
            "Automate and simplify your data workflows | In today’s fast-paced world, data professionals need tools to automate repetitive tasks and handle diverse datasets efficiently. KNIME provides a no-code pl...\n",
            "\n"
          ]
        },
        {
          "name": "stderr",
          "output_type": "stream",
          "text": [
            "Fetching Descriptions:  88%|████████▊ | 503/572 [3:03:27<22:50, 19.86s/course, Course=Life Insurance Products Valuat...]"
          ]
        },
        {
          "name": "stdout",
          "output_type": "stream",
          "text": [
            "\n",
            "[✔] Life Insurance Products Valuation in R:\n",
            "Understanding the basic principles of life insurance products is essential for your personal financial planning, ranging from taking out a mortgage to designing your retirement plan and seeking financ...\n",
            "\n"
          ]
        },
        {
          "name": "stderr",
          "output_type": "stream",
          "text": [
            "Fetching Descriptions:  88%|████████▊ | 504/572 [3:03:45<22:04, 19.48s/course, Course=Differential Expression Analys...]"
          ]
        },
        {
          "name": "stdout",
          "output_type": "stream",
          "text": [
            "\n",
            "[✔] Differential Expression Analysis with limma in R:\n",
            "Functional genomic technologies like microarrays, sequencing, and mass spectrometry enable scientists to gather unbiased measurements of gene expression levels on a genome-wide scale. Whether you are ...\n",
            "\n"
          ]
        },
        {
          "name": "stderr",
          "output_type": "stream",
          "text": [
            "Fetching Descriptions:  88%|████████▊ | 505/572 [3:04:04<21:24, 19.16s/course, Course=R For SAS Users]                  "
          ]
        },
        {
          "name": "stdout",
          "output_type": "stream",
          "text": [
            "\n",
            "[✔] R For SAS Users:\n",
            "If you have experience with SAS and want to learn R, this is the course for you. R is FREE (cost) and OPEN (license) and is one of the fastest growing software languages for statistics and data scienc...\n",
            "\n"
          ]
        },
        {
          "name": "stderr",
          "output_type": "stream",
          "text": [
            "Fetching Descriptions:  88%|████████▊ | 506/572 [3:04:23<21:07, 19.20s/course, Course=Introduction to Amazon Bedrock]"
          ]
        },
        {
          "name": "stdout",
          "output_type": "stream",
          "text": [
            "\n",
            "[✔] Introduction to Amazon Bedrock:\n",
            "Amazon Bedrock provides managed access to foundation models from multiple providers through a unified API, making it easy to build and scale AI-powered applications while maintaining security and comp...\n",
            "\n"
          ]
        },
        {
          "name": "stderr",
          "output_type": "stream",
          "text": [
            "Fetching Descriptions:  89%|████████▊ | 507/572 [3:04:42<20:45, 19.16s/course, Course=Decoding Decision Modeling]    "
          ]
        },
        {
          "name": "stdout",
          "output_type": "stream",
          "text": [
            "\n",
            "[✔] Decoding Decision Modeling:\n",
            "Foundations of Decision Models | Decision-making lies at the core of human existence. In today's data-driven world, where information overload is the norm, the ability to make informed decisions is in...\n",
            "\n"
          ]
        },
        {
          "name": "stderr",
          "output_type": "stream",
          "text": [
            "Fetching Descriptions:  89%|████████▉ | 508/572 [3:04:59<19:53, 18.65s/course, Course=A/B Testing in R]          "
          ]
        },
        {
          "name": "stdout",
          "output_type": "stream",
          "text": [
            "\n",
            "[✔] A/B Testing in R:\n",
            "A/B testing is a common experimental design for human behavior research in industry and academia. A/B tests compare two variants to determine if the measurement shows different performance and if meas...\n",
            "\n"
          ]
        },
        {
          "name": "stderr",
          "output_type": "stream",
          "text": [
            "Fetching Descriptions:  89%|████████▉ | 509/572 [3:05:18<19:39, 18.71s/course, Course=Discrete Event Simulation in P...]"
          ]
        },
        {
          "name": "stdout",
          "output_type": "stream",
          "text": [
            "\n",
            "[✔] Discrete Event Simulation in Python:\n",
            "Discover Discrete-Event Simulation | Have you ever been asked to optimize your industry or business operations? In this course on discrete-event simulation in Python, you will learn how to tackle the ...\n",
            "\n"
          ]
        },
        {
          "name": "stderr",
          "output_type": "stream",
          "text": [
            "Fetching Descriptions:  89%|████████▉ | 510/572 [3:05:38<19:38, 19.01s/course, Course=Analyzing Social Media Data in...]"
          ]
        },
        {
          "name": "stdout",
          "output_type": "stream",
          "text": [
            "\n",
            "[✔] Analyzing Social Media Data in R:\n",
            "Analyzing data from social media can provide you with valuable insights. It can inform campaign strategies, improve marketing and sales, measure customer engagement, perform competitor analysis, and i...\n",
            "\n"
          ]
        },
        {
          "name": "stderr",
          "output_type": "stream",
          "text": [
            "Fetching Descriptions:  89%|████████▉ | 511/572 [3:05:57<19:23, 19.08s/course, Course=Handling Missing Data with Imp...]"
          ]
        },
        {
          "name": "stdout",
          "output_type": "stream",
          "text": [
            "\n",
            "[✔] Handling Missing Data with Imputations in R:\n",
            "Missing data is everywhere. The process of filling in missing values is known as imputation, and knowing how to correctly fill in missing data is an essential skill if you want to produce accurate pre...\n",
            "\n"
          ]
        },
        {
          "name": "stderr",
          "output_type": "stream",
          "text": [
            "Fetching Descriptions:  90%|████████▉ | 512/572 [3:06:17<19:09, 19.15s/course, Course=Financial Trading in R]           "
          ]
        },
        {
          "name": "stdout",
          "output_type": "stream",
          "text": [
            "\n",
            "[✔] Financial Trading in R:\n",
            "This course will cover the basics on financial trading and will give you an overview of how to use quantstrat to build signal-based trading strategies in R. It will teach you how to set up a quantstra...\n",
            "\n"
          ]
        },
        {
          "name": "stderr",
          "output_type": "stream",
          "text": [
            "Fetching Descriptions:  90%|████████▉ | 513/572 [3:06:36<18:50, 19.16s/course, Course=Distributed AI Model Training ...]"
          ]
        },
        {
          "name": "stdout",
          "output_type": "stream",
          "text": [
            "\n",
            "[✔] Distributed AI Model Training in Python:\n",
            "Distributed training is an essential skill in large-scale machine learning, helping you to reduce the time required to train large language models with trillions of parameters. In this course, you wil...\n",
            "\n"
          ]
        },
        {
          "name": "stderr",
          "output_type": "stream",
          "text": [
            "Fetching Descriptions:  90%|████████▉ | 514/572 [3:06:54<18:07, 18.75s/course, Course=Conditional Formatting in Goog...]"
          ]
        },
        {
          "name": "stdout",
          "output_type": "stream",
          "text": [
            "\n",
            "[✔] Conditional Formatting in Google Sheets:\n",
            "Spreadsheets often suffer from having too much data. If you want to tell the underlying story that is in the data without creating additional reports, conditional formatting can help! Whether it's sho...\n",
            "\n"
          ]
        },
        {
          "name": "stderr",
          "output_type": "stream",
          "text": [
            "Fetching Descriptions:  90%|█████████ | 515/572 [3:07:13<17:58, 18.91s/course, Course=Time Series Analysis in Postgr...]"
          ]
        },
        {
          "name": "stdout",
          "output_type": "stream",
          "text": [
            "\n",
            "[✔] Time Series Analysis in PostgreSQL:\n",
            "This course teaches you how to leverage PostgreSQL to handle date and time data. You'll learn about functions and calls to help you parse through and manipulate this data, make calculations, and use w...\n",
            "\n"
          ]
        },
        {
          "name": "stderr",
          "output_type": "stream",
          "text": [
            "Fetching Descriptions:  90%|█████████ | 516/572 [3:07:32<17:44, 19.01s/course, Course=Forecasting Product Demand in ...]"
          ]
        },
        {
          "name": "stdout",
          "output_type": "stream",
          "text": [
            "\n",
            "[✔] Forecasting Product Demand in R:\n",
            "Accurately predicting demand for products allows a company to stay ahead of the market. By knowing what things shape demand, you can drive behaviors around your products better. This course unlocks th...\n",
            "\n"
          ]
        },
        {
          "name": "stderr",
          "output_type": "stream",
          "text": [
            "Fetching Descriptions:  90%|█████████ | 517/572 [3:07:50<17:13, 18.78s/course, Course=Python for MATLAB Users]          "
          ]
        },
        {
          "name": "stdout",
          "output_type": "stream",
          "text": [
            "\n",
            "[✔] Python for MATLAB Users:\n",
            "Transition from Matlab to Python | Python is a versatile programming language that is becoming more and more popular for doing data science. Companies worldwide are using Python to harvest insights fr...\n",
            "\n"
          ]
        },
        {
          "name": "stderr",
          "output_type": "stream",
          "text": [
            "Fetching Descriptions:  91%|█████████ | 518/572 [3:08:08<16:29, 18.32s/course, Course=Foundations of Functional Prog...]"
          ]
        },
        {
          "name": "stdout",
          "output_type": "stream",
          "text": [
            "\n",
            "[✔] Foundations of Functional Programming with purrr:\n",
            "Lists can be difficult to both understand and manipulate, but they can pack a ton of information and are very powerful. In this course, you will learn to easily extract, summarize, and manipulate list...\n",
            "\n"
          ]
        },
        {
          "name": "stderr",
          "output_type": "stream",
          "text": [
            "Fetching Descriptions:  91%|█████████ | 519/572 [3:08:29<16:52, 19.11s/course, Course=Interactive Data Visualization...]"
          ]
        },
        {
          "name": "stdout",
          "output_type": "stream",
          "text": [
            "\n",
            "[✔] Interactive Data Visualization with Bokeh:\n",
            "Bokeh is a powerful Python package for interactive data visualization, enabling you to go beyond static plots and allow stakeholders to modify your visualizations! In this interactive data visualizati...\n",
            "\n"
          ]
        },
        {
          "name": "stderr",
          "output_type": "stream",
          "text": [
            "Fetching Descriptions:  91%|█████████ | 520/572 [3:08:47<16:27, 18.98s/course, Course=Analyzing Survey Data in Pytho...]"
          ]
        },
        {
          "name": "stdout",
          "output_type": "stream",
          "text": [
            "\n",
            "[✔] Analyzing Survey Data in Python:\n",
            "Learn How to Use Python on Survey Data | Whether it is a company looking to understand its employees’ work preferences or a marketing campaign wanting to know how to best cater to its dominant audienc...\n",
            "\n"
          ]
        },
        {
          "name": "stderr",
          "output_type": "stream",
          "text": [
            "Fetching Descriptions:  91%|█████████ | 521/572 [3:09:05<15:53, 18.70s/course, Course=Case Study: Inventory Analysis...]"
          ]
        },
        {
          "name": "stdout",
          "output_type": "stream",
          "text": [
            "\n",
            "[✔] Case Study: Inventory Analysis in Tableau:\n",
            "Looking for a way to challenge what you have learned in Tableau? This case study can help you prepare to tackle real-world problems in the field of inventory analysis. | Practice Your Tableau Skills W...\n",
            "\n"
          ]
        },
        {
          "name": "stderr",
          "output_type": "stream",
          "text": [
            "Fetching Descriptions:  91%|█████████▏| 522/572 [3:09:24<15:30, 18.61s/course, Course=Machine Learning for Marketing...]"
          ]
        },
        {
          "name": "stdout",
          "output_type": "stream",
          "text": [
            "\n",
            "[✔] Machine Learning for Marketing Analytics in R:\n",
            "This is your chance to dive into the worlds of marketing and business analytics using R. Day by day, there are a multitude of decisions that companies have to face. With the help of statistical models...\n",
            "\n"
          ]
        },
        {
          "name": "stderr",
          "output_type": "stream",
          "text": [
            "Fetching Descriptions:  91%|█████████▏| 523/572 [3:09:42<15:13, 18.64s/course, Course=DataLab with SQL]                 "
          ]
        },
        {
          "name": "stdout",
          "output_type": "stream",
          "text": [
            "\n",
            "[✔] DataLab with SQL:\n",
            "Elevate your DataLab skills with SQL | After learning the fundamentals of DataLab in the introductory course, this course focuses on the SQL features that allow you to make the most out of this AI-pow...\n",
            "\n"
          ]
        },
        {
          "name": "stderr",
          "output_type": "stream",
          "text": [
            "Fetching Descriptions:  92%|█████████▏| 524/572 [3:10:01<15:00, 18.76s/course, Course=Case Studies in Statistical Th...]"
          ]
        },
        {
          "name": "stdout",
          "output_type": "stream",
          "text": [
            "\n",
            "[✔] Case Studies in Statistical Thinking:\n",
            "Mastery requires practice. Having completed Statistical Thinking I and II, you developed your probabilistic mindset and the hacker stats skills to extract actionable insights from your data. Your foun...\n",
            "\n"
          ]
        },
        {
          "name": "stderr",
          "output_type": "stream",
          "text": [
            "Fetching Descriptions:  92%|█████████▏| 525/572 [3:10:20<14:41, 18.76s/course, Course=Data Manipulation in Snowflake]   "
          ]
        },
        {
          "name": "stdout",
          "output_type": "stream",
          "text": [
            "\n",
            "[✔] Data Manipulation in Snowflake:\n",
            "Transform and categorize data | To handle data big and small, clean or dirty, structured or unstructured, thousands of data teams turn to Snowflake. In this course, you’ll master the skills you need t...\n",
            "\n"
          ]
        },
        {
          "name": "stderr",
          "output_type": "stream",
          "text": [
            "Fetching Descriptions:  92%|█████████▏| 526/572 [3:10:37<14:00, 18.26s/course, Course=Pandas Joins for Spreadsheet U...]"
          ]
        },
        {
          "name": "stdout",
          "output_type": "stream",
          "text": [
            "\n",
            "[✔] Pandas Joins for Spreadsheet Users:\n",
            "Joining two or more datasets is necessary for almost any real-world analysis. You’ve done it before with spreadsheets using VLOOKUP and related functions. Can you build on this experience as you trans...\n",
            "\n"
          ]
        },
        {
          "name": "stderr",
          "output_type": "stream",
          "text": [
            "Fetching Descriptions:  92%|█████████▏| 527/572 [3:10:54<13:20, 17.80s/course, Course=Practicing Statistics Intervie...]"
          ]
        },
        {
          "name": "stdout",
          "output_type": "stream",
          "text": [
            "\n",
            "[✔] Practicing Statistics Interview Questions in R:\n",
            "Are you job interview ready? You may know everything there is to know about your target company, but have you practiced the classic R statistical interview questions? If not, we have you covered. In t...\n",
            "\n"
          ]
        },
        {
          "name": "stderr",
          "output_type": "stream",
          "text": [
            "Fetching Descriptions:  92%|█████████▏| 528/572 [3:11:15<13:41, 18.66s/course, Course=Working with DeepSeek in Pytho...]"
          ]
        },
        {
          "name": "stdout",
          "output_type": "stream",
          "text": [
            "\n",
            "[✔] Working with DeepSeek in Python:\n",
            "Discover How to Access DeepSeek AI Models | Since the release of its V3 and R1 models, DeepSeek has emerged as a market leader in developing high-performance, open-source large language models (LLMs) ...\n",
            "\n"
          ]
        },
        {
          "name": "stderr",
          "output_type": "stream",
          "text": [
            "Fetching Descriptions:  92%|█████████▏| 529/572 [3:11:34<13:30, 18.84s/course, Course=Bayesian Regression Modeling w...]"
          ]
        },
        {
          "name": "stdout",
          "output_type": "stream",
          "text": [
            "\n",
            "[✔] Bayesian Regression Modeling with rstanarm:\n",
            "Bayesian estimation offers a flexible alternative to modeling techniques where the inferences depend on p-values. In this course, you’ll learn how to estimate linear regression models using Bayesian m...\n",
            "\n"
          ]
        },
        {
          "name": "stderr",
          "output_type": "stream",
          "text": [
            "Fetching Descriptions:  93%|█████████▎| 530/572 [3:11:54<13:22, 19.12s/course, Course=Bond Valuation and Analysis in...]"
          ]
        },
        {
          "name": "stdout",
          "output_type": "stream",
          "text": [
            "\n",
            "[✔] Bond Valuation and Analysis in Python:\n",
            "The world’s bond market has a value of around 120 trillion dollars; it plays a key role in helping both governments and businesses raise capital and is an essential part of most investment portfolios....\n",
            "\n"
          ]
        },
        {
          "name": "stderr",
          "output_type": "stream",
          "text": [
            "Fetching Descriptions:  93%|█████████▎| 531/572 [3:12:11<12:44, 18.64s/course, Course=HR Analytics: Predicting Emplo...]"
          ]
        },
        {
          "name": "stdout",
          "output_type": "stream",
          "text": [
            "\n",
            "[✔] HR Analytics: Predicting Employee Churn in Python:\n",
            "Among all of the business domains, HR is still the least disrupted. However, the latest developments in data collection and analysis tools and technologies allow for data driven decision-making in all...\n",
            "\n"
          ]
        },
        {
          "name": "stderr",
          "output_type": "stream",
          "text": [
            "Fetching Descriptions:  93%|█████████▎| 532/572 [3:12:30<12:22, 18.56s/course, Course=Case Studies: Network Analysis...]"
          ]
        },
        {
          "name": "stdout",
          "output_type": "stream",
          "text": [
            "\n",
            "[✔] Case Studies: Network Analysis in R:\n",
            "Now that you're familiar with the basics of network analysis it's time to see how to apply those concepts to large real-world data sets. You'll work through three different case studies, each building...\n",
            "\n"
          ]
        },
        {
          "name": "stderr",
          "output_type": "stream",
          "text": [
            "Fetching Descriptions:  93%|█████████▎| 533/572 [3:12:48<11:56, 18.38s/course, Course=Transactions and Error Handlin...]"
          ]
        },
        {
          "name": "stdout",
          "output_type": "stream",
          "text": [
            "\n",
            "[✔] Transactions and Error Handling in PostgreSQL:\n",
            "Being able to leverage transactions and find and handle errors is critical to building resilient SQL scripts and working with databases. Transactions provide the protection needed to ensure that your ...\n",
            "\n"
          ]
        },
        {
          "name": "stderr",
          "output_type": "stream",
          "text": [
            "Fetching Descriptions:  93%|█████████▎| 534/572 [3:13:07<11:47, 18.61s/course, Course=Demystifying Decision Science]    "
          ]
        },
        {
          "name": "stdout",
          "output_type": "stream",
          "text": [
            "\n",
            "[✔] Demystifying Decision Science:\n",
            "Learn Decision Science Fundamentals! | Dive into the fundamentals of decision science, exploring core principles, methodologies, and real-world applications. You will develop a strong understanding of...\n",
            "\n"
          ]
        },
        {
          "name": "stderr",
          "output_type": "stream",
          "text": [
            "Fetching Descriptions:  94%|█████████▎| 535/572 [3:13:25<11:29, 18.63s/course, Course=Building Dashboards with flexd...]"
          ]
        },
        {
          "name": "stdout",
          "output_type": "stream",
          "text": [
            "\n",
            "[✔] Building Dashboards with flexdashboard:\n",
            "Communication is a key part of the data science process. Dashboards are a popular way to present data in a cohesive visual display. In this course you'll learn how to assemble your results into a poli...\n",
            "\n"
          ]
        },
        {
          "name": "stderr",
          "output_type": "stream",
          "text": [
            "Fetching Descriptions:  94%|█████████▎| 536/572 [3:13:43<10:55, 18.19s/course, Course=Probability Puzzles in R]         "
          ]
        },
        {
          "name": "stdout",
          "output_type": "stream",
          "text": [
            "\n",
            "[✔] Probability Puzzles in R:\n",
            "Do you want to take your probability skills to the next level? This course will help get you there, using problem-based learning with probability puzzles as the framework. As you are guided through th...\n",
            "\n"
          ]
        },
        {
          "name": "stderr",
          "output_type": "stream",
          "text": [
            "Fetching Descriptions:  94%|█████████▍| 537/572 [3:14:00<10:32, 18.07s/course, Course=Predictive Analytics using Net...]"
          ]
        },
        {
          "name": "stdout",
          "output_type": "stream",
          "text": [
            "\n",
            "[✔] Predictive Analytics using Networked Data in R:\n",
            "In this course, you will learn to perform state-of-the art predictive analytics using networked data in R.  The aim of network analytics is to predict to which class a network node belongs, such as ch...\n",
            "\n"
          ]
        },
        {
          "name": "stderr",
          "output_type": "stream",
          "text": [
            "Fetching Descriptions:  94%|█████████▍| 538/572 [3:14:21<10:43, 18.93s/course, Course=Conquering Data Bias]             "
          ]
        },
        {
          "name": "stdout",
          "output_type": "stream",
          "text": [
            "\n",
            "[✔] Conquering Data Bias:\n",
            "The Importance of Addressing Bias in Data | With this engaging course, unlock the power of data by conquering bias in your datasets. In today's data-driven world, understanding and mitigating bias is ...\n",
            "\n"
          ]
        },
        {
          "name": "stderr",
          "output_type": "stream",
          "text": [
            "Fetching Descriptions:  94%|█████████▍| 539/572 [3:14:41<10:32, 19.16s/course, Course=Analyzing US Census Data in R]"
          ]
        },
        {
          "name": "stdout",
          "output_type": "stream",
          "text": [
            "\n",
            "[✔] Analyzing US Census Data in R:\n",
            "Analysts across industries rely on data from the United States Census Bureau in their work. In this course, students will learn how to work with Census tabular and spatial data in the R environment. T...\n",
            "\n"
          ]
        },
        {
          "name": "stderr",
          "output_type": "stream",
          "text": [
            "Fetching Descriptions:  94%|█████████▍| 540/572 [3:15:01<10:23, 19.49s/course, Course=Loan Amortization in Google Sh...]"
          ]
        },
        {
          "name": "stdout",
          "output_type": "stream",
          "text": [
            "\n",
            "[✔] Loan Amortization in Google Sheets:\n",
            "A loan amortization schedule is often perceived as a tool exclusively for bankers and financial traders. However, this course aims to debunk this misconception by introducing the practical application...\n",
            "\n"
          ]
        },
        {
          "name": "stderr",
          "output_type": "stream",
          "text": [
            "Fetching Descriptions:  95%|█████████▍| 541/572 [3:15:18<09:39, 18.68s/course, Course=Choice Modeling for Marketing ...]"
          ]
        },
        {
          "name": "stdout",
          "output_type": "stream",
          "text": [
            "\n",
            "[✔] Choice Modeling for Marketing in R:\n",
            "People make choices everyday. They choose products like orange juice or a car, decide who to vote for, and choose how to get to work. Marketers, retailers, product designers, political scientists, tra...\n",
            "\n"
          ]
        },
        {
          "name": "stderr",
          "output_type": "stream",
          "text": [
            "Fetching Descriptions:  95%|█████████▍| 542/572 [3:15:38<09:33, 19.12s/course, Course=Intermediate Julia]               "
          ]
        },
        {
          "name": "stdout",
          "output_type": "stream",
          "text": [
            "\n",
            "[✔] Intermediate Julia:\n",
            "Julia is a relatively new programming language built with speed and performance in mind, and it can do this while maintaining a similar syntax to other programming languages such as Python or Ruby. Th...\n",
            "\n"
          ]
        },
        {
          "name": "stderr",
          "output_type": "stream",
          "text": [
            "Fetching Descriptions:  95%|█████████▍| 543/572 [3:15:58<09:19, 19.29s/course, Course=ChIP-seq with Bioconductor in ...]"
          ]
        },
        {
          "name": "stdout",
          "output_type": "stream",
          "text": [
            "\n",
            "[✔] ChIP-seq with Bioconductor in R:\n",
            "ChIP-seq analysis is an important branch of bioinformatics. It provides a window into the machinery that makes the cells in our bodies tick. Whether it is a brain cell helping you to read this web pag...\n",
            "\n"
          ]
        },
        {
          "name": "stderr",
          "output_type": "stream",
          "text": [
            "Fetching Descriptions:  95%|█████████▌| 544/572 [3:16:17<08:58, 19.22s/course, Course=Visualizing Big Data with Trel...]"
          ]
        },
        {
          "name": "stdout",
          "output_type": "stream",
          "text": [
            "\n",
            "[✔] Visualizing Big Data with Trelliscope in R:\n",
            "Having honed your visualization skills by learning ggplot2, it's now time to tackle larger datasets. In this course, you will learn several techniques for visualizing big data, with particular focus o...\n",
            "\n"
          ]
        },
        {
          "name": "stderr",
          "output_type": "stream",
          "text": [
            "Fetching Descriptions:  95%|█████████▌| 545/572 [3:16:35<08:33, 19.02s/course, Course=Performing Experiments in Pyth...]"
          ]
        },
        {
          "name": "stdout",
          "output_type": "stream",
          "text": [
            "\n",
            "[✔] Performing Experiments in Python:\n",
            "Data is all around us and can help us to understand many things. Making a pretty graph is great, but how can we tell the difference between a few outliers on a graph and a real, reliable effect? Is a ...\n",
            "\n"
          ]
        },
        {
          "name": "stderr",
          "output_type": "stream",
          "text": [
            "Fetching Descriptions:  95%|█████████▌| 546/572 [3:16:55<08:15, 19.06s/course, Course=Case Study: Net Revenue Manage...]"
          ]
        },
        {
          "name": "stdout",
          "output_type": "stream",
          "text": [
            "\n",
            "[✔] Case Study: Net Revenue Management in Google Sheets:\n",
            "Fast Moving Consumer Goods | The world of Fast Moving Consumer Goods (FMCG) is a dynamic world that plays a significant role in our daily lives. Have you ever wondered how well-known brands like Coca-...\n",
            "\n"
          ]
        },
        {
          "name": "stderr",
          "output_type": "stream",
          "text": [
            "Fetching Descriptions:  96%|█████████▌| 547/572 [3:17:14<07:56, 19.06s/course, Course=Business Process Analytics in ...]"
          ]
        },
        {
          "name": "stdout",
          "output_type": "stream",
          "text": [
            "\n",
            "[✔] Business Process Analytics in R:\n",
            "Although you might not have realized, processes take up an indispensable role in our daily lives. Your actions and those of others generate an extensive amount of data. Whether you are ordering a book...\n",
            "\n"
          ]
        },
        {
          "name": "stderr",
          "output_type": "stream",
          "text": [
            "Fetching Descriptions:  96%|█████████▌| 548/572 [3:17:32<07:29, 18.75s/course, Course=Case Study: Analyzing Fitness ...]"
          ]
        },
        {
          "name": "stdout",
          "output_type": "stream",
          "text": [
            "\n",
            "[✔] Case Study: Analyzing Fitness Data in Alteryx:\n",
            "Introduction to Fitness Data Analysis | In the rapidly evolving fitness product industry, the ability to analyze and interpret real-world data is invaluable. This case study leverages Alteryx to delve...\n",
            "\n"
          ]
        },
        {
          "name": "stderr",
          "output_type": "stream",
          "text": [
            "Fetching Descriptions:  96%|█████████▌| 549/572 [3:17:50<07:06, 18.55s/course, Course=Intermediate Interactive Data ...]"
          ]
        },
        {
          "name": "stdout",
          "output_type": "stream",
          "text": [
            "\n",
            "[✔] Intermediate Interactive Data Visualization with plotly in R:\n",
            "The plotly package enables the construction of interactive and animated graphics entirely within R. This goes beyond basic interactivity such as panning, zooming, and tooltips. In this course, you wil...\n",
            "\n"
          ]
        },
        {
          "name": "stderr",
          "output_type": "stream",
          "text": [
            "Fetching Descriptions:  96%|█████████▌| 550/572 [3:18:10<06:58, 19.03s/course, Course=Intermediate Predictive Analyt...]"
          ]
        },
        {
          "name": "stdout",
          "output_type": "stream",
          "text": [
            "\n",
            "[✔] Intermediate Predictive Analytics in Python:\n",
            "Building good models only succeeds if you have a decent base table to start with. In this course you will learn how to construct a good base table, create variables and prepare your data for modeling....\n",
            "\n"
          ]
        },
        {
          "name": "stderr",
          "output_type": "stream",
          "text": [
            "Fetching Descriptions:  96%|█████████▋| 551/572 [3:18:30<06:46, 19.33s/course, Course=HR Analytics: Predicting Emplo...]"
          ]
        },
        {
          "name": "stdout",
          "output_type": "stream",
          "text": [
            "\n",
            "[✔] HR Analytics: Predicting Employee Churn in R:\n",
            "Organizational growth largely depends on staff retention. Losing employees frequently impacts the morale of the organization and hiring new employees is more expensive than retaining existing ones. Go...\n",
            "\n"
          ]
        },
        {
          "name": "stderr",
          "output_type": "stream",
          "text": [
            "Fetching Descriptions:  97%|█████████▋| 552/572 [3:18:49<06:24, 19.24s/course, Course=Programming with dplyr]           "
          ]
        },
        {
          "name": "stdout",
          "output_type": "stream",
          "text": [
            "\n",
            "[✔] Programming with dplyr:\n",
            "The tidyverse includes a tremendous set of packages that make working with data simple and fast. But have you ever tried to put dplyr functions inside functions and been stuck with strange errors or u...\n",
            "\n"
          ]
        },
        {
          "name": "stderr",
          "output_type": "stream",
          "text": [
            "Fetching Descriptions:  97%|█████████▋| 553/572 [3:19:09<06:08, 19.39s/course, Course=Forecasting in Practice]"
          ]
        },
        {
          "name": "stdout",
          "output_type": "stream",
          "text": [
            "\n",
            "[✔] Forecasting in Practice:\n",
            "Learn how to build robust, scalable forecasting pipelines ready for production. This advanced course is designed for | data scientists | , | machine learning engineers | , and | analytics professional...\n",
            "\n"
          ]
        },
        {
          "name": "stderr",
          "output_type": "stream",
          "text": [
            "Fetching Descriptions:  97%|█████████▋| 554/572 [3:19:27<05:42, 19.04s/course, Course=Machine Translation with Keras]"
          ]
        },
        {
          "name": "stdout",
          "output_type": "stream",
          "text": [
            "\n",
            "[✔] Machine Translation with Keras:\n",
            "The need to pack a bilingual dictionary for your European holiday or keeping one on your desk to complete your foreign language homework is a thing of the past. You just hop on the internet and make u...\n",
            "\n"
          ]
        },
        {
          "name": "stderr",
          "output_type": "stream",
          "text": [
            "Fetching Descriptions:  97%|█████████▋| 555/572 [3:19:44<05:11, 18.34s/course, Course=Fraud Detection in R]          "
          ]
        },
        {
          "name": "stdout",
          "output_type": "stream",
          "text": [
            "\n",
            "[✔] Fraud Detection in R:\n",
            "The Association of Certified Fraud Examiners estimates that fraud costs organizations worldwide $3.7 trillion a year and that a typical company loses five percent of annual revenue due to fraud. Fraud...\n",
            "\n"
          ]
        },
        {
          "name": "stderr",
          "output_type": "stream",
          "text": [
            "Fetching Descriptions:  97%|█████████▋| 556/572 [3:20:02<04:54, 18.42s/course, Course=Bayesian Modeling with RJAGS]"
          ]
        },
        {
          "name": "stdout",
          "output_type": "stream",
          "text": [
            "\n",
            "[✔] Bayesian Modeling with RJAGS:\n",
            "The Bayesian approach to statistics and machine learning is logical, flexible, and intuitive. In this course, you will engineer and analyze a family of foundational, generalizable Bayesian models. The...\n",
            "\n"
          ]
        },
        {
          "name": "stderr",
          "output_type": "stream",
          "text": [
            "Fetching Descriptions:  97%|█████████▋| 557/572 [3:20:23<04:47, 19.18s/course, Course=Introduction to Data Visualiza...]"
          ]
        },
        {
          "name": "stdout",
          "output_type": "stream",
          "text": [
            "\n",
            "[✔] Introduction to Data Visualization with Julia:\n",
            "Learn to create stunning data visualizations with Julia, the fast and powerful programming language for data science. This course starts with the basics of data visualization and gradually introduces ...\n",
            "\n"
          ]
        },
        {
          "name": "stderr",
          "output_type": "stream",
          "text": [
            "Fetching Descriptions:  98%|█████████▊| 558/572 [3:20:43<04:32, 19.49s/course, Course=Data Manipulation in Julia]       "
          ]
        },
        {
          "name": "stdout",
          "output_type": "stream",
          "text": [
            "\n",
            "[✔] Data Manipulation in Julia:\n",
            "Julia is a new and exciting programming language designed for machine learning, scientific computing, and data mining. This course will provide you with the knowledge necessary for starting your own d...\n",
            "\n"
          ]
        },
        {
          "name": "stderr",
          "output_type": "stream",
          "text": [
            "Fetching Descriptions:  98%|█████████▊| 559/572 [3:21:05<04:21, 20.13s/course, Course=Building Response Models in R]"
          ]
        },
        {
          "name": "stdout",
          "output_type": "stream",
          "text": [
            "\n",
            "[✔] Building Response Models in R:\n",
            "Almost every company collects digital information as part of their marketing campaigns and uses it to improve their marketing tactics. Data scientists are often tasked with using this information to d...\n",
            "\n"
          ]
        },
        {
          "name": "stderr",
          "output_type": "stream",
          "text": [
            "Fetching Descriptions:  98%|█████████▊| 560/572 [3:21:24<03:55, 19.66s/course, Course=Defensive R Programming]      "
          ]
        },
        {
          "name": "stdout",
          "output_type": "stream",
          "text": [
            "\n",
            "[✔] Defensive R Programming:\n",
            "Writing R scripts is easy. Writing good R code is hard. In this course, we'll discuss defensive programming - a set of standard techniques that will help reduce bugs and aid working in teams. We exami...\n",
            "\n"
          ]
        },
        {
          "name": "stderr",
          "output_type": "stream",
          "text": [
            "Fetching Descriptions:  98%|█████████▊| 561/572 [3:21:43<03:35, 19.58s/course, Course=Introduction to Anomaly Detect...]"
          ]
        },
        {
          "name": "stdout",
          "output_type": "stream",
          "text": [
            "\n",
            "[✔] Introduction to Anomaly Detection in R:\n",
            "Are you concerned about inaccurate or suspicious records in your data, but not sure where to start? An anomaly detection algorithm could help! Anomaly detection is a collection of techniques designed ...\n",
            "\n"
          ]
        },
        {
          "name": "stderr",
          "output_type": "stream",
          "text": [
            "Fetching Descriptions:  98%|█████████▊| 562/572 [3:22:06<03:24, 20.50s/course, Course=Intermediate Regular Expressio...]"
          ]
        },
        {
          "name": "stdout",
          "output_type": "stream",
          "text": [
            "\n",
            "[✔] Intermediate Regular Expressions in R:\n",
            "Analyzing data that comes in tables is fun. But what if the things that we find most interesting are not available as a neatly organized dataset but in plain text? Do not despair: In this course, you'...\n",
            "\n"
          ]
        },
        {
          "name": "stderr",
          "output_type": "stream",
          "text": [
            "Fetching Descriptions:  98%|█████████▊| 563/572 [3:22:25<03:01, 20.14s/course, Course=Input/Output and Streams in Ja...]"
          ]
        },
        {
          "name": "stdout",
          "output_type": "stream",
          "text": [
            "\n",
            "[✔] Input/Output and Streams in Java:\n",
            "Build real-world Java skills by working hands-on with file management, data collections, and custom methods. This course helps you move beyond the basics to write cleaner, more efficient, and maintain...\n",
            "\n"
          ]
        },
        {
          "name": "stderr",
          "output_type": "stream",
          "text": [
            "Fetching Descriptions:  99%|█████████▊| 564/572 [3:22:44<02:38, 19.85s/course, Course=Mixture Models in R]              "
          ]
        },
        {
          "name": "stdout",
          "output_type": "stream",
          "text": [
            "\n",
            "[✔] Mixture Models in R:\n",
            "Mixture modeling is a way of representing populations when we are interested in their heterogeneity. Mixture models use familiar probability distributions (e.g. Gaussian, Poisson, Binomial) to provide...\n",
            "\n"
          ]
        },
        {
          "name": "stderr",
          "output_type": "stream",
          "text": [
            "Fetching Descriptions:  99%|█████████▉| 565/572 [3:23:06<02:23, 20.48s/course, Course=Scalable Data Processing in R]"
          ]
        },
        {
          "name": "stdout",
          "output_type": "stream",
          "text": [
            "\n",
            "[✔] Scalable Data Processing in R:\n",
            "Datasets are often larger than available RAM, which causes problems for R programmers since by default all the variables are stored in memory. You’ll learn tools for processing, exploring, and analyzi...\n",
            "\n"
          ]
        },
        {
          "name": "stderr",
          "output_type": "stream",
          "text": [
            "Fetching Descriptions:  99%|█████████▉| 566/572 [3:23:23<01:55, 19.29s/course, Course=Intermediate Functional Progra...]"
          ]
        },
        {
          "name": "stdout",
          "output_type": "stream",
          "text": [
            "\n",
            "[✔] Intermediate Functional Programming with purrr:\n",
            "Have you ever been wondering what the purrr description (“A functional programming toolkit for R”) refers to? Then, you’ve come to the right place! This course will walk you through the functional pro...\n",
            "\n"
          ]
        },
        {
          "name": "stderr",
          "output_type": "stream",
          "text": [
            "Fetching Descriptions:  99%|█████████▉| 567/572 [3:23:40<01:34, 18.87s/course, Course=Predicting CTR with Machine Le...]"
          ]
        },
        {
          "name": "stdout",
          "output_type": "stream",
          "text": [
            "\n",
            "[✔] Predicting CTR with Machine Learning in Python:\n",
            "Have you ever wondered how companies like Facebook and Google are able to serve you surprisingly targeted ads that you occasionally click? Well, behind the scenes, they are running sophisticated machi...\n",
            "\n"
          ]
        },
        {
          "name": "stderr",
          "output_type": "stream",
          "text": [
            "Fetching Descriptions:  99%|█████████▉| 568/572 [3:24:00<01:16, 19.01s/course, Course=Optimizing R Code with Rcpp]      "
          ]
        },
        {
          "name": "stdout",
          "output_type": "stream",
          "text": [
            "\n",
            "[✔] Optimizing R Code with Rcpp:\n",
            "R is a great language for data science, but sometimes the code can be slow to run. Combining the comfort of R with the speed of a compiled language is a great way to reclaim the performance your code ...\n",
            "\n"
          ]
        },
        {
          "name": "stderr",
          "output_type": "stream",
          "text": [
            "Fetching Descriptions:  99%|█████████▉| 569/572 [3:24:18<00:56, 18.80s/course, Course=GDPR in Practice: Compliance a...]"
          ]
        },
        {
          "name": "stdout",
          "output_type": "stream",
          "text": [
            "\n",
            "[✔] GDPR in Practice: Compliance and Fines:\n",
            "Apply GDPR Concepts in Real Business Scenarios | GDPR isn’t just legal jargon—it’s a powerful framework that shapes how organisations handle personal data. This course is designed to bring the regulat...\n",
            "\n"
          ]
        },
        {
          "name": "stderr",
          "output_type": "stream",
          "text": [
            "Fetching Descriptions: 100%|█████████▉| 570/572 [3:24:37<00:37, 18.91s/course, Course=Scalable AI Models with PyTorc...]"
          ]
        },
        {
          "name": "stdout",
          "output_type": "stream",
          "text": [
            "\n",
            "[✔] Scalable AI Models with PyTorch Lightning:\n",
            "Foundations of Scalable AI | This course takes you on a journey through the fundamentals of scalable AI. You’ll begin by learning how PyTorch Lightning streamlines the model development lifecycle by r...\n",
            "\n"
          ]
        },
        {
          "name": "stderr",
          "output_type": "stream",
          "text": [
            "Fetching Descriptions: 100%|█████████▉| 571/572 [3:24:56<00:18, 18.96s/course, Course=Introduction to Sigma]            "
          ]
        },
        {
          "name": "stdout",
          "output_type": "stream",
          "text": [
            "\n",
            "[✔] Introduction to Sigma:\n",
            "This introduction to Sigma course helps data-curious professionals quickly get up to speed with Sigma’s powerful, spreadsheet-like interface.  Whether you’re new to data analytics or transitioning fro...\n",
            "\n"
          ]
        },
        {
          "name": "stderr",
          "output_type": "stream",
          "text": [
            "Fetching Descriptions: 100%|██████████| 572/572 [3:25:14<00:00, 21.53s/course, Course=Introduction to Sigma]\n"
          ]
        },
        {
          "name": "stdout",
          "output_type": "stream",
          "text": [
            "\n",
            "🎉 Full data written to datacamp_courses_full.csv\n",
            "Crawling descriptions complete!\n"
          ]
        }
      ],
      "source": [
        "driver = setup_driver()\n",
        "try:\n",
        "    # Step 2: Crawl descriptions\n",
        "    crawl_descriptions()\n",
        "    \n",
        "finally:\n",
        "    driver.quit()\n",
        "    \n",
        "print(\"Crawling descriptions complete!\")"
      ]
    }
  ],
  "metadata": {
    "kernelspec": {
      "display_name": "Python 3",
      "language": "python",
      "name": "python3"
    },
    "language_info": {
      "codemirror_mode": {
        "name": "ipython",
        "version": 3
      },
      "file_extension": ".py",
      "mimetype": "text/x-python",
      "name": "python",
      "nbconvert_exporter": "python",
      "pygments_lexer": "ipython3",
      "version": "3.11.9"
    }
  },
  "nbformat": 4,
  "nbformat_minor": 5
}

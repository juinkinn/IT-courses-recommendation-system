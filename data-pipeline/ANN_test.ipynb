{
 "cells": [
  {
   "cell_type": "markdown",
   "id": "765011cf",
   "metadata": {},
   "source": [
    "# Testing"
   ]
  },
  {
   "cell_type": "markdown",
   "id": "c8d7da11",
   "metadata": {},
   "source": [
    "Import libraries"
   ]
  },
  {
   "cell_type": "code",
   "execution_count": 1,
   "id": "f81fe43a",
   "metadata": {},
   "outputs": [
    {
     "name": "stderr",
     "output_type": "stream",
     "text": [
      "C:\\Users\\Ping\\AppData\\Local\\Packages\\PythonSoftwareFoundation.Python.3.11_qbz5n2kfra8p0\\LocalCache\\local-packages\\Python311\\site-packages\\tqdm\\auto.py:21: TqdmWarning: IProgress not found. Please update jupyter and ipywidgets. See https://ipywidgets.readthedocs.io/en/stable/user_install.html\n",
      "  from .autonotebook import tqdm as notebook_tqdm\n"
     ]
    }
   ],
   "source": [
    "import pandas as pd\n",
    "import faiss\n",
    "from sentence_transformers import SentenceTransformer"
   ]
  },
  {
   "cell_type": "markdown",
   "id": "74bd4002",
   "metadata": {},
   "source": [
    "Load metadata and faiss index"
   ]
  },
  {
   "cell_type": "code",
   "execution_count": 3,
   "id": "ca954938",
   "metadata": {},
   "outputs": [],
   "source": [
    "index = faiss.read_index(\"course_index.faiss\")\n",
    "df = pd.read_csv(\"./data/course_metadata.csv\")"
   ]
  },
  {
   "cell_type": "markdown",
   "id": "83783af7",
   "metadata": {},
   "source": [
    "Load model"
   ]
  },
  {
   "cell_type": "code",
   "execution_count": 4,
   "id": "b1da6f29",
   "metadata": {},
   "outputs": [],
   "source": [
    "model = SentenceTransformer('sentence-transformers/all-MiniLM-L6-v2')"
   ]
  },
  {
   "cell_type": "markdown",
   "id": "eb8e1446",
   "metadata": {},
   "source": [
    "My input: I've studied Machine Learning, now I want to study LLM"
   ]
  },
  {
   "cell_type": "code",
   "execution_count": 5,
   "id": "7fd66147",
   "metadata": {},
   "outputs": [],
   "source": [
    "query = input()"
   ]
  },
  {
   "cell_type": "markdown",
   "id": "68906206",
   "metadata": {},
   "source": [
    "Embed query"
   ]
  },
  {
   "cell_type": "code",
   "execution_count": 6,
   "id": "b1f60b05",
   "metadata": {},
   "outputs": [],
   "source": [
    "query_embedding = model.encode([query])"
   ]
  },
  {
   "cell_type": "markdown",
   "id": "cb3e088a",
   "metadata": {},
   "source": [
    "Return top 10 courses with their metadata"
   ]
  },
  {
   "cell_type": "code",
   "execution_count": 7,
   "id": "d584a662",
   "metadata": {},
   "outputs": [
    {
     "data": {
      "text/html": [
       "<div>\n",
       "<style scoped>\n",
       "    .dataframe tbody tr th:only-of-type {\n",
       "        vertical-align: middle;\n",
       "    }\n",
       "\n",
       "    .dataframe tbody tr th {\n",
       "        vertical-align: top;\n",
       "    }\n",
       "\n",
       "    .dataframe thead th {\n",
       "        text-align: right;\n",
       "    }\n",
       "</style>\n",
       "<table border=\"1\" class=\"dataframe\">\n",
       "  <thead>\n",
       "    <tr style=\"text-align: right;\">\n",
       "      <th></th>\n",
       "      <th>Unnamed: 0</th>\n",
       "      <th>Course Name</th>\n",
       "      <th>Course URL</th>\n",
       "      <th>About This Course</th>\n",
       "      <th>keywords</th>\n",
       "    </tr>\n",
       "  </thead>\n",
       "  <tbody>\n",
       "    <tr>\n",
       "      <th>373</th>\n",
       "      <td>374</td>\n",
       "      <td>Small Language Models</td>\n",
       "      <td>https://www.edx.org/learn/natural-language-pro...</td>\n",
       "      <td>in this comprehensive course, you will: | whet...</td>\n",
       "      <td>slms, learning, language, processing, applicat...</td>\n",
       "    </tr>\n",
       "    <tr>\n",
       "      <th>1263</th>\n",
       "      <td>1278</td>\n",
       "      <td>Feature Engineering for NLP in Python</td>\n",
       "      <td>https://www.datacamp.com/courses/feature-engin...</td>\n",
       "      <td>in this course, you will learn techniques that...</td>\n",
       "      <td>learn, tagging, text, information, documents, ...</td>\n",
       "    </tr>\n",
       "    <tr>\n",
       "      <th>458</th>\n",
       "      <td>459</td>\n",
       "      <td>Beginning Llamafile</td>\n",
       "      <td>https://www.edx.org/learn/computer-science/pra...</td>\n",
       "      <td>in this course, you will: | the course empower...</td>\n",
       "      <td>nlp, api, language, models, framework, cpp, ll...</td>\n",
       "    </tr>\n",
       "    <tr>\n",
       "      <th>1025</th>\n",
       "      <td>1040</td>\n",
       "      <td>Large Language Models (LLMs) Concepts</td>\n",
       "      <td>https://www.datacamp.com/courses/large-languag...</td>\n",
       "      <td>discover large language models | in this cours...</td>\n",
       "      <td>learning, learn, attention, ai, llm, models, t...</td>\n",
       "    </tr>\n",
       "    <tr>\n",
       "      <th>460</th>\n",
       "      <td>461</td>\n",
       "      <td>Introduction to LLM Vulnerabilities</td>\n",
       "      <td>https://www.edx.org/learn/computer-science/pra...</td>\n",
       "      <td>as large language models (llms) revolutionize ...</td>\n",
       "      <td>security, ai, vulnerabilities, secure, develop...</td>\n",
       "    </tr>\n",
       "    <tr>\n",
       "      <th>850</th>\n",
       "      <td>856</td>\n",
       "      <td>Machine Learning</td>\n",
       "      <td>https://www.edx.org/learn/machine-learning/the...</td>\n",
       "      <td>machine learning is a type of artificial intel...</td>\n",
       "      <td>learning, ai, algorithms, programming, learn, ...</td>\n",
       "    </tr>\n",
       "    <tr>\n",
       "      <th>1078</th>\n",
       "      <td>1093</td>\n",
       "      <td>Introduction to Natural Language Processing in...</td>\n",
       "      <td>https://www.datacamp.com/courses/introduction-...</td>\n",
       "      <td>in this course, you'll learn natural language ...</td>\n",
       "      <td>python, basics, learning, parse, learn, text, ...</td>\n",
       "    </tr>\n",
       "    <tr>\n",
       "      <th>383</th>\n",
       "      <td>384</td>\n",
       "      <td>Open Source LLMOps</td>\n",
       "      <td>https://www.edx.org/learn/computer-science/pra...</td>\n",
       "      <td>experience open source large language models (...</td>\n",
       "      <td>language, llm, llms, models, experience, ecosy...</td>\n",
       "    </tr>\n",
       "    <tr>\n",
       "      <th>1461</th>\n",
       "      <td>1476</td>\n",
       "      <td>Advanced NLP with spaCy</td>\n",
       "      <td>https://www.datacamp.com/courses/advanced-nlp-...</td>\n",
       "      <td>if you're working with a lot of text, you'll e...</td>\n",
       "      <td>texts, python, text, nlp, learning, language, ...</td>\n",
       "    </tr>\n",
       "    <tr>\n",
       "      <th>1185</th>\n",
       "      <td>1200</td>\n",
       "      <td>Regular Expressions in Python</td>\n",
       "      <td>https://www.datacamp.com/courses/regular-expre...</td>\n",
       "      <td>as a data scientist, you will encounter many s...</td>\n",
       "      <td>tweets, learning, datasets, text, data, extrac...</td>\n",
       "    </tr>\n",
       "  </tbody>\n",
       "</table>\n",
       "</div>"
      ],
      "text/plain": [
       "      Unnamed: 0                                        Course Name  \\\n",
       "373          374                              Small Language Models   \n",
       "1263        1278              Feature Engineering for NLP in Python   \n",
       "458          459                                Beginning Llamafile   \n",
       "1025        1040              Large Language Models (LLMs) Concepts   \n",
       "460          461                Introduction to LLM Vulnerabilities   \n",
       "850          856                                   Machine Learning   \n",
       "1078        1093  Introduction to Natural Language Processing in...   \n",
       "383          384                                 Open Source LLMOps   \n",
       "1461        1476                            Advanced NLP with spaCy   \n",
       "1185        1200                      Regular Expressions in Python   \n",
       "\n",
       "                                             Course URL  \\\n",
       "373   https://www.edx.org/learn/natural-language-pro...   \n",
       "1263  https://www.datacamp.com/courses/feature-engin...   \n",
       "458   https://www.edx.org/learn/computer-science/pra...   \n",
       "1025  https://www.datacamp.com/courses/large-languag...   \n",
       "460   https://www.edx.org/learn/computer-science/pra...   \n",
       "850   https://www.edx.org/learn/machine-learning/the...   \n",
       "1078  https://www.datacamp.com/courses/introduction-...   \n",
       "383   https://www.edx.org/learn/computer-science/pra...   \n",
       "1461  https://www.datacamp.com/courses/advanced-nlp-...   \n",
       "1185  https://www.datacamp.com/courses/regular-expre...   \n",
       "\n",
       "                                      About This Course  \\\n",
       "373   in this comprehensive course, you will: | whet...   \n",
       "1263  in this course, you will learn techniques that...   \n",
       "458   in this course, you will: | the course empower...   \n",
       "1025  discover large language models | in this cours...   \n",
       "460   as large language models (llms) revolutionize ...   \n",
       "850   machine learning is a type of artificial intel...   \n",
       "1078  in this course, you'll learn natural language ...   \n",
       "383   experience open source large language models (...   \n",
       "1461  if you're working with a lot of text, you'll e...   \n",
       "1185  as a data scientist, you will encounter many s...   \n",
       "\n",
       "                                               keywords  \n",
       "373   slms, learning, language, processing, applicat...  \n",
       "1263  learn, tagging, text, information, documents, ...  \n",
       "458   nlp, api, language, models, framework, cpp, ll...  \n",
       "1025  learning, learn, attention, ai, llm, models, t...  \n",
       "460   security, ai, vulnerabilities, secure, develop...  \n",
       "850   learning, ai, algorithms, programming, learn, ...  \n",
       "1078  python, basics, learning, parse, learn, text, ...  \n",
       "383   language, llm, llms, models, experience, ecosy...  \n",
       "1461  texts, python, text, nlp, learning, language, ...  \n",
       "1185  tweets, learning, datasets, text, data, extrac...  "
      ]
     },
     "execution_count": 7,
     "metadata": {},
     "output_type": "execute_result"
    }
   ],
   "source": [
    "faiss.normalize_L2(query_embedding)\n",
    "D, I = index.search(query_embedding, k=10)\n",
    "results = df.iloc[I[0]]\n",
    "results"
   ]
  }
 ],
 "metadata": {
  "kernelspec": {
   "display_name": "Python 3",
   "language": "python",
   "name": "python3"
  },
  "language_info": {
   "codemirror_mode": {
    "name": "ipython",
    "version": 3
   },
   "file_extension": ".py",
   "mimetype": "text/x-python",
   "name": "python",
   "nbconvert_exporter": "python",
   "pygments_lexer": "ipython3",
   "version": "3.11.9"
  }
 },
 "nbformat": 4,
 "nbformat_minor": 5
}

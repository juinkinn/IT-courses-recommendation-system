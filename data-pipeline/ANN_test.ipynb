{
 "cells": [
  {
   "cell_type": "markdown",
   "id": "765011cf",
   "metadata": {},
   "source": [
    "# Testing"
   ]
  },
  {
   "cell_type": "markdown",
   "id": "c8d7da11",
   "metadata": {},
   "source": [
    "Import libraries"
   ]
  },
  {
   "cell_type": "code",
   "execution_count": 1,
   "id": "f81fe43a",
   "metadata": {},
   "outputs": [
    {
     "name": "stderr",
     "output_type": "stream",
     "text": [
      "C:\\Users\\Ping\\AppData\\Local\\Packages\\PythonSoftwareFoundation.Python.3.11_qbz5n2kfra8p0\\LocalCache\\local-packages\\Python311\\site-packages\\tqdm\\auto.py:21: TqdmWarning: IProgress not found. Please update jupyter and ipywidgets. See https://ipywidgets.readthedocs.io/en/stable/user_install.html\n",
      "  from .autonotebook import tqdm as notebook_tqdm\n"
     ]
    }
   ],
   "source": [
    "import pandas as pd\n",
    "import faiss\n",
    "from sentence_transformers import SentenceTransformer"
   ]
  },
  {
   "cell_type": "markdown",
   "id": "74bd4002",
   "metadata": {},
   "source": [
    "Load metadata and faiss index"
   ]
  },
  {
   "cell_type": "code",
   "execution_count": 2,
   "id": "ca954938",
   "metadata": {},
   "outputs": [],
   "source": [
    "index = faiss.read_index(\"course_index.faiss\")\n",
    "df = pd.read_csv(\"./data/course_metadata.csv\")"
   ]
  },
  {
   "cell_type": "markdown",
   "id": "83783af7",
   "metadata": {},
   "source": [
    "Load model"
   ]
  },
  {
   "cell_type": "code",
   "execution_count": 3,
   "id": "b1da6f29",
   "metadata": {},
   "outputs": [],
   "source": [
    "model = SentenceTransformer('sentence-transformers/all-MiniLM-L6-v2')"
   ]
  },
  {
   "cell_type": "markdown",
   "id": "eb8e1446",
   "metadata": {},
   "source": [
    "My input: I've studied Machine Learning, now I want to study LLM"
   ]
  },
  {
   "cell_type": "code",
   "execution_count": 4,
   "id": "7fd66147",
   "metadata": {},
   "outputs": [],
   "source": [
    "query = input()"
   ]
  },
  {
   "cell_type": "markdown",
   "id": "68906206",
   "metadata": {},
   "source": [
    "Embed query"
   ]
  },
  {
   "cell_type": "code",
   "execution_count": 5,
   "id": "b1f60b05",
   "metadata": {},
   "outputs": [],
   "source": [
    "query_embedding = model.encode([query])"
   ]
  },
  {
   "cell_type": "markdown",
   "id": "cb3e088a",
   "metadata": {},
   "source": [
    "Return top 10 courses with their metadata"
   ]
  },
  {
   "cell_type": "code",
   "execution_count": 6,
   "id": "d584a662",
   "metadata": {},
   "outputs": [
    {
     "data": {
      "text/html": [
       "<div>\n",
       "<style scoped>\n",
       "    .dataframe tbody tr th:only-of-type {\n",
       "        vertical-align: middle;\n",
       "    }\n",
       "\n",
       "    .dataframe tbody tr th {\n",
       "        vertical-align: top;\n",
       "    }\n",
       "\n",
       "    .dataframe thead th {\n",
       "        text-align: right;\n",
       "    }\n",
       "</style>\n",
       "<table border=\"1\" class=\"dataframe\">\n",
       "  <thead>\n",
       "    <tr style=\"text-align: right;\">\n",
       "      <th></th>\n",
       "      <th>Course Name</th>\n",
       "      <th>Course URL</th>\n",
       "      <th>About This Course</th>\n",
       "      <th>Description</th>\n",
       "      <th>keywords</th>\n",
       "    </tr>\n",
       "  </thead>\n",
       "  <tbody>\n",
       "    <tr>\n",
       "      <th>373</th>\n",
       "      <td>Small Language Models</td>\n",
       "      <td>https://www.edx.org/learn/natural-language-pro...</td>\n",
       "      <td>In this comprehensive course, you will: | Whet...</td>\n",
       "      <td>in this comprehensive course, you will: | whet...</td>\n",
       "      <td>slms, learning, language, processing, applicat...</td>\n",
       "    </tr>\n",
       "    <tr>\n",
       "      <th>850</th>\n",
       "      <td>Machine Learning</td>\n",
       "      <td>https://www.edx.org/learn/machine-learning/the...</td>\n",
       "      <td>Machine learning is a type of artificial intel...</td>\n",
       "      <td>machine learning is a type of artificial intel...</td>\n",
       "      <td>learning, ai, algorithms, programming, learn, ...</td>\n",
       "    </tr>\n",
       "    <tr>\n",
       "      <th>776</th>\n",
       "      <td>Machine Learning with Python: from Linear Mode...</td>\n",
       "      <td>https://www.edx.org/learn/machine-learning/mas...</td>\n",
       "      <td>If you have specific questions about this cour...</td>\n",
       "      <td>if you have specific questions about this cour...</td>\n",
       "      <td>learning, algorithms, python, recommendation, ...</td>\n",
       "    </tr>\n",
       "    <tr>\n",
       "      <th>460</th>\n",
       "      <td>Introduction to LLM Vulnerabilities</td>\n",
       "      <td>https://www.edx.org/learn/computer-science/pra...</td>\n",
       "      <td>As large language models (LLMs) revolutionize ...</td>\n",
       "      <td>as large language models (llms) revolutionize ...</td>\n",
       "      <td>security, ai, vulnerabilities, secure, develop...</td>\n",
       "    </tr>\n",
       "    <tr>\n",
       "      <th>628</th>\n",
       "      <td>LLM Server</td>\n",
       "      <td>https://www.edx.org/learn/computer-science/pra...</td>\n",
       "      <td>In this course, you’ll dive into the exciting ...</td>\n",
       "      <td>in this course, you’ll dive into the exciting ...</td>\n",
       "      <td>gpu, gpus, applications, developer, ai, server...</td>\n",
       "    </tr>\n",
       "    <tr>\n",
       "      <th>1263</th>\n",
       "      <td>Feature Engineering for NLP in Python</td>\n",
       "      <td>https://www.datacamp.com/courses/feature-engin...</td>\n",
       "      <td>In this course, you will learn techniques that...</td>\n",
       "      <td>in this course, you will learn techniques that...</td>\n",
       "      <td>learn, tagging, text, information, documents, ...</td>\n",
       "    </tr>\n",
       "    <tr>\n",
       "      <th>7</th>\n",
       "      <td>Introduction to Data Science with Python</td>\n",
       "      <td>https://www.edx.org/learn/data-science/harvard...</td>\n",
       "      <td>Every single minute, computers across the worl...</td>\n",
       "      <td>every single minute, computers across the worl...</td>\n",
       "      <td>python, programming, learning, sklearn, data, ...</td>\n",
       "    </tr>\n",
       "    <tr>\n",
       "      <th>1202</th>\n",
       "      <td>Feature Engineering for Machine Learning in Py...</td>\n",
       "      <td>https://www.datacamp.com/courses/feature-engin...</td>\n",
       "      <td>Every day you read about the amazing breakthro...</td>\n",
       "      <td>every day you read about the amazing breakthro...</td>\n",
       "      <td>features, learning, data, categorical, feature...</td>\n",
       "    </tr>\n",
       "    <tr>\n",
       "      <th>777</th>\n",
       "      <td>Data Analysis: Statistical Modeling and Comput...</td>\n",
       "      <td>https://www.edx.org/learn/data-analysis/massac...</td>\n",
       "      <td>If you have specific questions about this cour...</td>\n",
       "      <td>if you have specific questions about this cour...</td>\n",
       "      <td>mit, learning, learners, study, data, programm...</td>\n",
       "    </tr>\n",
       "    <tr>\n",
       "      <th>293</th>\n",
       "      <td>Basics of Machine Learning</td>\n",
       "      <td>https://www.edx.org/learn/computer-programming...</td>\n",
       "      <td>\"Basics of Machine Learning\" is designed to pr...</td>\n",
       "      <td>\"basics of machine learning\" is designed to pr...</td>\n",
       "      <td>classification, learning, basics, logistic, bo...</td>\n",
       "    </tr>\n",
       "  </tbody>\n",
       "</table>\n",
       "</div>"
      ],
      "text/plain": [
       "                                            Course Name  \\\n",
       "373                               Small Language Models   \n",
       "850                                    Machine Learning   \n",
       "776   Machine Learning with Python: from Linear Mode...   \n",
       "460                 Introduction to LLM Vulnerabilities   \n",
       "628                                          LLM Server   \n",
       "1263              Feature Engineering for NLP in Python   \n",
       "7              Introduction to Data Science with Python   \n",
       "1202  Feature Engineering for Machine Learning in Py...   \n",
       "777   Data Analysis: Statistical Modeling and Comput...   \n",
       "293                          Basics of Machine Learning   \n",
       "\n",
       "                                             Course URL  \\\n",
       "373   https://www.edx.org/learn/natural-language-pro...   \n",
       "850   https://www.edx.org/learn/machine-learning/the...   \n",
       "776   https://www.edx.org/learn/machine-learning/mas...   \n",
       "460   https://www.edx.org/learn/computer-science/pra...   \n",
       "628   https://www.edx.org/learn/computer-science/pra...   \n",
       "1263  https://www.datacamp.com/courses/feature-engin...   \n",
       "7     https://www.edx.org/learn/data-science/harvard...   \n",
       "1202  https://www.datacamp.com/courses/feature-engin...   \n",
       "777   https://www.edx.org/learn/data-analysis/massac...   \n",
       "293   https://www.edx.org/learn/computer-programming...   \n",
       "\n",
       "                                      About This Course  \\\n",
       "373   In this comprehensive course, you will: | Whet...   \n",
       "850   Machine learning is a type of artificial intel...   \n",
       "776   If you have specific questions about this cour...   \n",
       "460   As large language models (LLMs) revolutionize ...   \n",
       "628   In this course, you’ll dive into the exciting ...   \n",
       "1263  In this course, you will learn techniques that...   \n",
       "7     Every single minute, computers across the worl...   \n",
       "1202  Every day you read about the amazing breakthro...   \n",
       "777   If you have specific questions about this cour...   \n",
       "293   \"Basics of Machine Learning\" is designed to pr...   \n",
       "\n",
       "                                            Description  \\\n",
       "373   in this comprehensive course, you will: | whet...   \n",
       "850   machine learning is a type of artificial intel...   \n",
       "776   if you have specific questions about this cour...   \n",
       "460   as large language models (llms) revolutionize ...   \n",
       "628   in this course, you’ll dive into the exciting ...   \n",
       "1263  in this course, you will learn techniques that...   \n",
       "7     every single minute, computers across the worl...   \n",
       "1202  every day you read about the amazing breakthro...   \n",
       "777   if you have specific questions about this cour...   \n",
       "293   \"basics of machine learning\" is designed to pr...   \n",
       "\n",
       "                                               keywords  \n",
       "373   slms, learning, language, processing, applicat...  \n",
       "850   learning, ai, algorithms, programming, learn, ...  \n",
       "776   learning, algorithms, python, recommendation, ...  \n",
       "460   security, ai, vulnerabilities, secure, develop...  \n",
       "628   gpu, gpus, applications, developer, ai, server...  \n",
       "1263  learn, tagging, text, information, documents, ...  \n",
       "7     python, programming, learning, sklearn, data, ...  \n",
       "1202  features, learning, data, categorical, feature...  \n",
       "777   mit, learning, learners, study, data, programm...  \n",
       "293   classification, learning, basics, logistic, bo...  "
      ]
     },
     "execution_count": 6,
     "metadata": {},
     "output_type": "execute_result"
    }
   ],
   "source": [
    "faiss.normalize_L2(query_embedding)\n",
    "D, I = index.search(query_embedding, k=10)\n",
    "results = df.iloc[I[0]]\n",
    "results"
   ]
  }
 ],
 "metadata": {
  "kernelspec": {
   "display_name": "Python 3",
   "language": "python",
   "name": "python3"
  },
  "language_info": {
   "codemirror_mode": {
    "name": "ipython",
    "version": 3
   },
   "file_extension": ".py",
   "mimetype": "text/x-python",
   "name": "python",
   "nbconvert_exporter": "python",
   "pygments_lexer": "ipython3",
   "version": "3.11.9"
  }
 },
 "nbformat": 4,
 "nbformat_minor": 5
}

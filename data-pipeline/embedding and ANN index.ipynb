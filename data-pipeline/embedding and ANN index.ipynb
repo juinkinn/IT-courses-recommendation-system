{
 "cells": [
  {
   "cell_type": "markdown",
   "id": "eac26ada",
   "metadata": {},
   "source": [
    "# Embedding course description and build ANN Index"
   ]
  },
  {
   "cell_type": "markdown",
   "id": "5ad80336",
   "metadata": {},
   "source": [
    "Import libraries"
   ]
  },
  {
   "cell_type": "code",
   "execution_count": 1,
   "id": "a2917b99",
   "metadata": {},
   "outputs": [
    {
     "name": "stderr",
     "output_type": "stream",
     "text": [
      "C:\\Users\\Ping\\AppData\\Local\\Packages\\PythonSoftwareFoundation.Python.3.11_qbz5n2kfra8p0\\LocalCache\\local-packages\\Python311\\site-packages\\tqdm\\auto.py:21: TqdmWarning: IProgress not found. Please update jupyter and ipywidgets. See https://ipywidgets.readthedocs.io/en/stable/user_install.html\n",
      "  from .autonotebook import tqdm as notebook_tqdm\n"
     ]
    }
   ],
   "source": [
    "import pandas as pd\n",
    "from sentence_transformers import SentenceTransformer\n",
    "import numpy as np\n",
    "import faiss"
   ]
  },
  {
   "cell_type": "markdown",
   "id": "37c7809a",
   "metadata": {},
   "source": [
    "Read data"
   ]
  },
  {
   "cell_type": "code",
   "execution_count": 2,
   "id": "eb8574ae",
   "metadata": {},
   "outputs": [],
   "source": [
    "df = pd.read_csv('./data/courses.csv')"
   ]
  },
  {
   "cell_type": "code",
   "execution_count": 3,
   "id": "5346c2d6",
   "metadata": {},
   "outputs": [
    {
     "data": {
      "text/html": [
       "<div>\n",
       "<style scoped>\n",
       "    .dataframe tbody tr th:only-of-type {\n",
       "        vertical-align: middle;\n",
       "    }\n",
       "\n",
       "    .dataframe tbody tr th {\n",
       "        vertical-align: top;\n",
       "    }\n",
       "\n",
       "    .dataframe thead th {\n",
       "        text-align: right;\n",
       "    }\n",
       "</style>\n",
       "<table border=\"1\" class=\"dataframe\">\n",
       "  <thead>\n",
       "    <tr style=\"text-align: right;\">\n",
       "      <th></th>\n",
       "      <th>Course Name</th>\n",
       "      <th>Course URL</th>\n",
       "      <th>About This Course</th>\n",
       "      <th>Description</th>\n",
       "      <th>keywords</th>\n",
       "    </tr>\n",
       "  </thead>\n",
       "  <tbody>\n",
       "    <tr>\n",
       "      <th>0</th>\n",
       "      <td>CS50's Introduction to Computer Science</td>\n",
       "      <td>https://www.edx.org/learn/computer-science/har...</td>\n",
       "      <td>This isCS50x, Harvard University's introductio...</td>\n",
       "      <td>this iscs50x, harvard university's introductio...</td>\n",
       "      <td>programming, harvardx, courses, iscs50x, cs50,...</td>\n",
       "    </tr>\n",
       "    <tr>\n",
       "      <th>1</th>\n",
       "      <td>CS50's Introduction to Programming with Python</td>\n",
       "      <td>https://www.edx.org/learn/python/harvard-unive...</td>\n",
       "      <td>An introduction to programming using a languag...</td>\n",
       "      <td>an introduction to programming using a languag...</td>\n",
       "      <td>programming, python, cs50x, software, cs50p, p...</td>\n",
       "    </tr>\n",
       "    <tr>\n",
       "      <th>2</th>\n",
       "      <td>CS50's Introduction to Artificial Intelligence...</td>\n",
       "      <td>https://www.edx.org/learn/artificial-intellige...</td>\n",
       "      <td>This course explores the concepts and algorith...</td>\n",
       "      <td>this course explores the concepts and algorith...</td>\n",
       "      <td>algorithms, python, handwriting, learning, sea...</td>\n",
       "    </tr>\n",
       "    <tr>\n",
       "      <th>3</th>\n",
       "      <td>CS50's Introduction to Cybersecurity</td>\n",
       "      <td>https://www.edx.org/learn/cybersecurity/harvar...</td>\n",
       "      <td>This is CS50's introduction to cybersecurity f...</td>\n",
       "      <td>this is cs50's introduction to cybersecurity f...</td>\n",
       "      <td>cybersecurity, threats, protect, usability, ri...</td>\n",
       "    </tr>\n",
       "    <tr>\n",
       "      <th>4</th>\n",
       "      <td>CS50's Web Programming with Python and JavaScript</td>\n",
       "      <td>https://www.edx.org/learn/web-development/harv...</td>\n",
       "      <td>Topics include database design, scalability, s...</td>\n",
       "      <td>topics include database design, scalability, s...</td>\n",
       "      <td>heroku, github, applications, cloud, projects,...</td>\n",
       "    </tr>\n",
       "    <tr>\n",
       "      <th>...</th>\n",
       "      <td>...</td>\n",
       "      <td>...</td>\n",
       "      <td>...</td>\n",
       "      <td>...</td>\n",
       "      <td>...</td>\n",
       "    </tr>\n",
       "    <tr>\n",
       "      <th>1552</th>\n",
       "      <td>Predicting CTR with Machine Learning in Python</td>\n",
       "      <td>https://www.datacamp.com/courses/predicting-ct...</td>\n",
       "      <td>Have you ever wondered how companies like Face...</td>\n",
       "      <td>have you ever wondered how companies like face...</td>\n",
       "      <td>ads, ad, learning, python, click, learn, targe...</td>\n",
       "    </tr>\n",
       "    <tr>\n",
       "      <th>1553</th>\n",
       "      <td>Optimizing R Code with Rcpp</td>\n",
       "      <td>https://www.datacamp.com/courses/optimizing-r-...</td>\n",
       "      <td>R is a great language for data science, but so...</td>\n",
       "      <td>r is a great language for data science, but so...</td>\n",
       "      <td>rcpp, boost, performance, language, compiled, ...</td>\n",
       "    </tr>\n",
       "    <tr>\n",
       "      <th>1554</th>\n",
       "      <td>GDPR in Practice: Compliance and Fines</td>\n",
       "      <td>https://www.datacamp.com/courses/gdpr-in-pract...</td>\n",
       "      <td>Apply GDPR Concepts in Real Business Scenarios...</td>\n",
       "      <td>apply gdpr concepts in real business scenarios...</td>\n",
       "      <td>gdpr, compliance, privacy, regulation, data, a...</td>\n",
       "    </tr>\n",
       "    <tr>\n",
       "      <th>1555</th>\n",
       "      <td>Scalable AI Models with PyTorch Lightning</td>\n",
       "      <td>https://www.datacamp.com/courses/scalable-ai-m...</td>\n",
       "      <td>Foundations of Scalable AI | This course takes...</td>\n",
       "      <td>foundations of scalable ai | this course takes...</td>\n",
       "      <td>ai, optimizers, optimized, optimize, learning,...</td>\n",
       "    </tr>\n",
       "    <tr>\n",
       "      <th>1556</th>\n",
       "      <td>Introduction to Sigma</td>\n",
       "      <td>https://www.datacamp.com/courses/introduction-...</td>\n",
       "      <td>This introduction to Sigma course helps data-c...</td>\n",
       "      <td>this introduction to sigma course helps data-c...</td>\n",
       "      <td>dashboards, dashboard, analytics, spreadsheet,...</td>\n",
       "    </tr>\n",
       "  </tbody>\n",
       "</table>\n",
       "<p>1557 rows × 5 columns</p>\n",
       "</div>"
      ],
      "text/plain": [
       "                                            Course Name  \\\n",
       "0               CS50's Introduction to Computer Science   \n",
       "1        CS50's Introduction to Programming with Python   \n",
       "2     CS50's Introduction to Artificial Intelligence...   \n",
       "3                  CS50's Introduction to Cybersecurity   \n",
       "4     CS50's Web Programming with Python and JavaScript   \n",
       "...                                                 ...   \n",
       "1552     Predicting CTR with Machine Learning in Python   \n",
       "1553                        Optimizing R Code with Rcpp   \n",
       "1554             GDPR in Practice: Compliance and Fines   \n",
       "1555          Scalable AI Models with PyTorch Lightning   \n",
       "1556                              Introduction to Sigma   \n",
       "\n",
       "                                             Course URL  \\\n",
       "0     https://www.edx.org/learn/computer-science/har...   \n",
       "1     https://www.edx.org/learn/python/harvard-unive...   \n",
       "2     https://www.edx.org/learn/artificial-intellige...   \n",
       "3     https://www.edx.org/learn/cybersecurity/harvar...   \n",
       "4     https://www.edx.org/learn/web-development/harv...   \n",
       "...                                                 ...   \n",
       "1552  https://www.datacamp.com/courses/predicting-ct...   \n",
       "1553  https://www.datacamp.com/courses/optimizing-r-...   \n",
       "1554  https://www.datacamp.com/courses/gdpr-in-pract...   \n",
       "1555  https://www.datacamp.com/courses/scalable-ai-m...   \n",
       "1556  https://www.datacamp.com/courses/introduction-...   \n",
       "\n",
       "                                      About This Course  \\\n",
       "0     This isCS50x, Harvard University's introductio...   \n",
       "1     An introduction to programming using a languag...   \n",
       "2     This course explores the concepts and algorith...   \n",
       "3     This is CS50's introduction to cybersecurity f...   \n",
       "4     Topics include database design, scalability, s...   \n",
       "...                                                 ...   \n",
       "1552  Have you ever wondered how companies like Face...   \n",
       "1553  R is a great language for data science, but so...   \n",
       "1554  Apply GDPR Concepts in Real Business Scenarios...   \n",
       "1555  Foundations of Scalable AI | This course takes...   \n",
       "1556  This introduction to Sigma course helps data-c...   \n",
       "\n",
       "                                            Description  \\\n",
       "0     this iscs50x, harvard university's introductio...   \n",
       "1     an introduction to programming using a languag...   \n",
       "2     this course explores the concepts and algorith...   \n",
       "3     this is cs50's introduction to cybersecurity f...   \n",
       "4     topics include database design, scalability, s...   \n",
       "...                                                 ...   \n",
       "1552  have you ever wondered how companies like face...   \n",
       "1553  r is a great language for data science, but so...   \n",
       "1554  apply gdpr concepts in real business scenarios...   \n",
       "1555  foundations of scalable ai | this course takes...   \n",
       "1556  this introduction to sigma course helps data-c...   \n",
       "\n",
       "                                               keywords  \n",
       "0     programming, harvardx, courses, iscs50x, cs50,...  \n",
       "1     programming, python, cs50x, software, cs50p, p...  \n",
       "2     algorithms, python, handwriting, learning, sea...  \n",
       "3     cybersecurity, threats, protect, usability, ri...  \n",
       "4     heroku, github, applications, cloud, projects,...  \n",
       "...                                                 ...  \n",
       "1552  ads, ad, learning, python, click, learn, targe...  \n",
       "1553  rcpp, boost, performance, language, compiled, ...  \n",
       "1554  gdpr, compliance, privacy, regulation, data, a...  \n",
       "1555  ai, optimizers, optimized, optimize, learning,...  \n",
       "1556  dashboards, dashboard, analytics, spreadsheet,...  \n",
       "\n",
       "[1557 rows x 5 columns]"
      ]
     },
     "execution_count": 3,
     "metadata": {},
     "output_type": "execute_result"
    }
   ],
   "source": [
    "df"
   ]
  },
  {
   "cell_type": "markdown",
   "id": "03fdce1d",
   "metadata": {},
   "source": [
    "Embedding description"
   ]
  },
  {
   "cell_type": "code",
   "execution_count": 4,
   "id": "d1e42522",
   "metadata": {},
   "outputs": [
    {
     "name": "stderr",
     "output_type": "stream",
     "text": [
      "Batches: 100%|██████████| 49/49 [05:41<00:00,  6.98s/it]\n"
     ]
    }
   ],
   "source": [
    "model = SentenceTransformer('sentence-transformers/all-MiniLM-L6-v2')\n",
    "embeddings = model.encode(df['Description'].tolist(), show_progress_bar=True)\n",
    "embeddings = np.array(embeddings).astype(\"float32\")"
   ]
  },
  {
   "cell_type": "markdown",
   "id": "6fecc45a",
   "metadata": {},
   "source": [
    "Create ```FAISS``` index"
   ]
  },
  {
   "cell_type": "code",
   "execution_count": 5,
   "id": "2c258997",
   "metadata": {},
   "outputs": [],
   "source": [
    "dimension = embeddings.shape[1]\n",
    "index = faiss.IndexFlatIP(dimension)\n",
    "faiss.normalize_L2(embeddings)  \n",
    "index.add(embeddings)\n",
    "faiss.write_index(index, \"course_index.faiss\")"
   ]
  },
  {
   "cell_type": "markdown",
   "id": "d2995977",
   "metadata": {},
   "source": [
    "Save metadata"
   ]
  },
  {
   "cell_type": "code",
   "execution_count": 6,
   "id": "64212b06",
   "metadata": {},
   "outputs": [],
   "source": [
    "metadata_df = df[['Course Name', 'Course URL', 'About This Course']].reset_index(drop=True)\n",
    "df.to_csv(\"./data/course_metadata.csv\", index=False)"
   ]
  }
 ],
 "metadata": {
  "kernelspec": {
   "display_name": "Python 3",
   "language": "python",
   "name": "python3"
  },
  "language_info": {
   "codemirror_mode": {
    "name": "ipython",
    "version": 3
   },
   "file_extension": ".py",
   "mimetype": "text/x-python",
   "name": "python",
   "nbconvert_exporter": "python",
   "pygments_lexer": "ipython3",
   "version": "3.11.9"
  }
 },
 "nbformat": 4,
 "nbformat_minor": 5
}
